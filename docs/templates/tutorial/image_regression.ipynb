{
  "nbformat": 4,
  "nbformat_minor": 0,
  "metadata": {
    "colab": {
      "name": "ImageRegression.ipynb",
      "provenance": [],
      "collapsed_sections": [
        "FavORUUdTq7t"
      ],
      "toc_visible": true
    },
    "kernelspec": {
      "name": "python3",
      "display_name": "Python 3"
    }
  },
  "cells": [
    {
      "cell_type": "markdown",
      "metadata": {
        "id": "Jq-X6opit9JD",
        "colab_type": "text"
      },
      "source": [
        "[![Open In Colab](https://colab.research.google.com/assets/colab-badge.svg)](https://colab.research.google.com/github/keras-team/autokeras/blob/master/docs/templates/tutorial/image_regression.ipynb)"
      ]
    },
    {
      "cell_type": "markdown",
      "metadata": {
        "id": "l2cqgOhsqGvb",
        "colab_type": "text"
      },
      "source": [
        "# Celebrity Ages Example\n",
        "\n",
        "Regression tasks estimate a numeric variable, such as the price of a house or voter turnout.\n",
        "\n",
        "This example is adapted from a [notebook](https://gist.github.com/mapmeld/98d1e9839f2d1f9c4ee197953661ed07) which estimates a person's age from their image, trained on the [IMDB-WIKI](https://data.vision.ee.ethz.ch/cvl/rrothe/imdb-wiki/) photographs of famous people.\n",
        "\n",
        "First, prepare your image data in a numpy.ndarray or tensorflow.Dataset format. Each image must have the same shape, meaning each has the same width, height, and color channels as other images in the set."
      ]
    },
    {
      "cell_type": "markdown",
      "metadata": {
        "id": "s44VJKpwxviZ",
        "colab_type": "text"
      },
      "source": [
        "### Connect your Google Drive for Data"
      ]
    },
    {
      "cell_type": "code",
      "metadata": {
        "id": "B8DpaCgwzzWl",
        "colab_type": "code",
        "colab": {
          "base_uri": "https://localhost:8080/",
          "height": 122
        },
        "outputId": "d4b8d0c6-e4bd-4821-9067-82249629515a"
      },
      "source": [
        "from google.colab import drive\n",
        "drive.mount('/content/drive')"
      ],
      "execution_count": 1,
      "outputs": [
        {
          "output_type": "stream",
          "text": [
            "Go to this URL in a browser: https://accounts.google.com/o/oauth2/auth?client_id=947318989803-6bn6qk8qdgf4n4g3pfee6491hc0brc4i.apps.googleusercontent.com&redirect_uri=urn%3aietf%3awg%3aoauth%3a2.0%3aoob&response_type=code&scope=email%20https%3a%2f%2fwww.googleapis.com%2fauth%2fdocs.test%20https%3a%2f%2fwww.googleapis.com%2fauth%2fdrive%20https%3a%2f%2fwww.googleapis.com%2fauth%2fdrive.photos.readonly%20https%3a%2f%2fwww.googleapis.com%2fauth%2fpeopleapi.readonly\n",
            "\n",
            "Enter your authorization code:\n",
            "··········\n",
            "Mounted at /content/drive\n"
          ],
          "name": "stdout"
        }
      ]
    },
    {
      "cell_type": "markdown",
      "metadata": {
        "id": "I-1aopwGx7G2",
        "colab_type": "text"
      },
      "source": [
        "### Install AutoKeras and TensorFlow\n",
        "\n",
        "Download the master branch to your Google Drive for this tutorial. In general, you can use *pip install autokeras* ."
      ]
    },
    {
      "cell_type": "code",
      "metadata": {
        "id": "VL12dzujzmwj",
        "colab_type": "code",
        "colab": {}
      },
      "source": [
        "!pip install  -v \"/content/drive/My Drive/AutoKeras-dev/autokeras-master.zip\"\n",
        "!pip uninstall keras-tuner\n",
        "!pip install git+git://github.com/keras-team/keras-tuner.git@d2d69cba21a0b482a85ce2a38893e2322e139c01"
      ],
      "execution_count": 0,
      "outputs": []
    },
    {
      "cell_type": "code",
      "metadata": {
        "id": "ENwy2icNztRk",
        "colab_type": "code",
        "colab": {}
      },
      "source": [
        "pip install tensorflow==2.2"
      ],
      "execution_count": 0,
      "outputs": []
    },
    {
      "cell_type": "markdown",
      "metadata": {
        "id": "7rUDx2joAKCO",
        "colab_type": "text"
      },
      "source": [
        "###**Import IMDB Celeb images and metadata**"
      ]
    },
    {
      "cell_type": "code",
      "metadata": {
        "id": "z7AM1szTCpSU",
        "colab_type": "code",
        "colab": {}
      },
      "source": [
        "!mkdir ./drive/My\\ Drive/mlin/celebs"
      ],
      "execution_count": 0,
      "outputs": []
    },
    {
      "cell_type": "code",
      "metadata": {
        "id": "4u0cKhr70Y-T",
        "colab_type": "code",
        "colab": {
          "base_uri": "https://localhost:8080/",
          "height": 204
        },
        "outputId": "9821e9b5-de93-4ae5-905b-4752ec69e90c"
      },
      "source": [
        "! wget -O ./drive/My\\ Drive/mlin/celebs/imdb_0.tar https://data.vision.ee.ethz.ch/cvl/rrothe/imdb-wiki/static/imdb_0.tar"
      ],
      "execution_count": 9,
      "outputs": [
        {
          "output_type": "stream",
          "text": [
            "--2020-05-19 17:46:04--  https://data.vision.ee.ethz.ch/cvl/rrothe/imdb-wiki/static/imdb_0.tar\n",
            "Resolving data.vision.ee.ethz.ch (data.vision.ee.ethz.ch)... 129.132.52.162\n",
            "Connecting to data.vision.ee.ethz.ch (data.vision.ee.ethz.ch)|129.132.52.162|:443... connected.\n",
            "HTTP request sent, awaiting response... 200 OK\n",
            "Length: 28708782080 (27G) [application/x-tar]\n",
            "Saving to: ‘./drive/My Drive/mlin/celebs/imdb_0.tar’\n",
            "\n",
            "./drive/My Drive/ml 100%[===================>]  26.74G  10.5MB/s    in 44m 26s \n",
            "\n",
            "2020-05-19 18:30:31 (10.3 MB/s) - ‘./drive/My Drive/mlin/celebs/imdb_0.tar’ saved [28708782080/28708782080]\n",
            "\n"
          ],
          "name": "stdout"
        }
      ]
    },
    {
      "cell_type": "code",
      "metadata": {
        "id": "PVXYMniZ_-Bq",
        "colab_type": "code",
        "colab": {}
      },
      "source": [
        "! cd ./drive/My\\ Drive/mlin/celebs && tar -xf imdb_0.tar\n",
        "! rm ./drive/My\\ Drive/mlin/celebs/imdb_0.tar"
      ],
      "execution_count": 0,
      "outputs": []
    },
    {
      "cell_type": "markdown",
      "metadata": {
        "id": "PyLxaGT2yMUR",
        "colab_type": "text"
      },
      "source": [
        "Uncomment and run the below cell if you need to re-run the cells again and above don't need to install everything from the beginning."
      ]
    },
    {
      "cell_type": "code",
      "metadata": {
        "id": "8ZqyQAVFAF-J",
        "colab_type": "code",
        "colab": {}
      },
      "source": [
        "# ! cd ./drive/My\\ Drive/mlin/celebs."
      ],
      "execution_count": 0,
      "outputs": []
    },
    {
      "cell_type": "code",
      "metadata": {
        "id": "wh0CLiAhABeq",
        "colab_type": "code",
        "colab": {
          "base_uri": "https://localhost:8080/",
          "height": 34
        },
        "outputId": "beecfd5c-b288-433c-863f-1fdfaa9c4e0d"
      },
      "source": [
        "! ls ./drive/My\\ Drive/mlin/celebs/imdb/"
      ],
      "execution_count": 11,
      "outputs": [
        {
          "output_type": "stream",
          "text": [
            "00  01\t02  03\t04  05\t06  07\t08  09\n"
          ],
          "name": "stdout"
        }
      ]
    },
    {
      "cell_type": "code",
      "metadata": {
        "id": "am_dLtCiAEnT",
        "colab_type": "code",
        "colab": {
          "base_uri": "https://localhost:8080/",
          "height": 204
        },
        "outputId": "17a1221a-f77f-45cb-af31-ae7ed4348d8b"
      },
      "source": [
        "! wget https://data.vision.ee.ethz.ch/cvl/rrothe/imdb-wiki/static/imdb_meta.tar\n",
        "! tar -xf imdb_meta.tar\n",
        "! rm imdb_meta.tar"
      ],
      "execution_count": 12,
      "outputs": [
        {
          "output_type": "stream",
          "text": [
            "--2020-05-20 16:53:57--  https://data.vision.ee.ethz.ch/cvl/rrothe/imdb-wiki/static/imdb_meta.tar\n",
            "Resolving data.vision.ee.ethz.ch (data.vision.ee.ethz.ch)... 129.132.52.162\n",
            "Connecting to data.vision.ee.ethz.ch (data.vision.ee.ethz.ch)|129.132.52.162|:443... connected.\n",
            "HTTP request sent, awaiting response... 200 OK\n",
            "Length: 22937600 (22M) [application/x-tar]\n",
            "Saving to: ‘imdb_meta.tar’\n",
            "\n",
            "imdb_meta.tar       100%[===================>]  21.88M  8.23MB/s    in 2.7s    \n",
            "\n",
            "2020-05-20 16:54:00 (8.23 MB/s) - ‘imdb_meta.tar’ saved [22937600/22937600]\n",
            "\n"
          ],
          "name": "stdout"
        }
      ]
    },
    {
      "cell_type": "markdown",
      "metadata": {
        "id": "IkwLpWPjAfiM",
        "colab_type": "text"
      },
      "source": [
        "###**Converting from MATLAB date to actual Date-of-Birth**"
      ]
    },
    {
      "cell_type": "code",
      "metadata": {
        "id": "WXzGEAVFAavG",
        "colab_type": "code",
        "colab": {
          "base_uri": "https://localhost:8080/",
          "height": 34
        },
        "outputId": "8fbe096a-7782-4684-f145-9e8f7489600e"
      },
      "source": [
        "from datetime import datetime, timedelta \n",
        "def datenum_to_datetime(datenum):\n",
        "    \"\"\"\n",
        "    Convert Matlab datenum into Python datetime.\n",
        "    \"\"\"\n",
        "    days = datenum % 1\n",
        "    hours = days % 1 * 24\n",
        "    minutes = hours % 1 * 60\n",
        "    seconds = minutes % 1 * 60\n",
        "    try:\n",
        "      return datetime.fromordinal(int(datenum)) \\\n",
        "           + timedelta(days=int(days)) \\\n",
        "           + timedelta(hours=int(hours)) \\\n",
        "           + timedelta(minutes=int(minutes)) \\\n",
        "           + timedelta(seconds=round(seconds)) \\\n",
        "           - timedelta(days=366)\n",
        "    except:\n",
        "      return datenum_to_datetime(700000)\n",
        "\n",
        "print(datenum_to_datetime(734963))"
      ],
      "execution_count": 9,
      "outputs": [
        {
          "output_type": "stream",
          "text": [
            "2012-04-04 00:00:00\n"
          ],
          "name": "stdout"
        }
      ]
    },
    {
      "cell_type": "markdown",
      "metadata": {
        "id": "A_B7TsrBNP8e",
        "colab_type": "text"
      },
      "source": [
        "### **Opening MatLab file to Pandas DataFrame**"
      ]
    },
    {
      "cell_type": "code",
      "metadata": {
        "id": "gFPl8ox0NQY9",
        "colab_type": "code",
        "colab": {}
      },
      "source": [
        "from scipy.io import loadmat\n",
        "x = loadmat('imdb/imdb.mat')"
      ],
      "execution_count": 0,
      "outputs": []
    },
    {
      "cell_type": "code",
      "metadata": {
        "id": "vAj7oR57NYq6",
        "colab_type": "code",
        "colab": {
          "base_uri": "https://localhost:8080/",
          "height": 153
        },
        "outputId": "f21cf421-8753-4386-a7a7-7a1f3004293e"
      },
      "source": [
        "import pandas as pd\n",
        "import numpy as np \n",
        "\n",
        "mdata = x['imdb']  # variable in mat file\n",
        "mdtype = mdata.dtype  # dtypes of structures are \"unsized objects\"\n",
        "ndata = {n: mdata[n][0, 0] for n in mdtype.names}\n",
        "columns = [n for n, v in ndata.items()]\n",
        "\n",
        "rows = []\n",
        "for col in range(0, 10):\n",
        "  values = list(ndata.items())[col]\n",
        "  for num, val in enumerate(values[1][0], start=0):\n",
        "    if col == 0:\n",
        "      rows.append([])\n",
        "    if num > 0:\n",
        "      if columns[col] == \"dob\":\n",
        "        rows[num].append(datenum_to_datetime(int(val)))\n",
        "      elif columns[col] == \"photo_taken\":\n",
        "        rows[num].append(datetime(year=int(val), month=6, day=30))\n",
        "      else:\n",
        "        rows[num].append(val)\n",
        "\n",
        "dt = map(lambda row: np.array(row), np.array(rows[1:]))\n",
        "\n",
        "df = pd.DataFrame(data=dt, index=range(0, len(rows) - 1), columns=columns)\n",
        "print(df.head())"
      ],
      "execution_count": 14,
      "outputs": [
        {
          "output_type": "stream",
          "text": [
            "         dob photo_taken  ...            celeb_names  celeb_id\n",
            "0 1899-05-10  1970-06-30  ...  ['Weird Al' Yankovic]    6488.0\n",
            "1 1899-05-10  1968-06-30  ...             [2 Chainz]    6488.0\n",
            "2 1899-05-10  1968-06-30  ...              [50 Cent]    6488.0\n",
            "3 1899-05-10  1968-06-30  ...           [A Martinez]    6488.0\n",
            "4 1924-09-16  1991-06-30  ...           [A.D. Miles]   11516.0\n",
            "\n",
            "[5 rows x 10 columns]\n"
          ],
          "name": "stdout"
        }
      ]
    },
    {
      "cell_type": "code",
      "metadata": {
        "id": "7asgbcPqNh-W",
        "colab_type": "code",
        "colab": {
          "base_uri": "https://localhost:8080/",
          "height": 258
        },
        "outputId": "04f71dec-dc6a-4f44-cbad-a14f0febc6f9"
      },
      "source": [
        "print(columns)\n",
        "print(df[\"full_path\"])"
      ],
      "execution_count": 15,
      "outputs": [
        {
          "output_type": "stream",
          "text": [
            "['dob', 'photo_taken', 'full_path', 'gender', 'name', 'face_location', 'face_score', 'second_face_score', 'celeb_names', 'celeb_id']\n",
            "0         [01/nm0000001_rm3343756032_1899-5-10_1970.jpg]\n",
            "1          [01/nm0000001_rm577153792_1899-5-10_1968.jpg]\n",
            "2          [01/nm0000001_rm946909184_1899-5-10_1968.jpg]\n",
            "3          [01/nm0000001_rm980463616_1899-5-10_1968.jpg]\n",
            "4         [02/nm0000002_rm1075631616_1924-9-16_1991.jpg]\n",
            "                               ...                      \n",
            "460717    [08/nm3994408_rm761245696_1989-12-29_2011.jpg]\n",
            "460718    [08/nm3994408_rm784182528_1989-12-29_2011.jpg]\n",
            "460719    [08/nm3994408_rm926592512_1989-12-29_2011.jpg]\n",
            "460720    [08/nm3994408_rm943369728_1989-12-29_2011.jpg]\n",
            "460721    [08/nm3994408_rm976924160_1989-12-29_2011.jpg]\n",
            "Name: full_path, Length: 460722, dtype: object\n"
          ],
          "name": "stdout"
        }
      ]
    },
    {
      "cell_type": "markdown",
      "metadata": {
        "id": "rMeys5F_NlrO",
        "colab_type": "text"
      },
      "source": [
        "### **Calculating age at time photo was taken**"
      ]
    },
    {
      "cell_type": "code",
      "metadata": {
        "id": "QA4x-sPzNqIz",
        "colab_type": "code",
        "colab": {
          "base_uri": "https://localhost:8080/",
          "height": 221
        },
        "outputId": "25ec88b6-7795-4ff7-8880-d0650f2a8c0f"
      },
      "source": [
        "df[\"age\"] = (df[\"photo_taken\"] - df[\"dob\"]).astype('int') / 31558102e9\n",
        "print(df[\"age\"])"
      ],
      "execution_count": 16,
      "outputs": [
        {
          "output_type": "stream",
          "text": [
            "0         71.136445\n",
            "1         69.137846\n",
            "2         69.137846\n",
            "3         69.137846\n",
            "4         66.783332\n",
            "            ...    \n",
            "460717    21.500000\n",
            "460718    21.500000\n",
            "460719    21.500000\n",
            "460720    21.500000\n",
            "460721    21.500000\n",
            "Name: age, Length: 460722, dtype: float64\n"
          ],
          "name": "stdout"
        }
      ]
    },
    {
      "cell_type": "markdown",
      "metadata": {
        "id": "FavORUUdTq7t",
        "colab_type": "text"
      },
      "source": [
        "### **Creating dataset**\n",
        "\n",
        "\n",
        "* We sample 200 of the images which were included in this first download.\n",
        "* Images are resized to 128x128 to standardize shape and conserve memory\n",
        "* RGB images are converted to grayscale to standardize shape\n",
        "* Ages are converted to ints\n",
        "\n"
      ]
    },
    {
      "cell_type": "code",
      "metadata": {
        "id": "pbrEpzSnmt6p",
        "colab_type": "code",
        "colab": {}
      },
      "source": [
        "import os\n",
        "from PIL import Image\n",
        "\n",
        "def df2numpy(train_set):\n",
        "  images = []\n",
        "  for img_path in train_set[\"full_path\"]:\n",
        "    img = Image.open(\"./drive/My Drive/mlin/celebs/imdb/\" + img_path[0]).resize((128, 128)).convert('L')\n",
        "    images.append(\n",
        "      np.asarray(img,  dtype=\"int32\")\n",
        "    )\n",
        "\n",
        "  image_inputs = np.array(images)\n",
        "\n",
        "  ages = train_set[\"age\"].astype('int').to_numpy()\n",
        "  return image_inputs, ages"
      ],
      "execution_count": 0,
      "outputs": []
    },
    {
      "cell_type": "code",
      "metadata": {
        "id": "77tntSl2T6vk",
        "colab_type": "code",
        "colab": {}
      },
      "source": [
        "\n",
        "train_set = df[df[\"full_path\"] < '02'].sample(200)\n",
        "train_imgs, train_ages = df2numpy(train_set)\n",
        "\n",
        "test_set = df[df[\"full_path\"] < '02'].sample(100)\n",
        "test_imgs, test_ages = df2numpy(test_set)"
      ],
      "execution_count": 0,
      "outputs": []
    },
    {
      "cell_type": "markdown",
      "metadata": {
        "id": "fiELbb5VkptP",
        "colab_type": "text"
      },
      "source": [
        "### **Training using AutoKeras**"
      ]
    },
    {
      "cell_type": "code",
      "metadata": {
        "id": "6PR2n-XlT-aj",
        "colab_type": "code",
        "colab": {
          "base_uri": "https://localhost:8080/",
          "height": 1000
        },
        "outputId": "c814deb8-5d48-4098-b9ea-8d807c986100"
      },
      "source": [
        "import autokeras as ak\n",
        "\n",
        "# Initialize the image regressor\n",
        "reg = ak.ImageRegressor(max_trials=15) # AutoKeras tries 15 different models.\n",
        "\n",
        "# Find the best model for the given training data\n",
        "reg.fit(train_imgs, train_ages)\n",
        "\n",
        "# Predict with the chosen model:\n",
        "# predict_y = reg.predict(test_images)  # Uncomment if required"
      ],
      "execution_count": 0,
      "outputs": [
        {
          "output_type": "stream",
          "text": [
            "Epoch 1/1000\n",
            "5/5 [==============================] - 7s 1s/step - loss: 9058.8438 - mean_squared_error: 9058.8438 - val_loss: 5038.7578 - val_mean_squared_error: 5038.7578\n",
            "Epoch 2/1000\n",
            "5/5 [==============================] - 7s 1s/step - loss: 2433.2222 - mean_squared_error: 2433.2222 - val_loss: 825.6742 - val_mean_squared_error: 825.6742\n",
            "Epoch 3/1000\n",
            "5/5 [==============================] - 7s 1s/step - loss: 520.5611 - mean_squared_error: 520.5611 - val_loss: 340.6512 - val_mean_squared_error: 340.6512\n",
            "Epoch 4/1000\n",
            "5/5 [==============================] - 7s 1s/step - loss: 350.7891 - mean_squared_error: 350.7891 - val_loss: 297.8711 - val_mean_squared_error: 297.8711\n",
            "Epoch 5/1000\n",
            "5/5 [==============================] - 7s 1s/step - loss: 309.0110 - mean_squared_error: 309.0110 - val_loss: 293.6967 - val_mean_squared_error: 293.6967\n",
            "Epoch 6/1000\n",
            "5/5 [==============================] - 7s 1s/step - loss: 258.0533 - mean_squared_error: 258.0533 - val_loss: 267.8138 - val_mean_squared_error: 267.8138\n",
            "Epoch 7/1000\n",
            "5/5 [==============================] - 7s 1s/step - loss: 220.0695 - mean_squared_error: 220.0695 - val_loss: 270.4041 - val_mean_squared_error: 270.4041\n",
            "Epoch 8/1000\n",
            "5/5 [==============================] - 7s 1s/step - loss: 189.8148 - mean_squared_error: 189.8148 - val_loss: 267.9448 - val_mean_squared_error: 267.9448\n",
            "Epoch 9/1000\n",
            "5/5 [==============================] - 7s 1s/step - loss: 158.0996 - mean_squared_error: 158.0996 - val_loss: 243.9185 - val_mean_squared_error: 243.9185\n",
            "Epoch 10/1000\n",
            "5/5 [==============================] - 7s 1s/step - loss: 132.1116 - mean_squared_error: 132.1116 - val_loss: 241.6552 - val_mean_squared_error: 241.6552\n",
            "Epoch 11/1000\n",
            "5/5 [==============================] - 7s 1s/step - loss: 121.4468 - mean_squared_error: 121.4468 - val_loss: 223.9633 - val_mean_squared_error: 223.9633\n",
            "Epoch 12/1000\n",
            "5/5 [==============================] - 7s 1s/step - loss: 120.6558 - mean_squared_error: 120.6558 - val_loss: 300.3364 - val_mean_squared_error: 300.3364\n",
            "Epoch 13/1000\n",
            "5/5 [==============================] - 7s 1s/step - loss: 172.9615 - mean_squared_error: 172.9615 - val_loss: 259.1658 - val_mean_squared_error: 259.1658\n",
            "Epoch 14/1000\n",
            "5/5 [==============================] - 7s 1s/step - loss: 160.3465 - mean_squared_error: 160.3465 - val_loss: 342.0261 - val_mean_squared_error: 342.0261\n",
            "Epoch 15/1000\n",
            "5/5 [==============================] - 7s 1s/step - loss: 93.1033 - mean_squared_error: 93.1033 - val_loss: 236.2544 - val_mean_squared_error: 236.2544\n",
            "Epoch 16/1000\n",
            "5/5 [==============================] - 7s 1s/step - loss: 65.4133 - mean_squared_error: 65.4133 - val_loss: 232.6889 - val_mean_squared_error: 232.6889\n",
            "Epoch 17/1000\n",
            "5/5 [==============================] - 7s 1s/step - loss: 69.5116 - mean_squared_error: 69.5116 - val_loss: 281.7455 - val_mean_squared_error: 281.7455\n",
            "Epoch 18/1000\n",
            "5/5 [==============================] - 7s 1s/step - loss: 56.3930 - mean_squared_error: 56.3930 - val_loss: 225.0497 - val_mean_squared_error: 225.0497\n",
            "Epoch 19/1000\n",
            "5/5 [==============================] - 7s 1s/step - loss: 33.8650 - mean_squared_error: 33.8650 - val_loss: 235.9096 - val_mean_squared_error: 235.9096\n",
            "Epoch 20/1000\n",
            "5/5 [==============================] - 7s 1s/step - loss: 29.8855 - mean_squared_error: 29.8855 - val_loss: 262.4871 - val_mean_squared_error: 262.4871\n",
            "Epoch 21/1000\n",
            "5/5 [==============================] - 7s 1s/step - loss: 29.6671 - mean_squared_error: 29.6671 - val_loss: 236.2951 - val_mean_squared_error: 236.2951\n"
          ],
          "name": "stdout"
        },
        {
          "output_type": "display_data",
          "data": {
            "text/html": [
              "<span style=\"color:#4527A0\"><h1 style=\"font-size:18px\">Trial complete</h1></span>"
            ],
            "text/plain": [
              "<IPython.core.display.HTML object>"
            ]
          },
          "metadata": {
            "tags": []
          }
        },
        {
          "output_type": "display_data",
          "data": {
            "text/html": [
              "<span style=\"color:#4527A0\"><h1 style=\"font-size:18px\">Trial summary</h1></span>"
            ],
            "text/plain": [
              "<IPython.core.display.HTML object>"
            ]
          },
          "metadata": {
            "tags": []
          }
        },
        {
          "output_type": "display_data",
          "data": {
            "text/html": [
              "<span style=\"color:cyan\"> |-Trial ID: 01a58c08bb531e4bfbf67bbc8da761ba</span>"
            ],
            "text/plain": [
              "<IPython.core.display.HTML object>"
            ]
          },
          "metadata": {
            "tags": []
          }
        },
        {
          "output_type": "display_data",
          "data": {
            "text/html": [
              "<span style=\"color:cyan\"> |-Score: 223.9633026123047</span>"
            ],
            "text/plain": [
              "<IPython.core.display.HTML object>"
            ]
          },
          "metadata": {
            "tags": []
          }
        },
        {
          "output_type": "display_data",
          "data": {
            "text/html": [
              "<span style=\"color:cyan\"> |-Best step: 10</span>"
            ],
            "text/plain": [
              "<IPython.core.display.HTML object>"
            ]
          },
          "metadata": {
            "tags": []
          }
        },
        {
          "output_type": "display_data",
          "data": {
            "text/html": [
              "<span style=\"color:#7E57C2\"><h2 style=\"font-size:16px\">Hyperparameters:</h2></span>"
            ],
            "text/plain": [
              "<IPython.core.display.HTML object>"
            ]
          },
          "metadata": {
            "tags": []
          }
        },
        {
          "output_type": "display_data",
          "data": {
            "text/html": [
              "<span style=\"color:cyan\"> |-image_block_1/augment: False</span>"
            ],
            "text/plain": [
              "<IPython.core.display.HTML object>"
            ]
          },
          "metadata": {
            "tags": []
          }
        },
        {
          "output_type": "display_data",
          "data": {
            "text/html": [
              "<span style=\"color:blue\"> |-image_block_1/block_type: vanilla</span>"
            ],
            "text/plain": [
              "<IPython.core.display.HTML object>"
            ]
          },
          "metadata": {
            "tags": []
          }
        },
        {
          "output_type": "display_data",
          "data": {
            "text/html": [
              "<span style=\"color:cyan\"> |-image_block_1/conv_block_1/dropout_rate: 0</span>"
            ],
            "text/plain": [
              "<IPython.core.display.HTML object>"
            ]
          },
          "metadata": {
            "tags": []
          }
        },
        {
          "output_type": "display_data",
          "data": {
            "text/html": [
              "<span style=\"color:blue\"> |-image_block_1/conv_block_1/filters_0_0: 32</span>"
            ],
            "text/plain": [
              "<IPython.core.display.HTML object>"
            ]
          },
          "metadata": {
            "tags": []
          }
        },
        {
          "output_type": "display_data",
          "data": {
            "text/html": [
              "<span style=\"color:cyan\"> |-image_block_1/conv_block_1/filters_0_1: 32</span>"
            ],
            "text/plain": [
              "<IPython.core.display.HTML object>"
            ]
          },
          "metadata": {
            "tags": []
          }
        },
        {
          "output_type": "display_data",
          "data": {
            "text/html": [
              "<span style=\"color:blue\"> |-image_block_1/conv_block_1/filters_1_0: 32</span>"
            ],
            "text/plain": [
              "<IPython.core.display.HTML object>"
            ]
          },
          "metadata": {
            "tags": []
          }
        },
        {
          "output_type": "display_data",
          "data": {
            "text/html": [
              "<span style=\"color:cyan\"> |-image_block_1/conv_block_1/filters_1_1: 32</span>"
            ],
            "text/plain": [
              "<IPython.core.display.HTML object>"
            ]
          },
          "metadata": {
            "tags": []
          }
        },
        {
          "output_type": "display_data",
          "data": {
            "text/html": [
              "<span style=\"color:blue\"> |-image_block_1/conv_block_1/kernel_size: 3</span>"
            ],
            "text/plain": [
              "<IPython.core.display.HTML object>"
            ]
          },
          "metadata": {
            "tags": []
          }
        },
        {
          "output_type": "display_data",
          "data": {
            "text/html": [
              "<span style=\"color:cyan\"> |-image_block_1/conv_block_1/max_pooling: True</span>"
            ],
            "text/plain": [
              "<IPython.core.display.HTML object>"
            ]
          },
          "metadata": {
            "tags": []
          }
        },
        {
          "output_type": "display_data",
          "data": {
            "text/html": [
              "<span style=\"color:blue\"> |-image_block_1/conv_block_1/num_blocks: 2</span>"
            ],
            "text/plain": [
              "<IPython.core.display.HTML object>"
            ]
          },
          "metadata": {
            "tags": []
          }
        },
        {
          "output_type": "display_data",
          "data": {
            "text/html": [
              "<span style=\"color:cyan\"> |-image_block_1/conv_block_1/num_layers: 2</span>"
            ],
            "text/plain": [
              "<IPython.core.display.HTML object>"
            ]
          },
          "metadata": {
            "tags": []
          }
        },
        {
          "output_type": "display_data",
          "data": {
            "text/html": [
              "<span style=\"color:blue\"> |-image_block_1/conv_block_1/separable: False</span>"
            ],
            "text/plain": [
              "<IPython.core.display.HTML object>"
            ]
          },
          "metadata": {
            "tags": []
          }
        },
        {
          "output_type": "display_data",
          "data": {
            "text/html": [
              "<span style=\"color:cyan\"> |-image_block_1/normalize: False</span>"
            ],
            "text/plain": [
              "<IPython.core.display.HTML object>"
            ]
          },
          "metadata": {
            "tags": []
          }
        },
        {
          "output_type": "display_data",
          "data": {
            "text/html": [
              "<span style=\"color:blue\"> |-optimizer: adam</span>"
            ],
            "text/plain": [
              "<IPython.core.display.HTML object>"
            ]
          },
          "metadata": {
            "tags": []
          }
        },
        {
          "output_type": "display_data",
          "data": {
            "text/html": [
              "<span style=\"color:cyan\"> |-regression_head_1/dropout_rate: 0</span>"
            ],
            "text/plain": [
              "<IPython.core.display.HTML object>"
            ]
          },
          "metadata": {
            "tags": []
          }
        },
        {
          "output_type": "stream",
          "text": [
            "Epoch 1/1000\n",
            "5/5 [==============================] - 95s 19s/step - loss: 1562.1543 - mean_squared_error: 1562.1543 - val_loss: 1627.7627 - val_mean_squared_error: 1627.7627\n",
            "Epoch 2/1000\n",
            "5/5 [==============================] - 94s 19s/step - loss: 1362.8715 - mean_squared_error: 1362.8715 - val_loss: 879.2217 - val_mean_squared_error: 879.2217\n",
            "Epoch 3/1000\n",
            "5/5 [==============================] - 94s 19s/step - loss: 563.6418 - mean_squared_error: 563.6418 - val_loss: 257.8888 - val_mean_squared_error: 257.8888\n",
            "Epoch 4/1000\n",
            "5/5 [==============================] - 94s 19s/step - loss: 416.4915 - mean_squared_error: 416.4915 - val_loss: 580.0924 - val_mean_squared_error: 580.0924\n",
            "Epoch 5/1000\n",
            "5/5 [==============================] - 94s 19s/step - loss: 459.0323 - mean_squared_error: 459.0323 - val_loss: 243.6279 - val_mean_squared_error: 243.6279\n",
            "Epoch 6/1000\n",
            "5/5 [==============================] - 94s 19s/step - loss: 341.1719 - mean_squared_error: 341.1719 - val_loss: 224.8541 - val_mean_squared_error: 224.8541\n",
            "Epoch 7/1000\n",
            "5/5 [==============================] - 94s 19s/step - loss: 301.4638 - mean_squared_error: 301.4638 - val_loss: 309.6400 - val_mean_squared_error: 309.6400\n",
            "Epoch 8/1000\n",
            "5/5 [==============================] - 94s 19s/step - loss: 303.4436 - mean_squared_error: 303.4436 - val_loss: 221.0915 - val_mean_squared_error: 221.0915\n",
            "Epoch 9/1000\n",
            "5/5 [==============================] - 94s 19s/step - loss: 309.8247 - mean_squared_error: 309.8247 - val_loss: 234.0248 - val_mean_squared_error: 234.0248\n",
            "Epoch 10/1000\n",
            "5/5 [==============================] - 94s 19s/step - loss: 291.3335 - mean_squared_error: 291.3335 - val_loss: 228.6469 - val_mean_squared_error: 228.6469\n",
            "Epoch 11/1000\n",
            "5/5 [==============================] - 94s 19s/step - loss: 287.8032 - mean_squared_error: 287.8032 - val_loss: 223.1056 - val_mean_squared_error: 223.1056\n",
            "Epoch 12/1000\n",
            "5/5 [==============================] - 94s 19s/step - loss: 312.2080 - mean_squared_error: 312.2080 - val_loss: 227.7784 - val_mean_squared_error: 227.7784\n",
            "Epoch 13/1000\n",
            "5/5 [==============================] - 95s 19s/step - loss: 275.8525 - mean_squared_error: 275.8525 - val_loss: 218.7864 - val_mean_squared_error: 218.7864\n",
            "Epoch 14/1000\n",
            "5/5 [==============================] - 94s 19s/step - loss: 294.0194 - mean_squared_error: 294.0194 - val_loss: 228.8047 - val_mean_squared_error: 228.8047\n",
            "Epoch 15/1000\n",
            "5/5 [==============================] - 94s 19s/step - loss: 282.9211 - mean_squared_error: 282.9211 - val_loss: 214.7903 - val_mean_squared_error: 214.7903\n",
            "Epoch 16/1000\n",
            "5/5 [==============================] - 94s 19s/step - loss: 289.1205 - mean_squared_error: 289.1205 - val_loss: 223.9117 - val_mean_squared_error: 223.9117\n",
            "Epoch 17/1000\n",
            "5/5 [==============================] - 94s 19s/step - loss: 280.8114 - mean_squared_error: 280.8114 - val_loss: 214.1920 - val_mean_squared_error: 214.1920\n",
            "Epoch 18/1000\n",
            "5/5 [==============================] - 94s 19s/step - loss: 279.6064 - mean_squared_error: 279.6064 - val_loss: 215.1473 - val_mean_squared_error: 215.1473\n",
            "Epoch 19/1000\n",
            "5/5 [==============================] - 94s 19s/step - loss: 279.2359 - mean_squared_error: 279.2359 - val_loss: 214.7153 - val_mean_squared_error: 214.7153\n",
            "Epoch 20/1000\n",
            "5/5 [==============================] - 94s 19s/step - loss: 286.7679 - mean_squared_error: 286.7679 - val_loss: 217.9172 - val_mean_squared_error: 217.9172\n",
            "Epoch 21/1000\n",
            "5/5 [==============================] - 94s 19s/step - loss: 273.5712 - mean_squared_error: 273.5712 - val_loss: 210.2353 - val_mean_squared_error: 210.2353\n",
            "Epoch 22/1000\n",
            "5/5 [==============================] - 94s 19s/step - loss: 284.2997 - mean_squared_error: 284.2997 - val_loss: 224.9010 - val_mean_squared_error: 224.9010\n",
            "Epoch 23/1000\n",
            "5/5 [==============================] - 95s 19s/step - loss: 284.1190 - mean_squared_error: 284.1190 - val_loss: 206.2400 - val_mean_squared_error: 206.2400\n",
            "Epoch 24/1000\n",
            "5/5 [==============================] - 94s 19s/step - loss: 280.8536 - mean_squared_error: 280.8536 - val_loss: 221.7375 - val_mean_squared_error: 221.7375\n",
            "Epoch 25/1000\n",
            "5/5 [==============================] - 94s 19s/step - loss: 270.7108 - mean_squared_error: 270.7108 - val_loss: 210.0826 - val_mean_squared_error: 210.0826\n",
            "Epoch 26/1000\n",
            "5/5 [==============================] - 94s 19s/step - loss: 264.2630 - mean_squared_error: 264.2630 - val_loss: 210.6376 - val_mean_squared_error: 210.6376\n",
            "Epoch 27/1000\n",
            "5/5 [==============================] - 94s 19s/step - loss: 276.2535 - mean_squared_error: 276.2535 - val_loss: 206.9362 - val_mean_squared_error: 206.9362\n",
            "Epoch 28/1000\n",
            "5/5 [==============================] - 94s 19s/step - loss: 272.0823 - mean_squared_error: 272.0823 - val_loss: 209.1045 - val_mean_squared_error: 209.1045\n",
            "Epoch 29/1000\n",
            "5/5 [==============================] - 94s 19s/step - loss: 273.1189 - mean_squared_error: 273.1189 - val_loss: 201.9672 - val_mean_squared_error: 201.9672\n",
            "Epoch 30/1000\n",
            "5/5 [==============================] - 94s 19s/step - loss: 255.6739 - mean_squared_error: 255.6739 - val_loss: 196.8597 - val_mean_squared_error: 196.8597\n",
            "Epoch 31/1000\n",
            "5/5 [==============================] - 94s 19s/step - loss: 260.8288 - mean_squared_error: 260.8288 - val_loss: 199.1164 - val_mean_squared_error: 199.1164\n",
            "Epoch 32/1000\n",
            "5/5 [==============================] - 94s 19s/step - loss: 270.0927 - mean_squared_error: 270.0927 - val_loss: 193.7809 - val_mean_squared_error: 193.7809\n",
            "Epoch 33/1000\n",
            "5/5 [==============================] - 94s 19s/step - loss: 267.6471 - mean_squared_error: 267.6471 - val_loss: 195.7505 - val_mean_squared_error: 195.7505\n",
            "Epoch 34/1000\n",
            "5/5 [==============================] - 94s 19s/step - loss: 249.3616 - mean_squared_error: 249.3616 - val_loss: 190.7464 - val_mean_squared_error: 190.7464\n",
            "Epoch 35/1000\n",
            "5/5 [==============================] - 94s 19s/step - loss: 247.1848 - mean_squared_error: 247.1848 - val_loss: 189.9556 - val_mean_squared_error: 189.9556\n",
            "Epoch 36/1000\n",
            "5/5 [==============================] - 94s 19s/step - loss: 236.6211 - mean_squared_error: 236.6211 - val_loss: 190.9279 - val_mean_squared_error: 190.9279\n",
            "Epoch 37/1000\n",
            "5/5 [==============================] - 94s 19s/step - loss: 243.3776 - mean_squared_error: 243.3776 - val_loss: 192.9570 - val_mean_squared_error: 192.9570\n",
            "Epoch 38/1000\n",
            "5/5 [==============================] - 95s 19s/step - loss: 214.2089 - mean_squared_error: 214.2089 - val_loss: 198.7268 - val_mean_squared_error: 198.7268\n",
            "Epoch 39/1000\n",
            "5/5 [==============================] - 94s 19s/step - loss: 221.4566 - mean_squared_error: 221.4566 - val_loss: 199.9503 - val_mean_squared_error: 199.9503\n",
            "Epoch 40/1000\n",
            "5/5 [==============================] - 96s 19s/step - loss: 235.3123 - mean_squared_error: 235.3123 - val_loss: 202.8845 - val_mean_squared_error: 202.8845\n",
            "Epoch 41/1000\n",
            "5/5 [==============================] - 95s 19s/step - loss: 230.9544 - mean_squared_error: 230.9544 - val_loss: 202.8156 - val_mean_squared_error: 202.8156\n",
            "Epoch 42/1000\n",
            "5/5 [==============================] - 94s 19s/step - loss: 234.0525 - mean_squared_error: 234.0525 - val_loss: 202.6985 - val_mean_squared_error: 202.6985\n",
            "Epoch 43/1000\n",
            "5/5 [==============================] - 94s 19s/step - loss: 216.5143 - mean_squared_error: 216.5143 - val_loss: 203.6373 - val_mean_squared_error: 203.6373\n",
            "Epoch 44/1000\n",
            "5/5 [==============================] - 95s 19s/step - loss: 214.2978 - mean_squared_error: 214.2978 - val_loss: 205.0758 - val_mean_squared_error: 205.0758\n",
            "Epoch 45/1000\n",
            "5/5 [==============================] - 95s 19s/step - loss: 212.6559 - mean_squared_error: 212.6559 - val_loss: 205.2994 - val_mean_squared_error: 205.2994\n"
          ],
          "name": "stdout"
        },
        {
          "output_type": "display_data",
          "data": {
            "text/html": [
              "<span style=\"color:#4527A0\"><h1 style=\"font-size:18px\">Trial complete</h1></span>"
            ],
            "text/plain": [
              "<IPython.core.display.HTML object>"
            ]
          },
          "metadata": {
            "tags": []
          }
        },
        {
          "output_type": "display_data",
          "data": {
            "text/html": [
              "<span style=\"color:#4527A0\"><h1 style=\"font-size:18px\">Trial summary</h1></span>"
            ],
            "text/plain": [
              "<IPython.core.display.HTML object>"
            ]
          },
          "metadata": {
            "tags": []
          }
        },
        {
          "output_type": "display_data",
          "data": {
            "text/html": [
              "<span style=\"color:cyan\"> |-Trial ID: e478b90b2ec7363c6cd32df3bedf32f9</span>"
            ],
            "text/plain": [
              "<IPython.core.display.HTML object>"
            ]
          },
          "metadata": {
            "tags": []
          }
        },
        {
          "output_type": "display_data",
          "data": {
            "text/html": [
              "<span style=\"color:cyan\"> |-Score: 189.95555114746094</span>"
            ],
            "text/plain": [
              "<IPython.core.display.HTML object>"
            ]
          },
          "metadata": {
            "tags": []
          }
        },
        {
          "output_type": "display_data",
          "data": {
            "text/html": [
              "<span style=\"color:cyan\"> |-Best step: 34</span>"
            ],
            "text/plain": [
              "<IPython.core.display.HTML object>"
            ]
          },
          "metadata": {
            "tags": []
          }
        },
        {
          "output_type": "display_data",
          "data": {
            "text/html": [
              "<span style=\"color:#7E57C2\"><h2 style=\"font-size:16px\">Hyperparameters:</h2></span>"
            ],
            "text/plain": [
              "<IPython.core.display.HTML object>"
            ]
          },
          "metadata": {
            "tags": []
          }
        },
        {
          "output_type": "display_data",
          "data": {
            "text/html": [
              "<span style=\"color:cyan\"> |-image_block_1/augment: False</span>"
            ],
            "text/plain": [
              "<IPython.core.display.HTML object>"
            ]
          },
          "metadata": {
            "tags": []
          }
        },
        {
          "output_type": "display_data",
          "data": {
            "text/html": [
              "<span style=\"color:blue\"> |-image_block_1/block_type: vanilla</span>"
            ],
            "text/plain": [
              "<IPython.core.display.HTML object>"
            ]
          },
          "metadata": {
            "tags": []
          }
        },
        {
          "output_type": "display_data",
          "data": {
            "text/html": [
              "<span style=\"color:cyan\"> |-image_block_1/conv_block_1/dropout_rate: 0.25</span>"
            ],
            "text/plain": [
              "<IPython.core.display.HTML object>"
            ]
          },
          "metadata": {
            "tags": []
          }
        },
        {
          "output_type": "display_data",
          "data": {
            "text/html": [
              "<span style=\"color:blue\"> |-image_block_1/conv_block_1/filters_0_0: 512</span>"
            ],
            "text/plain": [
              "<IPython.core.display.HTML object>"
            ]
          },
          "metadata": {
            "tags": []
          }
        },
        {
          "output_type": "display_data",
          "data": {
            "text/html": [
              "<span style=\"color:cyan\"> |-image_block_1/conv_block_1/filters_0_1: 256</span>"
            ],
            "text/plain": [
              "<IPython.core.display.HTML object>"
            ]
          },
          "metadata": {
            "tags": []
          }
        },
        {
          "output_type": "display_data",
          "data": {
            "text/html": [
              "<span style=\"color:blue\"> |-image_block_1/conv_block_1/filters_1_0: 512</span>"
            ],
            "text/plain": [
              "<IPython.core.display.HTML object>"
            ]
          },
          "metadata": {
            "tags": []
          }
        },
        {
          "output_type": "display_data",
          "data": {
            "text/html": [
              "<span style=\"color:cyan\"> |-image_block_1/conv_block_1/filters_1_1: 32</span>"
            ],
            "text/plain": [
              "<IPython.core.display.HTML object>"
            ]
          },
          "metadata": {
            "tags": []
          }
        },
        {
          "output_type": "display_data",
          "data": {
            "text/html": [
              "<span style=\"color:blue\"> |-image_block_1/conv_block_1/kernel_size: 5</span>"
            ],
            "text/plain": [
              "<IPython.core.display.HTML object>"
            ]
          },
          "metadata": {
            "tags": []
          }
        },
        {
          "output_type": "display_data",
          "data": {
            "text/html": [
              "<span style=\"color:cyan\"> |-image_block_1/conv_block_1/max_pooling: True</span>"
            ],
            "text/plain": [
              "<IPython.core.display.HTML object>"
            ]
          },
          "metadata": {
            "tags": []
          }
        },
        {
          "output_type": "display_data",
          "data": {
            "text/html": [
              "<span style=\"color:blue\"> |-image_block_1/conv_block_1/num_blocks: 2</span>"
            ],
            "text/plain": [
              "<IPython.core.display.HTML object>"
            ]
          },
          "metadata": {
            "tags": []
          }
        },
        {
          "output_type": "display_data",
          "data": {
            "text/html": [
              "<span style=\"color:cyan\"> |-image_block_1/conv_block_1/num_layers: 2</span>"
            ],
            "text/plain": [
              "<IPython.core.display.HTML object>"
            ]
          },
          "metadata": {
            "tags": []
          }
        },
        {
          "output_type": "display_data",
          "data": {
            "text/html": [
              "<span style=\"color:blue\"> |-image_block_1/conv_block_1/separable: True</span>"
            ],
            "text/plain": [
              "<IPython.core.display.HTML object>"
            ]
          },
          "metadata": {
            "tags": []
          }
        },
        {
          "output_type": "display_data",
          "data": {
            "text/html": [
              "<span style=\"color:cyan\"> |-image_block_1/normalize: False</span>"
            ],
            "text/plain": [
              "<IPython.core.display.HTML object>"
            ]
          },
          "metadata": {
            "tags": []
          }
        },
        {
          "output_type": "display_data",
          "data": {
            "text/html": [
              "<span style=\"color:blue\"> |-optimizer: adam</span>"
            ],
            "text/plain": [
              "<IPython.core.display.HTML object>"
            ]
          },
          "metadata": {
            "tags": []
          }
        },
        {
          "output_type": "display_data",
          "data": {
            "text/html": [
              "<span style=\"color:cyan\"> |-regression_head_1/dropout_rate: 0</span>"
            ],
            "text/plain": [
              "<IPython.core.display.HTML object>"
            ]
          },
          "metadata": {
            "tags": []
          }
        },
        {
          "output_type": "stream",
          "text": [
            "Epoch 1/1000\n",
            "5/5 [==============================] - 35s 7s/step - loss: 1406.1007 - mean_squared_error: 1406.1007 - val_loss: 1785.1656 - val_mean_squared_error: 1785.1656\n",
            "Epoch 2/1000\n",
            "5/5 [==============================] - 32s 6s/step - loss: 887.0659 - mean_squared_error: 887.0659 - val_loss: 1599.8226 - val_mean_squared_error: 1599.8226\n",
            "Epoch 3/1000\n",
            "5/5 [==============================] - 36s 7s/step - loss: 597.6457 - mean_squared_error: 597.6457 - val_loss: 1013.5172 - val_mean_squared_error: 1013.5172\n",
            "Epoch 4/1000\n",
            "5/5 [==============================] - 37s 7s/step - loss: 392.7220 - mean_squared_error: 392.7220 - val_loss: 229603.4219 - val_mean_squared_error: 229603.4219\n",
            "Epoch 5/1000\n",
            "5/5 [==============================] - 37s 7s/step - loss: 264.3484 - mean_squared_error: 264.3484 - val_loss: 593575.3750 - val_mean_squared_error: 593575.3750\n",
            "Epoch 6/1000\n",
            "5/5 [==============================] - 36s 7s/step - loss: 176.5875 - mean_squared_error: 176.5875 - val_loss: 306745.3750 - val_mean_squared_error: 306745.3750\n",
            "Epoch 7/1000\n",
            "5/5 [==============================] - 36s 7s/step - loss: 113.0137 - mean_squared_error: 113.0137 - val_loss: 297132.8125 - val_mean_squared_error: 297132.8125\n",
            "Epoch 8/1000\n",
            "5/5 [==============================] - 36s 7s/step - loss: 84.7080 - mean_squared_error: 84.7080 - val_loss: 24371.6348 - val_mean_squared_error: 24371.6348\n",
            "Epoch 9/1000\n",
            "5/5 [==============================] - 34s 7s/step - loss: 53.2776 - mean_squared_error: 53.2776 - val_loss: 14155.4375 - val_mean_squared_error: 14155.4375\n",
            "Epoch 10/1000\n",
            "5/5 [==============================] - 34s 7s/step - loss: 53.7018 - mean_squared_error: 53.7018 - val_loss: 12472.1113 - val_mean_squared_error: 12472.1113\n",
            "Epoch 11/1000\n",
            "5/5 [==============================] - 34s 7s/step - loss: 31.6826 - mean_squared_error: 31.6826 - val_loss: 5062.9907 - val_mean_squared_error: 5062.9907\n",
            "Epoch 12/1000\n",
            "5/5 [==============================] - 34s 7s/step - loss: 29.3217 - mean_squared_error: 29.3217 - val_loss: 2308.3167 - val_mean_squared_error: 2308.3167\n",
            "Epoch 13/1000\n",
            "5/5 [==============================] - 34s 7s/step - loss: 23.0019 - mean_squared_error: 23.0019 - val_loss: 1054.7094 - val_mean_squared_error: 1054.7094\n"
          ],
          "name": "stdout"
        },
        {
          "output_type": "display_data",
          "data": {
            "text/html": [
              "<span style=\"color:#4527A0\"><h1 style=\"font-size:18px\">Trial complete</h1></span>"
            ],
            "text/plain": [
              "<IPython.core.display.HTML object>"
            ]
          },
          "metadata": {
            "tags": []
          }
        },
        {
          "output_type": "display_data",
          "data": {
            "text/html": [
              "<span style=\"color:#4527A0\"><h1 style=\"font-size:18px\">Trial summary</h1></span>"
            ],
            "text/plain": [
              "<IPython.core.display.HTML object>"
            ]
          },
          "metadata": {
            "tags": []
          }
        },
        {
          "output_type": "display_data",
          "data": {
            "text/html": [
              "<span style=\"color:cyan\"> |-Trial ID: a35b563183ef50892d6b79ff38f8654b</span>"
            ],
            "text/plain": [
              "<IPython.core.display.HTML object>"
            ]
          },
          "metadata": {
            "tags": []
          }
        },
        {
          "output_type": "display_data",
          "data": {
            "text/html": [
              "<span style=\"color:cyan\"> |-Score: 1013.5172119140625</span>"
            ],
            "text/plain": [
              "<IPython.core.display.HTML object>"
            ]
          },
          "metadata": {
            "tags": []
          }
        },
        {
          "output_type": "display_data",
          "data": {
            "text/html": [
              "<span style=\"color:cyan\"> |-Best step: 2</span>"
            ],
            "text/plain": [
              "<IPython.core.display.HTML object>"
            ]
          },
          "metadata": {
            "tags": []
          }
        },
        {
          "output_type": "display_data",
          "data": {
            "text/html": [
              "<span style=\"color:#7E57C2\"><h2 style=\"font-size:16px\">Hyperparameters:</h2></span>"
            ],
            "text/plain": [
              "<IPython.core.display.HTML object>"
            ]
          },
          "metadata": {
            "tags": []
          }
        },
        {
          "output_type": "display_data",
          "data": {
            "text/html": [
              "<span style=\"color:cyan\"> |-image_block_1/augment: False</span>"
            ],
            "text/plain": [
              "<IPython.core.display.HTML object>"
            ]
          },
          "metadata": {
            "tags": []
          }
        },
        {
          "output_type": "display_data",
          "data": {
            "text/html": [
              "<span style=\"color:blue\"> |-image_block_1/block_type: resnet</span>"
            ],
            "text/plain": [
              "<IPython.core.display.HTML object>"
            ]
          },
          "metadata": {
            "tags": []
          }
        },
        {
          "output_type": "display_data",
          "data": {
            "text/html": [
              "<span style=\"color:cyan\"> |-image_block_1/conv_block_1/dropout_rate: 0.5</span>"
            ],
            "text/plain": [
              "<IPython.core.display.HTML object>"
            ]
          },
          "metadata": {
            "tags": []
          }
        },
        {
          "output_type": "display_data",
          "data": {
            "text/html": [
              "<span style=\"color:blue\"> |-image_block_1/conv_block_1/filters_0_0: 128</span>"
            ],
            "text/plain": [
              "<IPython.core.display.HTML object>"
            ]
          },
          "metadata": {
            "tags": []
          }
        },
        {
          "output_type": "display_data",
          "data": {
            "text/html": [
              "<span style=\"color:cyan\"> |-image_block_1/conv_block_1/filters_0_1: 128</span>"
            ],
            "text/plain": [
              "<IPython.core.display.HTML object>"
            ]
          },
          "metadata": {
            "tags": []
          }
        },
        {
          "output_type": "display_data",
          "data": {
            "text/html": [
              "<span style=\"color:blue\"> |-image_block_1/conv_block_1/filters_1_0: 128</span>"
            ],
            "text/plain": [
              "<IPython.core.display.HTML object>"
            ]
          },
          "metadata": {
            "tags": []
          }
        },
        {
          "output_type": "display_data",
          "data": {
            "text/html": [
              "<span style=\"color:cyan\"> |-image_block_1/conv_block_1/filters_1_1: 128</span>"
            ],
            "text/plain": [
              "<IPython.core.display.HTML object>"
            ]
          },
          "metadata": {
            "tags": []
          }
        },
        {
          "output_type": "display_data",
          "data": {
            "text/html": [
              "<span style=\"color:blue\"> |-image_block_1/conv_block_1/kernel_size: 3</span>"
            ],
            "text/plain": [
              "<IPython.core.display.HTML object>"
            ]
          },
          "metadata": {
            "tags": []
          }
        },
        {
          "output_type": "display_data",
          "data": {
            "text/html": [
              "<span style=\"color:cyan\"> |-image_block_1/conv_block_1/max_pooling: True</span>"
            ],
            "text/plain": [
              "<IPython.core.display.HTML object>"
            ]
          },
          "metadata": {
            "tags": []
          }
        },
        {
          "output_type": "display_data",
          "data": {
            "text/html": [
              "<span style=\"color:blue\"> |-image_block_1/conv_block_1/num_blocks: 1</span>"
            ],
            "text/plain": [
              "<IPython.core.display.HTML object>"
            ]
          },
          "metadata": {
            "tags": []
          }
        },
        {
          "output_type": "display_data",
          "data": {
            "text/html": [
              "<span style=\"color:cyan\"> |-image_block_1/conv_block_1/num_layers: 2</span>"
            ],
            "text/plain": [
              "<IPython.core.display.HTML object>"
            ]
          },
          "metadata": {
            "tags": []
          }
        },
        {
          "output_type": "display_data",
          "data": {
            "text/html": [
              "<span style=\"color:blue\"> |-image_block_1/conv_block_1/separable: True</span>"
            ],
            "text/plain": [
              "<IPython.core.display.HTML object>"
            ]
          },
          "metadata": {
            "tags": []
          }
        },
        {
          "output_type": "display_data",
          "data": {
            "text/html": [
              "<span style=\"color:cyan\"> |-image_block_1/normalize: True</span>"
            ],
            "text/plain": [
              "<IPython.core.display.HTML object>"
            ]
          },
          "metadata": {
            "tags": []
          }
        },
        {
          "output_type": "display_data",
          "data": {
            "text/html": [
              "<span style=\"color:blue\"> |-image_block_1/res_net_block_1/conv3_depth: 4</span>"
            ],
            "text/plain": [
              "<IPython.core.display.HTML object>"
            ]
          },
          "metadata": {
            "tags": []
          }
        },
        {
          "output_type": "display_data",
          "data": {
            "text/html": [
              "<span style=\"color:cyan\"> |-image_block_1/res_net_block_1/conv4_depth: 6</span>"
            ],
            "text/plain": [
              "<IPython.core.display.HTML object>"
            ]
          },
          "metadata": {
            "tags": []
          }
        },
        {
          "output_type": "display_data",
          "data": {
            "text/html": [
              "<span style=\"color:blue\"> |-image_block_1/res_net_block_1/pooling: avg</span>"
            ],
            "text/plain": [
              "<IPython.core.display.HTML object>"
            ]
          },
          "metadata": {
            "tags": []
          }
        },
        {
          "output_type": "display_data",
          "data": {
            "text/html": [
              "<span style=\"color:cyan\"> |-image_block_1/res_net_block_1/version: v2</span>"
            ],
            "text/plain": [
              "<IPython.core.display.HTML object>"
            ]
          },
          "metadata": {
            "tags": []
          }
        },
        {
          "output_type": "display_data",
          "data": {
            "text/html": [
              "<span style=\"color:blue\"> |-optimizer: adam</span>"
            ],
            "text/plain": [
              "<IPython.core.display.HTML object>"
            ]
          },
          "metadata": {
            "tags": []
          }
        },
        {
          "output_type": "display_data",
          "data": {
            "text/html": [
              "<span style=\"color:cyan\"> |-regression_head_1/dropout_rate: 0</span>"
            ],
            "text/plain": [
              "<IPython.core.display.HTML object>"
            ]
          },
          "metadata": {
            "tags": []
          }
        },
        {
          "output_type": "stream",
          "text": [
            "Epoch 1/1000\n",
            "5/5 [==============================] - 110s 22s/step - loss: 700.6238 - mean_squared_error: 700.6238 - val_loss: 1590.3149 - val_mean_squared_error: 1590.3149\n",
            "Epoch 2/1000\n",
            "5/5 [==============================] - 104s 21s/step - loss: 255.2887 - mean_squared_error: 255.2887 - val_loss: 1334.1735 - val_mean_squared_error: 1334.1735\n",
            "Epoch 3/1000\n",
            "5/5 [==============================] - 104s 21s/step - loss: 260.8839 - mean_squared_error: 260.8839 - val_loss: 1360.6543 - val_mean_squared_error: 1360.6543\n",
            "Epoch 4/1000\n",
            "5/5 [==============================] - 104s 21s/step - loss: 267.3376 - mean_squared_error: 267.3376 - val_loss: 1236.1467 - val_mean_squared_error: 1236.1467\n",
            "Epoch 5/1000\n",
            "5/5 [==============================] - 104s 21s/step - loss: 215.9063 - mean_squared_error: 215.9063 - val_loss: 1189.3826 - val_mean_squared_error: 1189.3826\n",
            "Epoch 6/1000\n",
            "5/5 [==============================] - 104s 21s/step - loss: 231.3693 - mean_squared_error: 231.3693 - val_loss: 1150.6064 - val_mean_squared_error: 1150.6064\n",
            "Epoch 7/1000\n",
            "5/5 [==============================] - 104s 21s/step - loss: 233.6224 - mean_squared_error: 233.6224 - val_loss: 1114.3650 - val_mean_squared_error: 1114.3650\n",
            "Epoch 8/1000\n",
            "5/5 [==============================] - 104s 21s/step - loss: 195.6388 - mean_squared_error: 195.6388 - val_loss: 1061.1179 - val_mean_squared_error: 1061.1179\n",
            "Epoch 9/1000\n",
            "5/5 [==============================] - 104s 21s/step - loss: 230.0197 - mean_squared_error: 230.0197 - val_loss: 1009.3951 - val_mean_squared_error: 1009.3951\n",
            "Epoch 10/1000\n",
            "5/5 [==============================] - 104s 21s/step - loss: 216.2054 - mean_squared_error: 216.2054 - val_loss: 943.6024 - val_mean_squared_error: 943.6024\n",
            "Epoch 11/1000\n",
            "5/5 [==============================] - 104s 21s/step - loss: 185.4927 - mean_squared_error: 185.4927 - val_loss: 933.5677 - val_mean_squared_error: 933.5677\n",
            "Epoch 12/1000\n",
            "5/5 [==============================] - 105s 21s/step - loss: 191.3094 - mean_squared_error: 191.3094 - val_loss: 867.9383 - val_mean_squared_error: 867.9383\n",
            "Epoch 13/1000\n",
            "5/5 [==============================] - 104s 21s/step - loss: 192.3455 - mean_squared_error: 192.3455 - val_loss: 821.3804 - val_mean_squared_error: 821.3804\n",
            "Epoch 14/1000\n",
            "5/5 [==============================] - 104s 21s/step - loss: 186.4061 - mean_squared_error: 186.4061 - val_loss: 827.7509 - val_mean_squared_error: 827.7509\n",
            "Epoch 15/1000\n",
            "5/5 [==============================] - 105s 21s/step - loss: 242.7833 - mean_squared_error: 242.7833 - val_loss: 760.3279 - val_mean_squared_error: 760.3279\n",
            "Epoch 16/1000\n",
            "5/5 [==============================] - 105s 21s/step - loss: 208.6090 - mean_squared_error: 208.6090 - val_loss: 753.8874 - val_mean_squared_error: 753.8874\n",
            "Epoch 17/1000\n",
            "5/5 [==============================] - 108s 22s/step - loss: 225.0806 - mean_squared_error: 225.0806 - val_loss: 686.5638 - val_mean_squared_error: 686.5638\n",
            "Epoch 18/1000\n",
            "5/5 [==============================] - 106s 21s/step - loss: 204.0985 - mean_squared_error: 204.0985 - val_loss: 662.6188 - val_mean_squared_error: 662.6188\n",
            "Epoch 19/1000\n",
            "5/5 [==============================] - 105s 21s/step - loss: 193.5545 - mean_squared_error: 193.5545 - val_loss: 665.2865 - val_mean_squared_error: 665.2865\n",
            "Epoch 20/1000\n",
            "5/5 [==============================] - 105s 21s/step - loss: 225.8487 - mean_squared_error: 225.8487 - val_loss: 578.8537 - val_mean_squared_error: 578.8537\n",
            "Epoch 21/1000\n",
            "5/5 [==============================] - 104s 21s/step - loss: 193.7559 - mean_squared_error: 193.7559 - val_loss: 586.7977 - val_mean_squared_error: 586.7977\n",
            "Epoch 22/1000\n",
            "5/5 [==============================] - 105s 21s/step - loss: 178.6143 - mean_squared_error: 178.6143 - val_loss: 598.4070 - val_mean_squared_error: 598.4070\n",
            "Epoch 23/1000\n",
            "5/5 [==============================] - 104s 21s/step - loss: 194.2504 - mean_squared_error: 194.2504 - val_loss: 540.7082 - val_mean_squared_error: 540.7082\n",
            "Epoch 24/1000\n",
            "5/5 [==============================] - 105s 21s/step - loss: 196.7841 - mean_squared_error: 196.7841 - val_loss: 534.9884 - val_mean_squared_error: 534.9884\n",
            "Epoch 25/1000\n",
            "5/5 [==============================] - 104s 21s/step - loss: 195.9318 - mean_squared_error: 195.9318 - val_loss: 498.4029 - val_mean_squared_error: 498.4029\n",
            "Epoch 26/1000\n",
            "5/5 [==============================] - 104s 21s/step - loss: 188.6277 - mean_squared_error: 188.6277 - val_loss: 483.1173 - val_mean_squared_error: 483.1173\n",
            "Epoch 27/1000\n",
            "5/5 [==============================] - 104s 21s/step - loss: 182.7611 - mean_squared_error: 182.7611 - val_loss: 502.8950 - val_mean_squared_error: 502.8950\n",
            "Epoch 28/1000\n",
            "5/5 [==============================] - 104s 21s/step - loss: 205.9638 - mean_squared_error: 205.9638 - val_loss: 468.4752 - val_mean_squared_error: 468.4752\n",
            "Epoch 29/1000\n",
            "5/5 [==============================] - 104s 21s/step - loss: 194.8861 - mean_squared_error: 194.8861 - val_loss: 471.9435 - val_mean_squared_error: 471.9435\n",
            "Epoch 30/1000\n",
            "5/5 [==============================] - 104s 21s/step - loss: 178.8815 - mean_squared_error: 178.8815 - val_loss: 440.9680 - val_mean_squared_error: 440.9680\n",
            "Epoch 31/1000\n",
            "5/5 [==============================] - 104s 21s/step - loss: 203.8495 - mean_squared_error: 203.8495 - val_loss: 426.7029 - val_mean_squared_error: 426.7029\n",
            "Epoch 32/1000\n",
            "5/5 [==============================] - 104s 21s/step - loss: 183.7163 - mean_squared_error: 183.7163 - val_loss: 413.9832 - val_mean_squared_error: 413.9832\n",
            "Epoch 33/1000\n",
            "5/5 [==============================] - 104s 21s/step - loss: 213.6682 - mean_squared_error: 213.6682 - val_loss: 383.1689 - val_mean_squared_error: 383.1689\n",
            "Epoch 34/1000\n",
            "5/5 [==============================] - 105s 21s/step - loss: 190.7345 - mean_squared_error: 190.7345 - val_loss: 422.4114 - val_mean_squared_error: 422.4114\n",
            "Epoch 35/1000\n",
            "5/5 [==============================] - 105s 21s/step - loss: 213.1092 - mean_squared_error: 213.1092 - val_loss: 372.7506 - val_mean_squared_error: 372.7506\n",
            "Epoch 36/1000\n",
            "5/5 [==============================] - 106s 21s/step - loss: 185.2614 - mean_squared_error: 185.2614 - val_loss: 375.4433 - val_mean_squared_error: 375.4433\n",
            "Epoch 37/1000\n",
            "5/5 [==============================] - 103s 21s/step - loss: 189.6115 - mean_squared_error: 189.6115 - val_loss: 368.3456 - val_mean_squared_error: 368.3456\n",
            "Epoch 38/1000\n",
            "5/5 [==============================] - 105s 21s/step - loss: 182.7042 - mean_squared_error: 182.7042 - val_loss: 350.9838 - val_mean_squared_error: 350.9838\n",
            "Epoch 39/1000\n",
            "5/5 [==============================] - 105s 21s/step - loss: 194.1681 - mean_squared_error: 194.1681 - val_loss: 355.3029 - val_mean_squared_error: 355.3029\n",
            "Epoch 40/1000\n",
            "5/5 [==============================] - 105s 21s/step - loss: 195.8678 - mean_squared_error: 195.8678 - val_loss: 350.7735 - val_mean_squared_error: 350.7735\n",
            "Epoch 41/1000\n",
            "5/5 [==============================] - 105s 21s/step - loss: 193.4960 - mean_squared_error: 193.4960 - val_loss: 343.8914 - val_mean_squared_error: 343.8914\n",
            "Epoch 42/1000\n",
            "5/5 [==============================] - 104s 21s/step - loss: 178.3444 - mean_squared_error: 178.3444 - val_loss: 325.7963 - val_mean_squared_error: 325.7963\n",
            "Epoch 43/1000\n",
            "5/5 [==============================] - 105s 21s/step - loss: 186.2574 - mean_squared_error: 186.2574 - val_loss: 307.2449 - val_mean_squared_error: 307.2449\n",
            "Epoch 44/1000\n",
            "5/5 [==============================] - 105s 21s/step - loss: 188.5710 - mean_squared_error: 188.5710 - val_loss: 306.7027 - val_mean_squared_error: 306.7027\n",
            "Epoch 45/1000\n",
            "5/5 [==============================] - 105s 21s/step - loss: 184.1988 - mean_squared_error: 184.1988 - val_loss: 334.0920 - val_mean_squared_error: 334.0920\n",
            "Epoch 46/1000\n",
            "5/5 [==============================] - 105s 21s/step - loss: 195.3792 - mean_squared_error: 195.3792 - val_loss: 340.3176 - val_mean_squared_error: 340.3176\n",
            "Epoch 47/1000\n",
            "5/5 [==============================] - 105s 21s/step - loss: 209.5775 - mean_squared_error: 209.5775 - val_loss: 333.2722 - val_mean_squared_error: 333.2722\n",
            "Epoch 48/1000\n",
            "5/5 [==============================] - 105s 21s/step - loss: 186.6132 - mean_squared_error: 186.6132 - val_loss: 337.6591 - val_mean_squared_error: 337.6591\n",
            "Epoch 49/1000\n",
            "5/5 [==============================] - 104s 21s/step - loss: 204.4659 - mean_squared_error: 204.4659 - val_loss: 324.4637 - val_mean_squared_error: 324.4637\n",
            "Epoch 50/1000\n",
            "5/5 [==============================] - 104s 21s/step - loss: 200.8578 - mean_squared_error: 200.8578 - val_loss: 297.1244 - val_mean_squared_error: 297.1244\n",
            "Epoch 51/1000\n",
            "5/5 [==============================] - 104s 21s/step - loss: 192.2666 - mean_squared_error: 192.2666 - val_loss: 318.8987 - val_mean_squared_error: 318.8987\n",
            "Epoch 52/1000\n",
            "5/5 [==============================] - 104s 21s/step - loss: 203.0400 - mean_squared_error: 203.0400 - val_loss: 266.5105 - val_mean_squared_error: 266.5105\n",
            "Epoch 53/1000\n",
            "5/5 [==============================] - 103s 21s/step - loss: 186.3374 - mean_squared_error: 186.3374 - val_loss: 282.0061 - val_mean_squared_error: 282.0061\n",
            "Epoch 54/1000\n",
            "5/5 [==============================] - 103s 21s/step - loss: 196.2096 - mean_squared_error: 196.2096 - val_loss: 276.9973 - val_mean_squared_error: 276.9973\n",
            "Epoch 55/1000\n",
            "5/5 [==============================] - 104s 21s/step - loss: 190.9062 - mean_squared_error: 190.9062 - val_loss: 253.1611 - val_mean_squared_error: 253.1611\n",
            "Epoch 56/1000\n",
            "5/5 [==============================] - 104s 21s/step - loss: 187.8163 - mean_squared_error: 187.8163 - val_loss: 308.3912 - val_mean_squared_error: 308.3912\n",
            "Epoch 57/1000\n",
            "5/5 [==============================] - 103s 21s/step - loss: 198.6996 - mean_squared_error: 198.6996 - val_loss: 270.2266 - val_mean_squared_error: 270.2266\n",
            "Epoch 58/1000\n",
            "5/5 [==============================] - 104s 21s/step - loss: 193.0530 - mean_squared_error: 193.0530 - val_loss: 249.5959 - val_mean_squared_error: 249.5959\n",
            "Epoch 59/1000\n",
            "5/5 [==============================] - 104s 21s/step - loss: 185.0063 - mean_squared_error: 185.0063 - val_loss: 277.0286 - val_mean_squared_error: 277.0286\n",
            "Epoch 60/1000\n",
            "5/5 [==============================] - 104s 21s/step - loss: 213.8075 - mean_squared_error: 213.8075 - val_loss: 229.9917 - val_mean_squared_error: 229.9917\n",
            "Epoch 61/1000\n",
            "5/5 [==============================] - 104s 21s/step - loss: 208.5213 - mean_squared_error: 208.5213 - val_loss: 226.5687 - val_mean_squared_error: 226.5687\n",
            "Epoch 62/1000\n",
            "5/5 [==============================] - 104s 21s/step - loss: 180.6330 - mean_squared_error: 180.6330 - val_loss: 257.0069 - val_mean_squared_error: 257.0069\n",
            "Epoch 63/1000\n",
            "5/5 [==============================] - 104s 21s/step - loss: 206.3910 - mean_squared_error: 206.3910 - val_loss: 223.3841 - val_mean_squared_error: 223.3841\n",
            "Epoch 64/1000\n",
            "5/5 [==============================] - 105s 21s/step - loss: 190.6499 - mean_squared_error: 190.6499 - val_loss: 221.1404 - val_mean_squared_error: 221.1404\n",
            "Epoch 65/1000\n",
            "5/5 [==============================] - 102s 20s/step - loss: 189.7693 - mean_squared_error: 189.7693 - val_loss: 223.0511 - val_mean_squared_error: 223.0511\n",
            "Epoch 66/1000\n",
            "5/5 [==============================] - 103s 21s/step - loss: 186.8905 - mean_squared_error: 186.8905 - val_loss: 206.8837 - val_mean_squared_error: 206.8837\n",
            "Epoch 67/1000\n",
            "5/5 [==============================] - 104s 21s/step - loss: 191.3058 - mean_squared_error: 191.3058 - val_loss: 222.0964 - val_mean_squared_error: 222.0964\n",
            "Epoch 68/1000\n",
            "5/5 [==============================] - 103s 21s/step - loss: 187.4808 - mean_squared_error: 187.4808 - val_loss: 226.3343 - val_mean_squared_error: 226.3343\n",
            "Epoch 69/1000\n",
            "5/5 [==============================] - 103s 21s/step - loss: 203.0000 - mean_squared_error: 203.0000 - val_loss: 204.0307 - val_mean_squared_error: 204.0307\n",
            "Epoch 70/1000\n",
            "5/5 [==============================] - 103s 21s/step - loss: 184.3487 - mean_squared_error: 184.3487 - val_loss: 200.7896 - val_mean_squared_error: 200.7896\n",
            "Epoch 71/1000\n",
            "5/5 [==============================] - 104s 21s/step - loss: 186.9536 - mean_squared_error: 186.9536 - val_loss: 202.5497 - val_mean_squared_error: 202.5497\n",
            "Epoch 72/1000\n",
            "5/5 [==============================] - 104s 21s/step - loss: 187.1822 - mean_squared_error: 187.1822 - val_loss: 198.9860 - val_mean_squared_error: 198.9860\n",
            "Epoch 73/1000\n",
            "5/5 [==============================] - 104s 21s/step - loss: 189.2875 - mean_squared_error: 189.2875 - val_loss: 203.6849 - val_mean_squared_error: 203.6849\n",
            "Epoch 74/1000\n",
            "5/5 [==============================] - 105s 21s/step - loss: 179.6686 - mean_squared_error: 179.6686 - val_loss: 202.6230 - val_mean_squared_error: 202.6230\n",
            "Epoch 75/1000\n",
            "5/5 [==============================] - 104s 21s/step - loss: 182.4121 - mean_squared_error: 182.4121 - val_loss: 205.5413 - val_mean_squared_error: 205.5413\n",
            "Epoch 76/1000\n",
            "5/5 [==============================] - 104s 21s/step - loss: 180.6903 - mean_squared_error: 180.6903 - val_loss: 221.2419 - val_mean_squared_error: 221.2419\n",
            "Epoch 77/1000\n",
            "5/5 [==============================] - 105s 21s/step - loss: 190.0981 - mean_squared_error: 190.0981 - val_loss: 206.7060 - val_mean_squared_error: 206.7060\n",
            "Epoch 78/1000\n",
            "5/5 [==============================] - 105s 21s/step - loss: 190.5570 - mean_squared_error: 190.5570 - val_loss: 204.9920 - val_mean_squared_error: 204.9920\n",
            "Epoch 79/1000\n",
            "5/5 [==============================] - 104s 21s/step - loss: 183.5574 - mean_squared_error: 183.5574 - val_loss: 199.7487 - val_mean_squared_error: 199.7487\n",
            "Epoch 80/1000\n",
            "5/5 [==============================] - 105s 21s/step - loss: 202.2664 - mean_squared_error: 202.2664 - val_loss: 192.7819 - val_mean_squared_error: 192.7819\n",
            "Epoch 81/1000\n",
            "5/5 [==============================] - 104s 21s/step - loss: 182.2713 - mean_squared_error: 182.2713 - val_loss: 211.6150 - val_mean_squared_error: 211.6150\n",
            "Epoch 82/1000\n",
            "5/5 [==============================] - 103s 21s/step - loss: 177.7634 - mean_squared_error: 177.7634 - val_loss: 219.5833 - val_mean_squared_error: 219.5833\n",
            "Epoch 83/1000\n",
            "5/5 [==============================] - 107s 21s/step - loss: 185.8638 - mean_squared_error: 185.8638 - val_loss: 213.1781 - val_mean_squared_error: 213.1781\n",
            "Epoch 84/1000\n",
            "5/5 [==============================] - 104s 21s/step - loss: 195.5680 - mean_squared_error: 195.5680 - val_loss: 203.9063 - val_mean_squared_error: 203.9063\n",
            "Epoch 85/1000\n",
            "5/5 [==============================] - 105s 21s/step - loss: 181.4908 - mean_squared_error: 181.4908 - val_loss: 211.2065 - val_mean_squared_error: 211.2065\n",
            "Epoch 86/1000\n",
            "5/5 [==============================] - 104s 21s/step - loss: 184.9211 - mean_squared_error: 184.9211 - val_loss: 206.6179 - val_mean_squared_error: 206.6179\n",
            "Epoch 87/1000\n",
            "5/5 [==============================] - 104s 21s/step - loss: 194.2760 - mean_squared_error: 194.2760 - val_loss: 193.9588 - val_mean_squared_error: 193.9588\n",
            "Epoch 88/1000\n",
            "5/5 [==============================] - 104s 21s/step - loss: 179.8018 - mean_squared_error: 179.8018 - val_loss: 189.5023 - val_mean_squared_error: 189.5023\n",
            "Epoch 89/1000\n",
            "5/5 [==============================] - 102s 20s/step - loss: 189.4576 - mean_squared_error: 189.4576 - val_loss: 191.4826 - val_mean_squared_error: 191.4826\n",
            "Epoch 90/1000\n",
            "5/5 [==============================] - 101s 20s/step - loss: 181.0674 - mean_squared_error: 181.0674 - val_loss: 190.8662 - val_mean_squared_error: 190.8662\n",
            "Epoch 91/1000\n",
            "5/5 [==============================] - 102s 20s/step - loss: 184.5429 - mean_squared_error: 184.5429 - val_loss: 187.2573 - val_mean_squared_error: 187.2573\n",
            "Epoch 92/1000\n",
            "5/5 [==============================] - 102s 20s/step - loss: 176.0716 - mean_squared_error: 176.0716 - val_loss: 191.1443 - val_mean_squared_error: 191.1443\n",
            "Epoch 93/1000\n",
            "5/5 [==============================] - 102s 20s/step - loss: 178.7710 - mean_squared_error: 178.7710 - val_loss: 188.6646 - val_mean_squared_error: 188.6646\n",
            "Epoch 94/1000\n",
            "5/5 [==============================] - 102s 20s/step - loss: 189.3248 - mean_squared_error: 189.3248 - val_loss: 189.7800 - val_mean_squared_error: 189.7800\n",
            "Epoch 95/1000\n",
            "5/5 [==============================] - 102s 20s/step - loss: 197.1180 - mean_squared_error: 197.1180 - val_loss: 196.1880 - val_mean_squared_error: 196.1880\n",
            "Epoch 96/1000\n",
            "5/5 [==============================] - 104s 21s/step - loss: 180.0920 - mean_squared_error: 180.0920 - val_loss: 191.1595 - val_mean_squared_error: 191.1595\n",
            "Epoch 97/1000\n",
            "5/5 [==============================] - 106s 21s/step - loss: 178.8690 - mean_squared_error: 178.8690 - val_loss: 188.3373 - val_mean_squared_error: 188.3373\n",
            "Epoch 98/1000\n",
            "5/5 [==============================] - 103s 21s/step - loss: 205.9771 - mean_squared_error: 205.9771 - val_loss: 189.0384 - val_mean_squared_error: 189.0384\n",
            "Epoch 99/1000\n",
            "5/5 [==============================] - 104s 21s/step - loss: 183.4091 - mean_squared_error: 183.4091 - val_loss: 190.2293 - val_mean_squared_error: 190.2293\n",
            "Epoch 100/1000\n",
            "5/5 [==============================] - 104s 21s/step - loss: 178.1785 - mean_squared_error: 178.1785 - val_loss: 191.3037 - val_mean_squared_error: 191.3037\n",
            "Epoch 101/1000\n",
            "5/5 [==============================] - 104s 21s/step - loss: 178.2705 - mean_squared_error: 178.2705 - val_loss: 192.2517 - val_mean_squared_error: 192.2517\n"
          ],
          "name": "stdout"
        },
        {
          "output_type": "display_data",
          "data": {
            "text/html": [
              "<span style=\"color:#4527A0\"><h1 style=\"font-size:18px\">Trial complete</h1></span>"
            ],
            "text/plain": [
              "<IPython.core.display.HTML object>"
            ]
          },
          "metadata": {
            "tags": []
          }
        },
        {
          "output_type": "display_data",
          "data": {
            "text/html": [
              "<span style=\"color:#4527A0\"><h1 style=\"font-size:18px\">Trial summary</h1></span>"
            ],
            "text/plain": [
              "<IPython.core.display.HTML object>"
            ]
          },
          "metadata": {
            "tags": []
          }
        },
        {
          "output_type": "display_data",
          "data": {
            "text/html": [
              "<span style=\"color:cyan\"> |-Trial ID: c7cfe456a027ab6aaf7740a6f9d3a7df</span>"
            ],
            "text/plain": [
              "<IPython.core.display.HTML object>"
            ]
          },
          "metadata": {
            "tags": []
          }
        },
        {
          "output_type": "display_data",
          "data": {
            "text/html": [
              "<span style=\"color:cyan\"> |-Score: 187.25732421875</span>"
            ],
            "text/plain": [
              "<IPython.core.display.HTML object>"
            ]
          },
          "metadata": {
            "tags": []
          }
        },
        {
          "output_type": "display_data",
          "data": {
            "text/html": [
              "<span style=\"color:cyan\"> |-Best step: 90</span>"
            ],
            "text/plain": [
              "<IPython.core.display.HTML object>"
            ]
          },
          "metadata": {
            "tags": []
          }
        },
        {
          "output_type": "display_data",
          "data": {
            "text/html": [
              "<span style=\"color:#7E57C2\"><h2 style=\"font-size:16px\">Hyperparameters:</h2></span>"
            ],
            "text/plain": [
              "<IPython.core.display.HTML object>"
            ]
          },
          "metadata": {
            "tags": []
          }
        },
        {
          "output_type": "display_data",
          "data": {
            "text/html": [
              "<span style=\"color:cyan\"> |-image_block_1/augment: True</span>"
            ],
            "text/plain": [
              "<IPython.core.display.HTML object>"
            ]
          },
          "metadata": {
            "tags": []
          }
        },
        {
          "output_type": "display_data",
          "data": {
            "text/html": [
              "<span style=\"color:blue\"> |-image_block_1/block_type: resnet</span>"
            ],
            "text/plain": [
              "<IPython.core.display.HTML object>"
            ]
          },
          "metadata": {
            "tags": []
          }
        },
        {
          "output_type": "display_data",
          "data": {
            "text/html": [
              "<span style=\"color:cyan\"> |-image_block_1/conv_block_1/dropout_rate: 0.5</span>"
            ],
            "text/plain": [
              "<IPython.core.display.HTML object>"
            ]
          },
          "metadata": {
            "tags": []
          }
        },
        {
          "output_type": "display_data",
          "data": {
            "text/html": [
              "<span style=\"color:blue\"> |-image_block_1/conv_block_1/filters_0_0: 16</span>"
            ],
            "text/plain": [
              "<IPython.core.display.HTML object>"
            ]
          },
          "metadata": {
            "tags": []
          }
        },
        {
          "output_type": "display_data",
          "data": {
            "text/html": [
              "<span style=\"color:cyan\"> |-image_block_1/conv_block_1/filters_0_1: 64</span>"
            ],
            "text/plain": [
              "<IPython.core.display.HTML object>"
            ]
          },
          "metadata": {
            "tags": []
          }
        },
        {
          "output_type": "display_data",
          "data": {
            "text/html": [
              "<span style=\"color:blue\"> |-image_block_1/conv_block_1/filters_1_0: 128</span>"
            ],
            "text/plain": [
              "<IPython.core.display.HTML object>"
            ]
          },
          "metadata": {
            "tags": []
          }
        },
        {
          "output_type": "display_data",
          "data": {
            "text/html": [
              "<span style=\"color:cyan\"> |-image_block_1/conv_block_1/filters_1_1: 32</span>"
            ],
            "text/plain": [
              "<IPython.core.display.HTML object>"
            ]
          },
          "metadata": {
            "tags": []
          }
        },
        {
          "output_type": "display_data",
          "data": {
            "text/html": [
              "<span style=\"color:blue\"> |-image_block_1/conv_block_1/kernel_size: 3</span>"
            ],
            "text/plain": [
              "<IPython.core.display.HTML object>"
            ]
          },
          "metadata": {
            "tags": []
          }
        },
        {
          "output_type": "display_data",
          "data": {
            "text/html": [
              "<span style=\"color:cyan\"> |-image_block_1/conv_block_1/max_pooling: True</span>"
            ],
            "text/plain": [
              "<IPython.core.display.HTML object>"
            ]
          },
          "metadata": {
            "tags": []
          }
        },
        {
          "output_type": "display_data",
          "data": {
            "text/html": [
              "<span style=\"color:blue\"> |-image_block_1/conv_block_1/num_blocks: 3</span>"
            ],
            "text/plain": [
              "<IPython.core.display.HTML object>"
            ]
          },
          "metadata": {
            "tags": []
          }
        },
        {
          "output_type": "display_data",
          "data": {
            "text/html": [
              "<span style=\"color:cyan\"> |-image_block_1/conv_block_1/num_layers: 1</span>"
            ],
            "text/plain": [
              "<IPython.core.display.HTML object>"
            ]
          },
          "metadata": {
            "tags": []
          }
        },
        {
          "output_type": "display_data",
          "data": {
            "text/html": [
              "<span style=\"color:blue\"> |-image_block_1/conv_block_1/separable: False</span>"
            ],
            "text/plain": [
              "<IPython.core.display.HTML object>"
            ]
          },
          "metadata": {
            "tags": []
          }
        },
        {
          "output_type": "display_data",
          "data": {
            "text/html": [
              "<span style=\"color:cyan\"> |-image_block_1/image_augmentation_1/horizontal_flip: True</span>"
            ],
            "text/plain": [
              "<IPython.core.display.HTML object>"
            ]
          },
          "metadata": {
            "tags": []
          }
        },
        {
          "output_type": "display_data",
          "data": {
            "text/html": [
              "<span style=\"color:blue\"> |-image_block_1/image_augmentation_1/vertical_flip: True</span>"
            ],
            "text/plain": [
              "<IPython.core.display.HTML object>"
            ]
          },
          "metadata": {
            "tags": []
          }
        },
        {
          "output_type": "display_data",
          "data": {
            "text/html": [
              "<span style=\"color:cyan\"> |-image_block_1/normalize: False</span>"
            ],
            "text/plain": [
              "<IPython.core.display.HTML object>"
            ]
          },
          "metadata": {
            "tags": []
          }
        },
        {
          "output_type": "display_data",
          "data": {
            "text/html": [
              "<span style=\"color:blue\"> |-image_block_1/res_net_block_1/conv3_depth: 4</span>"
            ],
            "text/plain": [
              "<IPython.core.display.HTML object>"
            ]
          },
          "metadata": {
            "tags": []
          }
        },
        {
          "output_type": "display_data",
          "data": {
            "text/html": [
              "<span style=\"color:cyan\"> |-image_block_1/res_net_block_1/conv4_depth: 36</span>"
            ],
            "text/plain": [
              "<IPython.core.display.HTML object>"
            ]
          },
          "metadata": {
            "tags": []
          }
        },
        {
          "output_type": "display_data",
          "data": {
            "text/html": [
              "<span style=\"color:blue\"> |-image_block_1/res_net_block_1/pooling: max</span>"
            ],
            "text/plain": [
              "<IPython.core.display.HTML object>"
            ]
          },
          "metadata": {
            "tags": []
          }
        },
        {
          "output_type": "display_data",
          "data": {
            "text/html": [
              "<span style=\"color:cyan\"> |-image_block_1/res_net_block_1/version: next</span>"
            ],
            "text/plain": [
              "<IPython.core.display.HTML object>"
            ]
          },
          "metadata": {
            "tags": []
          }
        },
        {
          "output_type": "display_data",
          "data": {
            "text/html": [
              "<span style=\"color:blue\"> |-optimizer: adam</span>"
            ],
            "text/plain": [
              "<IPython.core.display.HTML object>"
            ]
          },
          "metadata": {
            "tags": []
          }
        },
        {
          "output_type": "display_data",
          "data": {
            "text/html": [
              "<span style=\"color:cyan\"> |-regression_head_1/dropout_rate: 0</span>"
            ],
            "text/plain": [
              "<IPython.core.display.HTML object>"
            ]
          },
          "metadata": {
            "tags": []
          }
        },
        {
          "output_type": "stream",
          "text": [
            "Epoch 1/1000\n",
            "5/5 [==============================] - 71s 14s/step - loss: 944.5658 - mean_squared_error: 944.5658 - val_loss: 1284268800.0000 - val_mean_squared_error: 1284268800.0000\n",
            "Epoch 2/1000\n",
            "5/5 [==============================] - 68s 14s/step - loss: 268.4544 - mean_squared_error: 268.4544 - val_loss: 441682493440.0000 - val_mean_squared_error: 441682493440.0000\n",
            "Epoch 3/1000\n",
            "5/5 [==============================] - 69s 14s/step - loss: 220.3777 - mean_squared_error: 220.3777 - val_loss: 517454626816.0000 - val_mean_squared_error: 517454626816.0000\n",
            "Epoch 4/1000\n",
            "5/5 [==============================] - 73s 15s/step - loss: 311.3250 - mean_squared_error: 311.3250 - val_loss: 245328510976.0000 - val_mean_squared_error: 245328510976.0000\n",
            "Epoch 5/1000\n",
            "5/5 [==============================] - 68s 14s/step - loss: 176.1135 - mean_squared_error: 176.1135 - val_loss: 13903072256.0000 - val_mean_squared_error: 13903072256.0000\n",
            "Epoch 6/1000\n",
            "5/5 [==============================] - 69s 14s/step - loss: 170.6202 - mean_squared_error: 170.6202 - val_loss: 2505676288.0000 - val_mean_squared_error: 2505676288.0000\n",
            "Epoch 7/1000\n",
            "5/5 [==============================] - 66s 13s/step - loss: 126.7286 - mean_squared_error: 126.7286 - val_loss: 136362656.0000 - val_mean_squared_error: 136362656.0000\n",
            "Epoch 8/1000\n",
            "5/5 [==============================] - 66s 13s/step - loss: 93.2480 - mean_squared_error: 93.2480 - val_loss: 16850168.0000 - val_mean_squared_error: 16850168.0000\n",
            "Epoch 9/1000\n",
            "5/5 [==============================] - 66s 13s/step - loss: 40.1587 - mean_squared_error: 40.1587 - val_loss: 1075049.0000 - val_mean_squared_error: 1075049.0000\n",
            "Epoch 10/1000\n",
            "5/5 [==============================] - 68s 14s/step - loss: 40.6830 - mean_squared_error: 40.6830 - val_loss: 143555.3750 - val_mean_squared_error: 143555.3750\n",
            "Epoch 11/1000\n",
            "5/5 [==============================] - 67s 13s/step - loss: 25.0310 - mean_squared_error: 25.0310 - val_loss: 12832.9873 - val_mean_squared_error: 12832.9873\n",
            "Epoch 12/1000\n",
            "5/5 [==============================] - 67s 13s/step - loss: 27.7803 - mean_squared_error: 27.7803 - val_loss: 1720.2219 - val_mean_squared_error: 1720.2219\n",
            "Epoch 13/1000\n",
            "5/5 [==============================] - 66s 13s/step - loss: 22.3542 - mean_squared_error: 22.3542 - val_loss: 576.0786 - val_mean_squared_error: 576.0786\n",
            "Epoch 14/1000\n",
            "5/5 [==============================] - 66s 13s/step - loss: 9.9783 - mean_squared_error: 9.9783 - val_loss: 433.0894 - val_mean_squared_error: 433.0894\n",
            "Epoch 15/1000\n",
            "5/5 [==============================] - 67s 13s/step - loss: 9.1526 - mean_squared_error: 9.1526 - val_loss: 400.3637 - val_mean_squared_error: 400.3637\n",
            "Epoch 16/1000\n",
            "5/5 [==============================] - 67s 13s/step - loss: 10.0598 - mean_squared_error: 10.0598 - val_loss: 329.8135 - val_mean_squared_error: 329.8135\n",
            "Epoch 17/1000\n",
            "5/5 [==============================] - 66s 13s/step - loss: 8.2830 - mean_squared_error: 8.2830 - val_loss: 326.9296 - val_mean_squared_error: 326.9296\n",
            "Epoch 18/1000\n",
            "5/5 [==============================] - 66s 13s/step - loss: 6.8825 - mean_squared_error: 6.8825 - val_loss: 294.4654 - val_mean_squared_error: 294.4654\n",
            "Epoch 19/1000\n",
            "5/5 [==============================] - 66s 13s/step - loss: 3.1935 - mean_squared_error: 3.1935 - val_loss: 296.0778 - val_mean_squared_error: 296.0778\n",
            "Epoch 20/1000\n",
            "5/5 [==============================] - 66s 13s/step - loss: 2.9735 - mean_squared_error: 2.9735 - val_loss: 268.0116 - val_mean_squared_error: 268.0116\n",
            "Epoch 21/1000\n",
            "5/5 [==============================] - 66s 13s/step - loss: 2.2019 - mean_squared_error: 2.2019 - val_loss: 276.5809 - val_mean_squared_error: 276.5809\n",
            "Epoch 22/1000\n",
            "5/5 [==============================] - 66s 13s/step - loss: 2.4367 - mean_squared_error: 2.4367 - val_loss: 252.9631 - val_mean_squared_error: 252.9631\n",
            "Epoch 23/1000\n",
            "5/5 [==============================] - 68s 14s/step - loss: 1.8868 - mean_squared_error: 1.8868 - val_loss: 239.8904 - val_mean_squared_error: 239.8904\n",
            "Epoch 24/1000\n",
            "5/5 [==============================] - 66s 13s/step - loss: 1.7345 - mean_squared_error: 1.7345 - val_loss: 236.2046 - val_mean_squared_error: 236.2046\n",
            "Epoch 25/1000\n",
            "5/5 [==============================] - 66s 13s/step - loss: 1.4516 - mean_squared_error: 1.4516 - val_loss: 242.6353 - val_mean_squared_error: 242.6353\n",
            "Epoch 26/1000\n",
            "5/5 [==============================] - 66s 13s/step - loss: 3.5674 - mean_squared_error: 3.5674 - val_loss: 215.9594 - val_mean_squared_error: 215.9594\n",
            "Epoch 27/1000\n",
            "5/5 [==============================] - 66s 13s/step - loss: 3.9168 - mean_squared_error: 3.9168 - val_loss: 208.7451 - val_mean_squared_error: 208.7451\n",
            "Epoch 28/1000\n",
            "5/5 [==============================] - 66s 13s/step - loss: 4.2016 - mean_squared_error: 4.2016 - val_loss: 227.3315 - val_mean_squared_error: 227.3315\n",
            "Epoch 29/1000\n",
            "5/5 [==============================] - 66s 13s/step - loss: 4.1315 - mean_squared_error: 4.1315 - val_loss: 202.8815 - val_mean_squared_error: 202.8815\n",
            "Epoch 30/1000\n",
            "5/5 [==============================] - 67s 13s/step - loss: 2.0710 - mean_squared_error: 2.0710 - val_loss: 196.4264 - val_mean_squared_error: 196.4264\n",
            "Epoch 31/1000\n",
            "5/5 [==============================] - 66s 13s/step - loss: 1.9630 - mean_squared_error: 1.9630 - val_loss: 205.6960 - val_mean_squared_error: 205.6960\n",
            "Epoch 32/1000\n",
            "5/5 [==============================] - 67s 13s/step - loss: 1.8365 - mean_squared_error: 1.8365 - val_loss: 192.5751 - val_mean_squared_error: 192.5751\n",
            "Epoch 33/1000\n",
            "5/5 [==============================] - 66s 13s/step - loss: 1.0048 - mean_squared_error: 1.0048 - val_loss: 193.0557 - val_mean_squared_error: 193.0557\n",
            "Epoch 34/1000\n",
            "5/5 [==============================] - 66s 13s/step - loss: 0.6661 - mean_squared_error: 0.6661 - val_loss: 195.6659 - val_mean_squared_error: 195.6659\n",
            "Epoch 35/1000\n",
            "5/5 [==============================] - 67s 13s/step - loss: 0.9151 - mean_squared_error: 0.9151 - val_loss: 187.8455 - val_mean_squared_error: 187.8455\n",
            "Epoch 36/1000\n",
            "5/5 [==============================] - 67s 13s/step - loss: 0.7946 - mean_squared_error: 0.7946 - val_loss: 191.6355 - val_mean_squared_error: 191.6355\n",
            "Epoch 37/1000\n",
            "5/5 [==============================] - 67s 13s/step - loss: 0.5973 - mean_squared_error: 0.5973 - val_loss: 188.1569 - val_mean_squared_error: 188.1569\n",
            "Epoch 38/1000\n",
            "5/5 [==============================] - 67s 13s/step - loss: 0.7522 - mean_squared_error: 0.7522 - val_loss: 186.9468 - val_mean_squared_error: 186.9468\n",
            "Epoch 39/1000\n",
            "5/5 [==============================] - 69s 14s/step - loss: 0.5049 - mean_squared_error: 0.5049 - val_loss: 187.7048 - val_mean_squared_error: 187.7048\n",
            "Epoch 40/1000\n",
            "5/5 [==============================] - 67s 13s/step - loss: 0.8990 - mean_squared_error: 0.8990 - val_loss: 186.8098 - val_mean_squared_error: 186.8098\n",
            "Epoch 41/1000\n",
            "5/5 [==============================] - 66s 13s/step - loss: 0.7431 - mean_squared_error: 0.7431 - val_loss: 186.6851 - val_mean_squared_error: 186.6851\n",
            "Epoch 42/1000\n",
            "5/5 [==============================] - 67s 13s/step - loss: 1.1465 - mean_squared_error: 1.1465 - val_loss: 186.6210 - val_mean_squared_error: 186.6210\n",
            "Epoch 43/1000\n",
            "5/5 [==============================] - 66s 13s/step - loss: 1.4922 - mean_squared_error: 1.4922 - val_loss: 186.7421 - val_mean_squared_error: 186.7421\n",
            "Epoch 44/1000\n",
            "5/5 [==============================] - 66s 13s/step - loss: 1.3429 - mean_squared_error: 1.3429 - val_loss: 187.2802 - val_mean_squared_error: 187.2802\n",
            "Epoch 45/1000\n",
            "5/5 [==============================] - 66s 13s/step - loss: 2.6561 - mean_squared_error: 2.6561 - val_loss: 187.7404 - val_mean_squared_error: 187.7404\n",
            "Epoch 46/1000\n",
            "5/5 [==============================] - 66s 13s/step - loss: 1.4418 - mean_squared_error: 1.4418 - val_loss: 186.9179 - val_mean_squared_error: 186.9179\n",
            "Epoch 47/1000\n",
            "5/5 [==============================] - 66s 13s/step - loss: 2.8628 - mean_squared_error: 2.8628 - val_loss: 188.6386 - val_mean_squared_error: 188.6386\n",
            "Epoch 48/1000\n",
            "5/5 [==============================] - 67s 13s/step - loss: 2.1684 - mean_squared_error: 2.1684 - val_loss: 192.0162 - val_mean_squared_error: 192.0162\n",
            "Epoch 49/1000\n",
            "5/5 [==============================] - 67s 13s/step - loss: 1.7957 - mean_squared_error: 1.7957 - val_loss: 189.7532 - val_mean_squared_error: 189.7532\n",
            "Epoch 50/1000\n",
            "5/5 [==============================] - 67s 13s/step - loss: 2.0506 - mean_squared_error: 2.0506 - val_loss: 189.4165 - val_mean_squared_error: 189.4165\n",
            "Epoch 51/1000\n",
            "5/5 [==============================] - 67s 13s/step - loss: 1.2093 - mean_squared_error: 1.2093 - val_loss: 195.6924 - val_mean_squared_error: 195.6924\n",
            "Epoch 52/1000\n",
            "5/5 [==============================] - 66s 13s/step - loss: 1.1430 - mean_squared_error: 1.1430 - val_loss: 195.6439 - val_mean_squared_error: 195.6439\n"
          ],
          "name": "stdout"
        },
        {
          "output_type": "display_data",
          "data": {
            "text/html": [
              "<span style=\"color:#4527A0\"><h1 style=\"font-size:18px\">Trial complete</h1></span>"
            ],
            "text/plain": [
              "<IPython.core.display.HTML object>"
            ]
          },
          "metadata": {
            "tags": []
          }
        },
        {
          "output_type": "display_data",
          "data": {
            "text/html": [
              "<span style=\"color:#4527A0\"><h1 style=\"font-size:18px\">Trial summary</h1></span>"
            ],
            "text/plain": [
              "<IPython.core.display.HTML object>"
            ]
          },
          "metadata": {
            "tags": []
          }
        },
        {
          "output_type": "display_data",
          "data": {
            "text/html": [
              "<span style=\"color:cyan\"> |-Trial ID: 09cbbe89c748e9fbdd6bfbe0031bc8bb</span>"
            ],
            "text/plain": [
              "<IPython.core.display.HTML object>"
            ]
          },
          "metadata": {
            "tags": []
          }
        },
        {
          "output_type": "display_data",
          "data": {
            "text/html": [
              "<span style=\"color:cyan\"> |-Score: 186.6210174560547</span>"
            ],
            "text/plain": [
              "<IPython.core.display.HTML object>"
            ]
          },
          "metadata": {
            "tags": []
          }
        },
        {
          "output_type": "display_data",
          "data": {
            "text/html": [
              "<span style=\"color:cyan\"> |-Best step: 41</span>"
            ],
            "text/plain": [
              "<IPython.core.display.HTML object>"
            ]
          },
          "metadata": {
            "tags": []
          }
        },
        {
          "output_type": "display_data",
          "data": {
            "text/html": [
              "<span style=\"color:#7E57C2\"><h2 style=\"font-size:16px\">Hyperparameters:</h2></span>"
            ],
            "text/plain": [
              "<IPython.core.display.HTML object>"
            ]
          },
          "metadata": {
            "tags": []
          }
        },
        {
          "output_type": "display_data",
          "data": {
            "text/html": [
              "<span style=\"color:cyan\"> |-image_block_1/augment: False</span>"
            ],
            "text/plain": [
              "<IPython.core.display.HTML object>"
            ]
          },
          "metadata": {
            "tags": []
          }
        },
        {
          "output_type": "display_data",
          "data": {
            "text/html": [
              "<span style=\"color:blue\"> |-image_block_1/block_type: resnet</span>"
            ],
            "text/plain": [
              "<IPython.core.display.HTML object>"
            ]
          },
          "metadata": {
            "tags": []
          }
        },
        {
          "output_type": "display_data",
          "data": {
            "text/html": [
              "<span style=\"color:cyan\"> |-image_block_1/conv_block_1/dropout_rate: 0.5</span>"
            ],
            "text/plain": [
              "<IPython.core.display.HTML object>"
            ]
          },
          "metadata": {
            "tags": []
          }
        },
        {
          "output_type": "display_data",
          "data": {
            "text/html": [
              "<span style=\"color:blue\"> |-image_block_1/conv_block_1/filters_0_0: 512</span>"
            ],
            "text/plain": [
              "<IPython.core.display.HTML object>"
            ]
          },
          "metadata": {
            "tags": []
          }
        },
        {
          "output_type": "display_data",
          "data": {
            "text/html": [
              "<span style=\"color:cyan\"> |-image_block_1/conv_block_1/filters_0_1: 32</span>"
            ],
            "text/plain": [
              "<IPython.core.display.HTML object>"
            ]
          },
          "metadata": {
            "tags": []
          }
        },
        {
          "output_type": "display_data",
          "data": {
            "text/html": [
              "<span style=\"color:blue\"> |-image_block_1/conv_block_1/filters_1_0: 128</span>"
            ],
            "text/plain": [
              "<IPython.core.display.HTML object>"
            ]
          },
          "metadata": {
            "tags": []
          }
        },
        {
          "output_type": "display_data",
          "data": {
            "text/html": [
              "<span style=\"color:cyan\"> |-image_block_1/conv_block_1/filters_1_1: 128</span>"
            ],
            "text/plain": [
              "<IPython.core.display.HTML object>"
            ]
          },
          "metadata": {
            "tags": []
          }
        },
        {
          "output_type": "display_data",
          "data": {
            "text/html": [
              "<span style=\"color:blue\"> |-image_block_1/conv_block_1/kernel_size: 3</span>"
            ],
            "text/plain": [
              "<IPython.core.display.HTML object>"
            ]
          },
          "metadata": {
            "tags": []
          }
        },
        {
          "output_type": "display_data",
          "data": {
            "text/html": [
              "<span style=\"color:cyan\"> |-image_block_1/conv_block_1/max_pooling: True</span>"
            ],
            "text/plain": [
              "<IPython.core.display.HTML object>"
            ]
          },
          "metadata": {
            "tags": []
          }
        },
        {
          "output_type": "display_data",
          "data": {
            "text/html": [
              "<span style=\"color:blue\"> |-image_block_1/conv_block_1/num_blocks: 2</span>"
            ],
            "text/plain": [
              "<IPython.core.display.HTML object>"
            ]
          },
          "metadata": {
            "tags": []
          }
        },
        {
          "output_type": "display_data",
          "data": {
            "text/html": [
              "<span style=\"color:cyan\"> |-image_block_1/conv_block_1/num_layers: 2</span>"
            ],
            "text/plain": [
              "<IPython.core.display.HTML object>"
            ]
          },
          "metadata": {
            "tags": []
          }
        },
        {
          "output_type": "display_data",
          "data": {
            "text/html": [
              "<span style=\"color:blue\"> |-image_block_1/conv_block_1/separable: False</span>"
            ],
            "text/plain": [
              "<IPython.core.display.HTML object>"
            ]
          },
          "metadata": {
            "tags": []
          }
        },
        {
          "output_type": "display_data",
          "data": {
            "text/html": [
              "<span style=\"color:cyan\"> |-image_block_1/image_augmentation_1/horizontal_flip: True</span>"
            ],
            "text/plain": [
              "<IPython.core.display.HTML object>"
            ]
          },
          "metadata": {
            "tags": []
          }
        },
        {
          "output_type": "display_data",
          "data": {
            "text/html": [
              "<span style=\"color:blue\"> |-image_block_1/image_augmentation_1/vertical_flip: False</span>"
            ],
            "text/plain": [
              "<IPython.core.display.HTML object>"
            ]
          },
          "metadata": {
            "tags": []
          }
        },
        {
          "output_type": "display_data",
          "data": {
            "text/html": [
              "<span style=\"color:cyan\"> |-image_block_1/normalize: False</span>"
            ],
            "text/plain": [
              "<IPython.core.display.HTML object>"
            ]
          },
          "metadata": {
            "tags": []
          }
        },
        {
          "output_type": "display_data",
          "data": {
            "text/html": [
              "<span style=\"color:blue\"> |-image_block_1/res_net_block_1/conv3_depth: 8</span>"
            ],
            "text/plain": [
              "<IPython.core.display.HTML object>"
            ]
          },
          "metadata": {
            "tags": []
          }
        },
        {
          "output_type": "display_data",
          "data": {
            "text/html": [
              "<span style=\"color:cyan\"> |-image_block_1/res_net_block_1/conv4_depth: 23</span>"
            ],
            "text/plain": [
              "<IPython.core.display.HTML object>"
            ]
          },
          "metadata": {
            "tags": []
          }
        },
        {
          "output_type": "display_data",
          "data": {
            "text/html": [
              "<span style=\"color:blue\"> |-image_block_1/res_net_block_1/pooling: max</span>"
            ],
            "text/plain": [
              "<IPython.core.display.HTML object>"
            ]
          },
          "metadata": {
            "tags": []
          }
        },
        {
          "output_type": "display_data",
          "data": {
            "text/html": [
              "<span style=\"color:cyan\"> |-image_block_1/res_net_block_1/version: v1</span>"
            ],
            "text/plain": [
              "<IPython.core.display.HTML object>"
            ]
          },
          "metadata": {
            "tags": []
          }
        },
        {
          "output_type": "display_data",
          "data": {
            "text/html": [
              "<span style=\"color:blue\"> |-optimizer: adam</span>"
            ],
            "text/plain": [
              "<IPython.core.display.HTML object>"
            ]
          },
          "metadata": {
            "tags": []
          }
        },
        {
          "output_type": "display_data",
          "data": {
            "text/html": [
              "<span style=\"color:cyan\"> |-regression_head_1/dropout_rate: 0</span>"
            ],
            "text/plain": [
              "<IPython.core.display.HTML object>"
            ]
          },
          "metadata": {
            "tags": []
          }
        },
        {
          "output_type": "stream",
          "text": [
            "Epoch 1/1000\n",
            "5/5 [==============================] - 41s 8s/step - loss: 955.8907 - mean_squared_error: 955.8907 - val_loss: 1591.5411 - val_mean_squared_error: 1591.5411\n",
            "Epoch 2/1000\n",
            "5/5 [==============================] - 40s 8s/step - loss: 214.0238 - mean_squared_error: 214.0238 - val_loss: 1533.5183 - val_mean_squared_error: 1533.5183\n",
            "Epoch 3/1000\n",
            "5/5 [==============================] - 39s 8s/step - loss: 204.9635 - mean_squared_error: 204.9635 - val_loss: 1857.1244 - val_mean_squared_error: 1857.1244\n",
            "Epoch 4/1000\n",
            "5/5 [==============================] - 39s 8s/step - loss: 165.8028 - mean_squared_error: 165.8028 - val_loss: 2200.2646 - val_mean_squared_error: 2200.2646\n",
            "Epoch 5/1000\n",
            "5/5 [==============================] - 39s 8s/step - loss: 132.7279 - mean_squared_error: 132.7279 - val_loss: 2124.1521 - val_mean_squared_error: 2124.1521\n",
            "Epoch 6/1000\n",
            "5/5 [==============================] - 39s 8s/step - loss: 100.9928 - mean_squared_error: 100.9928 - val_loss: 2024.9672 - val_mean_squared_error: 2024.9672\n",
            "Epoch 7/1000\n",
            "5/5 [==============================] - 40s 8s/step - loss: 86.3084 - mean_squared_error: 86.3084 - val_loss: 1654.0950 - val_mean_squared_error: 1654.0950\n",
            "Epoch 8/1000\n",
            "5/5 [==============================] - 40s 8s/step - loss: 91.7285 - mean_squared_error: 91.7285 - val_loss: 1330.5570 - val_mean_squared_error: 1330.5570\n",
            "Epoch 9/1000\n",
            "5/5 [==============================] - 39s 8s/step - loss: 91.5690 - mean_squared_error: 91.5690 - val_loss: 915.8636 - val_mean_squared_error: 915.8636\n",
            "Epoch 10/1000\n",
            "5/5 [==============================] - 39s 8s/step - loss: 46.0282 - mean_squared_error: 46.0282 - val_loss: 695.3690 - val_mean_squared_error: 695.3690\n",
            "Epoch 11/1000\n",
            "5/5 [==============================] - 39s 8s/step - loss: 42.5237 - mean_squared_error: 42.5237 - val_loss: 523.8214 - val_mean_squared_error: 523.8214\n",
            "Epoch 12/1000\n",
            "5/5 [==============================] - 39s 8s/step - loss: 44.5454 - mean_squared_error: 44.5454 - val_loss: 510.5171 - val_mean_squared_error: 510.5171\n",
            "Epoch 13/1000\n",
            "5/5 [==============================] - 40s 8s/step - loss: 27.9056 - mean_squared_error: 27.9056 - val_loss: 428.6410 - val_mean_squared_error: 428.6410\n",
            "Epoch 14/1000\n",
            "5/5 [==============================] - 39s 8s/step - loss: 22.9476 - mean_squared_error: 22.9476 - val_loss: 491.5197 - val_mean_squared_error: 491.5197\n",
            "Epoch 15/1000\n",
            "5/5 [==============================] - 39s 8s/step - loss: 21.2309 - mean_squared_error: 21.2309 - val_loss: 501.9272 - val_mean_squared_error: 501.9272\n",
            "Epoch 16/1000\n",
            "5/5 [==============================] - 39s 8s/step - loss: 17.9789 - mean_squared_error: 17.9789 - val_loss: 582.8209 - val_mean_squared_error: 582.8209\n",
            "Epoch 17/1000\n",
            "5/5 [==============================] - 39s 8s/step - loss: 17.2077 - mean_squared_error: 17.2077 - val_loss: 499.4458 - val_mean_squared_error: 499.4458\n",
            "Epoch 18/1000\n",
            "5/5 [==============================] - 39s 8s/step - loss: 11.7128 - mean_squared_error: 11.7128 - val_loss: 541.2425 - val_mean_squared_error: 541.2425\n",
            "Epoch 19/1000\n",
            "5/5 [==============================] - 39s 8s/step - loss: 7.5052 - mean_squared_error: 7.5052 - val_loss: 463.2292 - val_mean_squared_error: 463.2292\n",
            "Epoch 20/1000\n",
            "5/5 [==============================] - 39s 8s/step - loss: 4.3435 - mean_squared_error: 4.3435 - val_loss: 517.0216 - val_mean_squared_error: 517.0216\n",
            "Epoch 21/1000\n",
            "5/5 [==============================] - 40s 8s/step - loss: 2.5515 - mean_squared_error: 2.5515 - val_loss: 467.8429 - val_mean_squared_error: 467.8429\n",
            "Epoch 22/1000\n",
            "5/5 [==============================] - 39s 8s/step - loss: 1.2888 - mean_squared_error: 1.2888 - val_loss: 459.5975 - val_mean_squared_error: 459.5975\n",
            "Epoch 23/1000\n",
            "5/5 [==============================] - 39s 8s/step - loss: 1.1280 - mean_squared_error: 1.1280 - val_loss: 434.6995 - val_mean_squared_error: 434.6995\n"
          ],
          "name": "stdout"
        },
        {
          "output_type": "display_data",
          "data": {
            "text/html": [
              "<span style=\"color:#4527A0\"><h1 style=\"font-size:18px\">Trial complete</h1></span>"
            ],
            "text/plain": [
              "<IPython.core.display.HTML object>"
            ]
          },
          "metadata": {
            "tags": []
          }
        },
        {
          "output_type": "display_data",
          "data": {
            "text/html": [
              "<span style=\"color:#4527A0\"><h1 style=\"font-size:18px\">Trial summary</h1></span>"
            ],
            "text/plain": [
              "<IPython.core.display.HTML object>"
            ]
          },
          "metadata": {
            "tags": []
          }
        },
        {
          "output_type": "display_data",
          "data": {
            "text/html": [
              "<span style=\"color:cyan\"> |-Trial ID: 8b5048680f163ae57cc1b734b790a6b1</span>"
            ],
            "text/plain": [
              "<IPython.core.display.HTML object>"
            ]
          },
          "metadata": {
            "tags": []
          }
        },
        {
          "output_type": "display_data",
          "data": {
            "text/html": [
              "<span style=\"color:cyan\"> |-Score: 428.6410217285156</span>"
            ],
            "text/plain": [
              "<IPython.core.display.HTML object>"
            ]
          },
          "metadata": {
            "tags": []
          }
        },
        {
          "output_type": "display_data",
          "data": {
            "text/html": [
              "<span style=\"color:cyan\"> |-Best step: 12</span>"
            ],
            "text/plain": [
              "<IPython.core.display.HTML object>"
            ]
          },
          "metadata": {
            "tags": []
          }
        },
        {
          "output_type": "display_data",
          "data": {
            "text/html": [
              "<span style=\"color:#7E57C2\"><h2 style=\"font-size:16px\">Hyperparameters:</h2></span>"
            ],
            "text/plain": [
              "<IPython.core.display.HTML object>"
            ]
          },
          "metadata": {
            "tags": []
          }
        },
        {
          "output_type": "display_data",
          "data": {
            "text/html": [
              "<span style=\"color:cyan\"> |-image_block_1/augment: False</span>"
            ],
            "text/plain": [
              "<IPython.core.display.HTML object>"
            ]
          },
          "metadata": {
            "tags": []
          }
        },
        {
          "output_type": "display_data",
          "data": {
            "text/html": [
              "<span style=\"color:blue\"> |-image_block_1/block_type: resnet</span>"
            ],
            "text/plain": [
              "<IPython.core.display.HTML object>"
            ]
          },
          "metadata": {
            "tags": []
          }
        },
        {
          "output_type": "display_data",
          "data": {
            "text/html": [
              "<span style=\"color:cyan\"> |-image_block_1/conv_block_1/dropout_rate: 0.0</span>"
            ],
            "text/plain": [
              "<IPython.core.display.HTML object>"
            ]
          },
          "metadata": {
            "tags": []
          }
        },
        {
          "output_type": "display_data",
          "data": {
            "text/html": [
              "<span style=\"color:blue\"> |-image_block_1/conv_block_1/filters_0_0: 64</span>"
            ],
            "text/plain": [
              "<IPython.core.display.HTML object>"
            ]
          },
          "metadata": {
            "tags": []
          }
        },
        {
          "output_type": "display_data",
          "data": {
            "text/html": [
              "<span style=\"color:cyan\"> |-image_block_1/conv_block_1/filters_0_1: 32</span>"
            ],
            "text/plain": [
              "<IPython.core.display.HTML object>"
            ]
          },
          "metadata": {
            "tags": []
          }
        },
        {
          "output_type": "display_data",
          "data": {
            "text/html": [
              "<span style=\"color:blue\"> |-image_block_1/conv_block_1/filters_1_0: 32</span>"
            ],
            "text/plain": [
              "<IPython.core.display.HTML object>"
            ]
          },
          "metadata": {
            "tags": []
          }
        },
        {
          "output_type": "display_data",
          "data": {
            "text/html": [
              "<span style=\"color:cyan\"> |-image_block_1/conv_block_1/filters_1_1: 512</span>"
            ],
            "text/plain": [
              "<IPython.core.display.HTML object>"
            ]
          },
          "metadata": {
            "tags": []
          }
        },
        {
          "output_type": "display_data",
          "data": {
            "text/html": [
              "<span style=\"color:blue\"> |-image_block_1/conv_block_1/kernel_size: 3</span>"
            ],
            "text/plain": [
              "<IPython.core.display.HTML object>"
            ]
          },
          "metadata": {
            "tags": []
          }
        },
        {
          "output_type": "display_data",
          "data": {
            "text/html": [
              "<span style=\"color:cyan\"> |-image_block_1/conv_block_1/max_pooling: True</span>"
            ],
            "text/plain": [
              "<IPython.core.display.HTML object>"
            ]
          },
          "metadata": {
            "tags": []
          }
        },
        {
          "output_type": "display_data",
          "data": {
            "text/html": [
              "<span style=\"color:blue\"> |-image_block_1/conv_block_1/num_blocks: 1</span>"
            ],
            "text/plain": [
              "<IPython.core.display.HTML object>"
            ]
          },
          "metadata": {
            "tags": []
          }
        },
        {
          "output_type": "display_data",
          "data": {
            "text/html": [
              "<span style=\"color:cyan\"> |-image_block_1/conv_block_1/num_layers: 2</span>"
            ],
            "text/plain": [
              "<IPython.core.display.HTML object>"
            ]
          },
          "metadata": {
            "tags": []
          }
        },
        {
          "output_type": "display_data",
          "data": {
            "text/html": [
              "<span style=\"color:blue\"> |-image_block_1/conv_block_1/separable: True</span>"
            ],
            "text/plain": [
              "<IPython.core.display.HTML object>"
            ]
          },
          "metadata": {
            "tags": []
          }
        },
        {
          "output_type": "display_data",
          "data": {
            "text/html": [
              "<span style=\"color:cyan\"> |-image_block_1/image_augmentation_1/horizontal_flip: False</span>"
            ],
            "text/plain": [
              "<IPython.core.display.HTML object>"
            ]
          },
          "metadata": {
            "tags": []
          }
        },
        {
          "output_type": "display_data",
          "data": {
            "text/html": [
              "<span style=\"color:blue\"> |-image_block_1/image_augmentation_1/vertical_flip: True</span>"
            ],
            "text/plain": [
              "<IPython.core.display.HTML object>"
            ]
          },
          "metadata": {
            "tags": []
          }
        },
        {
          "output_type": "display_data",
          "data": {
            "text/html": [
              "<span style=\"color:cyan\"> |-image_block_1/normalize: True</span>"
            ],
            "text/plain": [
              "<IPython.core.display.HTML object>"
            ]
          },
          "metadata": {
            "tags": []
          }
        },
        {
          "output_type": "display_data",
          "data": {
            "text/html": [
              "<span style=\"color:blue\"> |-image_block_1/res_net_block_1/conv3_depth: 8</span>"
            ],
            "text/plain": [
              "<IPython.core.display.HTML object>"
            ]
          },
          "metadata": {
            "tags": []
          }
        },
        {
          "output_type": "display_data",
          "data": {
            "text/html": [
              "<span style=\"color:cyan\"> |-image_block_1/res_net_block_1/conv4_depth: 6</span>"
            ],
            "text/plain": [
              "<IPython.core.display.HTML object>"
            ]
          },
          "metadata": {
            "tags": []
          }
        },
        {
          "output_type": "display_data",
          "data": {
            "text/html": [
              "<span style=\"color:blue\"> |-image_block_1/res_net_block_1/pooling: avg</span>"
            ],
            "text/plain": [
              "<IPython.core.display.HTML object>"
            ]
          },
          "metadata": {
            "tags": []
          }
        },
        {
          "output_type": "display_data",
          "data": {
            "text/html": [
              "<span style=\"color:cyan\"> |-image_block_1/res_net_block_1/version: v1</span>"
            ],
            "text/plain": [
              "<IPython.core.display.HTML object>"
            ]
          },
          "metadata": {
            "tags": []
          }
        },
        {
          "output_type": "display_data",
          "data": {
            "text/html": [
              "<span style=\"color:blue\"> |-optimizer: adam</span>"
            ],
            "text/plain": [
              "<IPython.core.display.HTML object>"
            ]
          },
          "metadata": {
            "tags": []
          }
        },
        {
          "output_type": "display_data",
          "data": {
            "text/html": [
              "<span style=\"color:cyan\"> |-regression_head_1/dropout_rate: 0</span>"
            ],
            "text/plain": [
              "<IPython.core.display.HTML object>"
            ]
          },
          "metadata": {
            "tags": []
          }
        },
        {
          "output_type": "stream",
          "text": [
            "Epoch 1/1000\n",
            "5/5 [==============================] - 357s 71s/step - loss: 163181280.0000 - mean_squared_error: 163181280.0000 - val_loss: 1750.1895 - val_mean_squared_error: 1750.1895\n",
            "Epoch 2/1000\n",
            "5/5 [==============================] - 354s 71s/step - loss: 4143.6211 - mean_squared_error: 4143.6211 - val_loss: 1675.0808 - val_mean_squared_error: 1675.0808\n",
            "Epoch 3/1000\n",
            "5/5 [==============================] - 354s 71s/step - loss: 1567.4185 - mean_squared_error: 1567.4185 - val_loss: 1673.3757 - val_mean_squared_error: 1673.3757\n",
            "Epoch 4/1000\n",
            "5/5 [==============================] - 355s 71s/step - loss: 1191.8217 - mean_squared_error: 1191.8217 - val_loss: 1650.2356 - val_mean_squared_error: 1650.2356\n",
            "Epoch 5/1000\n",
            "5/5 [==============================] - 358s 72s/step - loss: 1469.3870 - mean_squared_error: 1469.3870 - val_loss: 1674.3871 - val_mean_squared_error: 1674.3871\n",
            "Epoch 6/1000\n",
            "5/5 [==============================] - 357s 71s/step - loss: 3389.9019 - mean_squared_error: 3389.9019 - val_loss: 1674.8762 - val_mean_squared_error: 1674.8762\n",
            "Epoch 7/1000\n",
            "5/5 [==============================] - 356s 71s/step - loss: 1548.0242 - mean_squared_error: 1548.0242 - val_loss: 1674.8414 - val_mean_squared_error: 1674.8414\n",
            "Epoch 8/1000\n",
            "5/5 [==============================] - 354s 71s/step - loss: 1564.9097 - mean_squared_error: 1564.9097 - val_loss: 1674.4700 - val_mean_squared_error: 1674.4700\n",
            "Epoch 9/1000\n",
            "5/5 [==============================] - 355s 71s/step - loss: 1563.4053 - mean_squared_error: 1563.4053 - val_loss: 1673.5453 - val_mean_squared_error: 1673.5453\n",
            "Epoch 10/1000\n",
            "5/5 [==============================] - 357s 71s/step - loss: 1562.1230 - mean_squared_error: 1562.1230 - val_loss: 1671.4817 - val_mean_squared_error: 1671.4817\n",
            "Epoch 11/1000\n",
            "5/5 [==============================] - 355s 71s/step - loss: 1555.8015 - mean_squared_error: 1555.8015 - val_loss: 1666.4326 - val_mean_squared_error: 1666.4326\n",
            "Epoch 12/1000\n",
            "5/5 [==============================] - 356s 71s/step - loss: 1541.0309 - mean_squared_error: 1541.0309 - val_loss: 1650.9934 - val_mean_squared_error: 1650.9934\n",
            "Epoch 13/1000\n",
            "3/5 [=================>............] - ETA: 1:48 - loss: 1564.8658 - mean_squared_error: 1564.8658"
          ],
          "name": "stdout"
        }
      ]
    },
    {
      "cell_type": "code",
      "metadata": {
        "id": "edA37Skyo5yo",
        "colab_type": "code",
        "colab": {}
      },
      "source": [
        "# Evaluate the chosen model with testing data\n",
        "print(reg.evaluate(test_images, test_ages))"
      ],
      "execution_count": 0,
      "outputs": []
    },
    {
      "cell_type": "markdown",
      "metadata": {
        "id": "CiaqfDFKuV-9",
        "colab_type": "text"
      },
      "source": [
        "### **Validation Data**\n",
        "\n",
        "By default, AutoKeras use the last 20% of training data as validation data. As shown in the example below, you can use validation_split to specify the percentage."
      ]
    },
    {
      "cell_type": "code",
      "metadata": {
        "id": "A4hQcKpcufh3",
        "colab_type": "code",
        "colab": {}
      },
      "source": [
        "reg.fit(train_imgs,\n",
        "        train_ages,\n",
        "        # Split the training data and use the last 15% as validation data.\n",
        "        validation_split=0.15,epochs=3)"
      ],
      "execution_count": 0,
      "outputs": []
    },
    {
      "cell_type": "markdown",
      "metadata": {
        "id": "afv1fgM5usXw",
        "colab_type": "text"
      },
      "source": [
        "You can also use your own validation set instead of splitting it from the training data with validation_data."
      ]
    },
    {
      "cell_type": "code",
      "metadata": {
        "id": "qy6gPP89uye5",
        "colab_type": "code",
        "colab": {}
      },
      "source": [
        "split = 460000\n",
        "x_val = train_imgs[split:]\n",
        "y_val = train_ages[split:]\n",
        "x_train = train_imgs[:split]\n",
        "y_train = train_ages[:split]\n",
        "reg.fit(x_train,\n",
        "        y_train,\n",
        "        # Use your own validation set.\n",
        "        validation_data=(x_val, y_val),epochs=3)"
      ],
      "execution_count": 0,
      "outputs": []
    },
    {
      "cell_type": "markdown",
      "metadata": {
        "id": "OtavtzDf7BoX",
        "colab_type": "text"
      },
      "source": [
        "### **Customized Search Space**\n",
        "\n",
        "For advanced users, you may customize your search space by using AutoModel instead of ImageRegressor. You can configure the ImageBlock for some high-level configurations, e.g., block_type for the type of neural network to search, normalize for whether to do data normalization, augment for whether to do data augmentation. You can also choose not to specify these arguments, which would leave the different choices to be tuned automatically. See the following example for detail."
      ]
    },
    {
      "cell_type": "code",
      "metadata": {
        "id": "ARM5xEN8chE6",
        "colab_type": "code",
        "colab": {}
      },
      "source": [
        "import autokeras as ak\n",
        "\n",
        "input_node = ak.ImageInput()\n",
        "output_node = ak.ImageBlock(\n",
        "    # Only search ResNet architectures.\n",
        "    block_type='resnet',\n",
        "    # Normalize the dataset.\n",
        "    normalize=True,\n",
        "    # Do not do data augmentation.\n",
        "    augment=False)(input_node)\n",
        "output_node = ak.RegressionHead()(output_node)\n",
        "reg = ak.AutoModel(inputs=input_node, outputs=output_node, max_trials=10)\n",
        "reg.fit(x_train, y_train,epochs=3)"
      ],
      "execution_count": 0,
      "outputs": []
    },
    {
      "cell_type": "markdown",
      "metadata": {
        "id": "H9Iudfrmc3iG",
        "colab_type": "text"
      },
      "source": [
        "The usage of AutoModel is similar to the functional API of Keras. Basically, you are building a graph, whose edges are blocks and the nodes are intermediate outputs of blocks. To add an edge from input_node to output_node with output_node = ak.some_block(input_node).\n",
        "You can even also use more fine grained blocks to customize the search space even further. See the following example."
      ]
    },
    {
      "cell_type": "code",
      "metadata": {
        "id": "ikZ141m0dEay",
        "colab_type": "code",
        "colab": {}
      },
      "source": [
        "import autokeras as ak\n",
        "\n",
        "input_node = ak.ImageInput()\n",
        "output_node = ak.Normalization()(input_node)\n",
        "output_node = ak.ImageAugmentation(translation_factor=0.3)(output_node)\n",
        "output_node = ak.ResNetBlock(version='v2')(output_node)\n",
        "output_node = ak.RegressionHead()(output_node)\n",
        "clf = ak.AutoModel(inputs=input_node, outputs=output_node, max_trials=10)\n",
        "clf.fit(x_train, y_train,epochs=3)"
      ],
      "execution_count": 0,
      "outputs": []
    },
    {
      "cell_type": "markdown",
      "metadata": {
        "id": "Rva-JBkFeLPB",
        "colab_type": "text"
      },
      "source": [
        "### **Data Format**"
      ]
    },
    {
      "cell_type": "markdown",
      "metadata": {
        "id": "UvI05jdTeUhW",
        "colab_type": "text"
      },
      "source": [
        "# The AutoKeras ImageClassifier is quite flexible for the data format.\n",
        "\n",
        "For the image, it accepts data formats both with and without the channel dimension. The images in the IMDB-Wiki dataset do not have a channel dimension. Each image is a matrix with shape (128, 128). AutoKeras also accepts images with a channel dimension at last, e.g., (32, 32, 3), (28, 28, 1).\n",
        "\n",
        "For the classification labels, AutoKeras accepts both plain labels, i.e. strings or integers, and one-hot encoded labels, i.e. vectors of 0s and 1s.\n",
        "\n",
        "So if you prepare your data in the following way, the ImageClassifier should still work."
      ]
    },
    {
      "cell_type": "code",
      "metadata": {
        "id": "pSfnTj0wDSfx",
        "colab_type": "code",
        "colab": {
          "base_uri": "https://localhost:8080/",
          "height": 68
        },
        "outputId": "3b3d2c2d-8bf0-47fc-9351-e8e8416c87bb"
      },
      "source": [
        "# Reshape the images to have the channel dimension.\n",
        "train_imgs = train_imgs.reshape(train_imgs.shape + (1,))\n",
        "test_imgs = test_imgs.reshape(test_imgs.shape + (1,))\n",
        "\n",
        "print(train_imgs.shape) # (200, 128, 128, 1)\n",
        "print(test_imgs.shape) # (100, 128, 128, 1)\n",
        "print(train_ages[:3])"
      ],
      "execution_count": 31,
      "outputs": [
        {
          "output_type": "stream",
          "text": [
            "(200, 128, 128, 1)\n",
            "(100, 128, 128, 1)\n",
            "[52 14 49]\n"
          ],
          "name": "stdout"
        }
      ]
    },
    {
      "cell_type": "markdown",
      "metadata": {
        "id": "GO8ENOt7TLZv",
        "colab_type": "text"
      },
      "source": [
        "We also support using tf.data.Dataset format for the training data. In this case, the images would have to be 3-dimentional. The labels have to be one-hot encoded for multi-class classification to be wrapped into tensorflow Dataset."
      ]
    },
    {
      "cell_type": "code",
      "metadata": {
        "id": "AWFMRDfOGjd5",
        "colab_type": "code",
        "colab": {}
      },
      "source": [
        "import autokeras as ak\n",
        "import tensorflow as tf\n",
        "from tensorflow.python.keras.utils.data_utils import Sequence\n",
        "train_set = tf.data.Dataset.from_tensor_slices(((train_imgs, ), (train_ages, )))\n",
        "test_set = tf.data.Dataset.from_tensor_slices(((test_imgs, ), (test_ages, )))\n",
        "\n",
        "reg = ak.ImageRegressor(max_trials=15)\n",
        "# Feed the tensorflow Dataset to the classifier.\n",
        "reg.fit(train_set)\n",
        "# Predict with the best model.\n",
        "predicted_y = clf.predict(test_set)\n",
        "# Evaluate the best model with testing data.\n",
        "print(clf.evaluate(test_set))"
      ],
      "execution_count": 0,
      "outputs": []
    },
    {
      "cell_type": "markdown",
      "metadata": {
        "id": "sMoaycA7zI28",
        "colab_type": "text"
      },
      "source": [
        "## References\n",
        "\n",
        "[Main Reference Notebook](https://gist.github.com/mapmeld/98d1e9839f2d1f9c4ee197953661ed07),\n",
        "[Dataset](https://data.vision.ee.ethz.ch/cvl/rrothe/imdb-wiki/),\n",
        "[ImageRegressor](/image_regressor),\n",
        "[ResNetBlock](/block/#resnetblock-class),\n",
        "[ImageInput](/node/#imageinput-class),\n",
        "[AutoModel](/auto_model/#automodel-class),\n",
        "[ImageBlock](/block/#imageblock-class),\n",
        "[Normalization](/preprocessor/#normalization-class),\n",
        "[ImageAugmentation](/preprocessor/#image-augmentation-class),\n",
        "[RegressionHead](/head/#regressionhead-class).\n"
      ]
    }
  ]
}