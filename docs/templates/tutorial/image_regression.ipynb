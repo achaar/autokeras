{
  "nbformat": 4,
  "nbformat_minor": 0,
  "metadata": {
    "colab": {
      "name": "ImageRegression.ipynb",
      "provenance": [],
      "collapsed_sections": [],
      "toc_visible": true
    },
    "kernelspec": {
      "name": "python3",
      "display_name": "Python 3"
    }
  },
  "cells": [
    {
      "cell_type": "markdown",
      "metadata": {
        "id": "Jq-X6opit9JD",
        "colab_type": "text"
      },
      "source": [
        "[![Open In Colab](https://colab.research.google.com/assets/colab-badge.svg)](https://colab.research.google.com/github/keras-team/autokeras/blob/master/docs/templates/tutorial/image_regression.ipynb)"
      ]
    },
    {
      "cell_type": "markdown",
      "metadata": {
        "id": "s44VJKpwxviZ",
        "colab_type": "text"
      },
      "source": [
        "### Connect your Google Drive for Data"
      ]
    },
    {
      "cell_type": "code",
      "metadata": {
        "id": "B8DpaCgwzzWl",
        "colab_type": "code",
        "colab": {
          "base_uri": "https://localhost:8080/",
          "height": 122
        },
        "outputId": "d4b8d0c6-e4bd-4821-9067-82249629515a"
      },
      "source": [
        "from google.colab import drive\n",
        "drive.mount('/content/drive')"
      ],
      "execution_count": 1,
      "outputs": [
        {
          "output_type": "stream",
          "text": [
            "Go to this URL in a browser: https://accounts.google.com/o/oauth2/auth?client_id=947318989803-6bn6qk8qdgf4n4g3pfee6491hc0brc4i.apps.googleusercontent.com&redirect_uri=urn%3aietf%3awg%3aoauth%3a2.0%3aoob&response_type=code&scope=email%20https%3a%2f%2fwww.googleapis.com%2fauth%2fdocs.test%20https%3a%2f%2fwww.googleapis.com%2fauth%2fdrive%20https%3a%2f%2fwww.googleapis.com%2fauth%2fdrive.photos.readonly%20https%3a%2f%2fwww.googleapis.com%2fauth%2fpeopleapi.readonly\n",
            "\n",
            "Enter your authorization code:\n",
            "··········\n",
            "Mounted at /content/drive\n"
          ],
          "name": "stdout"
        }
      ]
    },
    {
      "cell_type": "markdown",
      "metadata": {
        "id": "I-1aopwGx7G2",
        "colab_type": "text"
      },
      "source": [
        "### Install AutoKeras and TensorFlow"
      ]
    },
    {
      "cell_type": "code",
      "metadata": {
        "id": "VL12dzujzmwj",
        "colab_type": "code",
        "colab": {
          "base_uri": "https://localhost:8080/",
          "height": 1000
        },
        "outputId": "e0a2bfe6-d380-4d65-f6d3-4c8cbfb86443"
      },
      "source": [
        "!pip install  -v \"/content/drive/My Drive/AutoKeras-dev/autokeras-master.zip\"\n",
        "!pip uninstall keras-tuner\n",
        "!pip install git+git://github.com/keras-team/keras-tuner.git@d2d69cba21a0b482a85ce2a38893e2322e139c01"
      ],
      "execution_count": 2,
      "outputs": [
        {
          "output_type": "stream",
          "text": [
            "Created temporary directory: /tmp/pip-ephem-wheel-cache-wky09t6k\n",
            "Created temporary directory: /tmp/pip-req-tracker-umpjdscu\n",
            "Created requirements tracker '/tmp/pip-req-tracker-umpjdscu'\n",
            "Created temporary directory: /tmp/pip-install-5ieud1uv\n",
            "Processing ./drive/My Drive/AutoKeras-dev/autokeras-master.zip\n",
            "  Created temporary directory: /tmp/pip-req-build-2_9iut5m\n",
            "  Added file:///content/drive/My%20Drive/AutoKeras-dev/autokeras-master.zip to build tracker '/tmp/pip-req-tracker-umpjdscu'\n",
            "    Running setup.py (path:/tmp/pip-req-build-2_9iut5m/setup.py) egg_info for package from file:///content/drive/My%20Drive/AutoKeras-dev/autokeras-master.zip\n",
            "    Running command python setup.py egg_info\n",
            "    running egg_info\n",
            "    creating /tmp/pip-req-build-2_9iut5m/pip-egg-info/autokeras.egg-info\n",
            "    writing /tmp/pip-req-build-2_9iut5m/pip-egg-info/autokeras.egg-info/PKG-INFO\n",
            "    writing dependency_links to /tmp/pip-req-build-2_9iut5m/pip-egg-info/autokeras.egg-info/dependency_links.txt\n",
            "    writing requirements to /tmp/pip-req-build-2_9iut5m/pip-egg-info/autokeras.egg-info/requires.txt\n",
            "    writing top-level names to /tmp/pip-req-build-2_9iut5m/pip-egg-info/autokeras.egg-info/top_level.txt\n",
            "    writing manifest file '/tmp/pip-req-build-2_9iut5m/pip-egg-info/autokeras.egg-info/SOURCES.txt'\n",
            "    reading manifest file '/tmp/pip-req-build-2_9iut5m/pip-egg-info/autokeras.egg-info/SOURCES.txt'\n",
            "    writing manifest file '/tmp/pip-req-build-2_9iut5m/pip-egg-info/autokeras.egg-info/SOURCES.txt'\n",
            "  Source in /tmp/pip-req-build-2_9iut5m has version 1.0.3, which satisfies requirement autokeras==1.0.3 from file:///content/drive/My%20Drive/AutoKeras-dev/autokeras-master.zip\n",
            "  Removed autokeras==1.0.3 from file:///content/drive/My%20Drive/AutoKeras-dev/autokeras-master.zip from build tracker '/tmp/pip-req-tracker-umpjdscu'\n",
            "Requirement already satisfied: packaging in /usr/local/lib/python3.6/dist-packages (from autokeras==1.0.3) (20.3)\n",
            "1 location(s) to search for versions of keras-tuner:\n",
            "* https://pypi.org/simple/keras-tuner/\n",
            "Getting page https://pypi.org/simple/keras-tuner/\n",
            "Found index url https://pypi.org/simple\n",
            "Looking up \"https://pypi.org/simple/keras-tuner/\" in the cache\n",
            "Request header has \"max_age\" as 0, cache bypassed\n",
            "Starting new HTTPS connection (1): pypi.org:443\n",
            "https://pypi.org:443 \"GET /simple/keras-tuner/ HTTP/1.1\" 200 791\n",
            "Updating cache with response from \"https://pypi.org/simple/keras-tuner/\"\n",
            "Caching due to etag\n",
            "Analyzing links from page https://pypi.org/simple/keras-tuner/\n",
            "  Found link https://files.pythonhosted.org/packages/42/09/b9638cee9e7bb97121b99a460f01c7ad3e9b3706f5a1002b354dd0fb473e/keras-tuner-0.0.1.1550093565.tar.gz#sha256=01a53c8c70c0d6523a439a715261656041a06d64f1bdf61541580c642ab91f61 (from https://pypi.org/simple/keras-tuner/), version: 0.0.1.1550093565\n",
            "  Found link https://files.pythonhosted.org/packages/f5/30/c35685fdf666854c889348e7970f9f0d8268004ae379b9e55a9c9e928603/keras-tuner-0.9.1.tar.gz#sha256=b6c12921a684b12bb1dbbee4af081ec23ffb4363c2c43794d93c7d12a4b4fc8e (from https://pypi.org/simple/keras-tuner/), version: 0.9.1\n",
            "  Found link https://files.pythonhosted.org/packages/98/a5/b958059a1e89c6e76185f2fba6214c670d7c22f0a215cf7aa4d1eb7d4a8f/keras_tuner-0.9.1-py2.py3-none-any.whl#sha256=94f2bd31932e86c9ade8c89f630ffbfab86dfc1d6a69f0e248a0666bf874da99 (from https://pypi.org/simple/keras-tuner/), version: 0.9.1\n",
            "  Found link https://files.pythonhosted.org/packages/2b/cb/af6fe94313e4de3b7fa9d36f418682db1d31c4a21f90b9b34ecf22cf774a/keras-tuner-1.0.0.tar.gz#sha256=aeff07acc9c1090faee29bcf636f71ff7d36a5e4172c035c2c50d286940efe61 (from https://pypi.org/simple/keras-tuner/), version: 1.0.0\n",
            "  Found link https://files.pythonhosted.org/packages/db/93/5db8ac61f6547ce94b534a1cf614961a6e302559f0cdd1b37248052c9761/keras_tuner-1.0.0-py2.py3-none-any.whl#sha256=599e9f56056ff09d78b1a8877157a4ec9bf555efc504984c050282140ffe8461 (from https://pypi.org/simple/keras-tuner/), version: 1.0.0\n",
            "  Found link https://files.pythonhosted.org/packages/a7/f7/4b41b6832abf4c9bef71a664dc563adb25afc5812831667c6db572b1a261/keras-tuner-1.0.1.tar.gz#sha256=f018ded5127e7c588bd78faa753fa1f4108f1f28c0e5694a06bfb1f08204215b (from https://pypi.org/simple/keras-tuner/), version: 1.0.1\n",
            "Given no hashes to check 1 links for project 'keras-tuner': discarding no candidates\n",
            "Using version 1.0.1 (newest of versions: 1.0.1)\n",
            "Collecting keras-tuner>=1.0.1\n",
            "  Created temporary directory: /tmp/pip-unpack-arkpyh2m\n",
            "  Looking up \"https://files.pythonhosted.org/packages/a7/f7/4b41b6832abf4c9bef71a664dc563adb25afc5812831667c6db572b1a261/keras-tuner-1.0.1.tar.gz\" in the cache\n",
            "  No cache entry available\n",
            "  Starting new HTTPS connection (1): files.pythonhosted.org:443\n",
            "  https://files.pythonhosted.org:443 \"GET /packages/a7/f7/4b41b6832abf4c9bef71a664dc563adb25afc5812831667c6db572b1a261/keras-tuner-1.0.1.tar.gz HTTP/1.1\" 200 54494\n",
            "\u001b[?25l  Downloading https://files.pythonhosted.org/packages/a7/f7/4b41b6832abf4c9bef71a664dc563adb25afc5812831667c6db572b1a261/keras-tuner-1.0.1.tar.gz (54kB)\n",
            "\u001b[K     |██████████████████████████████  | 51kB 2.1MB/s eta 0:00:01  Ignoring unknown cache-control directive: immutable\n",
            "  Updating cache with response from \"https://files.pythonhosted.org/packages/a7/f7/4b41b6832abf4c9bef71a664dc563adb25afc5812831667c6db572b1a261/keras-tuner-1.0.1.tar.gz\"\n",
            "  Caching due to etag\n",
            "\u001b[K     |████████████████████████████████| 61kB 2.0MB/s \n",
            "\u001b[?25h  Added keras-tuner>=1.0.1 from https://files.pythonhosted.org/packages/a7/f7/4b41b6832abf4c9bef71a664dc563adb25afc5812831667c6db572b1a261/keras-tuner-1.0.1.tar.gz#sha256=f018ded5127e7c588bd78faa753fa1f4108f1f28c0e5694a06bfb1f08204215b (from autokeras==1.0.3) to build tracker '/tmp/pip-req-tracker-umpjdscu'\n",
            "    Running setup.py (path:/tmp/pip-install-5ieud1uv/keras-tuner/setup.py) egg_info for package keras-tuner\n",
            "    Running command python setup.py egg_info\n",
            "    running egg_info\n",
            "    creating /tmp/pip-install-5ieud1uv/keras-tuner/pip-egg-info/keras_tuner.egg-info\n",
            "    writing /tmp/pip-install-5ieud1uv/keras-tuner/pip-egg-info/keras_tuner.egg-info/PKG-INFO\n",
            "    writing dependency_links to /tmp/pip-install-5ieud1uv/keras-tuner/pip-egg-info/keras_tuner.egg-info/dependency_links.txt\n",
            "    writing requirements to /tmp/pip-install-5ieud1uv/keras-tuner/pip-egg-info/keras_tuner.egg-info/requires.txt\n",
            "    writing top-level names to /tmp/pip-install-5ieud1uv/keras-tuner/pip-egg-info/keras_tuner.egg-info/top_level.txt\n",
            "    writing manifest file '/tmp/pip-install-5ieud1uv/keras-tuner/pip-egg-info/keras_tuner.egg-info/SOURCES.txt'\n",
            "    reading manifest file '/tmp/pip-install-5ieud1uv/keras-tuner/pip-egg-info/keras_tuner.egg-info/SOURCES.txt'\n",
            "    writing manifest file '/tmp/pip-install-5ieud1uv/keras-tuner/pip-egg-info/keras_tuner.egg-info/SOURCES.txt'\n",
            "  Source in /tmp/pip-install-5ieud1uv/keras-tuner has version 1.0.1, which satisfies requirement keras-tuner>=1.0.1 from https://files.pythonhosted.org/packages/a7/f7/4b41b6832abf4c9bef71a664dc563adb25afc5812831667c6db572b1a261/keras-tuner-1.0.1.tar.gz#sha256=f018ded5127e7c588bd78faa753fa1f4108f1f28c0e5694a06bfb1f08204215b (from autokeras==1.0.3)\n",
            "  Removed keras-tuner>=1.0.1 from https://files.pythonhosted.org/packages/a7/f7/4b41b6832abf4c9bef71a664dc563adb25afc5812831667c6db572b1a261/keras-tuner-1.0.1.tar.gz#sha256=f018ded5127e7c588bd78faa753fa1f4108f1f28c0e5694a06bfb1f08204215b (from autokeras==1.0.3) from build tracker '/tmp/pip-req-tracker-umpjdscu'\n",
            "Requirement already satisfied: scikit-learn in /usr/local/lib/python3.6/dist-packages (from autokeras==1.0.3) (0.22.2.post1)\n",
            "Requirement already satisfied: numpy in /usr/local/lib/python3.6/dist-packages (from autokeras==1.0.3) (1.18.4)\n",
            "Requirement already satisfied: pandas in /usr/local/lib/python3.6/dist-packages (from autokeras==1.0.3) (1.0.3)\n",
            "Requirement already satisfied: pyparsing>=2.0.2 in /usr/local/lib/python3.6/dist-packages (from packaging->autokeras==1.0.3) (2.4.7)\n",
            "Requirement already satisfied: six in /usr/local/lib/python3.6/dist-packages (from packaging->autokeras==1.0.3) (1.12.0)\n",
            "Requirement already satisfied: future in /usr/local/lib/python3.6/dist-packages (from keras-tuner>=1.0.1->autokeras==1.0.3) (0.16.0)\n",
            "Requirement already satisfied: tabulate in /usr/local/lib/python3.6/dist-packages (from keras-tuner>=1.0.1->autokeras==1.0.3) (0.8.7)\n",
            "1 location(s) to search for versions of terminaltables:\n",
            "* https://pypi.org/simple/terminaltables/\n",
            "Getting page https://pypi.org/simple/terminaltables/\n",
            "Found index url https://pypi.org/simple\n",
            "Looking up \"https://pypi.org/simple/terminaltables/\" in the cache\n",
            "Request header has \"max_age\" as 0, cache bypassed\n",
            "https://pypi.org:443 \"GET /simple/terminaltables/ HTTP/1.1\" 200 1186\n",
            "Updating cache with response from \"https://pypi.org/simple/terminaltables/\"\n",
            "Caching due to etag\n",
            "Analyzing links from page https://pypi.org/simple/terminaltables/\n",
            "  Found link https://files.pythonhosted.org/packages/ec/82/6390ba7f110622d27b02451aaa294dc4b3133b7661e464db9a116e977324/terminaltables-1.0.0.tar.gz#sha256=4c909a5ee4a3d028b2c977d996f8b8cd9724ce8e4d9d834d65e78a98f7965b54 (from https://pypi.org/simple/terminaltables/), version: 1.0.0\n",
            "  Found link https://files.pythonhosted.org/packages/97/65/858bc3ea6cc60edc959ce427a94227932b5d9a95b0bce82f16071419885c/terminaltables-1.0.1.tar.gz#sha256=5548ac567d38d6ac88a5e0fec2d95f646249f37e1ef8fd2d17f8fcaefc6cf592 (from https://pypi.org/simple/terminaltables/), version: 1.0.1\n",
            "  Found link https://files.pythonhosted.org/packages/82/42/3f1140f6e538582fd514c765244662cca60885048cf610e7d00eaee8aeb1/terminaltables-1.0.2.tar.gz#sha256=cf97dd019af975cc64aa69aca435a43b0cffabb88df6f337c6b48de600c19f8e (from https://pypi.org/simple/terminaltables/), version: 1.0.2\n",
            "  Found link https://files.pythonhosted.org/packages/80/07/5663569dfd8fa4e4fa3cb645b70f4972e3d79d056b71da12df174668c145/terminaltables-1.1.0.tar.gz#sha256=94a15e1a295265d130de67e9c2efef9e1cad1e64dd6ae0b80882076581605f8c (from https://pypi.org/simple/terminaltables/), version: 1.1.0\n",
            "  Found link https://files.pythonhosted.org/packages/0c/4a/9b80642ac2463908fe77c9dbe138c56902fbf5a5a95d07203c131ec9ba90/terminaltables-1.1.1.tar.gz#sha256=b02c516d6d521ce0fe6e2a2753268e86547bbccab6bfa7e269a0f51766283fab (from https://pypi.org/simple/terminaltables/), version: 1.1.1\n",
            "  Found link https://files.pythonhosted.org/packages/a8/65/f9c6bcfb1f81acdfcd1f8d633c6752cfdcc04b5fade7638a2a8dc7a720de/terminaltables-1.2.0.tar.gz#sha256=fff4aa62f296038d1526a91856f0b3de1e3bce31cfd1c5148cc3f795c1d396bf (from https://pypi.org/simple/terminaltables/), version: 1.2.0\n",
            "  Found link https://files.pythonhosted.org/packages/3d/17/14aa6521b337be46c51dd7b31e7e617801e9f8db7f48583c767c02e0e72a/terminaltables-1.2.1.tar.gz#sha256=cf5f0fb6c6c3070d7af73537ded030858c122f253c87e7221f9a6da3782ce787 (from https://pypi.org/simple/terminaltables/), version: 1.2.1\n",
            "  Found link https://files.pythonhosted.org/packages/d0/8e/9403573ff8aebc09ee0aacd57885050f74bd9f48a85c0735d33cacfa2469/terminaltables-2.0.0.tar.gz#sha256=2e0a6688071f2a881f8fa4455a362457dcd2317e374609f1a09baffa998e7492 (from https://pypi.org/simple/terminaltables/), version: 2.0.0\n",
            "  Found link https://files.pythonhosted.org/packages/10/da/9bbb21c1c2f9be4df2056b00b569689b9ece538ef39bf8db34be25f9e850/terminaltables-2.1.0.tar.gz#sha256=33b60f027964214f4ff5821f43958d03add81784f7c183d86a7ee8f010350cf5 (from https://pypi.org/simple/terminaltables/), version: 2.1.0\n",
            "  Found link https://files.pythonhosted.org/packages/58/c9/f0c174c4e828365df3593c66ac32474cd994a8ec36fe19a798261c96c3bc/terminaltables-3.0.0.tar.gz#sha256=bd2504031f09f942a8f221266adc61aee04a0368d5de0dacb7a53e508af6a518 (from https://pypi.org/simple/terminaltables/), version: 3.0.0\n",
            "  Found link https://files.pythonhosted.org/packages/9b/c4/4a21174f32f8a7e1104798c445dacdc1d4df86f2f26722767034e4de4bff/terminaltables-3.1.0.tar.gz#sha256=f3eb0eb92e3833972ac36796293ca0906e998dc3be91fbe1f8615b331b853b81 (from https://pypi.org/simple/terminaltables/), version: 3.1.0\n",
            "Given no hashes to check 11 links for project 'terminaltables': discarding no candidates\n",
            "Using version 3.1.0 (newest of versions: 1.0.0, 1.0.1, 1.0.2, 1.1.0, 1.1.1, 1.2.0, 1.2.1, 2.0.0, 2.1.0, 3.0.0, 3.1.0)\n",
            "Collecting terminaltables\n",
            "  Created temporary directory: /tmp/pip-unpack-di7sc3kx\n",
            "  Looking up \"https://files.pythonhosted.org/packages/9b/c4/4a21174f32f8a7e1104798c445dacdc1d4df86f2f26722767034e4de4bff/terminaltables-3.1.0.tar.gz\" in the cache\n",
            "  No cache entry available\n",
            "  https://files.pythonhosted.org:443 \"GET /packages/9b/c4/4a21174f32f8a7e1104798c445dacdc1d4df86f2f26722767034e4de4bff/terminaltables-3.1.0.tar.gz HTTP/1.1\" 200 12478\n",
            "  Downloading https://files.pythonhosted.org/packages/9b/c4/4a21174f32f8a7e1104798c445dacdc1d4df86f2f26722767034e4de4bff/terminaltables-3.1.0.tar.gz\n",
            "  Ignoring unknown cache-control directive: immutable\n",
            "  Updating cache with response from \"https://files.pythonhosted.org/packages/9b/c4/4a21174f32f8a7e1104798c445dacdc1d4df86f2f26722767034e4de4bff/terminaltables-3.1.0.tar.gz\"\n",
            "  Caching due to etag\n",
            "  Added terminaltables from https://files.pythonhosted.org/packages/9b/c4/4a21174f32f8a7e1104798c445dacdc1d4df86f2f26722767034e4de4bff/terminaltables-3.1.0.tar.gz#sha256=f3eb0eb92e3833972ac36796293ca0906e998dc3be91fbe1f8615b331b853b81 (from keras-tuner>=1.0.1->autokeras==1.0.3) to build tracker '/tmp/pip-req-tracker-umpjdscu'\n",
            "    Running setup.py (path:/tmp/pip-install-5ieud1uv/terminaltables/setup.py) egg_info for package terminaltables\n",
            "    Running command python setup.py egg_info\n",
            "    running egg_info\n",
            "    creating /tmp/pip-install-5ieud1uv/terminaltables/pip-egg-info/terminaltables.egg-info\n",
            "    writing /tmp/pip-install-5ieud1uv/terminaltables/pip-egg-info/terminaltables.egg-info/PKG-INFO\n",
            "    writing dependency_links to /tmp/pip-install-5ieud1uv/terminaltables/pip-egg-info/terminaltables.egg-info/dependency_links.txt\n",
            "    writing top-level names to /tmp/pip-install-5ieud1uv/terminaltables/pip-egg-info/terminaltables.egg-info/top_level.txt\n",
            "    writing manifest file '/tmp/pip-install-5ieud1uv/terminaltables/pip-egg-info/terminaltables.egg-info/SOURCES.txt'\n",
            "    reading manifest file '/tmp/pip-install-5ieud1uv/terminaltables/pip-egg-info/terminaltables.egg-info/SOURCES.txt'\n",
            "    writing manifest file '/tmp/pip-install-5ieud1uv/terminaltables/pip-egg-info/terminaltables.egg-info/SOURCES.txt'\n",
            "  Source in /tmp/pip-install-5ieud1uv/terminaltables has version 3.1.0, which satisfies requirement terminaltables from https://files.pythonhosted.org/packages/9b/c4/4a21174f32f8a7e1104798c445dacdc1d4df86f2f26722767034e4de4bff/terminaltables-3.1.0.tar.gz#sha256=f3eb0eb92e3833972ac36796293ca0906e998dc3be91fbe1f8615b331b853b81 (from keras-tuner>=1.0.1->autokeras==1.0.3)\n",
            "  Removed terminaltables from https://files.pythonhosted.org/packages/9b/c4/4a21174f32f8a7e1104798c445dacdc1d4df86f2f26722767034e4de4bff/terminaltables-3.1.0.tar.gz#sha256=f3eb0eb92e3833972ac36796293ca0906e998dc3be91fbe1f8615b331b853b81 (from keras-tuner>=1.0.1->autokeras==1.0.3) from build tracker '/tmp/pip-req-tracker-umpjdscu'\n",
            "1 location(s) to search for versions of colorama:\n",
            "* https://pypi.org/simple/colorama/\n",
            "Getting page https://pypi.org/simple/colorama/\n",
            "Found index url https://pypi.org/simple\n",
            "Looking up \"https://pypi.org/simple/colorama/\" in the cache\n",
            "Request header has \"max_age\" as 0, cache bypassed\n",
            "https://pypi.org:443 \"GET /simple/colorama/ HTTP/1.1\" 200 7562\n",
            "Updating cache with response from \"https://pypi.org/simple/colorama/\"\n",
            "Caching due to etag\n",
            "Analyzing links from page https://pypi.org/simple/colorama/\n",
            "  Found link https://files.pythonhosted.org/packages/c4/5f/bd491ccfba0060c785e019ffdeb885fb31c9075573b8414c927b22c7d0f7/colorama-0.1.zip#sha256=dde5204ace2a469f2065d86e1c998e34bf0db8fa390eea7db91e17dd74f1ca9e (from https://pypi.org/simple/colorama/), version: 0.1\n",
            "  Found link https://files.pythonhosted.org/packages/9f/30/5166407fe8e1fb932cf377b0d1c5ec72ec07e372452302875ef1263fec6c/colorama-0.1.1.tar.gz#sha256=4b53b07a72a276642ef0f6aed4a7083480bff6d5dcc44a5972352369c1694309 (from https://pypi.org/simple/colorama/), version: 0.1.1\n",
            "  Found link https://files.pythonhosted.org/packages/99/e6/ef52457b44a915e866ee6439d653cbc76f94163e41fa164056356f011729/colorama-0.1.1.zip#sha256=83f483e4a2efba46c212e054407a6b8ea3b582a7e332b8de927350029271c7c1 (from https://pypi.org/simple/colorama/), version: 0.1.1\n",
            "  Found link https://files.pythonhosted.org/packages/57/cc/50b228f4a10b72e1b535832ccee3f1829e8bf49d9b72db8bf7060fc9e8c4/colorama-0.1.2.tar.gz#sha256=e54911d64d83a05489290232849b4c17b3f1a5b54246cd40ab94fdd9e5b0fcf3 (from https://pypi.org/simple/colorama/), version: 0.1.2\n",
            "  Found link https://files.pythonhosted.org/packages/be/2c/4e6eb6434f5d3974c125e8cb40262bf289518e6aa9d7e4d1b6bd4ce224a8/colorama-0.1.2.zip#sha256=10e40ce2298c412a6b6a96c2a0d87dc652f7d481e830659daf400cbd2946d2d1 (from https://pypi.org/simple/colorama/), version: 0.1.2\n",
            "  Found link https://files.pythonhosted.org/packages/c8/45/422514a0974c0ce307ca92055135ff99825cd7b50e71f496574c965857ab/colorama-0.1.3.tar.gz#sha256=30908bb85f9e5f413b83571f735e3e26ad8d05dcc295a0515dbfb27a01d2efbc (from https://pypi.org/simple/colorama/), version: 0.1.3\n",
            "  Found link https://files.pythonhosted.org/packages/be/d7/76a32e17a58dfcec0b33e206c83752b737ce576928b6a17fd997b72ceb78/colorama-0.1.3.zip#sha256=236badb2f664da9d0ffc9fbd8b09f4f6e138d16ded4d3bd819a1b3bcb696cd75 (from https://pypi.org/simple/colorama/), version: 0.1.3\n",
            "  Found link https://files.pythonhosted.org/packages/fc/ed/606c819f1ac338651d21e314be7537986735142eb58bf6b84780fae536a4/colorama-0.1.4.tar.gz#sha256=8ab93dffae95ff1f8406a4d8fc9a86f496f6faf4ebb1c639d0cbbce988065888 (from https://pypi.org/simple/colorama/), version: 0.1.4\n",
            "  Found link https://files.pythonhosted.org/packages/65/67/8bb9d5fc7e14fecd6d7ee7b6cbb31c8c5e1209d545bbf1cc5d693b252615/colorama-0.1.4.zip#sha256=68d15a25a534b08df195d5b47913c5108e5dead87346fd51939fa8c99b6f4638 (from https://pypi.org/simple/colorama/), version: 0.1.4\n",
            "  Found link https://files.pythonhosted.org/packages/24/10/1a9a1dfbba2e024af127111665636d4e8fddd97518302f69edeea2aa8a88/colorama-0.1.5.tar.gz#sha256=97c429e4b2fa1938d98a8fbb33280fbc7276ffae6ffd49dfff494c703550730e (from https://pypi.org/simple/colorama/), version: 0.1.5\n",
            "  Found link https://files.pythonhosted.org/packages/50/36/4139cebc5102600ee566923f03a01f706ae2ee89e21974721fa0b71e7687/colorama-0.1.5.zip#sha256=c106b14284bf462d945284bb94ded573a6769075166b935589b0582bf4812b9f (from https://pypi.org/simple/colorama/), version: 0.1.5\n",
            "  Found link https://files.pythonhosted.org/packages/ea/18/17d71f153a29763f3a481435d62cd698fc72933b2a053b03922a0187d061/colorama-0.1.6.tar.gz#sha256=61dda1731c73662c151624f093f1d0569de205bf2d11ed85fd68e396f0c189b0 (from https://pypi.org/simple/colorama/), version: 0.1.6\n",
            "  Found link https://files.pythonhosted.org/packages/7f/5c/0ac1be1cb2cf6c1e508d446f29093768f411cb8dfed109ea5ee282c540bd/colorama-0.1.6.zip#sha256=de076ba03273ce1f8f0f3670ecd4e0edb17f584e899005c7edef52b93ebfd822 (from https://pypi.org/simple/colorama/), version: 0.1.6\n",
            "  Found link https://files.pythonhosted.org/packages/fa/1b/620985cb9351b612bb8b849d426c5729be11751955b20a73d51ca07653dc/colorama-0.1.7.tar.gz#sha256=37f9b319303f298aa5231bce4573190c591c731517b9aeefb1b03375df68a51b (from https://pypi.org/simple/colorama/), version: 0.1.7\n",
            "  Found link https://files.pythonhosted.org/packages/4c/2c/24f754ba3d01e48ce2be48b5420b7c4fa58b2dcc2bd9932fe5a18c9d78c2/colorama-0.1.7.zip#sha256=8c688cbaa2d71e8176dcd676f36861132824b8113675c953b31275f42d0a959f (from https://pypi.org/simple/colorama/), version: 0.1.7\n",
            "  Found link https://files.pythonhosted.org/packages/71/35/6917ec507f13a81f3b3111609dce6bf4ba3bca3ef6b3661071f54fa7a494/colorama-0.1.8.tar.gz#sha256=cfaf7cdd26033a2e8d500ffefc65d2b9f66040187e9180a2c0d0fb40aa407a3c (from https://pypi.org/simple/colorama/), version: 0.1.8\n",
            "  Found link https://files.pythonhosted.org/packages/d1/7f/45996d90b613e5041c6927422648638c5df30d840156da567ecc3c5c44c9/colorama-0.1.8.zip#sha256=e1b36afff9365e4fa264b7f984546e5ce67af886dd510a2fdad928c64eb26529 (from https://pypi.org/simple/colorama/), version: 0.1.8\n",
            "  Found link https://files.pythonhosted.org/packages/54/96/e9d16dfcc427d837553a94d504b819874b4f4d440d745bc9e10d5057847b/colorama-0.1.9.tar.gz#sha256=70f4b61fdbff0784988c554071c55b9adf79a6ffbb3b6960e00d8c330ff0db17 (from https://pypi.org/simple/colorama/), version: 0.1.9\n",
            "  Found link https://files.pythonhosted.org/packages/a4/e7/59dc94cad7b61aaff92b3cdba993e320328a8e9e3a88905576db4d239c08/colorama-0.1.9.zip#sha256=ae45945b28f677b249ec30b524a70010a61416368c9ae289b26ef93d697f077d (from https://pypi.org/simple/colorama/), version: 0.1.9\n",
            "  Found link https://files.pythonhosted.org/packages/36/f8/1704d2ccb644c06be7fdca73653d6896e37159e58ffc428cbf919c5d5680/colorama-0.1.10.tar.gz#sha256=d8d0b40c5b66768292576318753270c3cddd2d794986b8f69f32c5f5c8bf02b3 (from https://pypi.org/simple/colorama/), version: 0.1.10\n",
            "  Found link https://files.pythonhosted.org/packages/f8/64/ac1e1ec98b83640d50a7605bfb14740b81ea4f06eeab3119c9da203ed687/colorama-0.1.10.zip#sha256=ecaf291510745cdc5b4fb15831cee410364d74d105ae0c561856c4c953880ada (from https://pypi.org/simple/colorama/), version: 0.1.10\n",
            "  Found link https://files.pythonhosted.org/packages/38/85/8aff6c5de5a8ea71b5b8dceb2ead64cb4ee0432a3367914e90eba7505c35/colorama-0.1.11.tar.gz#sha256=b9449a73936867129ad58ea9ccc24cf5bd5429abcd4c8ab3b5570b515e7d01bf (from https://pypi.org/simple/colorama/), version: 0.1.11\n",
            "  Found link https://files.pythonhosted.org/packages/5b/5e/80a93da9ff4b770c414f32563726040997924b83cd679a94cab738e7f8ff/colorama-0.1.11.zip#sha256=9e7c464abd71a23e203477ca4efc0c784b9f43806d9badbf3758957212dfd39b (from https://pypi.org/simple/colorama/), version: 0.1.11\n",
            "  Found link https://files.pythonhosted.org/packages/2d/0f/ad6109bf90b762004538c44038ec65d2e3e430b62c12ec114fc97afd047b/colorama-0.1.12.tar.gz#sha256=d7bdce9befb286704494ee3c2c7fa06bd79112ae1019171955025a936722a2fa (from https://pypi.org/simple/colorama/), version: 0.1.12\n",
            "  Found link https://files.pythonhosted.org/packages/e7/61/ae5a917ed3534a855132a3ef2b429993ff052fc1b9a594d25c906c9c1a1a/colorama-0.1.12.zip#sha256=e7b519541c95cee3d3268237e9bfd3dac015025fee38075fd50447904750dbcc (from https://pypi.org/simple/colorama/), version: 0.1.12\n",
            "  Found link https://files.pythonhosted.org/packages/40/97/77857f7520dc329736f1569c3b109c5369c7cdbd54fbcc59e317e9707bdf/colorama-0.1.13.tar.gz#sha256=3e1b29490315443351992610fc8ccc92e033e355a9e7771c94fd28ce03657845 (from https://pypi.org/simple/colorama/), version: 0.1.13\n",
            "  Found link https://files.pythonhosted.org/packages/53/d3/0a08085428522d4a21470321fdda8f2c845a863d115e2e97ce47580bb7a5/colorama-0.1.13.zip#sha256=fc9e2899eb4ae1d0f21dbf970240bbf00ead390a815adec05389c5f439da5771 (from https://pypi.org/simple/colorama/), version: 0.1.13\n",
            "  Found link https://files.pythonhosted.org/packages/48/46/4efa86a33c27f42ca35f6d835e660e0a198f321ccf4e7c6271a2a7438454/colorama-0.1.14.tar.gz#sha256=3b8f9c54347138f5d4af332c33dfd7ef3a12cb24a399b4e5de660211ba38cd98 (from https://pypi.org/simple/colorama/), version: 0.1.14\n",
            "  Found link https://files.pythonhosted.org/packages/2d/b3/4a20718f2514eaf0cf40ddc04d795ee5fa247b1e0043c18b0963443ee30b/colorama-0.1.14.zip#sha256=a0e2cb4b7217caa24d52b50cbdeefeb69a76b55e5bd65316f41e898bf44a90fe (from https://pypi.org/simple/colorama/), version: 0.1.14\n",
            "  Found link https://files.pythonhosted.org/packages/59/3c/09d1a085a0886b75c1ef1f73501b8c89dd53f4c6d4c99b677ae7b2858b7c/colorama-0.1.15.tar.gz#sha256=4f57e533873032df40cb19c380d666fed1ea1efc182e5cf6544b460ab1eb0cbd (from https://pypi.org/simple/colorama/), version: 0.1.15\n",
            "  Found link https://files.pythonhosted.org/packages/ca/c2/6910ba3f0de55091bf88e96b94475bf72056d08aa0ce2e45f6a7c5d4e725/colorama-0.1.15.zip#sha256=fb55091e0dd982edcfa99f039f8ae85f7acd538626c15de71fed39a6b7faa3fd (from https://pypi.org/simple/colorama/), version: 0.1.15\n",
            "  Found link https://files.pythonhosted.org/packages/33/07/70a1618f6558fca1be02dba86633e352bf3e1c15a935172b3574e0aad571/colorama-0.1.16.tar.gz#sha256=218648251fa88ddd34fe38e4539c4306d0633bf55dd1fd47b085d92376d3964b (from https://pypi.org/simple/colorama/), version: 0.1.16\n",
            "  Found link https://files.pythonhosted.org/packages/7e/6f/4e74dbe88220aa10d2da2226cb6b863c12f24df94ffab2584a30214a2c7b/colorama-0.1.16.zip#sha256=38843763a2377d72307cc26bc4fc53e7abf207a9f988bd4f7c2f466d017c78c8 (from https://pypi.org/simple/colorama/), version: 0.1.16\n",
            "  Found link https://files.pythonhosted.org/packages/93/8e/0e74bf3f62e1c0a0bcd00862610bab6573be89a5adadb566ff710364db4c/colorama-0.1.17.tar.gz#sha256=8ee8e83f771f31cc208e2603f8a3bf9302324958709e4bd002254ed2013d0d7c (from https://pypi.org/simple/colorama/), version: 0.1.17\n",
            "  Found link https://files.pythonhosted.org/packages/82/42/2e51ae62f1b6d44a67b5f5387cdcbf08a8890186b2bc63cf5f6057b72add/colorama-0.1.17.zip#sha256=dad0db5a7f26ec8500b19c2c8ff50841d774eb299da2c2bba89f4b2df0cb9cec (from https://pypi.org/simple/colorama/), version: 0.1.17\n",
            "  Found link https://files.pythonhosted.org/packages/8a/22/b4e99c35db683631ea352a91d3ba84a712e00f4d910f35f13eda7dfa5591/colorama-0.1.18.tar.gz#sha256=faf09b8eb3253080ed9951af08a7e9d8560ddda46567cc1a88b57e90da63f103 (from https://pypi.org/simple/colorama/), version: 0.1.18\n",
            "  Found link https://files.pythonhosted.org/packages/00/78/61090f52616bdcfa5cd26a29ea5d4b3bf44e00112a59e2516ae5f1db144b/colorama-0.1.18.zip#sha256=b9bd0566714e86ea4c4977e2f6f90a1e530a8bc5a7560e1b6bb2ee2e489433f5 (from https://pypi.org/simple/colorama/), version: 0.1.18\n",
            "  Found link https://files.pythonhosted.org/packages/fe/8e/a8d0ea40a0b5ada3b1d26b65fef3bd08970d6444da239503d06cf97f2ba1/colorama-0.2.0.tar.gz#sha256=e5a10477364714c8e3e11d7cdcfcc011188c936a79f4291c18cff5503dd50c72 (from https://pypi.org/simple/colorama/), version: 0.2.0\n",
            "  Found link https://files.pythonhosted.org/packages/db/3d/a32e3cf2aa1816ec77fdb3354dfc372ef0cc8a4846052442a5752a634da1/colorama-0.2.0.zip#sha256=3be96de7a7f8b34a7fdcca25af1421ade28a5f0d0c3be6af807d6cb8110f493d (from https://pypi.org/simple/colorama/), version: 0.2.0\n",
            "  Found link https://files.pythonhosted.org/packages/fd/bb/b84178418e5da32af96dfe017798455523c8fc87206f63ebe645e3d1a77d/colorama-0.2.1.tar.gz#sha256=f048371a45908c3f77df6f7b9956553faf540ac744326ee1c99890310d5e642f (from https://pypi.org/simple/colorama/), version: 0.2.1\n",
            "  Found link https://files.pythonhosted.org/packages/ef/be/7c5926ccffcadf3217968e7ad700b26bd258b3e501ce9d36a63843de8890/colorama-0.2.1.zip#sha256=c337ac440a2461d54251b25688c351c907acf44210985505aa37da03b66037db (from https://pypi.org/simple/colorama/), version: 0.2.1\n",
            "  Found link https://files.pythonhosted.org/packages/e9/12/d39f82f77e35217dea68b935fb904d3e7dca2a95bd1d60779c808e74b2dd/colorama-0.2.2.tar.gz#sha256=cb68365f4347c621febc8c81762437da9115dce4a63878f0e9c7aa05cad5fff3 (from https://pypi.org/simple/colorama/), version: 0.2.2\n",
            "  Found link https://files.pythonhosted.org/packages/3c/e5/554aaca7cbe67953c785409adb3205c666497306f4607f73eadf9a483c0a/colorama-0.2.2.zip#sha256=a30cd228db907b189707990394225fde00669d37b1daa405d3f1718ac4ae71bf (from https://pypi.org/simple/colorama/), version: 0.2.2\n",
            "  Found link https://files.pythonhosted.org/packages/55/61/ce7a6c859873c27a68cb3b2ac2822f25de4112df42964f9136fa6dab920c/colorama-0.2.3.tar.gz#sha256=04050b9badf460c4e61f9371f5bc8cd880d8ef3a3ea3e6d495a0ee9adc89c21c (from https://pypi.org/simple/colorama/), version: 0.2.3\n",
            "  Found link https://files.pythonhosted.org/packages/19/64/6c4047791014470d75f8ee5018b6fa41eb9d756c8a6ada3e0ae85e456d67/colorama-0.2.3.zip#sha256=d74c464df1bf3ec5d244c7f81eac6caacfb0d5727a19b2d8349a2a3f6afd047d (from https://pypi.org/simple/colorama/), version: 0.2.3\n",
            "  Found link https://files.pythonhosted.org/packages/51/ff/9c6ca40190fa279c3d577689c9252956efd28b0e5a1fd4f447c93926f342/colorama-0.2.4.tar.gz#sha256=ab2a1f39493a7cfe61b919ec3c6c204f593db2bf3818a70f6f0aa6b8b0a52e55 (from https://pypi.org/simple/colorama/), version: 0.2.4\n",
            "  Found link https://files.pythonhosted.org/packages/4f/0f/2fb41f6b8ba83f8d85ce5a8fcb7feca40f76f11f6075ee2c3be746316112/colorama-0.2.4.zip#sha256=bb206dc8d19a84c81e07187adf9f7fd53ca62bd924954bc0c9c5dcef767ec6fb (from https://pypi.org/simple/colorama/), version: 0.2.4\n",
            "  Found link https://files.pythonhosted.org/packages/fc/87/17f7dfcc3632b01972aa64cf97db20498f96ae206c8caa066ca47f304d44/colorama-0.2.5.tar.gz#sha256=06257ff3be96a91cbc6e7121db35935297c1ec444536b361bc9fa4f2ca28a396 (from https://pypi.org/simple/colorama/), version: 0.2.5\n",
            "  Found link https://files.pythonhosted.org/packages/2a/4e/bc9dea2d8fb419a4d097d5bc6e5f3558592942bfe863b91e27430beb1cbe/colorama-0.2.5.zip#sha256=521921faa4f979ba6597e1b10383427403339f8c00a619ce0c563d870b9d8cba (from https://pypi.org/simple/colorama/), version: 0.2.5\n",
            "  Found link https://files.pythonhosted.org/packages/a8/bc/c8fef4eb4f9dc5928270bc2e46109255f051b34e15b61f0f2594c80ce009/colorama-0.2.6.tar.gz#sha256=cf063242f4d5abfcca19c2639ec89855bd9b3914394f9db2f9c6c7007968249f (from https://pypi.org/simple/colorama/), version: 0.2.6\n",
            "  Found link https://files.pythonhosted.org/packages/8f/ce/6387e33fe3a2c0a0579e72ebff098357bb475c9d5459a22176a65a7e54b8/colorama-0.2.6.zip#sha256=4139316b1dda8f8ea5ae00ce8e8a8503775c089f2115ff91039a6bbdeb6794c0 (from https://pypi.org/simple/colorama/), version: 0.2.6\n",
            "  Found link https://files.pythonhosted.org/packages/dc/e8/ffa47bd75f026d716d2297e9b8e93a4d537530318514cdb8b60d50080d54/colorama-0.2.7.tar.gz#sha256=37dc4e718795a6c5d172de35dab1a278625f78c49883519e337834ff40dddde5 (from https://pypi.org/simple/colorama/), version: 0.2.7\n",
            "  Found link https://files.pythonhosted.org/packages/33/cc/3fb8058c58ea5b2d578b7f2a2e5845ae03efe0921fb316c1d570130ddd3e/colorama-0.2.7.zip#sha256=337d9bd3adef4899017cdfffb96f8030bdb27fcd8ede14c1d3f8c7768a8668d0 (from https://pypi.org/simple/colorama/), version: 0.2.7\n",
            "  Found link https://files.pythonhosted.org/packages/53/ef/7be639f6dda67af0a558222c739c5eba4bb54c97e9f57d4241bf1e366fa7/colorama-0.3.0.zip#sha256=ada2463942c960ed18349fe2ac296e724d9f3f3146882af350c8ae2fe26f4169 (from https://pypi.org/simple/colorama/), version: 0.3.0\n",
            "  Found link https://files.pythonhosted.org/packages/a4/1e/73f7cbfb0516942102e9dafdc1dc93c59c110c5927ea7c7440f6039cad54/colorama-0.3.1.tar.gz#sha256=012261ba542a5b18076cac0eaa3892ebe6098e170591e08a8fc0fbf8ab3d5c90 (from https://pypi.org/simple/colorama/), version: 0.3.1\n",
            "  Found link https://files.pythonhosted.org/packages/34/4a/ae411cb1195c6bb1d86b59d941247999a6cee0164dec91a120b6f77168d2/colorama-0.3.1.zip#sha256=0df6c181af416afafa552f8cc2111a88e5f2c8ffc90e10f1a50cdc908d085b0c (from https://pypi.org/simple/colorama/), version: 0.3.1\n",
            "  Found link https://files.pythonhosted.org/packages/29/dc/191dae95b02cb82088b29027ac88d48a3e43f7f12c0543d00c565b3d2f40/colorama-0.3.2.tar.gz#sha256=218862857d74ff781c2caf44629a7d72b88bbb8a2b0aa0f4f1eb8666f8305c11 (from https://pypi.org/simple/colorama/), version: 0.3.2\n",
            "  Found link https://files.pythonhosted.org/packages/13/b4/ccc34a878c59993a36b3f6d967d34eafbcdf07657e54ef1d051570e0c0e9/colorama-0.3.2.zip#sha256=f1ae1669bb4009aeed392a8df008d6926b434ee811b663a30ae673c09263c25b (from https://pypi.org/simple/colorama/), version: 0.3.2\n",
            "  Found link https://files.pythonhosted.org/packages/24/84/29ce4167d1f5c4a320aaad91e1178e5a1baf9cfe1c63f9077c5dade0e3cc/colorama-0.3.3.tar.gz#sha256=eb21f2ba718fbf357afdfdf6f641ab393901c7ca8d9f37edd0bee4806ffa269c (from https://pypi.org/simple/colorama/), version: 0.3.3\n",
            "  Found link https://files.pythonhosted.org/packages/81/79/051335e05573f79cb13cd9ad5b311a54bf31546294969d6b30fb36afebc6/colorama-0.3.4.tar.gz#sha256=ff5c8687f9eea33e6c9586f8bacc43761ac4b7650dd151db8dc7893a0b01e493 (from https://pypi.org/simple/colorama/), version: 0.3.4\n",
            "  Found link https://files.pythonhosted.org/packages/98/ec/9b7db70c01f557681e124e4dc84ba3837a9799352e86452217d46a07a41c/colorama-0.3.4.zip#sha256=81378cbcd8d2fafa019036146c3c5da279a873adf7ecafa63dfb12898a49492e (from https://pypi.org/simple/colorama/), version: 0.3.4\n",
            "  Found link https://files.pythonhosted.org/packages/60/02/5790fb0c1c6ffb803deba163e5d524748bf21316862f18acba8cd4cb2c26/colorama-0.3.5-py2.py3-none-any.whl#sha256=ac378abbd3b335c414a4de4f95905e1050f724cb21fa7c02f95bc2751bfea847 (from https://pypi.org/simple/colorama/), version: 0.3.5\n",
            "  Found link https://files.pythonhosted.org/packages/4b/bf/383aad870435aaaae1cbecb3bcccf029e8b33ae99885c6007ada22b0f6cf/colorama-0.3.5.tar.gz#sha256=0880a751afcb111881b437a846a93e540c7e1346030ba7bd7fda03434371fbc3 (from https://pypi.org/simple/colorama/), version: 0.3.5\n",
            "  Found link https://files.pythonhosted.org/packages/2e/b2/3fa01e0f0e88d453b1b406a559c875abd809f1087f23a6818edbef5e5d28/colorama-0.3.5.zip#sha256=e2a92673e323e1d35050fb597bacbeee9abb0d85ed35c8d91d542a84d9c79a21 (from https://pypi.org/simple/colorama/), version: 0.3.5\n",
            "  Found link https://files.pythonhosted.org/packages/4c/1b/7ea581dff0339aab5cdd3e0c275885a7cfc951984c960a7a1da554032b25/colorama-0.3.6-py2.py3-none-any.whl#sha256=63906b8855da6eb1a1c1f167080b85cc7a13eab6170dbb658650a8b72fac0593 (from https://pypi.org/simple/colorama/), version: 0.3.6\n",
            "  Found link https://files.pythonhosted.org/packages/93/70/68fcfa68d1dfb484a0fcc25b984e22e029051845604f1a3eb8a7c23b0b40/colorama-0.3.6.tar.gz#sha256=ec9efcccb086a1d727876384f94ee6358d2f3f096688c1ba18b0f318f2b453b5 (from https://pypi.org/simple/colorama/), version: 0.3.6\n",
            "  Found link https://files.pythonhosted.org/packages/14/0e/488fd32efe8cf4b2f0b3717b524f375b2391348b47d894f47da775e6f79d/colorama-0.3.6.zip#sha256=c5580586331aeb5b06da34743b1fb9046bec892467947b8c252881393b87880c (from https://pypi.org/simple/colorama/), version: 0.3.6\n",
            "  Found link https://files.pythonhosted.org/packages/b7/8e/ddb32ddaabd431813e180ca224e844bab8ad42fbb47ee07553f0ec44cd86/colorama-0.3.7-py2.py3-none-any.whl#sha256=a4c0f5bc358a62849653471e309dcc991223cf86abafbec17cd8f41327279e89 (from https://pypi.org/simple/colorama/), version: 0.3.7\n",
            "  Found link https://files.pythonhosted.org/packages/f0/d0/21c6449df0ca9da74859edc40208b3a57df9aca7323118c913e58d442030/colorama-0.3.7.tar.gz#sha256=e043c8d32527607223652021ff648fbb394d5e19cba9f1a698670b338c9d782b (from https://pypi.org/simple/colorama/), version: 0.3.7\n",
            "  Found link https://files.pythonhosted.org/packages/cd/ac/228603eb4c2aa4c77e767f3d7165b3c9b3196367fa8e3a9131a87a41de5c/colorama-0.3.7.zip#sha256=f4945bf52ae49da0728fe730a33c18744803752fc948f154f29dc0c4f9f2f9cc (from https://pypi.org/simple/colorama/), version: 0.3.7\n",
            "  Found link https://files.pythonhosted.org/packages/4f/95/b41f846cfae3dc38b2dafa318a7c7143f7dff2ab31ba5e3da956ee8b4ccb/colorama-0.3.8-py2.py3-none-any.whl#sha256=37fed83335fc371eebe48f6f297081962e162c10fc54d47253c6354734eb9625 (from https://pypi.org/simple/colorama/), version: 0.3.8\n",
            "  Found link https://files.pythonhosted.org/packages/9d/86/006d621542b6ab44c1b5df6dbd9be12d7e3b7cb87d5405ea5c68a3cb78e9/colorama-0.3.8.tar.gz#sha256=66c0470b1aab193890761e959103a1d99d609a2158f14ab27fb1afedc99aacc9 (from https://pypi.org/simple/colorama/), version: 0.3.8\n",
            "  Found link https://files.pythonhosted.org/packages/db/c8/7dcf9dbcb22429512708fe3a547f8b6101c0d02137acbd892505aee57adf/colorama-0.3.9-py2.py3-none-any.whl#sha256=463f8483208e921368c9f306094eb6f725c6ca42b0f97e313cb5d5512459feda (from https://pypi.org/simple/colorama/), version: 0.3.9\n",
            "  Found link https://files.pythonhosted.org/packages/e6/76/257b53926889e2835355d74fec73d82662100135293e17d382e2b74d1669/colorama-0.3.9.tar.gz#sha256=48eb22f4f8461b1df5734a074b57042430fb06e1d61bd1e11b078c0fe6d7a1f1 (from https://pypi.org/simple/colorama/), version: 0.3.9\n",
            "  Found link https://files.pythonhosted.org/packages/0a/93/6e8289231675d561d476d656c2ee3a868c1cca207e16c118d4503b25e2bf/colorama-0.4.0-py2.py3-none-any.whl#sha256=a3d89af5db9e9806a779a50296b5fdb466e281147c2c235e8225ecc6dbf7bbf3 (from https://pypi.org/simple/colorama/), version: 0.4.0\n",
            "  Found link https://files.pythonhosted.org/packages/55/d5/c35bd3e63757ac767105f8695b055581d8b8dd8c22fef020ebefa2a3725d/colorama-0.4.0.zip#sha256=c9b54bebe91a6a803e0772c8561d53f2926bfeb17cd141fbabcb08424086595c (from https://pypi.org/simple/colorama/), version: 0.4.0\n",
            "  Found link https://files.pythonhosted.org/packages/4f/a6/728666f39bfff1719fc94c481890b2106837da9318031f71a8424b662e12/colorama-0.4.1-py2.py3-none-any.whl#sha256=f8ac84de7840f5b9c4e3347b3c1eaa50f7e49c2b07596221daec5edaabbd7c48 (from https://pypi.org/simple/colorama/), version: 0.4.1\n",
            "  Found link https://files.pythonhosted.org/packages/76/53/e785891dce0e2f2b9f4b4ff5bc6062a53332ed28833c7afede841f46a5db/colorama-0.4.1.tar.gz#sha256=05eed71e2e327246ad6b38c540c4a3117230b19679b875190486ddd2d721422d (from https://pypi.org/simple/colorama/), version: 0.4.1\n",
            "  Found link https://files.pythonhosted.org/packages/31/cb/88c908c1be067fb6bacd3d7488ccab1a212533767b951933aac3d22648e2/colorama-0.4.2-py2.py3-none-any.whl#sha256=1949017b72f8b9c4060f4c12bc35ff47850617e37d2440b574bff362cd8f5174 (from https://pypi.org/simple/colorama/), version: 0.4.2\n",
            "  Found link https://files.pythonhosted.org/packages/cb/fe/bfc4d807aa43a183ab387340f524a0bb086624f2c5935bd08e647b54b269/colorama-0.4.2.tar.gz#sha256=3e0d36a97e86c019317b4896075b38a72438df68abdde0518a6ca12c88448a4b (from https://pypi.org/simple/colorama/), version: 0.4.2\n",
            "  Found link https://files.pythonhosted.org/packages/c9/dc/45cdef1b4d119eb96316b3117e6d5708a08029992b2fee2c143c7a0a5cc5/colorama-0.4.3-py2.py3-none-any.whl#sha256=7d73d2a99753107a36ac6b455ee49046802e59d9d076ef8e47b61499fa29afff (from https://pypi.org/simple/colorama/) (requires-python:>=2.7, !=3.0.*, !=3.1.*, !=3.2.*, !=3.3.*, !=3.4.*), version: 0.4.3\n",
            "  Found link https://files.pythonhosted.org/packages/82/75/f2a4c0c94c85e2693c229142eb448840fba0f9230111faa889d1f541d12d/colorama-0.4.3.tar.gz#sha256=e96da0d330793e2cb9485e9ddfd918d456036c7149416295932478192f4436a1 (from https://pypi.org/simple/colorama/) (requires-python:>=2.7, !=3.0.*, !=3.1.*, !=3.2.*, !=3.3.*, !=3.4.*), version: 0.4.3\n",
            "Given no hashes to check 82 links for project 'colorama': discarding no candidates\n",
            "Using version 0.4.3 (newest of versions: 0.1, 0.1.1, 0.1.2, 0.1.3, 0.1.4, 0.1.5, 0.1.6, 0.1.7, 0.1.8, 0.1.9, 0.1.10, 0.1.11, 0.1.12, 0.1.13, 0.1.14, 0.1.15, 0.1.16, 0.1.17, 0.1.18, 0.2.0, 0.2.1, 0.2.2, 0.2.3, 0.2.4, 0.2.5, 0.2.6, 0.2.7, 0.3.0, 0.3.1, 0.3.2, 0.3.3, 0.3.4, 0.3.5, 0.3.6, 0.3.7, 0.3.8, 0.3.9, 0.4.0, 0.4.1, 0.4.2, 0.4.3)\n",
            "Collecting colorama\n",
            "  Created temporary directory: /tmp/pip-unpack-qx5fwtdp\n",
            "  Looking up \"https://files.pythonhosted.org/packages/c9/dc/45cdef1b4d119eb96316b3117e6d5708a08029992b2fee2c143c7a0a5cc5/colorama-0.4.3-py2.py3-none-any.whl\" in the cache\n",
            "  No cache entry available\n",
            "  https://files.pythonhosted.org:443 \"GET /packages/c9/dc/45cdef1b4d119eb96316b3117e6d5708a08029992b2fee2c143c7a0a5cc5/colorama-0.4.3-py2.py3-none-any.whl HTTP/1.1\" 200 15931\n",
            "  Downloading https://files.pythonhosted.org/packages/c9/dc/45cdef1b4d119eb96316b3117e6d5708a08029992b2fee2c143c7a0a5cc5/colorama-0.4.3-py2.py3-none-any.whl\n",
            "  Ignoring unknown cache-control directive: immutable\n",
            "  Updating cache with response from \"https://files.pythonhosted.org/packages/c9/dc/45cdef1b4d119eb96316b3117e6d5708a08029992b2fee2c143c7a0a5cc5/colorama-0.4.3-py2.py3-none-any.whl\"\n",
            "  Caching due to etag\n",
            "  Added colorama from https://files.pythonhosted.org/packages/c9/dc/45cdef1b4d119eb96316b3117e6d5708a08029992b2fee2c143c7a0a5cc5/colorama-0.4.3-py2.py3-none-any.whl#sha256=7d73d2a99753107a36ac6b455ee49046802e59d9d076ef8e47b61499fa29afff (from keras-tuner>=1.0.1->autokeras==1.0.3) to build tracker '/tmp/pip-req-tracker-umpjdscu'\n",
            "  Removed colorama from https://files.pythonhosted.org/packages/c9/dc/45cdef1b4d119eb96316b3117e6d5708a08029992b2fee2c143c7a0a5cc5/colorama-0.4.3-py2.py3-none-any.whl#sha256=7d73d2a99753107a36ac6b455ee49046802e59d9d076ef8e47b61499fa29afff (from keras-tuner>=1.0.1->autokeras==1.0.3) from build tracker '/tmp/pip-req-tracker-umpjdscu'\n",
            "Requirement already satisfied: tqdm in /usr/local/lib/python3.6/dist-packages (from keras-tuner>=1.0.1->autokeras==1.0.3) (4.41.1)\n",
            "Requirement already satisfied: requests in /usr/local/lib/python3.6/dist-packages (from keras-tuner>=1.0.1->autokeras==1.0.3) (2.23.0)\n",
            "Requirement already satisfied: scipy in /usr/local/lib/python3.6/dist-packages (from keras-tuner>=1.0.1->autokeras==1.0.3) (1.4.1)\n",
            "Requirement already satisfied: joblib>=0.11 in /usr/local/lib/python3.6/dist-packages (from scikit-learn->autokeras==1.0.3) (0.15.0)\n",
            "Requirement already satisfied: pytz>=2017.2 in /usr/local/lib/python3.6/dist-packages (from pandas->autokeras==1.0.3) (2018.9)\n",
            "Requirement already satisfied: python-dateutil>=2.6.1 in /usr/local/lib/python3.6/dist-packages (from pandas->autokeras==1.0.3) (2.8.1)\n",
            "Requirement already satisfied: idna<3,>=2.5 in /usr/local/lib/python3.6/dist-packages (from requests->keras-tuner>=1.0.1->autokeras==1.0.3) (2.9)\n",
            "Requirement already satisfied: urllib3!=1.25.0,!=1.25.1,<1.26,>=1.21.1 in /usr/local/lib/python3.6/dist-packages (from requests->keras-tuner>=1.0.1->autokeras==1.0.3) (1.24.3)\n",
            "Requirement already satisfied: chardet<4,>=3.0.2 in /usr/local/lib/python3.6/dist-packages (from requests->keras-tuner>=1.0.1->autokeras==1.0.3) (3.0.4)\n",
            "Requirement already satisfied: certifi>=2017.4.17 in /usr/local/lib/python3.6/dist-packages (from requests->keras-tuner>=1.0.1->autokeras==1.0.3) (2020.4.5.1)\n",
            "Building wheels for collected packages: autokeras, keras-tuner, terminaltables\n",
            "  Created temporary directory: /tmp/pip-wheel-geeb0wl2\n",
            "  Building wheel for autokeras (setup.py) ... \u001b[?25l  Destination directory: /tmp/pip-wheel-geeb0wl2\n",
            "  Running command /usr/bin/python3 -u -c 'import sys, setuptools, tokenize; sys.argv[0] = '\"'\"'/tmp/pip-req-build-2_9iut5m/setup.py'\"'\"'; __file__='\"'\"'/tmp/pip-req-build-2_9iut5m/setup.py'\"'\"';f=getattr(tokenize, '\"'\"'open'\"'\"', open)(__file__);code=f.read().replace('\"'\"'\\r\\n'\"'\"', '\"'\"'\\n'\"'\"');f.close();exec(compile(code, __file__, '\"'\"'exec'\"'\"'))' bdist_wheel -d /tmp/pip-wheel-geeb0wl2 --python-tag cp36\n",
            "  running bdist_wheel\n",
            "  running build\n",
            "  running build_py\n",
            "  creating build\n",
            "  creating build/lib\n",
            "  creating build/lib/autokeras\n",
            "  copying autokeras/nodes.py -> build/lib/autokeras\n",
            "  copying autokeras/__init__.py -> build/lib/autokeras\n",
            "  copying autokeras/keras_layers.py -> build/lib/autokeras\n",
            "  copying autokeras/auto_model.py -> build/lib/autokeras\n",
            "  copying autokeras/encoders.py -> build/lib/autokeras\n",
            "  copying autokeras/graph.py -> build/lib/autokeras\n",
            "  creating build/lib/autokeras/tasks\n",
            "  copying autokeras/tasks/structured_data_mixin.py -> build/lib/autokeras/tasks\n",
            "  copying autokeras/tasks/__init__.py -> build/lib/autokeras/tasks\n",
            "  copying autokeras/tasks/text.py -> build/lib/autokeras/tasks\n",
            "  copying autokeras/tasks/image.py -> build/lib/autokeras/tasks\n",
            "  copying autokeras/tasks/time_series_forecaster.py -> build/lib/autokeras/tasks\n",
            "  copying autokeras/tasks/structured_data.py -> build/lib/autokeras/tasks\n",
            "  creating build/lib/autokeras/adapters\n",
            "  copying autokeras/adapters/input_adapter.py -> build/lib/autokeras/adapters\n",
            "  copying autokeras/adapters/__init__.py -> build/lib/autokeras/adapters\n",
            "  copying autokeras/adapters/output_adapter.py -> build/lib/autokeras/adapters\n",
            "  creating build/lib/autokeras/utils\n",
            "  copying autokeras/utils/types.py -> build/lib/autokeras/utils\n",
            "  copying autokeras/utils/layer_utils.py -> build/lib/autokeras/utils\n",
            "  copying autokeras/utils/__init__.py -> build/lib/autokeras/utils\n",
            "  copying autokeras/utils/data_utils.py -> build/lib/autokeras/utils\n",
            "  copying autokeras/utils/utils.py -> build/lib/autokeras/utils\n",
            "  creating build/lib/autokeras/tuners\n",
            "  copying autokeras/tuners/bayesian_optimization.py -> build/lib/autokeras/tuners\n",
            "  copying autokeras/tuners/greedy.py -> build/lib/autokeras/tuners\n",
            "  copying autokeras/tuners/__init__.py -> build/lib/autokeras/tuners\n",
            "  copying autokeras/tuners/random_search.py -> build/lib/autokeras/tuners\n",
            "  copying autokeras/tuners/hyperband.py -> build/lib/autokeras/tuners\n",
            "  copying autokeras/tuners/task_specific.py -> build/lib/autokeras/tuners\n",
            "  creating build/lib/autokeras/engine\n",
            "  copying autokeras/engine/encoder.py -> build/lib/autokeras/engine\n",
            "  copying autokeras/engine/preprocessor.py -> build/lib/autokeras/engine\n",
            "  copying autokeras/engine/serializable.py -> build/lib/autokeras/engine\n",
            "  copying autokeras/engine/adapter.py -> build/lib/autokeras/engine\n",
            "  copying autokeras/engine/__init__.py -> build/lib/autokeras/engine\n",
            "  copying autokeras/engine/block.py -> build/lib/autokeras/engine\n",
            "  copying autokeras/engine/head.py -> build/lib/autokeras/engine\n",
            "  copying autokeras/engine/io_hypermodel.py -> build/lib/autokeras/engine\n",
            "  copying autokeras/engine/tuner.py -> build/lib/autokeras/engine\n",
            "  copying autokeras/engine/node.py -> build/lib/autokeras/engine\n",
            "  creating build/lib/autokeras/hypermodels\n",
            "  copying autokeras/hypermodels/reduction.py -> build/lib/autokeras/hypermodels\n",
            "  copying autokeras/hypermodels/__init__.py -> build/lib/autokeras/hypermodels\n",
            "  copying autokeras/hypermodels/basic.py -> build/lib/autokeras/hypermodels\n",
            "  copying autokeras/hypermodels/wrapper.py -> build/lib/autokeras/hypermodels\n",
            "  copying autokeras/hypermodels/heads.py -> build/lib/autokeras/hypermodels\n",
            "  copying autokeras/hypermodels/preprocessing.py -> build/lib/autokeras/hypermodels\n",
            "  creating build/lib/tests\n",
            "  creating build/lib/tests/autokeras\n",
            "  copying tests/autokeras/keras_layers_test.py -> build/lib/tests/autokeras\n",
            "  copying tests/autokeras/graph_test.py -> build/lib/tests/autokeras\n",
            "  copying tests/autokeras/__init__.py -> build/lib/tests/autokeras\n",
            "  copying tests/autokeras/encoders_test.py -> build/lib/tests/autokeras\n",
            "  copying tests/autokeras/auto_model_test.py -> build/lib/tests/autokeras\n",
            "  copying tests/autokeras/typed_api_test.py -> build/lib/tests/autokeras\n",
            "  creating build/lib/tests/integration_tests\n",
            "  copying tests/integration_tests/functional_api_test.py -> build/lib/tests/integration_tests\n",
            "  copying tests/integration_tests/task_api_test.py -> build/lib/tests/integration_tests\n",
            "  copying tests/integration_tests/io_api_test.py -> build/lib/tests/integration_tests\n",
            "  copying tests/integration_tests/__init__.py -> build/lib/tests/integration_tests\n",
            "  creating build/lib/tests/autokeras/tasks\n",
            "  copying tests/autokeras/tasks/image_test.py -> build/lib/tests/autokeras/tasks\n",
            "  copying tests/autokeras/tasks/__init__.py -> build/lib/tests/autokeras/tasks\n",
            "  copying tests/autokeras/tasks/text_test.py -> build/lib/tests/autokeras/tasks\n",
            "  copying tests/autokeras/tasks/structure_data_test.py -> build/lib/tests/autokeras/tasks\n",
            "  creating build/lib/tests/autokeras/adapters\n",
            "  copying tests/autokeras/adapters/input_adapter_test.py -> build/lib/tests/autokeras/adapters\n",
            "  copying tests/autokeras/adapters/__init__.py -> build/lib/tests/autokeras/adapters\n",
            "  copying tests/autokeras/adapters/output_adapter_test.py -> build/lib/tests/autokeras/adapters\n",
            "  creating build/lib/tests/autokeras/utils\n",
            "  copying tests/autokeras/utils/utils_test.py -> build/lib/tests/autokeras/utils\n",
            "  copying tests/autokeras/utils/__init__.py -> build/lib/tests/autokeras/utils\n",
            "  creating build/lib/tests/autokeras/tuners\n",
            "  copying tests/autokeras/tuners/greedy_test.py -> build/lib/tests/autokeras/tuners\n",
            "  copying tests/autokeras/tuners/hyperband_test.py -> build/lib/tests/autokeras/tuners\n",
            "  copying tests/autokeras/tuners/__init__.py -> build/lib/tests/autokeras/tuners\n",
            "  copying tests/autokeras/tuners/task_specific_test.py -> build/lib/tests/autokeras/tuners\n",
            "  copying tests/autokeras/tuners/random_search_test.py -> build/lib/tests/autokeras/tuners\n",
            "  creating build/lib/tests/autokeras/engine\n",
            "  copying tests/autokeras/engine/node_test.py -> build/lib/tests/autokeras/engine\n",
            "  copying tests/autokeras/engine/block_test.py -> build/lib/tests/autokeras/engine\n",
            "  copying tests/autokeras/engine/__init__.py -> build/lib/tests/autokeras/engine\n",
            "  copying tests/autokeras/engine/tuner_test.py -> build/lib/tests/autokeras/engine\n",
            "  creating build/lib/tests/autokeras/hypermodels\n",
            "  copying tests/autokeras/hypermodels/wrapper_test.py -> build/lib/tests/autokeras/hypermodels\n",
            "  copying tests/autokeras/hypermodels/preprocessing_test.py -> build/lib/tests/autokeras/hypermodels\n",
            "  copying tests/autokeras/hypermodels/__init__.py -> build/lib/tests/autokeras/hypermodels\n",
            "  copying tests/autokeras/hypermodels/reduction_test.py -> build/lib/tests/autokeras/hypermodels\n",
            "  copying tests/autokeras/hypermodels/basic_test.py -> build/lib/tests/autokeras/hypermodels\n",
            "  copying tests/autokeras/hypermodels/heads_test.py -> build/lib/tests/autokeras/hypermodels\n",
            "  installing to build/bdist.linux-x86_64/wheel\n",
            "  running install\n",
            "  running install_lib\n",
            "  creating build/bdist.linux-x86_64\n",
            "  creating build/bdist.linux-x86_64/wheel\n",
            "  creating build/bdist.linux-x86_64/wheel/autokeras\n",
            "  copying build/lib/autokeras/nodes.py -> build/bdist.linux-x86_64/wheel/autokeras\n",
            "  creating build/bdist.linux-x86_64/wheel/autokeras/tasks\n",
            "  copying build/lib/autokeras/tasks/structured_data_mixin.py -> build/bdist.linux-x86_64/wheel/autokeras/tasks\n",
            "  copying build/lib/autokeras/tasks/__init__.py -> build/bdist.linux-x86_64/wheel/autokeras/tasks\n",
            "  copying build/lib/autokeras/tasks/text.py -> build/bdist.linux-x86_64/wheel/autokeras/tasks\n",
            "  copying build/lib/autokeras/tasks/image.py -> build/bdist.linux-x86_64/wheel/autokeras/tasks\n",
            "  copying build/lib/autokeras/tasks/time_series_forecaster.py -> build/bdist.linux-x86_64/wheel/autokeras/tasks\n",
            "  copying build/lib/autokeras/tasks/structured_data.py -> build/bdist.linux-x86_64/wheel/autokeras/tasks\n",
            "  creating build/bdist.linux-x86_64/wheel/autokeras/adapters\n",
            "  copying build/lib/autokeras/adapters/input_adapter.py -> build/bdist.linux-x86_64/wheel/autokeras/adapters\n",
            "  copying build/lib/autokeras/adapters/__init__.py -> build/bdist.linux-x86_64/wheel/autokeras/adapters\n",
            "  copying build/lib/autokeras/adapters/output_adapter.py -> build/bdist.linux-x86_64/wheel/autokeras/adapters\n",
            "  creating build/bdist.linux-x86_64/wheel/autokeras/utils\n",
            "  copying build/lib/autokeras/utils/types.py -> build/bdist.linux-x86_64/wheel/autokeras/utils\n",
            "  copying build/lib/autokeras/utils/layer_utils.py -> build/bdist.linux-x86_64/wheel/autokeras/utils\n",
            "  copying build/lib/autokeras/utils/__init__.py -> build/bdist.linux-x86_64/wheel/autokeras/utils\n",
            "  copying build/lib/autokeras/utils/data_utils.py -> build/bdist.linux-x86_64/wheel/autokeras/utils\n",
            "  copying build/lib/autokeras/utils/utils.py -> build/bdist.linux-x86_64/wheel/autokeras/utils\n",
            "  copying build/lib/autokeras/__init__.py -> build/bdist.linux-x86_64/wheel/autokeras\n",
            "  copying build/lib/autokeras/keras_layers.py -> build/bdist.linux-x86_64/wheel/autokeras\n",
            "  copying build/lib/autokeras/auto_model.py -> build/bdist.linux-x86_64/wheel/autokeras\n",
            "  copying build/lib/autokeras/encoders.py -> build/bdist.linux-x86_64/wheel/autokeras\n",
            "  creating build/bdist.linux-x86_64/wheel/autokeras/tuners\n",
            "  copying build/lib/autokeras/tuners/bayesian_optimization.py -> build/bdist.linux-x86_64/wheel/autokeras/tuners\n",
            "  copying build/lib/autokeras/tuners/greedy.py -> build/bdist.linux-x86_64/wheel/autokeras/tuners\n",
            "  copying build/lib/autokeras/tuners/__init__.py -> build/bdist.linux-x86_64/wheel/autokeras/tuners\n",
            "  copying build/lib/autokeras/tuners/random_search.py -> build/bdist.linux-x86_64/wheel/autokeras/tuners\n",
            "  copying build/lib/autokeras/tuners/hyperband.py -> build/bdist.linux-x86_64/wheel/autokeras/tuners\n",
            "  copying build/lib/autokeras/tuners/task_specific.py -> build/bdist.linux-x86_64/wheel/autokeras/tuners\n",
            "  creating build/bdist.linux-x86_64/wheel/autokeras/engine\n",
            "  copying build/lib/autokeras/engine/encoder.py -> build/bdist.linux-x86_64/wheel/autokeras/engine\n",
            "  copying build/lib/autokeras/engine/preprocessor.py -> build/bdist.linux-x86_64/wheel/autokeras/engine\n",
            "  copying build/lib/autokeras/engine/serializable.py -> build/bdist.linux-x86_64/wheel/autokeras/engine\n",
            "  copying build/lib/autokeras/engine/adapter.py -> build/bdist.linux-x86_64/wheel/autokeras/engine\n",
            "  copying build/lib/autokeras/engine/__init__.py -> build/bdist.linux-x86_64/wheel/autokeras/engine\n",
            "  copying build/lib/autokeras/engine/block.py -> build/bdist.linux-x86_64/wheel/autokeras/engine\n",
            "  copying build/lib/autokeras/engine/head.py -> build/bdist.linux-x86_64/wheel/autokeras/engine\n",
            "  copying build/lib/autokeras/engine/io_hypermodel.py -> build/bdist.linux-x86_64/wheel/autokeras/engine\n",
            "  copying build/lib/autokeras/engine/tuner.py -> build/bdist.linux-x86_64/wheel/autokeras/engine\n",
            "  copying build/lib/autokeras/engine/node.py -> build/bdist.linux-x86_64/wheel/autokeras/engine\n",
            "  copying build/lib/autokeras/graph.py -> build/bdist.linux-x86_64/wheel/autokeras\n",
            "  creating build/bdist.linux-x86_64/wheel/autokeras/hypermodels\n",
            "  copying build/lib/autokeras/hypermodels/reduction.py -> build/bdist.linux-x86_64/wheel/autokeras/hypermodels\n",
            "  copying build/lib/autokeras/hypermodels/__init__.py -> build/bdist.linux-x86_64/wheel/autokeras/hypermodels\n",
            "  copying build/lib/autokeras/hypermodels/basic.py -> build/bdist.linux-x86_64/wheel/autokeras/hypermodels\n",
            "  copying build/lib/autokeras/hypermodels/wrapper.py -> build/bdist.linux-x86_64/wheel/autokeras/hypermodels\n",
            "  copying build/lib/autokeras/hypermodels/heads.py -> build/bdist.linux-x86_64/wheel/autokeras/hypermodels\n",
            "  copying build/lib/autokeras/hypermodels/preprocessing.py -> build/bdist.linux-x86_64/wheel/autokeras/hypermodels\n",
            "  creating build/bdist.linux-x86_64/wheel/tests\n",
            "  creating build/bdist.linux-x86_64/wheel/tests/autokeras\n",
            "  copying build/lib/tests/autokeras/keras_layers_test.py -> build/bdist.linux-x86_64/wheel/tests/autokeras\n",
            "  creating build/bdist.linux-x86_64/wheel/tests/autokeras/tasks\n",
            "  copying build/lib/tests/autokeras/tasks/image_test.py -> build/bdist.linux-x86_64/wheel/tests/autokeras/tasks\n",
            "  copying build/lib/tests/autokeras/tasks/__init__.py -> build/bdist.linux-x86_64/wheel/tests/autokeras/tasks\n",
            "  copying build/lib/tests/autokeras/tasks/text_test.py -> build/bdist.linux-x86_64/wheel/tests/autokeras/tasks\n",
            "  copying build/lib/tests/autokeras/tasks/structure_data_test.py -> build/bdist.linux-x86_64/wheel/tests/autokeras/tasks\n",
            "  creating build/bdist.linux-x86_64/wheel/tests/autokeras/adapters\n",
            "  copying build/lib/tests/autokeras/adapters/input_adapter_test.py -> build/bdist.linux-x86_64/wheel/tests/autokeras/adapters\n",
            "  copying build/lib/tests/autokeras/adapters/__init__.py -> build/bdist.linux-x86_64/wheel/tests/autokeras/adapters\n",
            "  copying build/lib/tests/autokeras/adapters/output_adapter_test.py -> build/bdist.linux-x86_64/wheel/tests/autokeras/adapters\n",
            "  creating build/bdist.linux-x86_64/wheel/tests/autokeras/utils\n",
            "  copying build/lib/tests/autokeras/utils/utils_test.py -> build/bdist.linux-x86_64/wheel/tests/autokeras/utils\n",
            "  copying build/lib/tests/autokeras/utils/__init__.py -> build/bdist.linux-x86_64/wheel/tests/autokeras/utils\n",
            "  copying build/lib/tests/autokeras/graph_test.py -> build/bdist.linux-x86_64/wheel/tests/autokeras\n",
            "  copying build/lib/tests/autokeras/__init__.py -> build/bdist.linux-x86_64/wheel/tests/autokeras\n",
            "  copying build/lib/tests/autokeras/encoders_test.py -> build/bdist.linux-x86_64/wheel/tests/autokeras\n",
            "  creating build/bdist.linux-x86_64/wheel/tests/autokeras/tuners\n",
            "  copying build/lib/tests/autokeras/tuners/greedy_test.py -> build/bdist.linux-x86_64/wheel/tests/autokeras/tuners\n",
            "  copying build/lib/tests/autokeras/tuners/hyperband_test.py -> build/bdist.linux-x86_64/wheel/tests/autokeras/tuners\n",
            "  copying build/lib/tests/autokeras/tuners/__init__.py -> build/bdist.linux-x86_64/wheel/tests/autokeras/tuners\n",
            "  copying build/lib/tests/autokeras/tuners/task_specific_test.py -> build/bdist.linux-x86_64/wheel/tests/autokeras/tuners\n",
            "  copying build/lib/tests/autokeras/tuners/random_search_test.py -> build/bdist.linux-x86_64/wheel/tests/autokeras/tuners\n",
            "  copying build/lib/tests/autokeras/auto_model_test.py -> build/bdist.linux-x86_64/wheel/tests/autokeras\n",
            "  creating build/bdist.linux-x86_64/wheel/tests/autokeras/engine\n",
            "  copying build/lib/tests/autokeras/engine/node_test.py -> build/bdist.linux-x86_64/wheel/tests/autokeras/engine\n",
            "  copying build/lib/tests/autokeras/engine/block_test.py -> build/bdist.linux-x86_64/wheel/tests/autokeras/engine\n",
            "  copying build/lib/tests/autokeras/engine/__init__.py -> build/bdist.linux-x86_64/wheel/tests/autokeras/engine\n",
            "  copying build/lib/tests/autokeras/engine/tuner_test.py -> build/bdist.linux-x86_64/wheel/tests/autokeras/engine\n",
            "  creating build/bdist.linux-x86_64/wheel/tests/autokeras/hypermodels\n",
            "  copying build/lib/tests/autokeras/hypermodels/wrapper_test.py -> build/bdist.linux-x86_64/wheel/tests/autokeras/hypermodels\n",
            "  copying build/lib/tests/autokeras/hypermodels/preprocessing_test.py -> build/bdist.linux-x86_64/wheel/tests/autokeras/hypermodels\n",
            "  copying build/lib/tests/autokeras/hypermodels/__init__.py -> build/bdist.linux-x86_64/wheel/tests/autokeras/hypermodels\n",
            "  copying build/lib/tests/autokeras/hypermodels/reduction_test.py -> build/bdist.linux-x86_64/wheel/tests/autokeras/hypermodels\n",
            "  copying build/lib/tests/autokeras/hypermodels/basic_test.py -> build/bdist.linux-x86_64/wheel/tests/autokeras/hypermodels\n",
            "  copying build/lib/tests/autokeras/hypermodels/heads_test.py -> build/bdist.linux-x86_64/wheel/tests/autokeras/hypermodels\n",
            "  copying build/lib/tests/autokeras/typed_api_test.py -> build/bdist.linux-x86_64/wheel/tests/autokeras\n",
            "  creating build/bdist.linux-x86_64/wheel/tests/integration_tests\n",
            "  copying build/lib/tests/integration_tests/functional_api_test.py -> build/bdist.linux-x86_64/wheel/tests/integration_tests\n",
            "  copying build/lib/tests/integration_tests/task_api_test.py -> build/bdist.linux-x86_64/wheel/tests/integration_tests\n",
            "  copying build/lib/tests/integration_tests/io_api_test.py -> build/bdist.linux-x86_64/wheel/tests/integration_tests\n",
            "  copying build/lib/tests/integration_tests/__init__.py -> build/bdist.linux-x86_64/wheel/tests/integration_tests\n",
            "  running install_egg_info\n",
            "  running egg_info\n",
            "  creating autokeras.egg-info\n",
            "  writing autokeras.egg-info/PKG-INFO\n",
            "  writing dependency_links to autokeras.egg-info/dependency_links.txt\n",
            "  writing requirements to autokeras.egg-info/requires.txt\n",
            "  writing top-level names to autokeras.egg-info/top_level.txt\n",
            "  writing manifest file 'autokeras.egg-info/SOURCES.txt'\n",
            "  reading manifest file 'autokeras.egg-info/SOURCES.txt'\n",
            "  writing manifest file 'autokeras.egg-info/SOURCES.txt'\n",
            "  Copying autokeras.egg-info to build/bdist.linux-x86_64/wheel/autokeras-1.0.3-py3.6.egg-info\n",
            "  running install_scripts\n",
            "  adding license file \"LICENSE.txt\" (matched pattern \"LICEN[CS]E*\")\n",
            "  creating build/bdist.linux-x86_64/wheel/autokeras-1.0.3.dist-info/WHEEL\n",
            "  creating '/tmp/pip-wheel-geeb0wl2/autokeras-1.0.3-cp36-none-any.whl' and adding 'build/bdist.linux-x86_64/wheel' to it\n",
            "  adding 'autokeras/__init__.py'\n",
            "  adding 'autokeras/auto_model.py'\n",
            "  adding 'autokeras/encoders.py'\n",
            "  adding 'autokeras/graph.py'\n",
            "  adding 'autokeras/keras_layers.py'\n",
            "  adding 'autokeras/nodes.py'\n",
            "  adding 'autokeras/adapters/__init__.py'\n",
            "  adding 'autokeras/adapters/input_adapter.py'\n",
            "  adding 'autokeras/adapters/output_adapter.py'\n",
            "  adding 'autokeras/engine/__init__.py'\n",
            "  adding 'autokeras/engine/adapter.py'\n",
            "  adding 'autokeras/engine/block.py'\n",
            "  adding 'autokeras/engine/encoder.py'\n",
            "  adding 'autokeras/engine/head.py'\n",
            "  adding 'autokeras/engine/io_hypermodel.py'\n",
            "  adding 'autokeras/engine/node.py'\n",
            "  adding 'autokeras/engine/preprocessor.py'\n",
            "  adding 'autokeras/engine/serializable.py'\n",
            "  adding 'autokeras/engine/tuner.py'\n",
            "  adding 'autokeras/hypermodels/__init__.py'\n",
            "  adding 'autokeras/hypermodels/basic.py'\n",
            "  adding 'autokeras/hypermodels/heads.py'\n",
            "  adding 'autokeras/hypermodels/preprocessing.py'\n",
            "  adding 'autokeras/hypermodels/reduction.py'\n",
            "  adding 'autokeras/hypermodels/wrapper.py'\n",
            "  adding 'autokeras/tasks/__init__.py'\n",
            "  adding 'autokeras/tasks/image.py'\n",
            "  adding 'autokeras/tasks/structured_data.py'\n",
            "  adding 'autokeras/tasks/structured_data_mixin.py'\n",
            "  adding 'autokeras/tasks/text.py'\n",
            "  adding 'autokeras/tasks/time_series_forecaster.py'\n",
            "  adding 'autokeras/tuners/__init__.py'\n",
            "  adding 'autokeras/tuners/bayesian_optimization.py'\n",
            "  adding 'autokeras/tuners/greedy.py'\n",
            "  adding 'autokeras/tuners/hyperband.py'\n",
            "  adding 'autokeras/tuners/random_search.py'\n",
            "  adding 'autokeras/tuners/task_specific.py'\n",
            "  adding 'autokeras/utils/__init__.py'\n",
            "  adding 'autokeras/utils/data_utils.py'\n",
            "  adding 'autokeras/utils/layer_utils.py'\n",
            "  adding 'autokeras/utils/types.py'\n",
            "  adding 'autokeras/utils/utils.py'\n",
            "  adding 'tests/autokeras/__init__.py'\n",
            "  adding 'tests/autokeras/auto_model_test.py'\n",
            "  adding 'tests/autokeras/encoders_test.py'\n",
            "  adding 'tests/autokeras/graph_test.py'\n",
            "  adding 'tests/autokeras/keras_layers_test.py'\n",
            "  adding 'tests/autokeras/typed_api_test.py'\n",
            "  adding 'tests/autokeras/adapters/__init__.py'\n",
            "  adding 'tests/autokeras/adapters/input_adapter_test.py'\n",
            "  adding 'tests/autokeras/adapters/output_adapter_test.py'\n",
            "  adding 'tests/autokeras/engine/__init__.py'\n",
            "  adding 'tests/autokeras/engine/block_test.py'\n",
            "  adding 'tests/autokeras/engine/node_test.py'\n",
            "  adding 'tests/autokeras/engine/tuner_test.py'\n",
            "  adding 'tests/autokeras/hypermodels/__init__.py'\n",
            "  adding 'tests/autokeras/hypermodels/basic_test.py'\n",
            "  adding 'tests/autokeras/hypermodels/heads_test.py'\n",
            "  adding 'tests/autokeras/hypermodels/preprocessing_test.py'\n",
            "  adding 'tests/autokeras/hypermodels/reduction_test.py'\n",
            "  adding 'tests/autokeras/hypermodels/wrapper_test.py'\n",
            "  adding 'tests/autokeras/tasks/__init__.py'\n",
            "  adding 'tests/autokeras/tasks/image_test.py'\n",
            "  adding 'tests/autokeras/tasks/structure_data_test.py'\n",
            "  adding 'tests/autokeras/tasks/text_test.py'\n",
            "  adding 'tests/autokeras/tuners/__init__.py'\n",
            "  adding 'tests/autokeras/tuners/greedy_test.py'\n",
            "  adding 'tests/autokeras/tuners/hyperband_test.py'\n",
            "  adding 'tests/autokeras/tuners/random_search_test.py'\n",
            "  adding 'tests/autokeras/tuners/task_specific_test.py'\n",
            "  adding 'tests/autokeras/utils/__init__.py'\n",
            "  adding 'tests/autokeras/utils/utils_test.py'\n",
            "  adding 'tests/integration_tests/__init__.py'\n",
            "  adding 'tests/integration_tests/functional_api_test.py'\n",
            "  adding 'tests/integration_tests/io_api_test.py'\n",
            "  adding 'tests/integration_tests/task_api_test.py'\n",
            "  adding 'autokeras-1.0.3.dist-info/LICENSE.txt'\n",
            "  adding 'autokeras-1.0.3.dist-info/METADATA'\n",
            "  adding 'autokeras-1.0.3.dist-info/WHEEL'\n",
            "  adding 'autokeras-1.0.3.dist-info/top_level.txt'\n",
            "  adding 'autokeras-1.0.3.dist-info/RECORD'\n",
            "  removing build/bdist.linux-x86_64/wheel\n",
            "\u001b[?25hdone\n",
            "  Created wheel for autokeras: filename=autokeras-1.0.3-cp36-none-any.whl size=75510 sha256=a18cb1e73c58f7e735cee7fd2bf0de28b546f545759c4880bec7504e94b3beb1\n",
            "  Stored in directory: /root/.cache/pip/wheels/e8/0a/85/8d06beabeceefaf17cd677560244e3e399caa50d502044af64\n",
            "  Removing source in /tmp/pip-req-build-2_9iut5m\n",
            "  Created temporary directory: /tmp/pip-wheel-0qlazof_\n",
            "  Building wheel for keras-tuner (setup.py) ... \u001b[?25l  Destination directory: /tmp/pip-wheel-0qlazof_\n",
            "  Running command /usr/bin/python3 -u -c 'import sys, setuptools, tokenize; sys.argv[0] = '\"'\"'/tmp/pip-install-5ieud1uv/keras-tuner/setup.py'\"'\"'; __file__='\"'\"'/tmp/pip-install-5ieud1uv/keras-tuner/setup.py'\"'\"';f=getattr(tokenize, '\"'\"'open'\"'\"', open)(__file__);code=f.read().replace('\"'\"'\\r\\n'\"'\"', '\"'\"'\\n'\"'\"');f.close();exec(compile(code, __file__, '\"'\"'exec'\"'\"'))' bdist_wheel -d /tmp/pip-wheel-0qlazof_ --python-tag cp36\n",
            "  running bdist_wheel\n",
            "  running build\n",
            "  running build_py\n",
            "  creating build\n",
            "  creating build/lib\n",
            "  creating build/lib/kerastuner\n",
            "  copying kerastuner/__init__.py -> build/lib/kerastuner\n",
            "  copying kerastuner/config.py -> build/lib/kerastuner\n",
            "  copying kerastuner/utils.py -> build/lib/kerastuner\n",
            "  creating build/lib/kerastuner/distribute\n",
            "  copying kerastuner/distribute/__init__.py -> build/lib/kerastuner/distribute\n",
            "  copying kerastuner/distribute/oracle_client.py -> build/lib/kerastuner/distribute\n",
            "  copying kerastuner/distribute/oracle_chief.py -> build/lib/kerastuner/distribute\n",
            "  copying kerastuner/distribute/utils.py -> build/lib/kerastuner/distribute\n",
            "  creating build/lib/kerastuner/protos\n",
            "  copying kerastuner/protos/__init__.py -> build/lib/kerastuner/protos\n",
            "  copying kerastuner/protos/kerastuner_pb2.py -> build/lib/kerastuner/protos\n",
            "  copying kerastuner/protos/service_pb2_grpc.py -> build/lib/kerastuner/protos\n",
            "  copying kerastuner/protos/kerastuner_pb2_grpc.py -> build/lib/kerastuner/protos\n",
            "  copying kerastuner/protos/service_pb2.py -> build/lib/kerastuner/protos\n",
            "  creating build/lib/kerastuner/abstractions\n",
            "  copying kerastuner/abstractions/__init__.py -> build/lib/kerastuner/abstractions\n",
            "  copying kerastuner/abstractions/display.py -> build/lib/kerastuner/abstractions\n",
            "  creating build/lib/kerastuner/tuners\n",
            "  copying kerastuner/tuners/bayesian.py -> build/lib/kerastuner/tuners\n",
            "  copying kerastuner/tuners/__init__.py -> build/lib/kerastuner/tuners\n",
            "  copying kerastuner/tuners/hyperband.py -> build/lib/kerastuner/tuners\n",
            "  copying kerastuner/tuners/randomsearch.py -> build/lib/kerastuner/tuners\n",
            "  copying kerastuner/tuners/sklearn_tuner.py -> build/lib/kerastuner/tuners\n",
            "  creating build/lib/kerastuner/engine\n",
            "  copying kerastuner/engine/tuner_utils.py -> build/lib/kerastuner/engine\n",
            "  copying kerastuner/engine/trial.py -> build/lib/kerastuner/engine\n",
            "  copying kerastuner/engine/metrics_tracking.py -> build/lib/kerastuner/engine\n",
            "  copying kerastuner/engine/multi_execution_tuner.py -> build/lib/kerastuner/engine\n",
            "  copying kerastuner/engine/__init__.py -> build/lib/kerastuner/engine\n",
            "  copying kerastuner/engine/stateful.py -> build/lib/kerastuner/engine\n",
            "  copying kerastuner/engine/oracle.py -> build/lib/kerastuner/engine\n",
            "  copying kerastuner/engine/tuner.py -> build/lib/kerastuner/engine\n",
            "  copying kerastuner/engine/hyperparameters.py -> build/lib/kerastuner/engine\n",
            "  copying kerastuner/engine/hypermodel.py -> build/lib/kerastuner/engine\n",
            "  copying kerastuner/engine/base_tuner.py -> build/lib/kerastuner/engine\n",
            "  copying kerastuner/engine/logger.py -> build/lib/kerastuner/engine\n",
            "  creating build/lib/kerastuner/applications\n",
            "  copying kerastuner/applications/__init__.py -> build/lib/kerastuner/applications\n",
            "  copying kerastuner/applications/resnet.py -> build/lib/kerastuner/applications\n",
            "  copying kerastuner/applications/xception.py -> build/lib/kerastuner/applications\n",
            "  creating build/lib/kerastuner/oracles\n",
            "  copying kerastuner/oracles/__init__.py -> build/lib/kerastuner/oracles\n",
            "  installing to build/bdist.linux-x86_64/wheel\n",
            "  running install\n",
            "  running install_lib\n",
            "  creating build/bdist.linux-x86_64\n",
            "  creating build/bdist.linux-x86_64/wheel\n",
            "  creating build/bdist.linux-x86_64/wheel/kerastuner\n",
            "  creating build/bdist.linux-x86_64/wheel/kerastuner/distribute\n",
            "  copying build/lib/kerastuner/distribute/__init__.py -> build/bdist.linux-x86_64/wheel/kerastuner/distribute\n",
            "  copying build/lib/kerastuner/distribute/oracle_client.py -> build/bdist.linux-x86_64/wheel/kerastuner/distribute\n",
            "  copying build/lib/kerastuner/distribute/oracle_chief.py -> build/bdist.linux-x86_64/wheel/kerastuner/distribute\n",
            "  copying build/lib/kerastuner/distribute/utils.py -> build/bdist.linux-x86_64/wheel/kerastuner/distribute\n",
            "  creating build/bdist.linux-x86_64/wheel/kerastuner/protos\n",
            "  copying build/lib/kerastuner/protos/__init__.py -> build/bdist.linux-x86_64/wheel/kerastuner/protos\n",
            "  copying build/lib/kerastuner/protos/kerastuner_pb2.py -> build/bdist.linux-x86_64/wheel/kerastuner/protos\n",
            "  copying build/lib/kerastuner/protos/service_pb2_grpc.py -> build/bdist.linux-x86_64/wheel/kerastuner/protos\n",
            "  copying build/lib/kerastuner/protos/kerastuner_pb2_grpc.py -> build/bdist.linux-x86_64/wheel/kerastuner/protos\n",
            "  copying build/lib/kerastuner/protos/service_pb2.py -> build/bdist.linux-x86_64/wheel/kerastuner/protos\n",
            "  creating build/bdist.linux-x86_64/wheel/kerastuner/abstractions\n",
            "  copying build/lib/kerastuner/abstractions/__init__.py -> build/bdist.linux-x86_64/wheel/kerastuner/abstractions\n",
            "  copying build/lib/kerastuner/abstractions/display.py -> build/bdist.linux-x86_64/wheel/kerastuner/abstractions\n",
            "  copying build/lib/kerastuner/__init__.py -> build/bdist.linux-x86_64/wheel/kerastuner\n",
            "  creating build/bdist.linux-x86_64/wheel/kerastuner/tuners\n",
            "  copying build/lib/kerastuner/tuners/bayesian.py -> build/bdist.linux-x86_64/wheel/kerastuner/tuners\n",
            "  copying build/lib/kerastuner/tuners/__init__.py -> build/bdist.linux-x86_64/wheel/kerastuner/tuners\n",
            "  copying build/lib/kerastuner/tuners/hyperband.py -> build/bdist.linux-x86_64/wheel/kerastuner/tuners\n",
            "  copying build/lib/kerastuner/tuners/randomsearch.py -> build/bdist.linux-x86_64/wheel/kerastuner/tuners\n",
            "  copying build/lib/kerastuner/tuners/sklearn_tuner.py -> build/bdist.linux-x86_64/wheel/kerastuner/tuners\n",
            "  copying build/lib/kerastuner/config.py -> build/bdist.linux-x86_64/wheel/kerastuner\n",
            "  creating build/bdist.linux-x86_64/wheel/kerastuner/engine\n",
            "  copying build/lib/kerastuner/engine/tuner_utils.py -> build/bdist.linux-x86_64/wheel/kerastuner/engine\n",
            "  copying build/lib/kerastuner/engine/trial.py -> build/bdist.linux-x86_64/wheel/kerastuner/engine\n",
            "  copying build/lib/kerastuner/engine/metrics_tracking.py -> build/bdist.linux-x86_64/wheel/kerastuner/engine\n",
            "  copying build/lib/kerastuner/engine/multi_execution_tuner.py -> build/bdist.linux-x86_64/wheel/kerastuner/engine\n",
            "  copying build/lib/kerastuner/engine/__init__.py -> build/bdist.linux-x86_64/wheel/kerastuner/engine\n",
            "  copying build/lib/kerastuner/engine/stateful.py -> build/bdist.linux-x86_64/wheel/kerastuner/engine\n",
            "  copying build/lib/kerastuner/engine/oracle.py -> build/bdist.linux-x86_64/wheel/kerastuner/engine\n",
            "  copying build/lib/kerastuner/engine/tuner.py -> build/bdist.linux-x86_64/wheel/kerastuner/engine\n",
            "  copying build/lib/kerastuner/engine/hyperparameters.py -> build/bdist.linux-x86_64/wheel/kerastuner/engine\n",
            "  copying build/lib/kerastuner/engine/hypermodel.py -> build/bdist.linux-x86_64/wheel/kerastuner/engine\n",
            "  copying build/lib/kerastuner/engine/base_tuner.py -> build/bdist.linux-x86_64/wheel/kerastuner/engine\n",
            "  copying build/lib/kerastuner/engine/logger.py -> build/bdist.linux-x86_64/wheel/kerastuner/engine\n",
            "  creating build/bdist.linux-x86_64/wheel/kerastuner/applications\n",
            "  copying build/lib/kerastuner/applications/__init__.py -> build/bdist.linux-x86_64/wheel/kerastuner/applications\n",
            "  copying build/lib/kerastuner/applications/resnet.py -> build/bdist.linux-x86_64/wheel/kerastuner/applications\n",
            "  copying build/lib/kerastuner/applications/xception.py -> build/bdist.linux-x86_64/wheel/kerastuner/applications\n",
            "  creating build/bdist.linux-x86_64/wheel/kerastuner/oracles\n",
            "  copying build/lib/kerastuner/oracles/__init__.py -> build/bdist.linux-x86_64/wheel/kerastuner/oracles\n",
            "  copying build/lib/kerastuner/utils.py -> build/bdist.linux-x86_64/wheel/kerastuner\n",
            "  running install_egg_info\n",
            "  running egg_info\n",
            "  writing keras_tuner.egg-info/PKG-INFO\n",
            "  writing dependency_links to keras_tuner.egg-info/dependency_links.txt\n",
            "  writing requirements to keras_tuner.egg-info/requires.txt\n",
            "  writing top-level names to keras_tuner.egg-info/top_level.txt\n",
            "  reading manifest file 'keras_tuner.egg-info/SOURCES.txt'\n",
            "  writing manifest file 'keras_tuner.egg-info/SOURCES.txt'\n",
            "  Copying keras_tuner.egg-info to build/bdist.linux-x86_64/wheel/keras_tuner-1.0.1-py3.6.egg-info\n",
            "  running install_scripts\n",
            "  creating build/bdist.linux-x86_64/wheel/keras_tuner-1.0.1.dist-info/WHEEL\n",
            "  creating '/tmp/pip-wheel-0qlazof_/keras_tuner-1.0.1-cp36-none-any.whl' and adding 'build/bdist.linux-x86_64/wheel' to it\n",
            "  adding 'kerastuner/__init__.py'\n",
            "  adding 'kerastuner/config.py'\n",
            "  adding 'kerastuner/utils.py'\n",
            "  adding 'kerastuner/abstractions/__init__.py'\n",
            "  adding 'kerastuner/abstractions/display.py'\n",
            "  adding 'kerastuner/applications/__init__.py'\n",
            "  adding 'kerastuner/applications/resnet.py'\n",
            "  adding 'kerastuner/applications/xception.py'\n",
            "  adding 'kerastuner/distribute/__init__.py'\n",
            "  adding 'kerastuner/distribute/oracle_chief.py'\n",
            "  adding 'kerastuner/distribute/oracle_client.py'\n",
            "  adding 'kerastuner/distribute/utils.py'\n",
            "  adding 'kerastuner/engine/__init__.py'\n",
            "  adding 'kerastuner/engine/base_tuner.py'\n",
            "  adding 'kerastuner/engine/hypermodel.py'\n",
            "  adding 'kerastuner/engine/hyperparameters.py'\n",
            "  adding 'kerastuner/engine/logger.py'\n",
            "  adding 'kerastuner/engine/metrics_tracking.py'\n",
            "  adding 'kerastuner/engine/multi_execution_tuner.py'\n",
            "  adding 'kerastuner/engine/oracle.py'\n",
            "  adding 'kerastuner/engine/stateful.py'\n",
            "  adding 'kerastuner/engine/trial.py'\n",
            "  adding 'kerastuner/engine/tuner.py'\n",
            "  adding 'kerastuner/engine/tuner_utils.py'\n",
            "  adding 'kerastuner/oracles/__init__.py'\n",
            "  adding 'kerastuner/protos/__init__.py'\n",
            "  adding 'kerastuner/protos/kerastuner_pb2.py'\n",
            "  adding 'kerastuner/protos/kerastuner_pb2_grpc.py'\n",
            "  adding 'kerastuner/protos/service_pb2.py'\n",
            "  adding 'kerastuner/protos/service_pb2_grpc.py'\n",
            "  adding 'kerastuner/tuners/__init__.py'\n",
            "  adding 'kerastuner/tuners/bayesian.py'\n",
            "  adding 'kerastuner/tuners/hyperband.py'\n",
            "  adding 'kerastuner/tuners/randomsearch.py'\n",
            "  adding 'kerastuner/tuners/sklearn_tuner.py'\n",
            "  adding 'keras_tuner-1.0.1.dist-info/METADATA'\n",
            "  adding 'keras_tuner-1.0.1.dist-info/WHEEL'\n",
            "  adding 'keras_tuner-1.0.1.dist-info/top_level.txt'\n",
            "  adding 'keras_tuner-1.0.1.dist-info/RECORD'\n",
            "  removing build/bdist.linux-x86_64/wheel\n",
            "\u001b[?25hdone\n",
            "  Created wheel for keras-tuner: filename=keras_tuner-1.0.1-cp36-none-any.whl size=73200 sha256=60c24951810431eeded6a2c3f21b0809ff0e1f43f795b46f76aff79141a2b1f5\n",
            "  Stored in directory: /root/.cache/pip/wheels/b9/cc/62/52716b70dd90f3db12519233c3a93a5360bc672da1a10ded43\n",
            "  Removing source in /tmp/pip-install-5ieud1uv/keras-tuner\n",
            "  Created temporary directory: /tmp/pip-wheel-a3c3er5a\n",
            "  Building wheel for terminaltables (setup.py) ... \u001b[?25l  Destination directory: /tmp/pip-wheel-a3c3er5a\n",
            "  Running command /usr/bin/python3 -u -c 'import sys, setuptools, tokenize; sys.argv[0] = '\"'\"'/tmp/pip-install-5ieud1uv/terminaltables/setup.py'\"'\"'; __file__='\"'\"'/tmp/pip-install-5ieud1uv/terminaltables/setup.py'\"'\"';f=getattr(tokenize, '\"'\"'open'\"'\"', open)(__file__);code=f.read().replace('\"'\"'\\r\\n'\"'\"', '\"'\"'\\n'\"'\"');f.close();exec(compile(code, __file__, '\"'\"'exec'\"'\"'))' bdist_wheel -d /tmp/pip-wheel-a3c3er5a --python-tag cp36\n",
            "  running bdist_wheel\n",
            "  running build\n",
            "  running build_py\n",
            "  creating build\n",
            "  creating build/lib\n",
            "  creating build/lib/terminaltables\n",
            "  copying terminaltables/terminal_io.py -> build/lib/terminaltables\n",
            "  copying terminaltables/__init__.py -> build/lib/terminaltables\n",
            "  copying terminaltables/width_and_alignment.py -> build/lib/terminaltables\n",
            "  copying terminaltables/ascii_table.py -> build/lib/terminaltables\n",
            "  copying terminaltables/build.py -> build/lib/terminaltables\n",
            "  copying terminaltables/base_table.py -> build/lib/terminaltables\n",
            "  copying terminaltables/github_table.py -> build/lib/terminaltables\n",
            "  copying terminaltables/other_tables.py -> build/lib/terminaltables\n",
            "  installing to build/bdist.linux-x86_64/wheel\n",
            "  running install\n",
            "  running install_lib\n",
            "  creating build/bdist.linux-x86_64\n",
            "  creating build/bdist.linux-x86_64/wheel\n",
            "  creating build/bdist.linux-x86_64/wheel/terminaltables\n",
            "  copying build/lib/terminaltables/terminal_io.py -> build/bdist.linux-x86_64/wheel/terminaltables\n",
            "  copying build/lib/terminaltables/__init__.py -> build/bdist.linux-x86_64/wheel/terminaltables\n",
            "  copying build/lib/terminaltables/width_and_alignment.py -> build/bdist.linux-x86_64/wheel/terminaltables\n",
            "  copying build/lib/terminaltables/ascii_table.py -> build/bdist.linux-x86_64/wheel/terminaltables\n",
            "  copying build/lib/terminaltables/build.py -> build/bdist.linux-x86_64/wheel/terminaltables\n",
            "  copying build/lib/terminaltables/base_table.py -> build/bdist.linux-x86_64/wheel/terminaltables\n",
            "  copying build/lib/terminaltables/github_table.py -> build/bdist.linux-x86_64/wheel/terminaltables\n",
            "  copying build/lib/terminaltables/other_tables.py -> build/bdist.linux-x86_64/wheel/terminaltables\n",
            "  running install_egg_info\n",
            "  running egg_info\n",
            "  writing terminaltables.egg-info/PKG-INFO\n",
            "  writing dependency_links to terminaltables.egg-info/dependency_links.txt\n",
            "  writing top-level names to terminaltables.egg-info/top_level.txt\n",
            "  reading manifest file 'terminaltables.egg-info/SOURCES.txt'\n",
            "  writing manifest file 'terminaltables.egg-info/SOURCES.txt'\n",
            "  Copying terminaltables.egg-info to build/bdist.linux-x86_64/wheel/terminaltables-3.1.0-py3.6.egg-info\n",
            "  running install_scripts\n",
            "  creating build/bdist.linux-x86_64/wheel/terminaltables-3.1.0.dist-info/WHEEL\n",
            "  creating '/tmp/pip-wheel-a3c3er5a/terminaltables-3.1.0-cp36-none-any.whl' and adding 'build/bdist.linux-x86_64/wheel' to it\n",
            "  adding 'terminaltables/__init__.py'\n",
            "  adding 'terminaltables/ascii_table.py'\n",
            "  adding 'terminaltables/base_table.py'\n",
            "  adding 'terminaltables/build.py'\n",
            "  adding 'terminaltables/github_table.py'\n",
            "  adding 'terminaltables/other_tables.py'\n",
            "  adding 'terminaltables/terminal_io.py'\n",
            "  adding 'terminaltables/width_and_alignment.py'\n",
            "  adding 'terminaltables-3.1.0.dist-info/METADATA'\n",
            "  adding 'terminaltables-3.1.0.dist-info/WHEEL'\n",
            "  adding 'terminaltables-3.1.0.dist-info/top_level.txt'\n",
            "  adding 'terminaltables-3.1.0.dist-info/zip-safe'\n",
            "  adding 'terminaltables-3.1.0.dist-info/RECORD'\n",
            "  removing build/bdist.linux-x86_64/wheel\n",
            "\u001b[?25hdone\n",
            "  Created wheel for terminaltables: filename=terminaltables-3.1.0-cp36-none-any.whl size=15356 sha256=8f736f881e7939b99012da6bed2cb62b45a1105c9bc50f250698f888e2495a10\n",
            "  Stored in directory: /root/.cache/pip/wheels/30/6b/50/6c75775b681fb36cdfac7f19799888ef9d8813aff9e379663e\n",
            "  Removing source in /tmp/pip-install-5ieud1uv/terminaltables\n",
            "Successfully built autokeras keras-tuner terminaltables\n",
            "Installing collected packages: terminaltables, colorama, keras-tuner, autokeras\n",
            "\n",
            "\n",
            "\n",
            "\n",
            "Successfully installed autokeras-1.0.3 colorama-0.4.3 keras-tuner-1.0.1 terminaltables-3.1.0\n",
            "Cleaning up...\n",
            "Removed build tracker '/tmp/pip-req-tracker-umpjdscu'\n",
            "Uninstalling keras-tuner-1.0.1:\n",
            "  Would remove:\n",
            "    /usr/local/lib/python3.6/dist-packages/keras_tuner-1.0.1.dist-info/*\n",
            "    /usr/local/lib/python3.6/dist-packages/kerastuner/*\n",
            "Proceed (y/n)? y\n",
            "  Successfully uninstalled keras-tuner-1.0.1\n",
            "Collecting git+git://github.com/keras-team/keras-tuner.git@d2d69cba21a0b482a85ce2a38893e2322e139c01\n",
            "  Cloning git://github.com/keras-team/keras-tuner.git (to revision d2d69cba21a0b482a85ce2a38893e2322e139c01) to /tmp/pip-req-build-fbc_7yfu\n",
            "  Running command git clone -q git://github.com/keras-team/keras-tuner.git /tmp/pip-req-build-fbc_7yfu\n",
            "  Running command git checkout -q d2d69cba21a0b482a85ce2a38893e2322e139c01\n",
            "Requirement already satisfied: packaging in /usr/local/lib/python3.6/dist-packages (from keras-tuner==1.0.0) (20.3)\n",
            "Requirement already satisfied: future in /usr/local/lib/python3.6/dist-packages (from keras-tuner==1.0.0) (0.16.0)\n",
            "Requirement already satisfied: numpy in /usr/local/lib/python3.6/dist-packages (from keras-tuner==1.0.0) (1.18.4)\n",
            "Requirement already satisfied: tabulate in /usr/local/lib/python3.6/dist-packages (from keras-tuner==1.0.0) (0.8.7)\n",
            "Requirement already satisfied: terminaltables in /usr/local/lib/python3.6/dist-packages (from keras-tuner==1.0.0) (3.1.0)\n",
            "Requirement already satisfied: colorama in /usr/local/lib/python3.6/dist-packages (from keras-tuner==1.0.0) (0.4.3)\n",
            "Requirement already satisfied: tqdm in /usr/local/lib/python3.6/dist-packages (from keras-tuner==1.0.0) (4.41.1)\n",
            "Requirement already satisfied: requests in /usr/local/lib/python3.6/dist-packages (from keras-tuner==1.0.0) (2.23.0)\n",
            "Requirement already satisfied: scipy in /usr/local/lib/python3.6/dist-packages (from keras-tuner==1.0.0) (1.4.1)\n",
            "Requirement already satisfied: scikit-learn in /usr/local/lib/python3.6/dist-packages (from keras-tuner==1.0.0) (0.22.2.post1)\n",
            "Requirement already satisfied: pyparsing>=2.0.2 in /usr/local/lib/python3.6/dist-packages (from packaging->keras-tuner==1.0.0) (2.4.7)\n",
            "Requirement already satisfied: six in /usr/local/lib/python3.6/dist-packages (from packaging->keras-tuner==1.0.0) (1.12.0)\n",
            "Requirement already satisfied: idna<3,>=2.5 in /usr/local/lib/python3.6/dist-packages (from requests->keras-tuner==1.0.0) (2.9)\n",
            "Requirement already satisfied: certifi>=2017.4.17 in /usr/local/lib/python3.6/dist-packages (from requests->keras-tuner==1.0.0) (2020.4.5.1)\n",
            "Requirement already satisfied: chardet<4,>=3.0.2 in /usr/local/lib/python3.6/dist-packages (from requests->keras-tuner==1.0.0) (3.0.4)\n",
            "Requirement already satisfied: urllib3!=1.25.0,!=1.25.1,<1.26,>=1.21.1 in /usr/local/lib/python3.6/dist-packages (from requests->keras-tuner==1.0.0) (1.24.3)\n",
            "Requirement already satisfied: joblib>=0.11 in /usr/local/lib/python3.6/dist-packages (from scikit-learn->keras-tuner==1.0.0) (0.15.0)\n",
            "Building wheels for collected packages: keras-tuner\n",
            "  Building wheel for keras-tuner (setup.py) ... \u001b[?25l\u001b[?25hdone\n",
            "  Created wheel for keras-tuner: filename=keras_tuner-1.0.0-cp36-none-any.whl size=88690 sha256=113c1e42fbeca4e63cd8cf5e5784013033ba4e4feb07df3c307b174aba0c5026\n",
            "  Stored in directory: /tmp/pip-ephem-wheel-cache-lty3c3vf/wheels/8c/a6/6f/0e0fc8f722348a367f3da2c0863abaed2879e563a263eaa8df\n",
            "Successfully built keras-tuner\n",
            "\u001b[31mERROR: autokeras 1.0.3 has requirement keras-tuner>=1.0.1, but you'll have keras-tuner 1.0.0 which is incompatible.\u001b[0m\n",
            "Installing collected packages: keras-tuner\n",
            "Successfully installed keras-tuner-1.0.0\n"
          ],
          "name": "stdout"
        }
      ]
    },
    {
      "cell_type": "code",
      "metadata": {
        "id": "ENwy2icNztRk",
        "colab_type": "code",
        "colab": {
          "base_uri": "https://localhost:8080/",
          "height": 666
        },
        "outputId": "d93aa6ab-e6ba-457d-e24f-77e2bbceb72b"
      },
      "source": [
        "pip install tensorflow==2.2"
      ],
      "execution_count": 3,
      "outputs": [
        {
          "output_type": "stream",
          "text": [
            "Requirement already satisfied: tensorflow==2.2 in /usr/local/lib/python3.6/dist-packages (2.2.0)\n",
            "Requirement already satisfied: absl-py>=0.7.0 in /usr/local/lib/python3.6/dist-packages (from tensorflow==2.2) (0.9.0)\n",
            "Requirement already satisfied: google-pasta>=0.1.8 in /usr/local/lib/python3.6/dist-packages (from tensorflow==2.2) (0.2.0)\n",
            "Requirement already satisfied: numpy<2.0,>=1.16.0 in /usr/local/lib/python3.6/dist-packages (from tensorflow==2.2) (1.18.4)\n",
            "Requirement already satisfied: termcolor>=1.1.0 in /usr/local/lib/python3.6/dist-packages (from tensorflow==2.2) (1.1.0)\n",
            "Requirement already satisfied: astunparse==1.6.3 in /usr/local/lib/python3.6/dist-packages (from tensorflow==2.2) (1.6.3)\n",
            "Requirement already satisfied: wrapt>=1.11.1 in /usr/local/lib/python3.6/dist-packages (from tensorflow==2.2) (1.12.1)\n",
            "Requirement already satisfied: tensorflow-estimator<2.3.0,>=2.2.0 in /usr/local/lib/python3.6/dist-packages (from tensorflow==2.2) (2.2.0)\n",
            "Requirement already satisfied: protobuf>=3.8.0 in /usr/local/lib/python3.6/dist-packages (from tensorflow==2.2) (3.10.0)\n",
            "Requirement already satisfied: keras-preprocessing>=1.1.0 in /usr/local/lib/python3.6/dist-packages (from tensorflow==2.2) (1.1.2)\n",
            "Requirement already satisfied: gast==0.3.3 in /usr/local/lib/python3.6/dist-packages (from tensorflow==2.2) (0.3.3)\n",
            "Requirement already satisfied: tensorboard<2.3.0,>=2.2.0 in /usr/local/lib/python3.6/dist-packages (from tensorflow==2.2) (2.2.1)\n",
            "Requirement already satisfied: grpcio>=1.8.6 in /usr/local/lib/python3.6/dist-packages (from tensorflow==2.2) (1.29.0)\n",
            "Requirement already satisfied: scipy==1.4.1; python_version >= \"3\" in /usr/local/lib/python3.6/dist-packages (from tensorflow==2.2) (1.4.1)\n",
            "Requirement already satisfied: h5py<2.11.0,>=2.10.0 in /usr/local/lib/python3.6/dist-packages (from tensorflow==2.2) (2.10.0)\n",
            "Requirement already satisfied: opt-einsum>=2.3.2 in /usr/local/lib/python3.6/dist-packages (from tensorflow==2.2) (3.2.1)\n",
            "Requirement already satisfied: wheel>=0.26; python_version >= \"3\" in /usr/local/lib/python3.6/dist-packages (from tensorflow==2.2) (0.34.2)\n",
            "Requirement already satisfied: six>=1.12.0 in /usr/local/lib/python3.6/dist-packages (from tensorflow==2.2) (1.12.0)\n",
            "Requirement already satisfied: setuptools in /usr/local/lib/python3.6/dist-packages (from protobuf>=3.8.0->tensorflow==2.2) (46.3.0)\n",
            "Requirement already satisfied: requests<3,>=2.21.0 in /usr/local/lib/python3.6/dist-packages (from tensorboard<2.3.0,>=2.2.0->tensorflow==2.2) (2.23.0)\n",
            "Requirement already satisfied: google-auth-oauthlib<0.5,>=0.4.1 in /usr/local/lib/python3.6/dist-packages (from tensorboard<2.3.0,>=2.2.0->tensorflow==2.2) (0.4.1)\n",
            "Requirement already satisfied: markdown>=2.6.8 in /usr/local/lib/python3.6/dist-packages (from tensorboard<2.3.0,>=2.2.0->tensorflow==2.2) (3.2.2)\n",
            "Requirement already satisfied: werkzeug>=0.11.15 in /usr/local/lib/python3.6/dist-packages (from tensorboard<2.3.0,>=2.2.0->tensorflow==2.2) (1.0.1)\n",
            "Requirement already satisfied: google-auth<2,>=1.6.3 in /usr/local/lib/python3.6/dist-packages (from tensorboard<2.3.0,>=2.2.0->tensorflow==2.2) (1.7.2)\n",
            "Requirement already satisfied: tensorboard-plugin-wit>=1.6.0 in /usr/local/lib/python3.6/dist-packages (from tensorboard<2.3.0,>=2.2.0->tensorflow==2.2) (1.6.0.post3)\n",
            "Requirement already satisfied: certifi>=2017.4.17 in /usr/local/lib/python3.6/dist-packages (from requests<3,>=2.21.0->tensorboard<2.3.0,>=2.2.0->tensorflow==2.2) (2020.4.5.1)\n",
            "Requirement already satisfied: idna<3,>=2.5 in /usr/local/lib/python3.6/dist-packages (from requests<3,>=2.21.0->tensorboard<2.3.0,>=2.2.0->tensorflow==2.2) (2.9)\n",
            "Requirement already satisfied: urllib3!=1.25.0,!=1.25.1,<1.26,>=1.21.1 in /usr/local/lib/python3.6/dist-packages (from requests<3,>=2.21.0->tensorboard<2.3.0,>=2.2.0->tensorflow==2.2) (1.24.3)\n",
            "Requirement already satisfied: chardet<4,>=3.0.2 in /usr/local/lib/python3.6/dist-packages (from requests<3,>=2.21.0->tensorboard<2.3.0,>=2.2.0->tensorflow==2.2) (3.0.4)\n",
            "Requirement already satisfied: requests-oauthlib>=0.7.0 in /usr/local/lib/python3.6/dist-packages (from google-auth-oauthlib<0.5,>=0.4.1->tensorboard<2.3.0,>=2.2.0->tensorflow==2.2) (1.3.0)\n",
            "Requirement already satisfied: importlib-metadata; python_version < \"3.8\" in /usr/local/lib/python3.6/dist-packages (from markdown>=2.6.8->tensorboard<2.3.0,>=2.2.0->tensorflow==2.2) (1.6.0)\n",
            "Requirement already satisfied: pyasn1-modules>=0.2.1 in /usr/local/lib/python3.6/dist-packages (from google-auth<2,>=1.6.3->tensorboard<2.3.0,>=2.2.0->tensorflow==2.2) (0.2.8)\n",
            "Requirement already satisfied: rsa<4.1,>=3.1.4 in /usr/local/lib/python3.6/dist-packages (from google-auth<2,>=1.6.3->tensorboard<2.3.0,>=2.2.0->tensorflow==2.2) (4.0)\n",
            "Requirement already satisfied: cachetools<3.2,>=2.0.0 in /usr/local/lib/python3.6/dist-packages (from google-auth<2,>=1.6.3->tensorboard<2.3.0,>=2.2.0->tensorflow==2.2) (3.1.1)\n",
            "Requirement already satisfied: oauthlib>=3.0.0 in /usr/local/lib/python3.6/dist-packages (from requests-oauthlib>=0.7.0->google-auth-oauthlib<0.5,>=0.4.1->tensorboard<2.3.0,>=2.2.0->tensorflow==2.2) (3.1.0)\n",
            "Requirement already satisfied: zipp>=0.5 in /usr/local/lib/python3.6/dist-packages (from importlib-metadata; python_version < \"3.8\"->markdown>=2.6.8->tensorboard<2.3.0,>=2.2.0->tensorflow==2.2) (3.1.0)\n",
            "Requirement already satisfied: pyasn1<0.5.0,>=0.4.6 in /usr/local/lib/python3.6/dist-packages (from pyasn1-modules>=0.2.1->google-auth<2,>=1.6.3->tensorboard<2.3.0,>=2.2.0->tensorflow==2.2) (0.4.8)\n"
          ],
          "name": "stdout"
        }
      ]
    },
    {
      "cell_type": "markdown",
      "metadata": {
        "id": "7rUDx2joAKCO",
        "colab_type": "text"
      },
      "source": [
        "#**Import IMDB Celeb images and metadata**"
      ]
    },
    {
      "cell_type": "code",
      "metadata": {
        "id": "z7AM1szTCpSU",
        "colab_type": "code",
        "colab": {}
      },
      "source": [
        "!mkdir ./drive/My\\ Drive/mlin/celebs"
      ],
      "execution_count": 0,
      "outputs": []
    },
    {
      "cell_type": "code",
      "metadata": {
        "id": "4u0cKhr70Y-T",
        "colab_type": "code",
        "colab": {
          "base_uri": "https://localhost:8080/",
          "height": 204
        },
        "outputId": "9821e9b5-de93-4ae5-905b-4752ec69e90c"
      },
      "source": [
        "! wget -O ./drive/My\\ Drive/mlin/celebs/imdb_0.tar https://data.vision.ee.ethz.ch/cvl/rrothe/imdb-wiki/static/imdb_0.tar"
      ],
      "execution_count": 9,
      "outputs": [
        {
          "output_type": "stream",
          "text": [
            "--2020-05-19 17:46:04--  https://data.vision.ee.ethz.ch/cvl/rrothe/imdb-wiki/static/imdb_0.tar\n",
            "Resolving data.vision.ee.ethz.ch (data.vision.ee.ethz.ch)... 129.132.52.162\n",
            "Connecting to data.vision.ee.ethz.ch (data.vision.ee.ethz.ch)|129.132.52.162|:443... connected.\n",
            "HTTP request sent, awaiting response... 200 OK\n",
            "Length: 28708782080 (27G) [application/x-tar]\n",
            "Saving to: ‘./drive/My Drive/mlin/celebs/imdb_0.tar’\n",
            "\n",
            "./drive/My Drive/ml 100%[===================>]  26.74G  10.5MB/s    in 44m 26s \n",
            "\n",
            "2020-05-19 18:30:31 (10.3 MB/s) - ‘./drive/My Drive/mlin/celebs/imdb_0.tar’ saved [28708782080/28708782080]\n",
            "\n"
          ],
          "name": "stdout"
        }
      ]
    },
    {
      "cell_type": "code",
      "metadata": {
        "id": "PVXYMniZ_-Bq",
        "colab_type": "code",
        "colab": {
          "base_uri": "https://localhost:8080/",
          "height": 68
        },
        "outputId": "ba6a7d0e-a2ea-4b52-93e3-bec5b1af0e00"
      },
      "source": [
        "! cd ./drive/My\\ Drive/mlin/celebs && tar -xf imdb_0.tar\n",
        "! rm ./drive/My\\ Drive/mlin/celebs/imdb_0.tar"
      ],
      "execution_count": 6,
      "outputs": [
        {
          "output_type": "stream",
          "text": [
            "tar: imdb_0.tar: Cannot open: No such file or directory\n",
            "tar: Error is not recoverable: exiting now\n",
            "rm: cannot remove './drive/My Drive/mlin/celebs/imdb_0.tar': No such file or directory\n"
          ],
          "name": "stdout"
        }
      ]
    },
    {
      "cell_type": "markdown",
      "metadata": {
        "id": "PyLxaGT2yMUR",
        "colab_type": "text"
      },
      "source": [
        "Uncomment and run the below cell if you need to re-run the cells again, but above installations are not needed."
      ]
    },
    {
      "cell_type": "code",
      "metadata": {
        "id": "8ZqyQAVFAF-J",
        "colab_type": "code",
        "colab": {}
      },
      "source": [
        "# ! cd ./drive/My\\ Drive/mlin/celebs."
      ],
      "execution_count": 0,
      "outputs": []
    },
    {
      "cell_type": "code",
      "metadata": {
        "id": "wh0CLiAhABeq",
        "colab_type": "code",
        "colab": {
          "base_uri": "https://localhost:8080/",
          "height": 34
        },
        "outputId": "beecfd5c-b288-433c-863f-1fdfaa9c4e0d"
      },
      "source": [
        "! ls ./drive/My\\ Drive/mlin/celebs/imdb/"
      ],
      "execution_count": 11,
      "outputs": [
        {
          "output_type": "stream",
          "text": [
            "00  01\t02  03\t04  05\t06  07\t08  09\n"
          ],
          "name": "stdout"
        }
      ]
    },
    {
      "cell_type": "code",
      "metadata": {
        "id": "am_dLtCiAEnT",
        "colab_type": "code",
        "colab": {
          "base_uri": "https://localhost:8080/",
          "height": 204
        },
        "outputId": "17a1221a-f77f-45cb-af31-ae7ed4348d8b"
      },
      "source": [
        "! wget https://data.vision.ee.ethz.ch/cvl/rrothe/imdb-wiki/static/imdb_meta.tar\n",
        "! tar -xf imdb_meta.tar\n",
        "! rm imdb_meta.tar"
      ],
      "execution_count": 12,
      "outputs": [
        {
          "output_type": "stream",
          "text": [
            "--2020-05-20 16:53:57--  https://data.vision.ee.ethz.ch/cvl/rrothe/imdb-wiki/static/imdb_meta.tar\n",
            "Resolving data.vision.ee.ethz.ch (data.vision.ee.ethz.ch)... 129.132.52.162\n",
            "Connecting to data.vision.ee.ethz.ch (data.vision.ee.ethz.ch)|129.132.52.162|:443... connected.\n",
            "HTTP request sent, awaiting response... 200 OK\n",
            "Length: 22937600 (22M) [application/x-tar]\n",
            "Saving to: ‘imdb_meta.tar’\n",
            "\n",
            "imdb_meta.tar       100%[===================>]  21.88M  8.23MB/s    in 2.7s    \n",
            "\n",
            "2020-05-20 16:54:00 (8.23 MB/s) - ‘imdb_meta.tar’ saved [22937600/22937600]\n",
            "\n"
          ],
          "name": "stdout"
        }
      ]
    },
    {
      "cell_type": "markdown",
      "metadata": {
        "id": "IkwLpWPjAfiM",
        "colab_type": "text"
      },
      "source": [
        "#**Converting from MATLAB date to actual Date-of-Birth**"
      ]
    },
    {
      "cell_type": "code",
      "metadata": {
        "id": "WXzGEAVFAavG",
        "colab_type": "code",
        "colab": {
          "base_uri": "https://localhost:8080/",
          "height": 34
        },
        "outputId": "8fbe096a-7782-4684-f145-9e8f7489600e"
      },
      "source": [
        "from datetime import datetime, timedelta \n",
        "def datenum_to_datetime(datenum):\n",
        "    \"\"\"\n",
        "    Convert Matlab datenum into Python datetime.\n",
        "    \"\"\"\n",
        "    days = datenum % 1\n",
        "    hours = days % 1 * 24\n",
        "    minutes = hours % 1 * 60\n",
        "    seconds = minutes % 1 * 60\n",
        "    try:\n",
        "      return datetime.fromordinal(int(datenum)) \\\n",
        "           + timedelta(days=int(days)) \\\n",
        "           + timedelta(hours=int(hours)) \\\n",
        "           + timedelta(minutes=int(minutes)) \\\n",
        "           + timedelta(seconds=round(seconds)) \\\n",
        "           - timedelta(days=366)\n",
        "    except:\n",
        "      return datenum_to_datetime(700000)\n",
        "\n",
        "print(datenum_to_datetime(734963))"
      ],
      "execution_count": 9,
      "outputs": [
        {
          "output_type": "stream",
          "text": [
            "2012-04-04 00:00:00\n"
          ],
          "name": "stdout"
        }
      ]
    },
    {
      "cell_type": "markdown",
      "metadata": {
        "id": "A_B7TsrBNP8e",
        "colab_type": "text"
      },
      "source": [
        "# **Opening MatLab file to Pandas DataFrame**"
      ]
    },
    {
      "cell_type": "code",
      "metadata": {
        "id": "gFPl8ox0NQY9",
        "colab_type": "code",
        "colab": {}
      },
      "source": [
        "from scipy.io import loadmat\n",
        "x = loadmat('imdb/imdb.mat')"
      ],
      "execution_count": 0,
      "outputs": []
    },
    {
      "cell_type": "code",
      "metadata": {
        "id": "vAj7oR57NYq6",
        "colab_type": "code",
        "colab": {
          "base_uri": "https://localhost:8080/",
          "height": 153
        },
        "outputId": "f21cf421-8753-4386-a7a7-7a1f3004293e"
      },
      "source": [
        "import pandas as pd\n",
        "import numpy as np \n",
        "\n",
        "mdata = x['imdb']  # variable in mat file\n",
        "mdtype = mdata.dtype  # dtypes of structures are \"unsized objects\"\n",
        "ndata = {n: mdata[n][0, 0] for n in mdtype.names}\n",
        "columns = [n for n, v in ndata.items()]\n",
        "\n",
        "rows = []\n",
        "for col in range(0, 10):\n",
        "  values = list(ndata.items())[col]\n",
        "  for num, val in enumerate(values[1][0], start=0):\n",
        "    if col == 0:\n",
        "      rows.append([])\n",
        "    if num > 0:\n",
        "      if columns[col] == \"dob\":\n",
        "        rows[num].append(datenum_to_datetime(int(val)))\n",
        "      elif columns[col] == \"photo_taken\":\n",
        "        rows[num].append(datetime(year=int(val), month=6, day=30))\n",
        "      else:\n",
        "        rows[num].append(val)\n",
        "\n",
        "dt = map(lambda row: np.array(row), np.array(rows[1:]))\n",
        "\n",
        "df = pd.DataFrame(data=dt, index=range(0, len(rows) - 1), columns=columns)\n",
        "print(df.head())"
      ],
      "execution_count": 14,
      "outputs": [
        {
          "output_type": "stream",
          "text": [
            "         dob photo_taken  ...            celeb_names  celeb_id\n",
            "0 1899-05-10  1970-06-30  ...  ['Weird Al' Yankovic]    6488.0\n",
            "1 1899-05-10  1968-06-30  ...             [2 Chainz]    6488.0\n",
            "2 1899-05-10  1968-06-30  ...              [50 Cent]    6488.0\n",
            "3 1899-05-10  1968-06-30  ...           [A Martinez]    6488.0\n",
            "4 1924-09-16  1991-06-30  ...           [A.D. Miles]   11516.0\n",
            "\n",
            "[5 rows x 10 columns]\n"
          ],
          "name": "stdout"
        }
      ]
    },
    {
      "cell_type": "code",
      "metadata": {
        "id": "7asgbcPqNh-W",
        "colab_type": "code",
        "colab": {
          "base_uri": "https://localhost:8080/",
          "height": 258
        },
        "outputId": "04f71dec-dc6a-4f44-cbad-a14f0febc6f9"
      },
      "source": [
        "print(columns)\n",
        "print(df[\"full_path\"])"
      ],
      "execution_count": 15,
      "outputs": [
        {
          "output_type": "stream",
          "text": [
            "['dob', 'photo_taken', 'full_path', 'gender', 'name', 'face_location', 'face_score', 'second_face_score', 'celeb_names', 'celeb_id']\n",
            "0         [01/nm0000001_rm3343756032_1899-5-10_1970.jpg]\n",
            "1          [01/nm0000001_rm577153792_1899-5-10_1968.jpg]\n",
            "2          [01/nm0000001_rm946909184_1899-5-10_1968.jpg]\n",
            "3          [01/nm0000001_rm980463616_1899-5-10_1968.jpg]\n",
            "4         [02/nm0000002_rm1075631616_1924-9-16_1991.jpg]\n",
            "                               ...                      \n",
            "460717    [08/nm3994408_rm761245696_1989-12-29_2011.jpg]\n",
            "460718    [08/nm3994408_rm784182528_1989-12-29_2011.jpg]\n",
            "460719    [08/nm3994408_rm926592512_1989-12-29_2011.jpg]\n",
            "460720    [08/nm3994408_rm943369728_1989-12-29_2011.jpg]\n",
            "460721    [08/nm3994408_rm976924160_1989-12-29_2011.jpg]\n",
            "Name: full_path, Length: 460722, dtype: object\n"
          ],
          "name": "stdout"
        }
      ]
    },
    {
      "cell_type": "markdown",
      "metadata": {
        "id": "rMeys5F_NlrO",
        "colab_type": "text"
      },
      "source": [
        "# **Calculating age at time photo was taken**"
      ]
    },
    {
      "cell_type": "code",
      "metadata": {
        "id": "QA4x-sPzNqIz",
        "colab_type": "code",
        "colab": {
          "base_uri": "https://localhost:8080/",
          "height": 221
        },
        "outputId": "25ec88b6-7795-4ff7-8880-d0650f2a8c0f"
      },
      "source": [
        "df[\"age\"] = (df[\"photo_taken\"] - df[\"dob\"]).astype('int') / 31558102e9\n",
        "print(df[\"age\"])"
      ],
      "execution_count": 16,
      "outputs": [
        {
          "output_type": "stream",
          "text": [
            "0         71.136445\n",
            "1         69.137846\n",
            "2         69.137846\n",
            "3         69.137846\n",
            "4         66.783332\n",
            "            ...    \n",
            "460717    21.500000\n",
            "460718    21.500000\n",
            "460719    21.500000\n",
            "460720    21.500000\n",
            "460721    21.500000\n",
            "Name: age, Length: 460722, dtype: float64\n"
          ],
          "name": "stdout"
        }
      ]
    },
    {
      "cell_type": "markdown",
      "metadata": {
        "id": "FavORUUdTq7t",
        "colab_type": "text"
      },
      "source": [
        "# **Creating dataset**\n",
        "\n",
        "\n",
        "* We sample 200 of the images which were included in this first download.\n",
        "* Images are resized to 128x128 to standardize shape and conserve memory\n",
        "* RGB images are converted to grayscale to standardize shape\n",
        "* Ages are converted to ints\n",
        "\n"
      ]
    },
    {
      "cell_type": "code",
      "metadata": {
        "id": "pbrEpzSnmt6p",
        "colab_type": "code",
        "colab": {}
      },
      "source": [
        "import os\n",
        "from PIL import Image\n",
        "\n",
        "def df2numpy(train_set):\n",
        "  images = []\n",
        "  for img_path in train_set[\"full_path\"]:\n",
        "    img = Image.open(\"./drive/My Drive/mlin/celebs/imdb/\" + img_path[0]).resize((128, 128)).convert('L')\n",
        "    images.append(\n",
        "      np.asarray(img,  dtype=\"int32\")\n",
        "    )\n",
        "\n",
        "  image_inputs = np.array(images)\n",
        "\n",
        "  ages = train_set[\"age\"].astype('int').to_numpy()\n",
        "  return image_inputs, ages"
      ],
      "execution_count": 0,
      "outputs": []
    },
    {
      "cell_type": "code",
      "metadata": {
        "id": "77tntSl2T6vk",
        "colab_type": "code",
        "colab": {}
      },
      "source": [
        "\n",
        "train_set = df[df[\"full_path\"] < '02'].sample(200)\n",
        "train_imgs, train_ages = df2numpy(train_set)\n",
        "\n",
        "test_set = df[df[\"full_path\"] < '02'].sample(100)\n",
        "test_imgs, test_ages = df2numpy(test_set)"
      ],
      "execution_count": 0,
      "outputs": []
    },
    {
      "cell_type": "markdown",
      "metadata": {
        "id": "fiELbb5VkptP",
        "colab_type": "text"
      },
      "source": [
        "# **Training using AutoKeras**"
      ]
    },
    {
      "cell_type": "code",
      "metadata": {
        "id": "6PR2n-XlT-aj",
        "colab_type": "code",
        "colab": {
          "base_uri": "https://localhost:8080/",
          "height": 1000
        },
        "outputId": "c814deb8-5d48-4098-b9ea-8d807c986100"
      },
      "source": [
        "import autokeras as ak\n",
        "\n",
        "# Initialize the image regressor\n",
        "reg = ak.ImageRegressor(max_trials=15) # AutoKeras tries 15 different models.\n",
        "\n",
        "# Find the best model for the given training data\n",
        "reg.fit(train_imgs, train_ages)\n",
        "\n",
        "# Predict with the chosen model:\n",
        "# predict_y = reg.predict(test_images)  # Uncomment if required"
      ],
      "execution_count": 0,
      "outputs": [
        {
          "output_type": "stream",
          "text": [
            "Epoch 1/1000\n",
            "5/5 [==============================] - 7s 1s/step - loss: 9058.8438 - mean_squared_error: 9058.8438 - val_loss: 5038.7578 - val_mean_squared_error: 5038.7578\n",
            "Epoch 2/1000\n",
            "5/5 [==============================] - 7s 1s/step - loss: 2433.2222 - mean_squared_error: 2433.2222 - val_loss: 825.6742 - val_mean_squared_error: 825.6742\n",
            "Epoch 3/1000\n",
            "5/5 [==============================] - 7s 1s/step - loss: 520.5611 - mean_squared_error: 520.5611 - val_loss: 340.6512 - val_mean_squared_error: 340.6512\n",
            "Epoch 4/1000\n",
            "5/5 [==============================] - 7s 1s/step - loss: 350.7891 - mean_squared_error: 350.7891 - val_loss: 297.8711 - val_mean_squared_error: 297.8711\n",
            "Epoch 5/1000\n",
            "5/5 [==============================] - 7s 1s/step - loss: 309.0110 - mean_squared_error: 309.0110 - val_loss: 293.6967 - val_mean_squared_error: 293.6967\n",
            "Epoch 6/1000\n",
            "5/5 [==============================] - 7s 1s/step - loss: 258.0533 - mean_squared_error: 258.0533 - val_loss: 267.8138 - val_mean_squared_error: 267.8138\n",
            "Epoch 7/1000\n",
            "5/5 [==============================] - 7s 1s/step - loss: 220.0695 - mean_squared_error: 220.0695 - val_loss: 270.4041 - val_mean_squared_error: 270.4041\n",
            "Epoch 8/1000\n",
            "5/5 [==============================] - 7s 1s/step - loss: 189.8148 - mean_squared_error: 189.8148 - val_loss: 267.9448 - val_mean_squared_error: 267.9448\n",
            "Epoch 9/1000\n",
            "5/5 [==============================] - 7s 1s/step - loss: 158.0996 - mean_squared_error: 158.0996 - val_loss: 243.9185 - val_mean_squared_error: 243.9185\n",
            "Epoch 10/1000\n",
            "5/5 [==============================] - 7s 1s/step - loss: 132.1116 - mean_squared_error: 132.1116 - val_loss: 241.6552 - val_mean_squared_error: 241.6552\n",
            "Epoch 11/1000\n",
            "5/5 [==============================] - 7s 1s/step - loss: 121.4468 - mean_squared_error: 121.4468 - val_loss: 223.9633 - val_mean_squared_error: 223.9633\n",
            "Epoch 12/1000\n",
            "5/5 [==============================] - 7s 1s/step - loss: 120.6558 - mean_squared_error: 120.6558 - val_loss: 300.3364 - val_mean_squared_error: 300.3364\n",
            "Epoch 13/1000\n",
            "5/5 [==============================] - 7s 1s/step - loss: 172.9615 - mean_squared_error: 172.9615 - val_loss: 259.1658 - val_mean_squared_error: 259.1658\n",
            "Epoch 14/1000\n",
            "5/5 [==============================] - 7s 1s/step - loss: 160.3465 - mean_squared_error: 160.3465 - val_loss: 342.0261 - val_mean_squared_error: 342.0261\n",
            "Epoch 15/1000\n",
            "5/5 [==============================] - 7s 1s/step - loss: 93.1033 - mean_squared_error: 93.1033 - val_loss: 236.2544 - val_mean_squared_error: 236.2544\n",
            "Epoch 16/1000\n",
            "5/5 [==============================] - 7s 1s/step - loss: 65.4133 - mean_squared_error: 65.4133 - val_loss: 232.6889 - val_mean_squared_error: 232.6889\n",
            "Epoch 17/1000\n",
            "5/5 [==============================] - 7s 1s/step - loss: 69.5116 - mean_squared_error: 69.5116 - val_loss: 281.7455 - val_mean_squared_error: 281.7455\n",
            "Epoch 18/1000\n",
            "5/5 [==============================] - 7s 1s/step - loss: 56.3930 - mean_squared_error: 56.3930 - val_loss: 225.0497 - val_mean_squared_error: 225.0497\n",
            "Epoch 19/1000\n",
            "5/5 [==============================] - 7s 1s/step - loss: 33.8650 - mean_squared_error: 33.8650 - val_loss: 235.9096 - val_mean_squared_error: 235.9096\n",
            "Epoch 20/1000\n",
            "5/5 [==============================] - 7s 1s/step - loss: 29.8855 - mean_squared_error: 29.8855 - val_loss: 262.4871 - val_mean_squared_error: 262.4871\n",
            "Epoch 21/1000\n",
            "5/5 [==============================] - 7s 1s/step - loss: 29.6671 - mean_squared_error: 29.6671 - val_loss: 236.2951 - val_mean_squared_error: 236.2951\n"
          ],
          "name": "stdout"
        },
        {
          "output_type": "display_data",
          "data": {
            "text/html": [
              "<span style=\"color:#4527A0\"><h1 style=\"font-size:18px\">Trial complete</h1></span>"
            ],
            "text/plain": [
              "<IPython.core.display.HTML object>"
            ]
          },
          "metadata": {
            "tags": []
          }
        },
        {
          "output_type": "display_data",
          "data": {
            "text/html": [
              "<span style=\"color:#4527A0\"><h1 style=\"font-size:18px\">Trial summary</h1></span>"
            ],
            "text/plain": [
              "<IPython.core.display.HTML object>"
            ]
          },
          "metadata": {
            "tags": []
          }
        },
        {
          "output_type": "display_data",
          "data": {
            "text/html": [
              "<span style=\"color:cyan\"> |-Trial ID: 01a58c08bb531e4bfbf67bbc8da761ba</span>"
            ],
            "text/plain": [
              "<IPython.core.display.HTML object>"
            ]
          },
          "metadata": {
            "tags": []
          }
        },
        {
          "output_type": "display_data",
          "data": {
            "text/html": [
              "<span style=\"color:cyan\"> |-Score: 223.9633026123047</span>"
            ],
            "text/plain": [
              "<IPython.core.display.HTML object>"
            ]
          },
          "metadata": {
            "tags": []
          }
        },
        {
          "output_type": "display_data",
          "data": {
            "text/html": [
              "<span style=\"color:cyan\"> |-Best step: 10</span>"
            ],
            "text/plain": [
              "<IPython.core.display.HTML object>"
            ]
          },
          "metadata": {
            "tags": []
          }
        },
        {
          "output_type": "display_data",
          "data": {
            "text/html": [
              "<span style=\"color:#7E57C2\"><h2 style=\"font-size:16px\">Hyperparameters:</h2></span>"
            ],
            "text/plain": [
              "<IPython.core.display.HTML object>"
            ]
          },
          "metadata": {
            "tags": []
          }
        },
        {
          "output_type": "display_data",
          "data": {
            "text/html": [
              "<span style=\"color:cyan\"> |-image_block_1/augment: False</span>"
            ],
            "text/plain": [
              "<IPython.core.display.HTML object>"
            ]
          },
          "metadata": {
            "tags": []
          }
        },
        {
          "output_type": "display_data",
          "data": {
            "text/html": [
              "<span style=\"color:blue\"> |-image_block_1/block_type: vanilla</span>"
            ],
            "text/plain": [
              "<IPython.core.display.HTML object>"
            ]
          },
          "metadata": {
            "tags": []
          }
        },
        {
          "output_type": "display_data",
          "data": {
            "text/html": [
              "<span style=\"color:cyan\"> |-image_block_1/conv_block_1/dropout_rate: 0</span>"
            ],
            "text/plain": [
              "<IPython.core.display.HTML object>"
            ]
          },
          "metadata": {
            "tags": []
          }
        },
        {
          "output_type": "display_data",
          "data": {
            "text/html": [
              "<span style=\"color:blue\"> |-image_block_1/conv_block_1/filters_0_0: 32</span>"
            ],
            "text/plain": [
              "<IPython.core.display.HTML object>"
            ]
          },
          "metadata": {
            "tags": []
          }
        },
        {
          "output_type": "display_data",
          "data": {
            "text/html": [
              "<span style=\"color:cyan\"> |-image_block_1/conv_block_1/filters_0_1: 32</span>"
            ],
            "text/plain": [
              "<IPython.core.display.HTML object>"
            ]
          },
          "metadata": {
            "tags": []
          }
        },
        {
          "output_type": "display_data",
          "data": {
            "text/html": [
              "<span style=\"color:blue\"> |-image_block_1/conv_block_1/filters_1_0: 32</span>"
            ],
            "text/plain": [
              "<IPython.core.display.HTML object>"
            ]
          },
          "metadata": {
            "tags": []
          }
        },
        {
          "output_type": "display_data",
          "data": {
            "text/html": [
              "<span style=\"color:cyan\"> |-image_block_1/conv_block_1/filters_1_1: 32</span>"
            ],
            "text/plain": [
              "<IPython.core.display.HTML object>"
            ]
          },
          "metadata": {
            "tags": []
          }
        },
        {
          "output_type": "display_data",
          "data": {
            "text/html": [
              "<span style=\"color:blue\"> |-image_block_1/conv_block_1/kernel_size: 3</span>"
            ],
            "text/plain": [
              "<IPython.core.display.HTML object>"
            ]
          },
          "metadata": {
            "tags": []
          }
        },
        {
          "output_type": "display_data",
          "data": {
            "text/html": [
              "<span style=\"color:cyan\"> |-image_block_1/conv_block_1/max_pooling: True</span>"
            ],
            "text/plain": [
              "<IPython.core.display.HTML object>"
            ]
          },
          "metadata": {
            "tags": []
          }
        },
        {
          "output_type": "display_data",
          "data": {
            "text/html": [
              "<span style=\"color:blue\"> |-image_block_1/conv_block_1/num_blocks: 2</span>"
            ],
            "text/plain": [
              "<IPython.core.display.HTML object>"
            ]
          },
          "metadata": {
            "tags": []
          }
        },
        {
          "output_type": "display_data",
          "data": {
            "text/html": [
              "<span style=\"color:cyan\"> |-image_block_1/conv_block_1/num_layers: 2</span>"
            ],
            "text/plain": [
              "<IPython.core.display.HTML object>"
            ]
          },
          "metadata": {
            "tags": []
          }
        },
        {
          "output_type": "display_data",
          "data": {
            "text/html": [
              "<span style=\"color:blue\"> |-image_block_1/conv_block_1/separable: False</span>"
            ],
            "text/plain": [
              "<IPython.core.display.HTML object>"
            ]
          },
          "metadata": {
            "tags": []
          }
        },
        {
          "output_type": "display_data",
          "data": {
            "text/html": [
              "<span style=\"color:cyan\"> |-image_block_1/normalize: False</span>"
            ],
            "text/plain": [
              "<IPython.core.display.HTML object>"
            ]
          },
          "metadata": {
            "tags": []
          }
        },
        {
          "output_type": "display_data",
          "data": {
            "text/html": [
              "<span style=\"color:blue\"> |-optimizer: adam</span>"
            ],
            "text/plain": [
              "<IPython.core.display.HTML object>"
            ]
          },
          "metadata": {
            "tags": []
          }
        },
        {
          "output_type": "display_data",
          "data": {
            "text/html": [
              "<span style=\"color:cyan\"> |-regression_head_1/dropout_rate: 0</span>"
            ],
            "text/plain": [
              "<IPython.core.display.HTML object>"
            ]
          },
          "metadata": {
            "tags": []
          }
        },
        {
          "output_type": "stream",
          "text": [
            "Epoch 1/1000\n",
            "5/5 [==============================] - 95s 19s/step - loss: 1562.1543 - mean_squared_error: 1562.1543 - val_loss: 1627.7627 - val_mean_squared_error: 1627.7627\n",
            "Epoch 2/1000\n",
            "5/5 [==============================] - 94s 19s/step - loss: 1362.8715 - mean_squared_error: 1362.8715 - val_loss: 879.2217 - val_mean_squared_error: 879.2217\n",
            "Epoch 3/1000\n",
            "5/5 [==============================] - 94s 19s/step - loss: 563.6418 - mean_squared_error: 563.6418 - val_loss: 257.8888 - val_mean_squared_error: 257.8888\n",
            "Epoch 4/1000\n",
            "5/5 [==============================] - 94s 19s/step - loss: 416.4915 - mean_squared_error: 416.4915 - val_loss: 580.0924 - val_mean_squared_error: 580.0924\n",
            "Epoch 5/1000\n",
            "5/5 [==============================] - 94s 19s/step - loss: 459.0323 - mean_squared_error: 459.0323 - val_loss: 243.6279 - val_mean_squared_error: 243.6279\n",
            "Epoch 6/1000\n",
            "5/5 [==============================] - 94s 19s/step - loss: 341.1719 - mean_squared_error: 341.1719 - val_loss: 224.8541 - val_mean_squared_error: 224.8541\n",
            "Epoch 7/1000\n",
            "5/5 [==============================] - 94s 19s/step - loss: 301.4638 - mean_squared_error: 301.4638 - val_loss: 309.6400 - val_mean_squared_error: 309.6400\n",
            "Epoch 8/1000\n",
            "5/5 [==============================] - 94s 19s/step - loss: 303.4436 - mean_squared_error: 303.4436 - val_loss: 221.0915 - val_mean_squared_error: 221.0915\n",
            "Epoch 9/1000\n",
            "5/5 [==============================] - 94s 19s/step - loss: 309.8247 - mean_squared_error: 309.8247 - val_loss: 234.0248 - val_mean_squared_error: 234.0248\n",
            "Epoch 10/1000\n",
            "5/5 [==============================] - 94s 19s/step - loss: 291.3335 - mean_squared_error: 291.3335 - val_loss: 228.6469 - val_mean_squared_error: 228.6469\n",
            "Epoch 11/1000\n",
            "5/5 [==============================] - 94s 19s/step - loss: 287.8032 - mean_squared_error: 287.8032 - val_loss: 223.1056 - val_mean_squared_error: 223.1056\n",
            "Epoch 12/1000\n",
            "5/5 [==============================] - 94s 19s/step - loss: 312.2080 - mean_squared_error: 312.2080 - val_loss: 227.7784 - val_mean_squared_error: 227.7784\n",
            "Epoch 13/1000\n",
            "5/5 [==============================] - 95s 19s/step - loss: 275.8525 - mean_squared_error: 275.8525 - val_loss: 218.7864 - val_mean_squared_error: 218.7864\n",
            "Epoch 14/1000\n",
            "5/5 [==============================] - 94s 19s/step - loss: 294.0194 - mean_squared_error: 294.0194 - val_loss: 228.8047 - val_mean_squared_error: 228.8047\n",
            "Epoch 15/1000\n",
            "5/5 [==============================] - 94s 19s/step - loss: 282.9211 - mean_squared_error: 282.9211 - val_loss: 214.7903 - val_mean_squared_error: 214.7903\n",
            "Epoch 16/1000\n",
            "5/5 [==============================] - 94s 19s/step - loss: 289.1205 - mean_squared_error: 289.1205 - val_loss: 223.9117 - val_mean_squared_error: 223.9117\n",
            "Epoch 17/1000\n",
            "5/5 [==============================] - 94s 19s/step - loss: 280.8114 - mean_squared_error: 280.8114 - val_loss: 214.1920 - val_mean_squared_error: 214.1920\n",
            "Epoch 18/1000\n",
            "5/5 [==============================] - 94s 19s/step - loss: 279.6064 - mean_squared_error: 279.6064 - val_loss: 215.1473 - val_mean_squared_error: 215.1473\n",
            "Epoch 19/1000\n",
            "5/5 [==============================] - 94s 19s/step - loss: 279.2359 - mean_squared_error: 279.2359 - val_loss: 214.7153 - val_mean_squared_error: 214.7153\n",
            "Epoch 20/1000\n",
            "5/5 [==============================] - 94s 19s/step - loss: 286.7679 - mean_squared_error: 286.7679 - val_loss: 217.9172 - val_mean_squared_error: 217.9172\n",
            "Epoch 21/1000\n",
            "5/5 [==============================] - 94s 19s/step - loss: 273.5712 - mean_squared_error: 273.5712 - val_loss: 210.2353 - val_mean_squared_error: 210.2353\n",
            "Epoch 22/1000\n",
            "5/5 [==============================] - 94s 19s/step - loss: 284.2997 - mean_squared_error: 284.2997 - val_loss: 224.9010 - val_mean_squared_error: 224.9010\n",
            "Epoch 23/1000\n",
            "5/5 [==============================] - 95s 19s/step - loss: 284.1190 - mean_squared_error: 284.1190 - val_loss: 206.2400 - val_mean_squared_error: 206.2400\n",
            "Epoch 24/1000\n",
            "5/5 [==============================] - 94s 19s/step - loss: 280.8536 - mean_squared_error: 280.8536 - val_loss: 221.7375 - val_mean_squared_error: 221.7375\n",
            "Epoch 25/1000\n",
            "5/5 [==============================] - 94s 19s/step - loss: 270.7108 - mean_squared_error: 270.7108 - val_loss: 210.0826 - val_mean_squared_error: 210.0826\n",
            "Epoch 26/1000\n",
            "5/5 [==============================] - 94s 19s/step - loss: 264.2630 - mean_squared_error: 264.2630 - val_loss: 210.6376 - val_mean_squared_error: 210.6376\n",
            "Epoch 27/1000\n",
            "5/5 [==============================] - 94s 19s/step - loss: 276.2535 - mean_squared_error: 276.2535 - val_loss: 206.9362 - val_mean_squared_error: 206.9362\n",
            "Epoch 28/1000\n",
            "5/5 [==============================] - 94s 19s/step - loss: 272.0823 - mean_squared_error: 272.0823 - val_loss: 209.1045 - val_mean_squared_error: 209.1045\n",
            "Epoch 29/1000\n",
            "5/5 [==============================] - 94s 19s/step - loss: 273.1189 - mean_squared_error: 273.1189 - val_loss: 201.9672 - val_mean_squared_error: 201.9672\n",
            "Epoch 30/1000\n",
            "5/5 [==============================] - 94s 19s/step - loss: 255.6739 - mean_squared_error: 255.6739 - val_loss: 196.8597 - val_mean_squared_error: 196.8597\n",
            "Epoch 31/1000\n",
            "5/5 [==============================] - 94s 19s/step - loss: 260.8288 - mean_squared_error: 260.8288 - val_loss: 199.1164 - val_mean_squared_error: 199.1164\n",
            "Epoch 32/1000\n",
            "5/5 [==============================] - 94s 19s/step - loss: 270.0927 - mean_squared_error: 270.0927 - val_loss: 193.7809 - val_mean_squared_error: 193.7809\n",
            "Epoch 33/1000\n",
            "5/5 [==============================] - 94s 19s/step - loss: 267.6471 - mean_squared_error: 267.6471 - val_loss: 195.7505 - val_mean_squared_error: 195.7505\n",
            "Epoch 34/1000\n",
            "5/5 [==============================] - 94s 19s/step - loss: 249.3616 - mean_squared_error: 249.3616 - val_loss: 190.7464 - val_mean_squared_error: 190.7464\n",
            "Epoch 35/1000\n",
            "5/5 [==============================] - 94s 19s/step - loss: 247.1848 - mean_squared_error: 247.1848 - val_loss: 189.9556 - val_mean_squared_error: 189.9556\n",
            "Epoch 36/1000\n",
            "5/5 [==============================] - 94s 19s/step - loss: 236.6211 - mean_squared_error: 236.6211 - val_loss: 190.9279 - val_mean_squared_error: 190.9279\n",
            "Epoch 37/1000\n",
            "5/5 [==============================] - 94s 19s/step - loss: 243.3776 - mean_squared_error: 243.3776 - val_loss: 192.9570 - val_mean_squared_error: 192.9570\n",
            "Epoch 38/1000\n",
            "5/5 [==============================] - 95s 19s/step - loss: 214.2089 - mean_squared_error: 214.2089 - val_loss: 198.7268 - val_mean_squared_error: 198.7268\n",
            "Epoch 39/1000\n",
            "5/5 [==============================] - 94s 19s/step - loss: 221.4566 - mean_squared_error: 221.4566 - val_loss: 199.9503 - val_mean_squared_error: 199.9503\n",
            "Epoch 40/1000\n",
            "5/5 [==============================] - 96s 19s/step - loss: 235.3123 - mean_squared_error: 235.3123 - val_loss: 202.8845 - val_mean_squared_error: 202.8845\n",
            "Epoch 41/1000\n",
            "5/5 [==============================] - 95s 19s/step - loss: 230.9544 - mean_squared_error: 230.9544 - val_loss: 202.8156 - val_mean_squared_error: 202.8156\n",
            "Epoch 42/1000\n",
            "5/5 [==============================] - 94s 19s/step - loss: 234.0525 - mean_squared_error: 234.0525 - val_loss: 202.6985 - val_mean_squared_error: 202.6985\n",
            "Epoch 43/1000\n",
            "5/5 [==============================] - 94s 19s/step - loss: 216.5143 - mean_squared_error: 216.5143 - val_loss: 203.6373 - val_mean_squared_error: 203.6373\n",
            "Epoch 44/1000\n",
            "5/5 [==============================] - 95s 19s/step - loss: 214.2978 - mean_squared_error: 214.2978 - val_loss: 205.0758 - val_mean_squared_error: 205.0758\n",
            "Epoch 45/1000\n",
            "5/5 [==============================] - 95s 19s/step - loss: 212.6559 - mean_squared_error: 212.6559 - val_loss: 205.2994 - val_mean_squared_error: 205.2994\n"
          ],
          "name": "stdout"
        },
        {
          "output_type": "display_data",
          "data": {
            "text/html": [
              "<span style=\"color:#4527A0\"><h1 style=\"font-size:18px\">Trial complete</h1></span>"
            ],
            "text/plain": [
              "<IPython.core.display.HTML object>"
            ]
          },
          "metadata": {
            "tags": []
          }
        },
        {
          "output_type": "display_data",
          "data": {
            "text/html": [
              "<span style=\"color:#4527A0\"><h1 style=\"font-size:18px\">Trial summary</h1></span>"
            ],
            "text/plain": [
              "<IPython.core.display.HTML object>"
            ]
          },
          "metadata": {
            "tags": []
          }
        },
        {
          "output_type": "display_data",
          "data": {
            "text/html": [
              "<span style=\"color:cyan\"> |-Trial ID: e478b90b2ec7363c6cd32df3bedf32f9</span>"
            ],
            "text/plain": [
              "<IPython.core.display.HTML object>"
            ]
          },
          "metadata": {
            "tags": []
          }
        },
        {
          "output_type": "display_data",
          "data": {
            "text/html": [
              "<span style=\"color:cyan\"> |-Score: 189.95555114746094</span>"
            ],
            "text/plain": [
              "<IPython.core.display.HTML object>"
            ]
          },
          "metadata": {
            "tags": []
          }
        },
        {
          "output_type": "display_data",
          "data": {
            "text/html": [
              "<span style=\"color:cyan\"> |-Best step: 34</span>"
            ],
            "text/plain": [
              "<IPython.core.display.HTML object>"
            ]
          },
          "metadata": {
            "tags": []
          }
        },
        {
          "output_type": "display_data",
          "data": {
            "text/html": [
              "<span style=\"color:#7E57C2\"><h2 style=\"font-size:16px\">Hyperparameters:</h2></span>"
            ],
            "text/plain": [
              "<IPython.core.display.HTML object>"
            ]
          },
          "metadata": {
            "tags": []
          }
        },
        {
          "output_type": "display_data",
          "data": {
            "text/html": [
              "<span style=\"color:cyan\"> |-image_block_1/augment: False</span>"
            ],
            "text/plain": [
              "<IPython.core.display.HTML object>"
            ]
          },
          "metadata": {
            "tags": []
          }
        },
        {
          "output_type": "display_data",
          "data": {
            "text/html": [
              "<span style=\"color:blue\"> |-image_block_1/block_type: vanilla</span>"
            ],
            "text/plain": [
              "<IPython.core.display.HTML object>"
            ]
          },
          "metadata": {
            "tags": []
          }
        },
        {
          "output_type": "display_data",
          "data": {
            "text/html": [
              "<span style=\"color:cyan\"> |-image_block_1/conv_block_1/dropout_rate: 0.25</span>"
            ],
            "text/plain": [
              "<IPython.core.display.HTML object>"
            ]
          },
          "metadata": {
            "tags": []
          }
        },
        {
          "output_type": "display_data",
          "data": {
            "text/html": [
              "<span style=\"color:blue\"> |-image_block_1/conv_block_1/filters_0_0: 512</span>"
            ],
            "text/plain": [
              "<IPython.core.display.HTML object>"
            ]
          },
          "metadata": {
            "tags": []
          }
        },
        {
          "output_type": "display_data",
          "data": {
            "text/html": [
              "<span style=\"color:cyan\"> |-image_block_1/conv_block_1/filters_0_1: 256</span>"
            ],
            "text/plain": [
              "<IPython.core.display.HTML object>"
            ]
          },
          "metadata": {
            "tags": []
          }
        },
        {
          "output_type": "display_data",
          "data": {
            "text/html": [
              "<span style=\"color:blue\"> |-image_block_1/conv_block_1/filters_1_0: 512</span>"
            ],
            "text/plain": [
              "<IPython.core.display.HTML object>"
            ]
          },
          "metadata": {
            "tags": []
          }
        },
        {
          "output_type": "display_data",
          "data": {
            "text/html": [
              "<span style=\"color:cyan\"> |-image_block_1/conv_block_1/filters_1_1: 32</span>"
            ],
            "text/plain": [
              "<IPython.core.display.HTML object>"
            ]
          },
          "metadata": {
            "tags": []
          }
        },
        {
          "output_type": "display_data",
          "data": {
            "text/html": [
              "<span style=\"color:blue\"> |-image_block_1/conv_block_1/kernel_size: 5</span>"
            ],
            "text/plain": [
              "<IPython.core.display.HTML object>"
            ]
          },
          "metadata": {
            "tags": []
          }
        },
        {
          "output_type": "display_data",
          "data": {
            "text/html": [
              "<span style=\"color:cyan\"> |-image_block_1/conv_block_1/max_pooling: True</span>"
            ],
            "text/plain": [
              "<IPython.core.display.HTML object>"
            ]
          },
          "metadata": {
            "tags": []
          }
        },
        {
          "output_type": "display_data",
          "data": {
            "text/html": [
              "<span style=\"color:blue\"> |-image_block_1/conv_block_1/num_blocks: 2</span>"
            ],
            "text/plain": [
              "<IPython.core.display.HTML object>"
            ]
          },
          "metadata": {
            "tags": []
          }
        },
        {
          "output_type": "display_data",
          "data": {
            "text/html": [
              "<span style=\"color:cyan\"> |-image_block_1/conv_block_1/num_layers: 2</span>"
            ],
            "text/plain": [
              "<IPython.core.display.HTML object>"
            ]
          },
          "metadata": {
            "tags": []
          }
        },
        {
          "output_type": "display_data",
          "data": {
            "text/html": [
              "<span style=\"color:blue\"> |-image_block_1/conv_block_1/separable: True</span>"
            ],
            "text/plain": [
              "<IPython.core.display.HTML object>"
            ]
          },
          "metadata": {
            "tags": []
          }
        },
        {
          "output_type": "display_data",
          "data": {
            "text/html": [
              "<span style=\"color:cyan\"> |-image_block_1/normalize: False</span>"
            ],
            "text/plain": [
              "<IPython.core.display.HTML object>"
            ]
          },
          "metadata": {
            "tags": []
          }
        },
        {
          "output_type": "display_data",
          "data": {
            "text/html": [
              "<span style=\"color:blue\"> |-optimizer: adam</span>"
            ],
            "text/plain": [
              "<IPython.core.display.HTML object>"
            ]
          },
          "metadata": {
            "tags": []
          }
        },
        {
          "output_type": "display_data",
          "data": {
            "text/html": [
              "<span style=\"color:cyan\"> |-regression_head_1/dropout_rate: 0</span>"
            ],
            "text/plain": [
              "<IPython.core.display.HTML object>"
            ]
          },
          "metadata": {
            "tags": []
          }
        },
        {
          "output_type": "stream",
          "text": [
            "Epoch 1/1000\n",
            "5/5 [==============================] - 35s 7s/step - loss: 1406.1007 - mean_squared_error: 1406.1007 - val_loss: 1785.1656 - val_mean_squared_error: 1785.1656\n",
            "Epoch 2/1000\n",
            "5/5 [==============================] - 32s 6s/step - loss: 887.0659 - mean_squared_error: 887.0659 - val_loss: 1599.8226 - val_mean_squared_error: 1599.8226\n",
            "Epoch 3/1000\n",
            "5/5 [==============================] - 36s 7s/step - loss: 597.6457 - mean_squared_error: 597.6457 - val_loss: 1013.5172 - val_mean_squared_error: 1013.5172\n",
            "Epoch 4/1000\n",
            "5/5 [==============================] - 37s 7s/step - loss: 392.7220 - mean_squared_error: 392.7220 - val_loss: 229603.4219 - val_mean_squared_error: 229603.4219\n",
            "Epoch 5/1000\n",
            "5/5 [==============================] - 37s 7s/step - loss: 264.3484 - mean_squared_error: 264.3484 - val_loss: 593575.3750 - val_mean_squared_error: 593575.3750\n",
            "Epoch 6/1000\n",
            "5/5 [==============================] - 36s 7s/step - loss: 176.5875 - mean_squared_error: 176.5875 - val_loss: 306745.3750 - val_mean_squared_error: 306745.3750\n",
            "Epoch 7/1000\n",
            "5/5 [==============================] - 36s 7s/step - loss: 113.0137 - mean_squared_error: 113.0137 - val_loss: 297132.8125 - val_mean_squared_error: 297132.8125\n",
            "Epoch 8/1000\n",
            "5/5 [==============================] - 36s 7s/step - loss: 84.7080 - mean_squared_error: 84.7080 - val_loss: 24371.6348 - val_mean_squared_error: 24371.6348\n",
            "Epoch 9/1000\n",
            "5/5 [==============================] - 34s 7s/step - loss: 53.2776 - mean_squared_error: 53.2776 - val_loss: 14155.4375 - val_mean_squared_error: 14155.4375\n",
            "Epoch 10/1000\n",
            "5/5 [==============================] - 34s 7s/step - loss: 53.7018 - mean_squared_error: 53.7018 - val_loss: 12472.1113 - val_mean_squared_error: 12472.1113\n",
            "Epoch 11/1000\n",
            "5/5 [==============================] - 34s 7s/step - loss: 31.6826 - mean_squared_error: 31.6826 - val_loss: 5062.9907 - val_mean_squared_error: 5062.9907\n",
            "Epoch 12/1000\n",
            "5/5 [==============================] - 34s 7s/step - loss: 29.3217 - mean_squared_error: 29.3217 - val_loss: 2308.3167 - val_mean_squared_error: 2308.3167\n",
            "Epoch 13/1000\n",
            "5/5 [==============================] - 34s 7s/step - loss: 23.0019 - mean_squared_error: 23.0019 - val_loss: 1054.7094 - val_mean_squared_error: 1054.7094\n"
          ],
          "name": "stdout"
        },
        {
          "output_type": "display_data",
          "data": {
            "text/html": [
              "<span style=\"color:#4527A0\"><h1 style=\"font-size:18px\">Trial complete</h1></span>"
            ],
            "text/plain": [
              "<IPython.core.display.HTML object>"
            ]
          },
          "metadata": {
            "tags": []
          }
        },
        {
          "output_type": "display_data",
          "data": {
            "text/html": [
              "<span style=\"color:#4527A0\"><h1 style=\"font-size:18px\">Trial summary</h1></span>"
            ],
            "text/plain": [
              "<IPython.core.display.HTML object>"
            ]
          },
          "metadata": {
            "tags": []
          }
        },
        {
          "output_type": "display_data",
          "data": {
            "text/html": [
              "<span style=\"color:cyan\"> |-Trial ID: a35b563183ef50892d6b79ff38f8654b</span>"
            ],
            "text/plain": [
              "<IPython.core.display.HTML object>"
            ]
          },
          "metadata": {
            "tags": []
          }
        },
        {
          "output_type": "display_data",
          "data": {
            "text/html": [
              "<span style=\"color:cyan\"> |-Score: 1013.5172119140625</span>"
            ],
            "text/plain": [
              "<IPython.core.display.HTML object>"
            ]
          },
          "metadata": {
            "tags": []
          }
        },
        {
          "output_type": "display_data",
          "data": {
            "text/html": [
              "<span style=\"color:cyan\"> |-Best step: 2</span>"
            ],
            "text/plain": [
              "<IPython.core.display.HTML object>"
            ]
          },
          "metadata": {
            "tags": []
          }
        },
        {
          "output_type": "display_data",
          "data": {
            "text/html": [
              "<span style=\"color:#7E57C2\"><h2 style=\"font-size:16px\">Hyperparameters:</h2></span>"
            ],
            "text/plain": [
              "<IPython.core.display.HTML object>"
            ]
          },
          "metadata": {
            "tags": []
          }
        },
        {
          "output_type": "display_data",
          "data": {
            "text/html": [
              "<span style=\"color:cyan\"> |-image_block_1/augment: False</span>"
            ],
            "text/plain": [
              "<IPython.core.display.HTML object>"
            ]
          },
          "metadata": {
            "tags": []
          }
        },
        {
          "output_type": "display_data",
          "data": {
            "text/html": [
              "<span style=\"color:blue\"> |-image_block_1/block_type: resnet</span>"
            ],
            "text/plain": [
              "<IPython.core.display.HTML object>"
            ]
          },
          "metadata": {
            "tags": []
          }
        },
        {
          "output_type": "display_data",
          "data": {
            "text/html": [
              "<span style=\"color:cyan\"> |-image_block_1/conv_block_1/dropout_rate: 0.5</span>"
            ],
            "text/plain": [
              "<IPython.core.display.HTML object>"
            ]
          },
          "metadata": {
            "tags": []
          }
        },
        {
          "output_type": "display_data",
          "data": {
            "text/html": [
              "<span style=\"color:blue\"> |-image_block_1/conv_block_1/filters_0_0: 128</span>"
            ],
            "text/plain": [
              "<IPython.core.display.HTML object>"
            ]
          },
          "metadata": {
            "tags": []
          }
        },
        {
          "output_type": "display_data",
          "data": {
            "text/html": [
              "<span style=\"color:cyan\"> |-image_block_1/conv_block_1/filters_0_1: 128</span>"
            ],
            "text/plain": [
              "<IPython.core.display.HTML object>"
            ]
          },
          "metadata": {
            "tags": []
          }
        },
        {
          "output_type": "display_data",
          "data": {
            "text/html": [
              "<span style=\"color:blue\"> |-image_block_1/conv_block_1/filters_1_0: 128</span>"
            ],
            "text/plain": [
              "<IPython.core.display.HTML object>"
            ]
          },
          "metadata": {
            "tags": []
          }
        },
        {
          "output_type": "display_data",
          "data": {
            "text/html": [
              "<span style=\"color:cyan\"> |-image_block_1/conv_block_1/filters_1_1: 128</span>"
            ],
            "text/plain": [
              "<IPython.core.display.HTML object>"
            ]
          },
          "metadata": {
            "tags": []
          }
        },
        {
          "output_type": "display_data",
          "data": {
            "text/html": [
              "<span style=\"color:blue\"> |-image_block_1/conv_block_1/kernel_size: 3</span>"
            ],
            "text/plain": [
              "<IPython.core.display.HTML object>"
            ]
          },
          "metadata": {
            "tags": []
          }
        },
        {
          "output_type": "display_data",
          "data": {
            "text/html": [
              "<span style=\"color:cyan\"> |-image_block_1/conv_block_1/max_pooling: True</span>"
            ],
            "text/plain": [
              "<IPython.core.display.HTML object>"
            ]
          },
          "metadata": {
            "tags": []
          }
        },
        {
          "output_type": "display_data",
          "data": {
            "text/html": [
              "<span style=\"color:blue\"> |-image_block_1/conv_block_1/num_blocks: 1</span>"
            ],
            "text/plain": [
              "<IPython.core.display.HTML object>"
            ]
          },
          "metadata": {
            "tags": []
          }
        },
        {
          "output_type": "display_data",
          "data": {
            "text/html": [
              "<span style=\"color:cyan\"> |-image_block_1/conv_block_1/num_layers: 2</span>"
            ],
            "text/plain": [
              "<IPython.core.display.HTML object>"
            ]
          },
          "metadata": {
            "tags": []
          }
        },
        {
          "output_type": "display_data",
          "data": {
            "text/html": [
              "<span style=\"color:blue\"> |-image_block_1/conv_block_1/separable: True</span>"
            ],
            "text/plain": [
              "<IPython.core.display.HTML object>"
            ]
          },
          "metadata": {
            "tags": []
          }
        },
        {
          "output_type": "display_data",
          "data": {
            "text/html": [
              "<span style=\"color:cyan\"> |-image_block_1/normalize: True</span>"
            ],
            "text/plain": [
              "<IPython.core.display.HTML object>"
            ]
          },
          "metadata": {
            "tags": []
          }
        },
        {
          "output_type": "display_data",
          "data": {
            "text/html": [
              "<span style=\"color:blue\"> |-image_block_1/res_net_block_1/conv3_depth: 4</span>"
            ],
            "text/plain": [
              "<IPython.core.display.HTML object>"
            ]
          },
          "metadata": {
            "tags": []
          }
        },
        {
          "output_type": "display_data",
          "data": {
            "text/html": [
              "<span style=\"color:cyan\"> |-image_block_1/res_net_block_1/conv4_depth: 6</span>"
            ],
            "text/plain": [
              "<IPython.core.display.HTML object>"
            ]
          },
          "metadata": {
            "tags": []
          }
        },
        {
          "output_type": "display_data",
          "data": {
            "text/html": [
              "<span style=\"color:blue\"> |-image_block_1/res_net_block_1/pooling: avg</span>"
            ],
            "text/plain": [
              "<IPython.core.display.HTML object>"
            ]
          },
          "metadata": {
            "tags": []
          }
        },
        {
          "output_type": "display_data",
          "data": {
            "text/html": [
              "<span style=\"color:cyan\"> |-image_block_1/res_net_block_1/version: v2</span>"
            ],
            "text/plain": [
              "<IPython.core.display.HTML object>"
            ]
          },
          "metadata": {
            "tags": []
          }
        },
        {
          "output_type": "display_data",
          "data": {
            "text/html": [
              "<span style=\"color:blue\"> |-optimizer: adam</span>"
            ],
            "text/plain": [
              "<IPython.core.display.HTML object>"
            ]
          },
          "metadata": {
            "tags": []
          }
        },
        {
          "output_type": "display_data",
          "data": {
            "text/html": [
              "<span style=\"color:cyan\"> |-regression_head_1/dropout_rate: 0</span>"
            ],
            "text/plain": [
              "<IPython.core.display.HTML object>"
            ]
          },
          "metadata": {
            "tags": []
          }
        },
        {
          "output_type": "stream",
          "text": [
            "Epoch 1/1000\n",
            "5/5 [==============================] - 110s 22s/step - loss: 700.6238 - mean_squared_error: 700.6238 - val_loss: 1590.3149 - val_mean_squared_error: 1590.3149\n",
            "Epoch 2/1000\n",
            "5/5 [==============================] - 104s 21s/step - loss: 255.2887 - mean_squared_error: 255.2887 - val_loss: 1334.1735 - val_mean_squared_error: 1334.1735\n",
            "Epoch 3/1000\n",
            "5/5 [==============================] - 104s 21s/step - loss: 260.8839 - mean_squared_error: 260.8839 - val_loss: 1360.6543 - val_mean_squared_error: 1360.6543\n",
            "Epoch 4/1000\n",
            "5/5 [==============================] - 104s 21s/step - loss: 267.3376 - mean_squared_error: 267.3376 - val_loss: 1236.1467 - val_mean_squared_error: 1236.1467\n",
            "Epoch 5/1000\n",
            "5/5 [==============================] - 104s 21s/step - loss: 215.9063 - mean_squared_error: 215.9063 - val_loss: 1189.3826 - val_mean_squared_error: 1189.3826\n",
            "Epoch 6/1000\n",
            "5/5 [==============================] - 104s 21s/step - loss: 231.3693 - mean_squared_error: 231.3693 - val_loss: 1150.6064 - val_mean_squared_error: 1150.6064\n",
            "Epoch 7/1000\n",
            "5/5 [==============================] - 104s 21s/step - loss: 233.6224 - mean_squared_error: 233.6224 - val_loss: 1114.3650 - val_mean_squared_error: 1114.3650\n",
            "Epoch 8/1000\n",
            "5/5 [==============================] - 104s 21s/step - loss: 195.6388 - mean_squared_error: 195.6388 - val_loss: 1061.1179 - val_mean_squared_error: 1061.1179\n",
            "Epoch 9/1000\n",
            "5/5 [==============================] - 104s 21s/step - loss: 230.0197 - mean_squared_error: 230.0197 - val_loss: 1009.3951 - val_mean_squared_error: 1009.3951\n",
            "Epoch 10/1000\n",
            "5/5 [==============================] - 104s 21s/step - loss: 216.2054 - mean_squared_error: 216.2054 - val_loss: 943.6024 - val_mean_squared_error: 943.6024\n",
            "Epoch 11/1000\n",
            "5/5 [==============================] - 104s 21s/step - loss: 185.4927 - mean_squared_error: 185.4927 - val_loss: 933.5677 - val_mean_squared_error: 933.5677\n",
            "Epoch 12/1000\n",
            "5/5 [==============================] - 105s 21s/step - loss: 191.3094 - mean_squared_error: 191.3094 - val_loss: 867.9383 - val_mean_squared_error: 867.9383\n",
            "Epoch 13/1000\n",
            "5/5 [==============================] - 104s 21s/step - loss: 192.3455 - mean_squared_error: 192.3455 - val_loss: 821.3804 - val_mean_squared_error: 821.3804\n",
            "Epoch 14/1000\n",
            "5/5 [==============================] - 104s 21s/step - loss: 186.4061 - mean_squared_error: 186.4061 - val_loss: 827.7509 - val_mean_squared_error: 827.7509\n",
            "Epoch 15/1000\n",
            "5/5 [==============================] - 105s 21s/step - loss: 242.7833 - mean_squared_error: 242.7833 - val_loss: 760.3279 - val_mean_squared_error: 760.3279\n",
            "Epoch 16/1000\n",
            "5/5 [==============================] - 105s 21s/step - loss: 208.6090 - mean_squared_error: 208.6090 - val_loss: 753.8874 - val_mean_squared_error: 753.8874\n",
            "Epoch 17/1000\n",
            "5/5 [==============================] - 108s 22s/step - loss: 225.0806 - mean_squared_error: 225.0806 - val_loss: 686.5638 - val_mean_squared_error: 686.5638\n",
            "Epoch 18/1000\n",
            "5/5 [==============================] - 106s 21s/step - loss: 204.0985 - mean_squared_error: 204.0985 - val_loss: 662.6188 - val_mean_squared_error: 662.6188\n",
            "Epoch 19/1000\n",
            "5/5 [==============================] - 105s 21s/step - loss: 193.5545 - mean_squared_error: 193.5545 - val_loss: 665.2865 - val_mean_squared_error: 665.2865\n",
            "Epoch 20/1000\n",
            "5/5 [==============================] - 105s 21s/step - loss: 225.8487 - mean_squared_error: 225.8487 - val_loss: 578.8537 - val_mean_squared_error: 578.8537\n",
            "Epoch 21/1000\n",
            "5/5 [==============================] - 104s 21s/step - loss: 193.7559 - mean_squared_error: 193.7559 - val_loss: 586.7977 - val_mean_squared_error: 586.7977\n",
            "Epoch 22/1000\n",
            "5/5 [==============================] - 105s 21s/step - loss: 178.6143 - mean_squared_error: 178.6143 - val_loss: 598.4070 - val_mean_squared_error: 598.4070\n",
            "Epoch 23/1000\n",
            "5/5 [==============================] - 104s 21s/step - loss: 194.2504 - mean_squared_error: 194.2504 - val_loss: 540.7082 - val_mean_squared_error: 540.7082\n",
            "Epoch 24/1000\n",
            "5/5 [==============================] - 105s 21s/step - loss: 196.7841 - mean_squared_error: 196.7841 - val_loss: 534.9884 - val_mean_squared_error: 534.9884\n",
            "Epoch 25/1000\n",
            "5/5 [==============================] - 104s 21s/step - loss: 195.9318 - mean_squared_error: 195.9318 - val_loss: 498.4029 - val_mean_squared_error: 498.4029\n",
            "Epoch 26/1000\n",
            "5/5 [==============================] - 104s 21s/step - loss: 188.6277 - mean_squared_error: 188.6277 - val_loss: 483.1173 - val_mean_squared_error: 483.1173\n",
            "Epoch 27/1000\n",
            "5/5 [==============================] - 104s 21s/step - loss: 182.7611 - mean_squared_error: 182.7611 - val_loss: 502.8950 - val_mean_squared_error: 502.8950\n",
            "Epoch 28/1000\n",
            "5/5 [==============================] - 104s 21s/step - loss: 205.9638 - mean_squared_error: 205.9638 - val_loss: 468.4752 - val_mean_squared_error: 468.4752\n",
            "Epoch 29/1000\n",
            "5/5 [==============================] - 104s 21s/step - loss: 194.8861 - mean_squared_error: 194.8861 - val_loss: 471.9435 - val_mean_squared_error: 471.9435\n",
            "Epoch 30/1000\n",
            "5/5 [==============================] - 104s 21s/step - loss: 178.8815 - mean_squared_error: 178.8815 - val_loss: 440.9680 - val_mean_squared_error: 440.9680\n",
            "Epoch 31/1000\n",
            "5/5 [==============================] - 104s 21s/step - loss: 203.8495 - mean_squared_error: 203.8495 - val_loss: 426.7029 - val_mean_squared_error: 426.7029\n",
            "Epoch 32/1000\n",
            "5/5 [==============================] - 104s 21s/step - loss: 183.7163 - mean_squared_error: 183.7163 - val_loss: 413.9832 - val_mean_squared_error: 413.9832\n",
            "Epoch 33/1000\n",
            "5/5 [==============================] - 104s 21s/step - loss: 213.6682 - mean_squared_error: 213.6682 - val_loss: 383.1689 - val_mean_squared_error: 383.1689\n",
            "Epoch 34/1000\n",
            "5/5 [==============================] - 105s 21s/step - loss: 190.7345 - mean_squared_error: 190.7345 - val_loss: 422.4114 - val_mean_squared_error: 422.4114\n",
            "Epoch 35/1000\n",
            "5/5 [==============================] - 105s 21s/step - loss: 213.1092 - mean_squared_error: 213.1092 - val_loss: 372.7506 - val_mean_squared_error: 372.7506\n",
            "Epoch 36/1000\n",
            "5/5 [==============================] - 106s 21s/step - loss: 185.2614 - mean_squared_error: 185.2614 - val_loss: 375.4433 - val_mean_squared_error: 375.4433\n",
            "Epoch 37/1000\n",
            "5/5 [==============================] - 103s 21s/step - loss: 189.6115 - mean_squared_error: 189.6115 - val_loss: 368.3456 - val_mean_squared_error: 368.3456\n",
            "Epoch 38/1000\n",
            "5/5 [==============================] - 105s 21s/step - loss: 182.7042 - mean_squared_error: 182.7042 - val_loss: 350.9838 - val_mean_squared_error: 350.9838\n",
            "Epoch 39/1000\n",
            "5/5 [==============================] - 105s 21s/step - loss: 194.1681 - mean_squared_error: 194.1681 - val_loss: 355.3029 - val_mean_squared_error: 355.3029\n",
            "Epoch 40/1000\n",
            "5/5 [==============================] - 105s 21s/step - loss: 195.8678 - mean_squared_error: 195.8678 - val_loss: 350.7735 - val_mean_squared_error: 350.7735\n",
            "Epoch 41/1000\n",
            "5/5 [==============================] - 105s 21s/step - loss: 193.4960 - mean_squared_error: 193.4960 - val_loss: 343.8914 - val_mean_squared_error: 343.8914\n",
            "Epoch 42/1000\n",
            "5/5 [==============================] - 104s 21s/step - loss: 178.3444 - mean_squared_error: 178.3444 - val_loss: 325.7963 - val_mean_squared_error: 325.7963\n",
            "Epoch 43/1000\n",
            "5/5 [==============================] - 105s 21s/step - loss: 186.2574 - mean_squared_error: 186.2574 - val_loss: 307.2449 - val_mean_squared_error: 307.2449\n",
            "Epoch 44/1000\n",
            "5/5 [==============================] - 105s 21s/step - loss: 188.5710 - mean_squared_error: 188.5710 - val_loss: 306.7027 - val_mean_squared_error: 306.7027\n",
            "Epoch 45/1000\n",
            "5/5 [==============================] - 105s 21s/step - loss: 184.1988 - mean_squared_error: 184.1988 - val_loss: 334.0920 - val_mean_squared_error: 334.0920\n",
            "Epoch 46/1000\n",
            "5/5 [==============================] - 105s 21s/step - loss: 195.3792 - mean_squared_error: 195.3792 - val_loss: 340.3176 - val_mean_squared_error: 340.3176\n",
            "Epoch 47/1000\n",
            "5/5 [==============================] - 105s 21s/step - loss: 209.5775 - mean_squared_error: 209.5775 - val_loss: 333.2722 - val_mean_squared_error: 333.2722\n",
            "Epoch 48/1000\n",
            "5/5 [==============================] - 105s 21s/step - loss: 186.6132 - mean_squared_error: 186.6132 - val_loss: 337.6591 - val_mean_squared_error: 337.6591\n",
            "Epoch 49/1000\n",
            "5/5 [==============================] - 104s 21s/step - loss: 204.4659 - mean_squared_error: 204.4659 - val_loss: 324.4637 - val_mean_squared_error: 324.4637\n",
            "Epoch 50/1000\n",
            "5/5 [==============================] - 104s 21s/step - loss: 200.8578 - mean_squared_error: 200.8578 - val_loss: 297.1244 - val_mean_squared_error: 297.1244\n",
            "Epoch 51/1000\n",
            "5/5 [==============================] - 104s 21s/step - loss: 192.2666 - mean_squared_error: 192.2666 - val_loss: 318.8987 - val_mean_squared_error: 318.8987\n",
            "Epoch 52/1000\n",
            "5/5 [==============================] - 104s 21s/step - loss: 203.0400 - mean_squared_error: 203.0400 - val_loss: 266.5105 - val_mean_squared_error: 266.5105\n",
            "Epoch 53/1000\n",
            "5/5 [==============================] - 103s 21s/step - loss: 186.3374 - mean_squared_error: 186.3374 - val_loss: 282.0061 - val_mean_squared_error: 282.0061\n",
            "Epoch 54/1000\n",
            "5/5 [==============================] - 103s 21s/step - loss: 196.2096 - mean_squared_error: 196.2096 - val_loss: 276.9973 - val_mean_squared_error: 276.9973\n",
            "Epoch 55/1000\n",
            "5/5 [==============================] - 104s 21s/step - loss: 190.9062 - mean_squared_error: 190.9062 - val_loss: 253.1611 - val_mean_squared_error: 253.1611\n",
            "Epoch 56/1000\n",
            "5/5 [==============================] - 104s 21s/step - loss: 187.8163 - mean_squared_error: 187.8163 - val_loss: 308.3912 - val_mean_squared_error: 308.3912\n",
            "Epoch 57/1000\n",
            "5/5 [==============================] - 103s 21s/step - loss: 198.6996 - mean_squared_error: 198.6996 - val_loss: 270.2266 - val_mean_squared_error: 270.2266\n",
            "Epoch 58/1000\n",
            "5/5 [==============================] - 104s 21s/step - loss: 193.0530 - mean_squared_error: 193.0530 - val_loss: 249.5959 - val_mean_squared_error: 249.5959\n",
            "Epoch 59/1000\n",
            "5/5 [==============================] - 104s 21s/step - loss: 185.0063 - mean_squared_error: 185.0063 - val_loss: 277.0286 - val_mean_squared_error: 277.0286\n",
            "Epoch 60/1000\n",
            "5/5 [==============================] - 104s 21s/step - loss: 213.8075 - mean_squared_error: 213.8075 - val_loss: 229.9917 - val_mean_squared_error: 229.9917\n",
            "Epoch 61/1000\n",
            "5/5 [==============================] - 104s 21s/step - loss: 208.5213 - mean_squared_error: 208.5213 - val_loss: 226.5687 - val_mean_squared_error: 226.5687\n",
            "Epoch 62/1000\n",
            "5/5 [==============================] - 104s 21s/step - loss: 180.6330 - mean_squared_error: 180.6330 - val_loss: 257.0069 - val_mean_squared_error: 257.0069\n",
            "Epoch 63/1000\n",
            "5/5 [==============================] - 104s 21s/step - loss: 206.3910 - mean_squared_error: 206.3910 - val_loss: 223.3841 - val_mean_squared_error: 223.3841\n",
            "Epoch 64/1000\n",
            "5/5 [==============================] - 105s 21s/step - loss: 190.6499 - mean_squared_error: 190.6499 - val_loss: 221.1404 - val_mean_squared_error: 221.1404\n",
            "Epoch 65/1000\n",
            "5/5 [==============================] - 102s 20s/step - loss: 189.7693 - mean_squared_error: 189.7693 - val_loss: 223.0511 - val_mean_squared_error: 223.0511\n",
            "Epoch 66/1000\n",
            "5/5 [==============================] - 103s 21s/step - loss: 186.8905 - mean_squared_error: 186.8905 - val_loss: 206.8837 - val_mean_squared_error: 206.8837\n",
            "Epoch 67/1000\n",
            "5/5 [==============================] - 104s 21s/step - loss: 191.3058 - mean_squared_error: 191.3058 - val_loss: 222.0964 - val_mean_squared_error: 222.0964\n",
            "Epoch 68/1000\n",
            "5/5 [==============================] - 103s 21s/step - loss: 187.4808 - mean_squared_error: 187.4808 - val_loss: 226.3343 - val_mean_squared_error: 226.3343\n",
            "Epoch 69/1000\n",
            "5/5 [==============================] - 103s 21s/step - loss: 203.0000 - mean_squared_error: 203.0000 - val_loss: 204.0307 - val_mean_squared_error: 204.0307\n",
            "Epoch 70/1000\n",
            "5/5 [==============================] - 103s 21s/step - loss: 184.3487 - mean_squared_error: 184.3487 - val_loss: 200.7896 - val_mean_squared_error: 200.7896\n",
            "Epoch 71/1000\n",
            "5/5 [==============================] - 104s 21s/step - loss: 186.9536 - mean_squared_error: 186.9536 - val_loss: 202.5497 - val_mean_squared_error: 202.5497\n",
            "Epoch 72/1000\n",
            "5/5 [==============================] - 104s 21s/step - loss: 187.1822 - mean_squared_error: 187.1822 - val_loss: 198.9860 - val_mean_squared_error: 198.9860\n",
            "Epoch 73/1000\n",
            "5/5 [==============================] - 104s 21s/step - loss: 189.2875 - mean_squared_error: 189.2875 - val_loss: 203.6849 - val_mean_squared_error: 203.6849\n",
            "Epoch 74/1000\n",
            "5/5 [==============================] - 105s 21s/step - loss: 179.6686 - mean_squared_error: 179.6686 - val_loss: 202.6230 - val_mean_squared_error: 202.6230\n",
            "Epoch 75/1000\n",
            "5/5 [==============================] - 104s 21s/step - loss: 182.4121 - mean_squared_error: 182.4121 - val_loss: 205.5413 - val_mean_squared_error: 205.5413\n",
            "Epoch 76/1000\n",
            "5/5 [==============================] - 104s 21s/step - loss: 180.6903 - mean_squared_error: 180.6903 - val_loss: 221.2419 - val_mean_squared_error: 221.2419\n",
            "Epoch 77/1000\n",
            "5/5 [==============================] - 105s 21s/step - loss: 190.0981 - mean_squared_error: 190.0981 - val_loss: 206.7060 - val_mean_squared_error: 206.7060\n",
            "Epoch 78/1000\n",
            "5/5 [==============================] - 105s 21s/step - loss: 190.5570 - mean_squared_error: 190.5570 - val_loss: 204.9920 - val_mean_squared_error: 204.9920\n",
            "Epoch 79/1000\n",
            "5/5 [==============================] - 104s 21s/step - loss: 183.5574 - mean_squared_error: 183.5574 - val_loss: 199.7487 - val_mean_squared_error: 199.7487\n",
            "Epoch 80/1000\n",
            "5/5 [==============================] - 105s 21s/step - loss: 202.2664 - mean_squared_error: 202.2664 - val_loss: 192.7819 - val_mean_squared_error: 192.7819\n",
            "Epoch 81/1000\n",
            "5/5 [==============================] - 104s 21s/step - loss: 182.2713 - mean_squared_error: 182.2713 - val_loss: 211.6150 - val_mean_squared_error: 211.6150\n",
            "Epoch 82/1000\n",
            "5/5 [==============================] - 103s 21s/step - loss: 177.7634 - mean_squared_error: 177.7634 - val_loss: 219.5833 - val_mean_squared_error: 219.5833\n",
            "Epoch 83/1000\n",
            "5/5 [==============================] - 107s 21s/step - loss: 185.8638 - mean_squared_error: 185.8638 - val_loss: 213.1781 - val_mean_squared_error: 213.1781\n",
            "Epoch 84/1000\n",
            "5/5 [==============================] - 104s 21s/step - loss: 195.5680 - mean_squared_error: 195.5680 - val_loss: 203.9063 - val_mean_squared_error: 203.9063\n",
            "Epoch 85/1000\n",
            "5/5 [==============================] - 105s 21s/step - loss: 181.4908 - mean_squared_error: 181.4908 - val_loss: 211.2065 - val_mean_squared_error: 211.2065\n",
            "Epoch 86/1000\n",
            "5/5 [==============================] - 104s 21s/step - loss: 184.9211 - mean_squared_error: 184.9211 - val_loss: 206.6179 - val_mean_squared_error: 206.6179\n",
            "Epoch 87/1000\n",
            "5/5 [==============================] - 104s 21s/step - loss: 194.2760 - mean_squared_error: 194.2760 - val_loss: 193.9588 - val_mean_squared_error: 193.9588\n",
            "Epoch 88/1000\n",
            "5/5 [==============================] - 104s 21s/step - loss: 179.8018 - mean_squared_error: 179.8018 - val_loss: 189.5023 - val_mean_squared_error: 189.5023\n",
            "Epoch 89/1000\n",
            "5/5 [==============================] - 102s 20s/step - loss: 189.4576 - mean_squared_error: 189.4576 - val_loss: 191.4826 - val_mean_squared_error: 191.4826\n",
            "Epoch 90/1000\n",
            "5/5 [==============================] - 101s 20s/step - loss: 181.0674 - mean_squared_error: 181.0674 - val_loss: 190.8662 - val_mean_squared_error: 190.8662\n",
            "Epoch 91/1000\n",
            "5/5 [==============================] - 102s 20s/step - loss: 184.5429 - mean_squared_error: 184.5429 - val_loss: 187.2573 - val_mean_squared_error: 187.2573\n",
            "Epoch 92/1000\n",
            "5/5 [==============================] - 102s 20s/step - loss: 176.0716 - mean_squared_error: 176.0716 - val_loss: 191.1443 - val_mean_squared_error: 191.1443\n",
            "Epoch 93/1000\n",
            "5/5 [==============================] - 102s 20s/step - loss: 178.7710 - mean_squared_error: 178.7710 - val_loss: 188.6646 - val_mean_squared_error: 188.6646\n",
            "Epoch 94/1000\n",
            "5/5 [==============================] - 102s 20s/step - loss: 189.3248 - mean_squared_error: 189.3248 - val_loss: 189.7800 - val_mean_squared_error: 189.7800\n",
            "Epoch 95/1000\n",
            "5/5 [==============================] - 102s 20s/step - loss: 197.1180 - mean_squared_error: 197.1180 - val_loss: 196.1880 - val_mean_squared_error: 196.1880\n",
            "Epoch 96/1000\n",
            "5/5 [==============================] - 104s 21s/step - loss: 180.0920 - mean_squared_error: 180.0920 - val_loss: 191.1595 - val_mean_squared_error: 191.1595\n",
            "Epoch 97/1000\n",
            "5/5 [==============================] - 106s 21s/step - loss: 178.8690 - mean_squared_error: 178.8690 - val_loss: 188.3373 - val_mean_squared_error: 188.3373\n",
            "Epoch 98/1000\n",
            "5/5 [==============================] - 103s 21s/step - loss: 205.9771 - mean_squared_error: 205.9771 - val_loss: 189.0384 - val_mean_squared_error: 189.0384\n",
            "Epoch 99/1000\n",
            "5/5 [==============================] - 104s 21s/step - loss: 183.4091 - mean_squared_error: 183.4091 - val_loss: 190.2293 - val_mean_squared_error: 190.2293\n",
            "Epoch 100/1000\n",
            "5/5 [==============================] - 104s 21s/step - loss: 178.1785 - mean_squared_error: 178.1785 - val_loss: 191.3037 - val_mean_squared_error: 191.3037\n",
            "Epoch 101/1000\n",
            "5/5 [==============================] - 104s 21s/step - loss: 178.2705 - mean_squared_error: 178.2705 - val_loss: 192.2517 - val_mean_squared_error: 192.2517\n"
          ],
          "name": "stdout"
        },
        {
          "output_type": "display_data",
          "data": {
            "text/html": [
              "<span style=\"color:#4527A0\"><h1 style=\"font-size:18px\">Trial complete</h1></span>"
            ],
            "text/plain": [
              "<IPython.core.display.HTML object>"
            ]
          },
          "metadata": {
            "tags": []
          }
        },
        {
          "output_type": "display_data",
          "data": {
            "text/html": [
              "<span style=\"color:#4527A0\"><h1 style=\"font-size:18px\">Trial summary</h1></span>"
            ],
            "text/plain": [
              "<IPython.core.display.HTML object>"
            ]
          },
          "metadata": {
            "tags": []
          }
        },
        {
          "output_type": "display_data",
          "data": {
            "text/html": [
              "<span style=\"color:cyan\"> |-Trial ID: c7cfe456a027ab6aaf7740a6f9d3a7df</span>"
            ],
            "text/plain": [
              "<IPython.core.display.HTML object>"
            ]
          },
          "metadata": {
            "tags": []
          }
        },
        {
          "output_type": "display_data",
          "data": {
            "text/html": [
              "<span style=\"color:cyan\"> |-Score: 187.25732421875</span>"
            ],
            "text/plain": [
              "<IPython.core.display.HTML object>"
            ]
          },
          "metadata": {
            "tags": []
          }
        },
        {
          "output_type": "display_data",
          "data": {
            "text/html": [
              "<span style=\"color:cyan\"> |-Best step: 90</span>"
            ],
            "text/plain": [
              "<IPython.core.display.HTML object>"
            ]
          },
          "metadata": {
            "tags": []
          }
        },
        {
          "output_type": "display_data",
          "data": {
            "text/html": [
              "<span style=\"color:#7E57C2\"><h2 style=\"font-size:16px\">Hyperparameters:</h2></span>"
            ],
            "text/plain": [
              "<IPython.core.display.HTML object>"
            ]
          },
          "metadata": {
            "tags": []
          }
        },
        {
          "output_type": "display_data",
          "data": {
            "text/html": [
              "<span style=\"color:cyan\"> |-image_block_1/augment: True</span>"
            ],
            "text/plain": [
              "<IPython.core.display.HTML object>"
            ]
          },
          "metadata": {
            "tags": []
          }
        },
        {
          "output_type": "display_data",
          "data": {
            "text/html": [
              "<span style=\"color:blue\"> |-image_block_1/block_type: resnet</span>"
            ],
            "text/plain": [
              "<IPython.core.display.HTML object>"
            ]
          },
          "metadata": {
            "tags": []
          }
        },
        {
          "output_type": "display_data",
          "data": {
            "text/html": [
              "<span style=\"color:cyan\"> |-image_block_1/conv_block_1/dropout_rate: 0.5</span>"
            ],
            "text/plain": [
              "<IPython.core.display.HTML object>"
            ]
          },
          "metadata": {
            "tags": []
          }
        },
        {
          "output_type": "display_data",
          "data": {
            "text/html": [
              "<span style=\"color:blue\"> |-image_block_1/conv_block_1/filters_0_0: 16</span>"
            ],
            "text/plain": [
              "<IPython.core.display.HTML object>"
            ]
          },
          "metadata": {
            "tags": []
          }
        },
        {
          "output_type": "display_data",
          "data": {
            "text/html": [
              "<span style=\"color:cyan\"> |-image_block_1/conv_block_1/filters_0_1: 64</span>"
            ],
            "text/plain": [
              "<IPython.core.display.HTML object>"
            ]
          },
          "metadata": {
            "tags": []
          }
        },
        {
          "output_type": "display_data",
          "data": {
            "text/html": [
              "<span style=\"color:blue\"> |-image_block_1/conv_block_1/filters_1_0: 128</span>"
            ],
            "text/plain": [
              "<IPython.core.display.HTML object>"
            ]
          },
          "metadata": {
            "tags": []
          }
        },
        {
          "output_type": "display_data",
          "data": {
            "text/html": [
              "<span style=\"color:cyan\"> |-image_block_1/conv_block_1/filters_1_1: 32</span>"
            ],
            "text/plain": [
              "<IPython.core.display.HTML object>"
            ]
          },
          "metadata": {
            "tags": []
          }
        },
        {
          "output_type": "display_data",
          "data": {
            "text/html": [
              "<span style=\"color:blue\"> |-image_block_1/conv_block_1/kernel_size: 3</span>"
            ],
            "text/plain": [
              "<IPython.core.display.HTML object>"
            ]
          },
          "metadata": {
            "tags": []
          }
        },
        {
          "output_type": "display_data",
          "data": {
            "text/html": [
              "<span style=\"color:cyan\"> |-image_block_1/conv_block_1/max_pooling: True</span>"
            ],
            "text/plain": [
              "<IPython.core.display.HTML object>"
            ]
          },
          "metadata": {
            "tags": []
          }
        },
        {
          "output_type": "display_data",
          "data": {
            "text/html": [
              "<span style=\"color:blue\"> |-image_block_1/conv_block_1/num_blocks: 3</span>"
            ],
            "text/plain": [
              "<IPython.core.display.HTML object>"
            ]
          },
          "metadata": {
            "tags": []
          }
        },
        {
          "output_type": "display_data",
          "data": {
            "text/html": [
              "<span style=\"color:cyan\"> |-image_block_1/conv_block_1/num_layers: 1</span>"
            ],
            "text/plain": [
              "<IPython.core.display.HTML object>"
            ]
          },
          "metadata": {
            "tags": []
          }
        },
        {
          "output_type": "display_data",
          "data": {
            "text/html": [
              "<span style=\"color:blue\"> |-image_block_1/conv_block_1/separable: False</span>"
            ],
            "text/plain": [
              "<IPython.core.display.HTML object>"
            ]
          },
          "metadata": {
            "tags": []
          }
        },
        {
          "output_type": "display_data",
          "data": {
            "text/html": [
              "<span style=\"color:cyan\"> |-image_block_1/image_augmentation_1/horizontal_flip: True</span>"
            ],
            "text/plain": [
              "<IPython.core.display.HTML object>"
            ]
          },
          "metadata": {
            "tags": []
          }
        },
        {
          "output_type": "display_data",
          "data": {
            "text/html": [
              "<span style=\"color:blue\"> |-image_block_1/image_augmentation_1/vertical_flip: True</span>"
            ],
            "text/plain": [
              "<IPython.core.display.HTML object>"
            ]
          },
          "metadata": {
            "tags": []
          }
        },
        {
          "output_type": "display_data",
          "data": {
            "text/html": [
              "<span style=\"color:cyan\"> |-image_block_1/normalize: False</span>"
            ],
            "text/plain": [
              "<IPython.core.display.HTML object>"
            ]
          },
          "metadata": {
            "tags": []
          }
        },
        {
          "output_type": "display_data",
          "data": {
            "text/html": [
              "<span style=\"color:blue\"> |-image_block_1/res_net_block_1/conv3_depth: 4</span>"
            ],
            "text/plain": [
              "<IPython.core.display.HTML object>"
            ]
          },
          "metadata": {
            "tags": []
          }
        },
        {
          "output_type": "display_data",
          "data": {
            "text/html": [
              "<span style=\"color:cyan\"> |-image_block_1/res_net_block_1/conv4_depth: 36</span>"
            ],
            "text/plain": [
              "<IPython.core.display.HTML object>"
            ]
          },
          "metadata": {
            "tags": []
          }
        },
        {
          "output_type": "display_data",
          "data": {
            "text/html": [
              "<span style=\"color:blue\"> |-image_block_1/res_net_block_1/pooling: max</span>"
            ],
            "text/plain": [
              "<IPython.core.display.HTML object>"
            ]
          },
          "metadata": {
            "tags": []
          }
        },
        {
          "output_type": "display_data",
          "data": {
            "text/html": [
              "<span style=\"color:cyan\"> |-image_block_1/res_net_block_1/version: next</span>"
            ],
            "text/plain": [
              "<IPython.core.display.HTML object>"
            ]
          },
          "metadata": {
            "tags": []
          }
        },
        {
          "output_type": "display_data",
          "data": {
            "text/html": [
              "<span style=\"color:blue\"> |-optimizer: adam</span>"
            ],
            "text/plain": [
              "<IPython.core.display.HTML object>"
            ]
          },
          "metadata": {
            "tags": []
          }
        },
        {
          "output_type": "display_data",
          "data": {
            "text/html": [
              "<span style=\"color:cyan\"> |-regression_head_1/dropout_rate: 0</span>"
            ],
            "text/plain": [
              "<IPython.core.display.HTML object>"
            ]
          },
          "metadata": {
            "tags": []
          }
        },
        {
          "output_type": "stream",
          "text": [
            "Epoch 1/1000\n",
            "5/5 [==============================] - 71s 14s/step - loss: 944.5658 - mean_squared_error: 944.5658 - val_loss: 1284268800.0000 - val_mean_squared_error: 1284268800.0000\n",
            "Epoch 2/1000\n",
            "5/5 [==============================] - 68s 14s/step - loss: 268.4544 - mean_squared_error: 268.4544 - val_loss: 441682493440.0000 - val_mean_squared_error: 441682493440.0000\n",
            "Epoch 3/1000\n",
            "5/5 [==============================] - 69s 14s/step - loss: 220.3777 - mean_squared_error: 220.3777 - val_loss: 517454626816.0000 - val_mean_squared_error: 517454626816.0000\n",
            "Epoch 4/1000\n",
            "5/5 [==============================] - 73s 15s/step - loss: 311.3250 - mean_squared_error: 311.3250 - val_loss: 245328510976.0000 - val_mean_squared_error: 245328510976.0000\n",
            "Epoch 5/1000\n",
            "5/5 [==============================] - 68s 14s/step - loss: 176.1135 - mean_squared_error: 176.1135 - val_loss: 13903072256.0000 - val_mean_squared_error: 13903072256.0000\n",
            "Epoch 6/1000\n",
            "5/5 [==============================] - 69s 14s/step - loss: 170.6202 - mean_squared_error: 170.6202 - val_loss: 2505676288.0000 - val_mean_squared_error: 2505676288.0000\n",
            "Epoch 7/1000\n",
            "5/5 [==============================] - 66s 13s/step - loss: 126.7286 - mean_squared_error: 126.7286 - val_loss: 136362656.0000 - val_mean_squared_error: 136362656.0000\n",
            "Epoch 8/1000\n",
            "5/5 [==============================] - 66s 13s/step - loss: 93.2480 - mean_squared_error: 93.2480 - val_loss: 16850168.0000 - val_mean_squared_error: 16850168.0000\n",
            "Epoch 9/1000\n",
            "5/5 [==============================] - 66s 13s/step - loss: 40.1587 - mean_squared_error: 40.1587 - val_loss: 1075049.0000 - val_mean_squared_error: 1075049.0000\n",
            "Epoch 10/1000\n",
            "5/5 [==============================] - 68s 14s/step - loss: 40.6830 - mean_squared_error: 40.6830 - val_loss: 143555.3750 - val_mean_squared_error: 143555.3750\n",
            "Epoch 11/1000\n",
            "5/5 [==============================] - 67s 13s/step - loss: 25.0310 - mean_squared_error: 25.0310 - val_loss: 12832.9873 - val_mean_squared_error: 12832.9873\n",
            "Epoch 12/1000\n",
            "5/5 [==============================] - 67s 13s/step - loss: 27.7803 - mean_squared_error: 27.7803 - val_loss: 1720.2219 - val_mean_squared_error: 1720.2219\n",
            "Epoch 13/1000\n",
            "5/5 [==============================] - 66s 13s/step - loss: 22.3542 - mean_squared_error: 22.3542 - val_loss: 576.0786 - val_mean_squared_error: 576.0786\n",
            "Epoch 14/1000\n",
            "5/5 [==============================] - 66s 13s/step - loss: 9.9783 - mean_squared_error: 9.9783 - val_loss: 433.0894 - val_mean_squared_error: 433.0894\n",
            "Epoch 15/1000\n",
            "5/5 [==============================] - 67s 13s/step - loss: 9.1526 - mean_squared_error: 9.1526 - val_loss: 400.3637 - val_mean_squared_error: 400.3637\n",
            "Epoch 16/1000\n",
            "5/5 [==============================] - 67s 13s/step - loss: 10.0598 - mean_squared_error: 10.0598 - val_loss: 329.8135 - val_mean_squared_error: 329.8135\n",
            "Epoch 17/1000\n",
            "5/5 [==============================] - 66s 13s/step - loss: 8.2830 - mean_squared_error: 8.2830 - val_loss: 326.9296 - val_mean_squared_error: 326.9296\n",
            "Epoch 18/1000\n",
            "5/5 [==============================] - 66s 13s/step - loss: 6.8825 - mean_squared_error: 6.8825 - val_loss: 294.4654 - val_mean_squared_error: 294.4654\n",
            "Epoch 19/1000\n",
            "5/5 [==============================] - 66s 13s/step - loss: 3.1935 - mean_squared_error: 3.1935 - val_loss: 296.0778 - val_mean_squared_error: 296.0778\n",
            "Epoch 20/1000\n",
            "5/5 [==============================] - 66s 13s/step - loss: 2.9735 - mean_squared_error: 2.9735 - val_loss: 268.0116 - val_mean_squared_error: 268.0116\n",
            "Epoch 21/1000\n",
            "5/5 [==============================] - 66s 13s/step - loss: 2.2019 - mean_squared_error: 2.2019 - val_loss: 276.5809 - val_mean_squared_error: 276.5809\n",
            "Epoch 22/1000\n",
            "5/5 [==============================] - 66s 13s/step - loss: 2.4367 - mean_squared_error: 2.4367 - val_loss: 252.9631 - val_mean_squared_error: 252.9631\n",
            "Epoch 23/1000\n",
            "5/5 [==============================] - 68s 14s/step - loss: 1.8868 - mean_squared_error: 1.8868 - val_loss: 239.8904 - val_mean_squared_error: 239.8904\n",
            "Epoch 24/1000\n",
            "5/5 [==============================] - 66s 13s/step - loss: 1.7345 - mean_squared_error: 1.7345 - val_loss: 236.2046 - val_mean_squared_error: 236.2046\n",
            "Epoch 25/1000\n",
            "5/5 [==============================] - 66s 13s/step - loss: 1.4516 - mean_squared_error: 1.4516 - val_loss: 242.6353 - val_mean_squared_error: 242.6353\n",
            "Epoch 26/1000\n",
            "5/5 [==============================] - 66s 13s/step - loss: 3.5674 - mean_squared_error: 3.5674 - val_loss: 215.9594 - val_mean_squared_error: 215.9594\n",
            "Epoch 27/1000\n",
            "5/5 [==============================] - 66s 13s/step - loss: 3.9168 - mean_squared_error: 3.9168 - val_loss: 208.7451 - val_mean_squared_error: 208.7451\n",
            "Epoch 28/1000\n",
            "5/5 [==============================] - 66s 13s/step - loss: 4.2016 - mean_squared_error: 4.2016 - val_loss: 227.3315 - val_mean_squared_error: 227.3315\n",
            "Epoch 29/1000\n",
            "5/5 [==============================] - 66s 13s/step - loss: 4.1315 - mean_squared_error: 4.1315 - val_loss: 202.8815 - val_mean_squared_error: 202.8815\n",
            "Epoch 30/1000\n",
            "5/5 [==============================] - 67s 13s/step - loss: 2.0710 - mean_squared_error: 2.0710 - val_loss: 196.4264 - val_mean_squared_error: 196.4264\n",
            "Epoch 31/1000\n",
            "5/5 [==============================] - 66s 13s/step - loss: 1.9630 - mean_squared_error: 1.9630 - val_loss: 205.6960 - val_mean_squared_error: 205.6960\n",
            "Epoch 32/1000\n",
            "5/5 [==============================] - 67s 13s/step - loss: 1.8365 - mean_squared_error: 1.8365 - val_loss: 192.5751 - val_mean_squared_error: 192.5751\n",
            "Epoch 33/1000\n",
            "5/5 [==============================] - 66s 13s/step - loss: 1.0048 - mean_squared_error: 1.0048 - val_loss: 193.0557 - val_mean_squared_error: 193.0557\n",
            "Epoch 34/1000\n",
            "5/5 [==============================] - 66s 13s/step - loss: 0.6661 - mean_squared_error: 0.6661 - val_loss: 195.6659 - val_mean_squared_error: 195.6659\n",
            "Epoch 35/1000\n",
            "5/5 [==============================] - 67s 13s/step - loss: 0.9151 - mean_squared_error: 0.9151 - val_loss: 187.8455 - val_mean_squared_error: 187.8455\n",
            "Epoch 36/1000\n",
            "5/5 [==============================] - 67s 13s/step - loss: 0.7946 - mean_squared_error: 0.7946 - val_loss: 191.6355 - val_mean_squared_error: 191.6355\n",
            "Epoch 37/1000\n",
            "5/5 [==============================] - 67s 13s/step - loss: 0.5973 - mean_squared_error: 0.5973 - val_loss: 188.1569 - val_mean_squared_error: 188.1569\n",
            "Epoch 38/1000\n",
            "5/5 [==============================] - 67s 13s/step - loss: 0.7522 - mean_squared_error: 0.7522 - val_loss: 186.9468 - val_mean_squared_error: 186.9468\n",
            "Epoch 39/1000\n",
            "5/5 [==============================] - 69s 14s/step - loss: 0.5049 - mean_squared_error: 0.5049 - val_loss: 187.7048 - val_mean_squared_error: 187.7048\n",
            "Epoch 40/1000\n",
            "5/5 [==============================] - 67s 13s/step - loss: 0.8990 - mean_squared_error: 0.8990 - val_loss: 186.8098 - val_mean_squared_error: 186.8098\n",
            "Epoch 41/1000\n",
            "5/5 [==============================] - 66s 13s/step - loss: 0.7431 - mean_squared_error: 0.7431 - val_loss: 186.6851 - val_mean_squared_error: 186.6851\n",
            "Epoch 42/1000\n",
            "5/5 [==============================] - 67s 13s/step - loss: 1.1465 - mean_squared_error: 1.1465 - val_loss: 186.6210 - val_mean_squared_error: 186.6210\n",
            "Epoch 43/1000\n",
            "5/5 [==============================] - 66s 13s/step - loss: 1.4922 - mean_squared_error: 1.4922 - val_loss: 186.7421 - val_mean_squared_error: 186.7421\n",
            "Epoch 44/1000\n",
            "5/5 [==============================] - 66s 13s/step - loss: 1.3429 - mean_squared_error: 1.3429 - val_loss: 187.2802 - val_mean_squared_error: 187.2802\n",
            "Epoch 45/1000\n",
            "5/5 [==============================] - 66s 13s/step - loss: 2.6561 - mean_squared_error: 2.6561 - val_loss: 187.7404 - val_mean_squared_error: 187.7404\n",
            "Epoch 46/1000\n",
            "5/5 [==============================] - 66s 13s/step - loss: 1.4418 - mean_squared_error: 1.4418 - val_loss: 186.9179 - val_mean_squared_error: 186.9179\n",
            "Epoch 47/1000\n",
            "5/5 [==============================] - 66s 13s/step - loss: 2.8628 - mean_squared_error: 2.8628 - val_loss: 188.6386 - val_mean_squared_error: 188.6386\n",
            "Epoch 48/1000\n",
            "5/5 [==============================] - 67s 13s/step - loss: 2.1684 - mean_squared_error: 2.1684 - val_loss: 192.0162 - val_mean_squared_error: 192.0162\n",
            "Epoch 49/1000\n",
            "5/5 [==============================] - 67s 13s/step - loss: 1.7957 - mean_squared_error: 1.7957 - val_loss: 189.7532 - val_mean_squared_error: 189.7532\n",
            "Epoch 50/1000\n",
            "5/5 [==============================] - 67s 13s/step - loss: 2.0506 - mean_squared_error: 2.0506 - val_loss: 189.4165 - val_mean_squared_error: 189.4165\n",
            "Epoch 51/1000\n",
            "5/5 [==============================] - 67s 13s/step - loss: 1.2093 - mean_squared_error: 1.2093 - val_loss: 195.6924 - val_mean_squared_error: 195.6924\n",
            "Epoch 52/1000\n",
            "5/5 [==============================] - 66s 13s/step - loss: 1.1430 - mean_squared_error: 1.1430 - val_loss: 195.6439 - val_mean_squared_error: 195.6439\n"
          ],
          "name": "stdout"
        },
        {
          "output_type": "display_data",
          "data": {
            "text/html": [
              "<span style=\"color:#4527A0\"><h1 style=\"font-size:18px\">Trial complete</h1></span>"
            ],
            "text/plain": [
              "<IPython.core.display.HTML object>"
            ]
          },
          "metadata": {
            "tags": []
          }
        },
        {
          "output_type": "display_data",
          "data": {
            "text/html": [
              "<span style=\"color:#4527A0\"><h1 style=\"font-size:18px\">Trial summary</h1></span>"
            ],
            "text/plain": [
              "<IPython.core.display.HTML object>"
            ]
          },
          "metadata": {
            "tags": []
          }
        },
        {
          "output_type": "display_data",
          "data": {
            "text/html": [
              "<span style=\"color:cyan\"> |-Trial ID: 09cbbe89c748e9fbdd6bfbe0031bc8bb</span>"
            ],
            "text/plain": [
              "<IPython.core.display.HTML object>"
            ]
          },
          "metadata": {
            "tags": []
          }
        },
        {
          "output_type": "display_data",
          "data": {
            "text/html": [
              "<span style=\"color:cyan\"> |-Score: 186.6210174560547</span>"
            ],
            "text/plain": [
              "<IPython.core.display.HTML object>"
            ]
          },
          "metadata": {
            "tags": []
          }
        },
        {
          "output_type": "display_data",
          "data": {
            "text/html": [
              "<span style=\"color:cyan\"> |-Best step: 41</span>"
            ],
            "text/plain": [
              "<IPython.core.display.HTML object>"
            ]
          },
          "metadata": {
            "tags": []
          }
        },
        {
          "output_type": "display_data",
          "data": {
            "text/html": [
              "<span style=\"color:#7E57C2\"><h2 style=\"font-size:16px\">Hyperparameters:</h2></span>"
            ],
            "text/plain": [
              "<IPython.core.display.HTML object>"
            ]
          },
          "metadata": {
            "tags": []
          }
        },
        {
          "output_type": "display_data",
          "data": {
            "text/html": [
              "<span style=\"color:cyan\"> |-image_block_1/augment: False</span>"
            ],
            "text/plain": [
              "<IPython.core.display.HTML object>"
            ]
          },
          "metadata": {
            "tags": []
          }
        },
        {
          "output_type": "display_data",
          "data": {
            "text/html": [
              "<span style=\"color:blue\"> |-image_block_1/block_type: resnet</span>"
            ],
            "text/plain": [
              "<IPython.core.display.HTML object>"
            ]
          },
          "metadata": {
            "tags": []
          }
        },
        {
          "output_type": "display_data",
          "data": {
            "text/html": [
              "<span style=\"color:cyan\"> |-image_block_1/conv_block_1/dropout_rate: 0.5</span>"
            ],
            "text/plain": [
              "<IPython.core.display.HTML object>"
            ]
          },
          "metadata": {
            "tags": []
          }
        },
        {
          "output_type": "display_data",
          "data": {
            "text/html": [
              "<span style=\"color:blue\"> |-image_block_1/conv_block_1/filters_0_0: 512</span>"
            ],
            "text/plain": [
              "<IPython.core.display.HTML object>"
            ]
          },
          "metadata": {
            "tags": []
          }
        },
        {
          "output_type": "display_data",
          "data": {
            "text/html": [
              "<span style=\"color:cyan\"> |-image_block_1/conv_block_1/filters_0_1: 32</span>"
            ],
            "text/plain": [
              "<IPython.core.display.HTML object>"
            ]
          },
          "metadata": {
            "tags": []
          }
        },
        {
          "output_type": "display_data",
          "data": {
            "text/html": [
              "<span style=\"color:blue\"> |-image_block_1/conv_block_1/filters_1_0: 128</span>"
            ],
            "text/plain": [
              "<IPython.core.display.HTML object>"
            ]
          },
          "metadata": {
            "tags": []
          }
        },
        {
          "output_type": "display_data",
          "data": {
            "text/html": [
              "<span style=\"color:cyan\"> |-image_block_1/conv_block_1/filters_1_1: 128</span>"
            ],
            "text/plain": [
              "<IPython.core.display.HTML object>"
            ]
          },
          "metadata": {
            "tags": []
          }
        },
        {
          "output_type": "display_data",
          "data": {
            "text/html": [
              "<span style=\"color:blue\"> |-image_block_1/conv_block_1/kernel_size: 3</span>"
            ],
            "text/plain": [
              "<IPython.core.display.HTML object>"
            ]
          },
          "metadata": {
            "tags": []
          }
        },
        {
          "output_type": "display_data",
          "data": {
            "text/html": [
              "<span style=\"color:cyan\"> |-image_block_1/conv_block_1/max_pooling: True</span>"
            ],
            "text/plain": [
              "<IPython.core.display.HTML object>"
            ]
          },
          "metadata": {
            "tags": []
          }
        },
        {
          "output_type": "display_data",
          "data": {
            "text/html": [
              "<span style=\"color:blue\"> |-image_block_1/conv_block_1/num_blocks: 2</span>"
            ],
            "text/plain": [
              "<IPython.core.display.HTML object>"
            ]
          },
          "metadata": {
            "tags": []
          }
        },
        {
          "output_type": "display_data",
          "data": {
            "text/html": [
              "<span style=\"color:cyan\"> |-image_block_1/conv_block_1/num_layers: 2</span>"
            ],
            "text/plain": [
              "<IPython.core.display.HTML object>"
            ]
          },
          "metadata": {
            "tags": []
          }
        },
        {
          "output_type": "display_data",
          "data": {
            "text/html": [
              "<span style=\"color:blue\"> |-image_block_1/conv_block_1/separable: False</span>"
            ],
            "text/plain": [
              "<IPython.core.display.HTML object>"
            ]
          },
          "metadata": {
            "tags": []
          }
        },
        {
          "output_type": "display_data",
          "data": {
            "text/html": [
              "<span style=\"color:cyan\"> |-image_block_1/image_augmentation_1/horizontal_flip: True</span>"
            ],
            "text/plain": [
              "<IPython.core.display.HTML object>"
            ]
          },
          "metadata": {
            "tags": []
          }
        },
        {
          "output_type": "display_data",
          "data": {
            "text/html": [
              "<span style=\"color:blue\"> |-image_block_1/image_augmentation_1/vertical_flip: False</span>"
            ],
            "text/plain": [
              "<IPython.core.display.HTML object>"
            ]
          },
          "metadata": {
            "tags": []
          }
        },
        {
          "output_type": "display_data",
          "data": {
            "text/html": [
              "<span style=\"color:cyan\"> |-image_block_1/normalize: False</span>"
            ],
            "text/plain": [
              "<IPython.core.display.HTML object>"
            ]
          },
          "metadata": {
            "tags": []
          }
        },
        {
          "output_type": "display_data",
          "data": {
            "text/html": [
              "<span style=\"color:blue\"> |-image_block_1/res_net_block_1/conv3_depth: 8</span>"
            ],
            "text/plain": [
              "<IPython.core.display.HTML object>"
            ]
          },
          "metadata": {
            "tags": []
          }
        },
        {
          "output_type": "display_data",
          "data": {
            "text/html": [
              "<span style=\"color:cyan\"> |-image_block_1/res_net_block_1/conv4_depth: 23</span>"
            ],
            "text/plain": [
              "<IPython.core.display.HTML object>"
            ]
          },
          "metadata": {
            "tags": []
          }
        },
        {
          "output_type": "display_data",
          "data": {
            "text/html": [
              "<span style=\"color:blue\"> |-image_block_1/res_net_block_1/pooling: max</span>"
            ],
            "text/plain": [
              "<IPython.core.display.HTML object>"
            ]
          },
          "metadata": {
            "tags": []
          }
        },
        {
          "output_type": "display_data",
          "data": {
            "text/html": [
              "<span style=\"color:cyan\"> |-image_block_1/res_net_block_1/version: v1</span>"
            ],
            "text/plain": [
              "<IPython.core.display.HTML object>"
            ]
          },
          "metadata": {
            "tags": []
          }
        },
        {
          "output_type": "display_data",
          "data": {
            "text/html": [
              "<span style=\"color:blue\"> |-optimizer: adam</span>"
            ],
            "text/plain": [
              "<IPython.core.display.HTML object>"
            ]
          },
          "metadata": {
            "tags": []
          }
        },
        {
          "output_type": "display_data",
          "data": {
            "text/html": [
              "<span style=\"color:cyan\"> |-regression_head_1/dropout_rate: 0</span>"
            ],
            "text/plain": [
              "<IPython.core.display.HTML object>"
            ]
          },
          "metadata": {
            "tags": []
          }
        },
        {
          "output_type": "stream",
          "text": [
            "Epoch 1/1000\n",
            "5/5 [==============================] - 41s 8s/step - loss: 955.8907 - mean_squared_error: 955.8907 - val_loss: 1591.5411 - val_mean_squared_error: 1591.5411\n",
            "Epoch 2/1000\n",
            "5/5 [==============================] - 40s 8s/step - loss: 214.0238 - mean_squared_error: 214.0238 - val_loss: 1533.5183 - val_mean_squared_error: 1533.5183\n",
            "Epoch 3/1000\n",
            "5/5 [==============================] - 39s 8s/step - loss: 204.9635 - mean_squared_error: 204.9635 - val_loss: 1857.1244 - val_mean_squared_error: 1857.1244\n",
            "Epoch 4/1000\n",
            "5/5 [==============================] - 39s 8s/step - loss: 165.8028 - mean_squared_error: 165.8028 - val_loss: 2200.2646 - val_mean_squared_error: 2200.2646\n",
            "Epoch 5/1000\n",
            "5/5 [==============================] - 39s 8s/step - loss: 132.7279 - mean_squared_error: 132.7279 - val_loss: 2124.1521 - val_mean_squared_error: 2124.1521\n",
            "Epoch 6/1000\n",
            "5/5 [==============================] - 39s 8s/step - loss: 100.9928 - mean_squared_error: 100.9928 - val_loss: 2024.9672 - val_mean_squared_error: 2024.9672\n",
            "Epoch 7/1000\n",
            "5/5 [==============================] - 40s 8s/step - loss: 86.3084 - mean_squared_error: 86.3084 - val_loss: 1654.0950 - val_mean_squared_error: 1654.0950\n",
            "Epoch 8/1000\n",
            "5/5 [==============================] - 40s 8s/step - loss: 91.7285 - mean_squared_error: 91.7285 - val_loss: 1330.5570 - val_mean_squared_error: 1330.5570\n",
            "Epoch 9/1000\n",
            "5/5 [==============================] - 39s 8s/step - loss: 91.5690 - mean_squared_error: 91.5690 - val_loss: 915.8636 - val_mean_squared_error: 915.8636\n",
            "Epoch 10/1000\n",
            "5/5 [==============================] - 39s 8s/step - loss: 46.0282 - mean_squared_error: 46.0282 - val_loss: 695.3690 - val_mean_squared_error: 695.3690\n",
            "Epoch 11/1000\n",
            "5/5 [==============================] - 39s 8s/step - loss: 42.5237 - mean_squared_error: 42.5237 - val_loss: 523.8214 - val_mean_squared_error: 523.8214\n",
            "Epoch 12/1000\n",
            "5/5 [==============================] - 39s 8s/step - loss: 44.5454 - mean_squared_error: 44.5454 - val_loss: 510.5171 - val_mean_squared_error: 510.5171\n",
            "Epoch 13/1000\n",
            "5/5 [==============================] - 40s 8s/step - loss: 27.9056 - mean_squared_error: 27.9056 - val_loss: 428.6410 - val_mean_squared_error: 428.6410\n",
            "Epoch 14/1000\n",
            "5/5 [==============================] - 39s 8s/step - loss: 22.9476 - mean_squared_error: 22.9476 - val_loss: 491.5197 - val_mean_squared_error: 491.5197\n",
            "Epoch 15/1000\n",
            "5/5 [==============================] - 39s 8s/step - loss: 21.2309 - mean_squared_error: 21.2309 - val_loss: 501.9272 - val_mean_squared_error: 501.9272\n",
            "Epoch 16/1000\n",
            "5/5 [==============================] - 39s 8s/step - loss: 17.9789 - mean_squared_error: 17.9789 - val_loss: 582.8209 - val_mean_squared_error: 582.8209\n",
            "Epoch 17/1000\n",
            "5/5 [==============================] - 39s 8s/step - loss: 17.2077 - mean_squared_error: 17.2077 - val_loss: 499.4458 - val_mean_squared_error: 499.4458\n",
            "Epoch 18/1000\n",
            "5/5 [==============================] - 39s 8s/step - loss: 11.7128 - mean_squared_error: 11.7128 - val_loss: 541.2425 - val_mean_squared_error: 541.2425\n",
            "Epoch 19/1000\n",
            "5/5 [==============================] - 39s 8s/step - loss: 7.5052 - mean_squared_error: 7.5052 - val_loss: 463.2292 - val_mean_squared_error: 463.2292\n",
            "Epoch 20/1000\n",
            "5/5 [==============================] - 39s 8s/step - loss: 4.3435 - mean_squared_error: 4.3435 - val_loss: 517.0216 - val_mean_squared_error: 517.0216\n",
            "Epoch 21/1000\n",
            "5/5 [==============================] - 40s 8s/step - loss: 2.5515 - mean_squared_error: 2.5515 - val_loss: 467.8429 - val_mean_squared_error: 467.8429\n",
            "Epoch 22/1000\n",
            "5/5 [==============================] - 39s 8s/step - loss: 1.2888 - mean_squared_error: 1.2888 - val_loss: 459.5975 - val_mean_squared_error: 459.5975\n",
            "Epoch 23/1000\n",
            "5/5 [==============================] - 39s 8s/step - loss: 1.1280 - mean_squared_error: 1.1280 - val_loss: 434.6995 - val_mean_squared_error: 434.6995\n"
          ],
          "name": "stdout"
        },
        {
          "output_type": "display_data",
          "data": {
            "text/html": [
              "<span style=\"color:#4527A0\"><h1 style=\"font-size:18px\">Trial complete</h1></span>"
            ],
            "text/plain": [
              "<IPython.core.display.HTML object>"
            ]
          },
          "metadata": {
            "tags": []
          }
        },
        {
          "output_type": "display_data",
          "data": {
            "text/html": [
              "<span style=\"color:#4527A0\"><h1 style=\"font-size:18px\">Trial summary</h1></span>"
            ],
            "text/plain": [
              "<IPython.core.display.HTML object>"
            ]
          },
          "metadata": {
            "tags": []
          }
        },
        {
          "output_type": "display_data",
          "data": {
            "text/html": [
              "<span style=\"color:cyan\"> |-Trial ID: 8b5048680f163ae57cc1b734b790a6b1</span>"
            ],
            "text/plain": [
              "<IPython.core.display.HTML object>"
            ]
          },
          "metadata": {
            "tags": []
          }
        },
        {
          "output_type": "display_data",
          "data": {
            "text/html": [
              "<span style=\"color:cyan\"> |-Score: 428.6410217285156</span>"
            ],
            "text/plain": [
              "<IPython.core.display.HTML object>"
            ]
          },
          "metadata": {
            "tags": []
          }
        },
        {
          "output_type": "display_data",
          "data": {
            "text/html": [
              "<span style=\"color:cyan\"> |-Best step: 12</span>"
            ],
            "text/plain": [
              "<IPython.core.display.HTML object>"
            ]
          },
          "metadata": {
            "tags": []
          }
        },
        {
          "output_type": "display_data",
          "data": {
            "text/html": [
              "<span style=\"color:#7E57C2\"><h2 style=\"font-size:16px\">Hyperparameters:</h2></span>"
            ],
            "text/plain": [
              "<IPython.core.display.HTML object>"
            ]
          },
          "metadata": {
            "tags": []
          }
        },
        {
          "output_type": "display_data",
          "data": {
            "text/html": [
              "<span style=\"color:cyan\"> |-image_block_1/augment: False</span>"
            ],
            "text/plain": [
              "<IPython.core.display.HTML object>"
            ]
          },
          "metadata": {
            "tags": []
          }
        },
        {
          "output_type": "display_data",
          "data": {
            "text/html": [
              "<span style=\"color:blue\"> |-image_block_1/block_type: resnet</span>"
            ],
            "text/plain": [
              "<IPython.core.display.HTML object>"
            ]
          },
          "metadata": {
            "tags": []
          }
        },
        {
          "output_type": "display_data",
          "data": {
            "text/html": [
              "<span style=\"color:cyan\"> |-image_block_1/conv_block_1/dropout_rate: 0.0</span>"
            ],
            "text/plain": [
              "<IPython.core.display.HTML object>"
            ]
          },
          "metadata": {
            "tags": []
          }
        },
        {
          "output_type": "display_data",
          "data": {
            "text/html": [
              "<span style=\"color:blue\"> |-image_block_1/conv_block_1/filters_0_0: 64</span>"
            ],
            "text/plain": [
              "<IPython.core.display.HTML object>"
            ]
          },
          "metadata": {
            "tags": []
          }
        },
        {
          "output_type": "display_data",
          "data": {
            "text/html": [
              "<span style=\"color:cyan\"> |-image_block_1/conv_block_1/filters_0_1: 32</span>"
            ],
            "text/plain": [
              "<IPython.core.display.HTML object>"
            ]
          },
          "metadata": {
            "tags": []
          }
        },
        {
          "output_type": "display_data",
          "data": {
            "text/html": [
              "<span style=\"color:blue\"> |-image_block_1/conv_block_1/filters_1_0: 32</span>"
            ],
            "text/plain": [
              "<IPython.core.display.HTML object>"
            ]
          },
          "metadata": {
            "tags": []
          }
        },
        {
          "output_type": "display_data",
          "data": {
            "text/html": [
              "<span style=\"color:cyan\"> |-image_block_1/conv_block_1/filters_1_1: 512</span>"
            ],
            "text/plain": [
              "<IPython.core.display.HTML object>"
            ]
          },
          "metadata": {
            "tags": []
          }
        },
        {
          "output_type": "display_data",
          "data": {
            "text/html": [
              "<span style=\"color:blue\"> |-image_block_1/conv_block_1/kernel_size: 3</span>"
            ],
            "text/plain": [
              "<IPython.core.display.HTML object>"
            ]
          },
          "metadata": {
            "tags": []
          }
        },
        {
          "output_type": "display_data",
          "data": {
            "text/html": [
              "<span style=\"color:cyan\"> |-image_block_1/conv_block_1/max_pooling: True</span>"
            ],
            "text/plain": [
              "<IPython.core.display.HTML object>"
            ]
          },
          "metadata": {
            "tags": []
          }
        },
        {
          "output_type": "display_data",
          "data": {
            "text/html": [
              "<span style=\"color:blue\"> |-image_block_1/conv_block_1/num_blocks: 1</span>"
            ],
            "text/plain": [
              "<IPython.core.display.HTML object>"
            ]
          },
          "metadata": {
            "tags": []
          }
        },
        {
          "output_type": "display_data",
          "data": {
            "text/html": [
              "<span style=\"color:cyan\"> |-image_block_1/conv_block_1/num_layers: 2</span>"
            ],
            "text/plain": [
              "<IPython.core.display.HTML object>"
            ]
          },
          "metadata": {
            "tags": []
          }
        },
        {
          "output_type": "display_data",
          "data": {
            "text/html": [
              "<span style=\"color:blue\"> |-image_block_1/conv_block_1/separable: True</span>"
            ],
            "text/plain": [
              "<IPython.core.display.HTML object>"
            ]
          },
          "metadata": {
            "tags": []
          }
        },
        {
          "output_type": "display_data",
          "data": {
            "text/html": [
              "<span style=\"color:cyan\"> |-image_block_1/image_augmentation_1/horizontal_flip: False</span>"
            ],
            "text/plain": [
              "<IPython.core.display.HTML object>"
            ]
          },
          "metadata": {
            "tags": []
          }
        },
        {
          "output_type": "display_data",
          "data": {
            "text/html": [
              "<span style=\"color:blue\"> |-image_block_1/image_augmentation_1/vertical_flip: True</span>"
            ],
            "text/plain": [
              "<IPython.core.display.HTML object>"
            ]
          },
          "metadata": {
            "tags": []
          }
        },
        {
          "output_type": "display_data",
          "data": {
            "text/html": [
              "<span style=\"color:cyan\"> |-image_block_1/normalize: True</span>"
            ],
            "text/plain": [
              "<IPython.core.display.HTML object>"
            ]
          },
          "metadata": {
            "tags": []
          }
        },
        {
          "output_type": "display_data",
          "data": {
            "text/html": [
              "<span style=\"color:blue\"> |-image_block_1/res_net_block_1/conv3_depth: 8</span>"
            ],
            "text/plain": [
              "<IPython.core.display.HTML object>"
            ]
          },
          "metadata": {
            "tags": []
          }
        },
        {
          "output_type": "display_data",
          "data": {
            "text/html": [
              "<span style=\"color:cyan\"> |-image_block_1/res_net_block_1/conv4_depth: 6</span>"
            ],
            "text/plain": [
              "<IPython.core.display.HTML object>"
            ]
          },
          "metadata": {
            "tags": []
          }
        },
        {
          "output_type": "display_data",
          "data": {
            "text/html": [
              "<span style=\"color:blue\"> |-image_block_1/res_net_block_1/pooling: avg</span>"
            ],
            "text/plain": [
              "<IPython.core.display.HTML object>"
            ]
          },
          "metadata": {
            "tags": []
          }
        },
        {
          "output_type": "display_data",
          "data": {
            "text/html": [
              "<span style=\"color:cyan\"> |-image_block_1/res_net_block_1/version: v1</span>"
            ],
            "text/plain": [
              "<IPython.core.display.HTML object>"
            ]
          },
          "metadata": {
            "tags": []
          }
        },
        {
          "output_type": "display_data",
          "data": {
            "text/html": [
              "<span style=\"color:blue\"> |-optimizer: adam</span>"
            ],
            "text/plain": [
              "<IPython.core.display.HTML object>"
            ]
          },
          "metadata": {
            "tags": []
          }
        },
        {
          "output_type": "display_data",
          "data": {
            "text/html": [
              "<span style=\"color:cyan\"> |-regression_head_1/dropout_rate: 0</span>"
            ],
            "text/plain": [
              "<IPython.core.display.HTML object>"
            ]
          },
          "metadata": {
            "tags": []
          }
        },
        {
          "output_type": "stream",
          "text": [
            "Epoch 1/1000\n",
            "5/5 [==============================] - 357s 71s/step - loss: 163181280.0000 - mean_squared_error: 163181280.0000 - val_loss: 1750.1895 - val_mean_squared_error: 1750.1895\n",
            "Epoch 2/1000\n",
            "5/5 [==============================] - 354s 71s/step - loss: 4143.6211 - mean_squared_error: 4143.6211 - val_loss: 1675.0808 - val_mean_squared_error: 1675.0808\n",
            "Epoch 3/1000\n",
            "5/5 [==============================] - 354s 71s/step - loss: 1567.4185 - mean_squared_error: 1567.4185 - val_loss: 1673.3757 - val_mean_squared_error: 1673.3757\n",
            "Epoch 4/1000\n",
            "5/5 [==============================] - 355s 71s/step - loss: 1191.8217 - mean_squared_error: 1191.8217 - val_loss: 1650.2356 - val_mean_squared_error: 1650.2356\n",
            "Epoch 5/1000\n",
            "5/5 [==============================] - 358s 72s/step - loss: 1469.3870 - mean_squared_error: 1469.3870 - val_loss: 1674.3871 - val_mean_squared_error: 1674.3871\n",
            "Epoch 6/1000\n",
            "5/5 [==============================] - 357s 71s/step - loss: 3389.9019 - mean_squared_error: 3389.9019 - val_loss: 1674.8762 - val_mean_squared_error: 1674.8762\n",
            "Epoch 7/1000\n",
            "5/5 [==============================] - 356s 71s/step - loss: 1548.0242 - mean_squared_error: 1548.0242 - val_loss: 1674.8414 - val_mean_squared_error: 1674.8414\n",
            "Epoch 8/1000\n",
            "5/5 [==============================] - 354s 71s/step - loss: 1564.9097 - mean_squared_error: 1564.9097 - val_loss: 1674.4700 - val_mean_squared_error: 1674.4700\n",
            "Epoch 9/1000\n",
            "5/5 [==============================] - 355s 71s/step - loss: 1563.4053 - mean_squared_error: 1563.4053 - val_loss: 1673.5453 - val_mean_squared_error: 1673.5453\n",
            "Epoch 10/1000\n",
            "5/5 [==============================] - 357s 71s/step - loss: 1562.1230 - mean_squared_error: 1562.1230 - val_loss: 1671.4817 - val_mean_squared_error: 1671.4817\n",
            "Epoch 11/1000\n",
            "5/5 [==============================] - 355s 71s/step - loss: 1555.8015 - mean_squared_error: 1555.8015 - val_loss: 1666.4326 - val_mean_squared_error: 1666.4326\n",
            "Epoch 12/1000\n",
            "5/5 [==============================] - 356s 71s/step - loss: 1541.0309 - mean_squared_error: 1541.0309 - val_loss: 1650.9934 - val_mean_squared_error: 1650.9934\n",
            "Epoch 13/1000\n",
            "3/5 [=================>............] - ETA: 1:48 - loss: 1564.8658 - mean_squared_error: 1564.8658"
          ],
          "name": "stdout"
        }
      ]
    },
    {
      "cell_type": "code",
      "metadata": {
        "id": "edA37Skyo5yo",
        "colab_type": "code",
        "colab": {}
      },
      "source": [
        "# Evaluate the chosen model with testing data\n",
        "print(reg.evaluate(test_images, test_ages))"
      ],
      "execution_count": 0,
      "outputs": []
    },
    {
      "cell_type": "markdown",
      "metadata": {
        "id": "CiaqfDFKuV-9",
        "colab_type": "text"
      },
      "source": [
        "# **Validation Data**\n",
        "\n",
        "By default, AutoKeras use the last 20% of training data as validation data. As shown in the example below, you can use validation_split to specify the percentage."
      ]
    },
    {
      "cell_type": "code",
      "metadata": {
        "id": "A4hQcKpcufh3",
        "colab_type": "code",
        "colab": {}
      },
      "source": [
        "reg.fit(train_imgs,\n",
        "        train_ages,\n",
        "        # Split the training data and use the last 15% as validation data.\n",
        "        validation_split=0.15,epochs=3)"
      ],
      "execution_count": 0,
      "outputs": []
    },
    {
      "cell_type": "markdown",
      "metadata": {
        "id": "afv1fgM5usXw",
        "colab_type": "text"
      },
      "source": [
        "You can also use your own validation set instead of splitting it from the training data with validation_data."
      ]
    },
    {
      "cell_type": "code",
      "metadata": {
        "id": "qy6gPP89uye5",
        "colab_type": "code",
        "colab": {}
      },
      "source": [
        "split = 460000\n",
        "x_val = train_imgs[split:]\n",
        "y_val = train_ages[split:]\n",
        "x_train = train_imgs[:split]\n",
        "y_train = train_ages[:split]\n",
        "reg.fit(x_train,\n",
        "        y_train,\n",
        "        # Use your own validation set.\n",
        "        validation_data=(x_val, y_val),epochs=3)"
      ],
      "execution_count": 0,
      "outputs": []
    },
    {
      "cell_type": "markdown",
      "metadata": {
        "id": "OtavtzDf7BoX",
        "colab_type": "text"
      },
      "source": [
        "# **Customized Search Space**\n",
        "\n",
        "For advanced users, you may customize your search space by using AutoModel instead of ImageRegressor. You can configure the ImageBlock for some high-level configurations, e.g., block_type for the type of neural network to search, normalize for whether to do data normalization, augment for whether to do data augmentation. You can also choose not to specify these arguments, which would leave the different choices to be tuned automatically. See the following example for detail."
      ]
    },
    {
      "cell_type": "code",
      "metadata": {
        "id": "ARM5xEN8chE6",
        "colab_type": "code",
        "colab": {}
      },
      "source": [
        "import autokeras as ak\n",
        "\n",
        "input_node = ak.ImageInput()\n",
        "output_node = ak.ImageBlock(\n",
        "    # Only search ResNet architectures.\n",
        "    block_type='resnet',\n",
        "    # Normalize the dataset.\n",
        "    normalize=True,\n",
        "    # Do not do data augmentation.\n",
        "    augment=False)(input_node)\n",
        "output_node = ak.RegressionHead()(output_node)\n",
        "reg = ak.AutoModel(inputs=input_node, outputs=output_node, max_trials=10)\n",
        "reg.fit(x_train, y_train,epochs=3)"
      ],
      "execution_count": 0,
      "outputs": []
    },
    {
      "cell_type": "markdown",
      "metadata": {
        "id": "H9Iudfrmc3iG",
        "colab_type": "text"
      },
      "source": [
        "The usage of AutoModel is similar to the functional API of Keras. Basically, you are building a graph, whose edges are blocks and the nodes are intermediate outputs of blocks. To add an edge from input_node to output_node with output_node = ak.some_block(input_node).\n",
        "You can even also use more fine grained blocks to customize the search space even further. See the following example."
      ]
    },
    {
      "cell_type": "code",
      "metadata": {
        "id": "ikZ141m0dEay",
        "colab_type": "code",
        "colab": {}
      },
      "source": [
        "import autokeras as ak\n",
        "\n",
        "input_node = ak.ImageInput()\n",
        "output_node = ak.Normalization()(input_node)\n",
        "output_node = ak.ImageAugmentation(translation_factor=0.3)(output_node)\n",
        "output_node = ak.ResNetBlock(version='v2')(output_node)\n",
        "output_node = ak.RegressionHead()(output_node)\n",
        "clf = ak.AutoModel(inputs=input_node, outputs=output_node, max_trials=10)\n",
        "clf.fit(x_train, y_train,epochs=3)"
      ],
      "execution_count": 0,
      "outputs": []
    },
    {
      "cell_type": "markdown",
      "metadata": {
        "id": "Rva-JBkFeLPB",
        "colab_type": "text"
      },
      "source": [
        "# **Data Format**"
      ]
    },
    {
      "cell_type": "markdown",
      "metadata": {
        "id": "UvI05jdTeUhW",
        "colab_type": "text"
      },
      "source": [
        "# The AutoKeras ImageClassifier is quite flexible for the data format.\n",
        "\n",
        "For the image, it accepts data formats both with and without the channel dimension. The images in the IMDB-Wiki dataset do not have a channel dimension. Each image is a matrix with shape (128, 128). AutoKeras also accepts images with a channel dimension at last, e.g., (32, 32, 3), (28, 28, 1).\n",
        "\n",
        "For the classification labels, AutoKeras accepts both plain labels, i.e. strings or integers, and one-hot encoded labels, i.e. vectors of 0s and 1s.\n",
        "\n",
        "So if you prepare your data in the following way, the ImageClassifier should still work."
      ]
    },
    {
      "cell_type": "code",
      "metadata": {
        "id": "pSfnTj0wDSfx",
        "colab_type": "code",
        "colab": {
          "base_uri": "https://localhost:8080/",
          "height": 68
        },
        "outputId": "3b3d2c2d-8bf0-47fc-9351-e8e8416c87bb"
      },
      "source": [
        "# Reshape the images to have the channel dimension.\n",
        "train_imgs = train_imgs.reshape(train_imgs.shape + (1,))\n",
        "test_imgs = test_imgs.reshape(test_imgs.shape + (1,))\n",
        "\n",
        "print(train_imgs.shape) # (200, 128, 128, 1)\n",
        "print(test_imgs.shape) # (100, 128, 128, 1)\n",
        "print(train_ages[:3])"
      ],
      "execution_count": 31,
      "outputs": [
        {
          "output_type": "stream",
          "text": [
            "(200, 128, 128, 1)\n",
            "(100, 128, 128, 1)\n",
            "[52 14 49]\n"
          ],
          "name": "stdout"
        }
      ]
    },
    {
      "cell_type": "markdown",
      "metadata": {
        "id": "GO8ENOt7TLZv",
        "colab_type": "text"
      },
      "source": [
        "We also support using tf.data.Dataset format for the training data. In this case, the images would have to be 3-dimentional. The labels have to be one-hot encoded for multi-class classification to be wrapped into tensorflow Dataset."
      ]
    },
    {
      "cell_type": "code",
      "metadata": {
        "id": "AWFMRDfOGjd5",
        "colab_type": "code",
        "colab": {
          "base_uri": "https://localhost:8080/",
          "height": 1000
        },
        "outputId": "8aa6e1ae-45d1-4cfc-fd78-bb0e8df7713e"
      },
      "source": [
        "import autokeras as ak\n",
        "import tensorflow as tf\n",
        "from tensorflow.python.keras.utils.data_utils import Sequence\n",
        "train_set = tf.data.Dataset.from_tensor_slices(((train_imgs, ), (train_ages, )))\n",
        "test_set = tf.data.Dataset.from_tensor_slices(((test_imgs, ), (test_ages, )))\n",
        "\n",
        "reg = ak.ImageRegressor(max_trials=15)\n",
        "# Feed the tensorflow Dataset to the classifier.\n",
        "reg.fit(train_set)\n",
        "# Predict with the best model.\n",
        "predicted_y = clf.predict(test_set)\n",
        "# Evaluate the best model with testing data.\n",
        "print(clf.evaluate(test_set))"
      ],
      "execution_count": 32,
      "outputs": [
        {
          "output_type": "stream",
          "text": [
            "Traceback (most recent call last):\n",
            "  File \"/usr/local/lib/python3.6/dist-packages/tensorflow/python/eager/execute.py\", line 211, in make_shape\n",
            "    shape = tensor_shape.as_shape(v)\n",
            "  File \"/usr/local/lib/python3.6/dist-packages/tensorflow/python/framework/tensor_shape.py\", line 1218, in as_shape\n",
            "    return TensorShape(shape)\n",
            "  File \"/usr/local/lib/python3.6/dist-packages/tensorflow/python/framework/tensor_shape.py\", line 771, in __init__\n",
            "    self._dims = [as_dimension(d) for d in dims_iter]\n",
            "  File \"/usr/local/lib/python3.6/dist-packages/tensorflow/python/framework/tensor_shape.py\", line 771, in <listcomp>\n",
            "    self._dims = [as_dimension(d) for d in dims_iter]\n",
            "  File \"/usr/local/lib/python3.6/dist-packages/tensorflow/python/framework/tensor_shape.py\", line 716, in as_dimension\n",
            "    return Dimension(value)\n",
            "  File \"/usr/local/lib/python3.6/dist-packages/tensorflow/python/framework/tensor_shape.py\", line 200, in __init__\n",
            "    None)\n",
            "  File \"<string>\", line 3, in raise_from\n",
            "TypeError: Dimension value must be integer or None or have an __index__ method, got TensorShape([128, 128, 1])\n",
            "\n",
            "During handling of the above exception, another exception occurred:\n",
            "\n",
            "Traceback (most recent call last):\n",
            "  File \"/usr/local/lib/python3.6/dist-packages/kerastuner/engine/hypermodel.py\", line 105, in build\n",
            "    model = self.hypermodel.build(hp)\n",
            "  File \"/usr/local/lib/python3.6/dist-packages/kerastuner/engine/hypermodel.py\", line 65, in _build_wrapper\n",
            "    return self._build(hp, *args, **kwargs)\n",
            "  File \"/usr/local/lib/python3.6/dist-packages/autokeras/graph.py\", line 240, in build\n",
            "    real_nodes[node_id] = input_node.build()\n",
            "  File \"/usr/local/lib/python3.6/dist-packages/autokeras/nodes.py\", line 15, in build\n",
            "    return tf.keras.Input(shape=self.shape, dtype=tf.float32)\n",
            "  File \"/usr/local/lib/python3.6/dist-packages/tensorflow/python/keras/engine/input_layer.py\", line 295, in Input\n",
            "    input_layer = InputLayer(**input_layer_config)\n",
            "  File \"/usr/local/lib/python3.6/dist-packages/tensorflow/python/keras/engine/input_layer.py\", line 154, in __init__\n",
            "    ragged=ragged)\n",
            "  File \"/usr/local/lib/python3.6/dist-packages/tensorflow/python/keras/backend.py\", line 1087, in placeholder\n",
            "    x = array_ops.placeholder(dtype, shape=shape, name=name)\n",
            "  File \"/usr/local/lib/python3.6/dist-packages/tensorflow/python/ops/array_ops.py\", line 3026, in placeholder\n",
            "    return gen_array_ops.placeholder(dtype=dtype, shape=shape, name=name)\n",
            "  File \"/usr/local/lib/python3.6/dist-packages/tensorflow/python/ops/gen_array_ops.py\", line 6674, in placeholder\n",
            "    shape = _execute.make_shape(shape, \"shape\")\n",
            "  File \"/usr/local/lib/python3.6/dist-packages/tensorflow/python/eager/execute.py\", line 213, in make_shape\n",
            "    raise TypeError(\"Error converting %s to a TensorShape: %s.\" % (arg_name, e))\n",
            "TypeError: Error converting shape to a TensorShape: Dimension value must be integer or None or have an __index__ method, got TensorShape([128, 128, 1]).\n"
          ],
          "name": "stderr"
        },
        {
          "output_type": "display_data",
          "data": {
            "text/html": [
              "<span style=\"color:yellow\">[Warning] Invalid model 0/5</span>"
            ],
            "text/plain": [
              "<IPython.core.display.HTML object>"
            ]
          },
          "metadata": {
            "tags": []
          }
        },
        {
          "output_type": "stream",
          "text": [
            "Traceback (most recent call last):\n",
            "  File \"/usr/local/lib/python3.6/dist-packages/tensorflow/python/eager/execute.py\", line 211, in make_shape\n",
            "    shape = tensor_shape.as_shape(v)\n",
            "  File \"/usr/local/lib/python3.6/dist-packages/tensorflow/python/framework/tensor_shape.py\", line 1218, in as_shape\n",
            "    return TensorShape(shape)\n",
            "  File \"/usr/local/lib/python3.6/dist-packages/tensorflow/python/framework/tensor_shape.py\", line 771, in __init__\n",
            "    self._dims = [as_dimension(d) for d in dims_iter]\n",
            "  File \"/usr/local/lib/python3.6/dist-packages/tensorflow/python/framework/tensor_shape.py\", line 771, in <listcomp>\n",
            "    self._dims = [as_dimension(d) for d in dims_iter]\n",
            "  File \"/usr/local/lib/python3.6/dist-packages/tensorflow/python/framework/tensor_shape.py\", line 716, in as_dimension\n",
            "    return Dimension(value)\n",
            "  File \"/usr/local/lib/python3.6/dist-packages/tensorflow/python/framework/tensor_shape.py\", line 200, in __init__\n",
            "    None)\n",
            "  File \"<string>\", line 3, in raise_from\n",
            "TypeError: Dimension value must be integer or None or have an __index__ method, got TensorShape([128, 128, 1])\n",
            "\n",
            "During handling of the above exception, another exception occurred:\n",
            "\n",
            "Traceback (most recent call last):\n",
            "  File \"/usr/local/lib/python3.6/dist-packages/kerastuner/engine/hypermodel.py\", line 105, in build\n",
            "    model = self.hypermodel.build(hp)\n",
            "  File \"/usr/local/lib/python3.6/dist-packages/kerastuner/engine/hypermodel.py\", line 65, in _build_wrapper\n",
            "    return self._build(hp, *args, **kwargs)\n",
            "  File \"/usr/local/lib/python3.6/dist-packages/autokeras/graph.py\", line 240, in build\n",
            "    real_nodes[node_id] = input_node.build()\n",
            "  File \"/usr/local/lib/python3.6/dist-packages/autokeras/nodes.py\", line 15, in build\n",
            "    return tf.keras.Input(shape=self.shape, dtype=tf.float32)\n",
            "  File \"/usr/local/lib/python3.6/dist-packages/tensorflow/python/keras/engine/input_layer.py\", line 295, in Input\n",
            "    input_layer = InputLayer(**input_layer_config)\n",
            "  File \"/usr/local/lib/python3.6/dist-packages/tensorflow/python/keras/engine/input_layer.py\", line 154, in __init__\n",
            "    ragged=ragged)\n",
            "  File \"/usr/local/lib/python3.6/dist-packages/tensorflow/python/keras/backend.py\", line 1087, in placeholder\n",
            "    x = array_ops.placeholder(dtype, shape=shape, name=name)\n",
            "  File \"/usr/local/lib/python3.6/dist-packages/tensorflow/python/ops/array_ops.py\", line 3026, in placeholder\n",
            "    return gen_array_ops.placeholder(dtype=dtype, shape=shape, name=name)\n",
            "  File \"/usr/local/lib/python3.6/dist-packages/tensorflow/python/ops/gen_array_ops.py\", line 6674, in placeholder\n",
            "    shape = _execute.make_shape(shape, \"shape\")\n",
            "  File \"/usr/local/lib/python3.6/dist-packages/tensorflow/python/eager/execute.py\", line 213, in make_shape\n",
            "    raise TypeError(\"Error converting %s to a TensorShape: %s.\" % (arg_name, e))\n",
            "TypeError: Error converting shape to a TensorShape: Dimension value must be integer or None or have an __index__ method, got TensorShape([128, 128, 1]).\n"
          ],
          "name": "stderr"
        },
        {
          "output_type": "display_data",
          "data": {
            "text/html": [
              "<span style=\"color:yellow\">[Warning] Invalid model 1/5</span>"
            ],
            "text/plain": [
              "<IPython.core.display.HTML object>"
            ]
          },
          "metadata": {
            "tags": []
          }
        },
        {
          "output_type": "stream",
          "text": [
            "Traceback (most recent call last):\n",
            "  File \"/usr/local/lib/python3.6/dist-packages/tensorflow/python/eager/execute.py\", line 211, in make_shape\n",
            "    shape = tensor_shape.as_shape(v)\n",
            "  File \"/usr/local/lib/python3.6/dist-packages/tensorflow/python/framework/tensor_shape.py\", line 1218, in as_shape\n",
            "    return TensorShape(shape)\n",
            "  File \"/usr/local/lib/python3.6/dist-packages/tensorflow/python/framework/tensor_shape.py\", line 771, in __init__\n",
            "    self._dims = [as_dimension(d) for d in dims_iter]\n",
            "  File \"/usr/local/lib/python3.6/dist-packages/tensorflow/python/framework/tensor_shape.py\", line 771, in <listcomp>\n",
            "    self._dims = [as_dimension(d) for d in dims_iter]\n",
            "  File \"/usr/local/lib/python3.6/dist-packages/tensorflow/python/framework/tensor_shape.py\", line 716, in as_dimension\n",
            "    return Dimension(value)\n",
            "  File \"/usr/local/lib/python3.6/dist-packages/tensorflow/python/framework/tensor_shape.py\", line 200, in __init__\n",
            "    None)\n",
            "  File \"<string>\", line 3, in raise_from\n",
            "TypeError: Dimension value must be integer or None or have an __index__ method, got TensorShape([128, 128, 1])\n",
            "\n",
            "During handling of the above exception, another exception occurred:\n",
            "\n",
            "Traceback (most recent call last):\n",
            "  File \"/usr/local/lib/python3.6/dist-packages/kerastuner/engine/hypermodel.py\", line 105, in build\n",
            "    model = self.hypermodel.build(hp)\n",
            "  File \"/usr/local/lib/python3.6/dist-packages/kerastuner/engine/hypermodel.py\", line 65, in _build_wrapper\n",
            "    return self._build(hp, *args, **kwargs)\n",
            "  File \"/usr/local/lib/python3.6/dist-packages/autokeras/graph.py\", line 240, in build\n",
            "    real_nodes[node_id] = input_node.build()\n",
            "  File \"/usr/local/lib/python3.6/dist-packages/autokeras/nodes.py\", line 15, in build\n",
            "    return tf.keras.Input(shape=self.shape, dtype=tf.float32)\n",
            "  File \"/usr/local/lib/python3.6/dist-packages/tensorflow/python/keras/engine/input_layer.py\", line 295, in Input\n",
            "    input_layer = InputLayer(**input_layer_config)\n",
            "  File \"/usr/local/lib/python3.6/dist-packages/tensorflow/python/keras/engine/input_layer.py\", line 154, in __init__\n",
            "    ragged=ragged)\n",
            "  File \"/usr/local/lib/python3.6/dist-packages/tensorflow/python/keras/backend.py\", line 1087, in placeholder\n",
            "    x = array_ops.placeholder(dtype, shape=shape, name=name)\n",
            "  File \"/usr/local/lib/python3.6/dist-packages/tensorflow/python/ops/array_ops.py\", line 3026, in placeholder\n",
            "    return gen_array_ops.placeholder(dtype=dtype, shape=shape, name=name)\n",
            "  File \"/usr/local/lib/python3.6/dist-packages/tensorflow/python/ops/gen_array_ops.py\", line 6674, in placeholder\n",
            "    shape = _execute.make_shape(shape, \"shape\")\n",
            "  File \"/usr/local/lib/python3.6/dist-packages/tensorflow/python/eager/execute.py\", line 213, in make_shape\n",
            "    raise TypeError(\"Error converting %s to a TensorShape: %s.\" % (arg_name, e))\n",
            "TypeError: Error converting shape to a TensorShape: Dimension value must be integer or None or have an __index__ method, got TensorShape([128, 128, 1]).\n"
          ],
          "name": "stderr"
        },
        {
          "output_type": "display_data",
          "data": {
            "text/html": [
              "<span style=\"color:yellow\">[Warning] Invalid model 2/5</span>"
            ],
            "text/plain": [
              "<IPython.core.display.HTML object>"
            ]
          },
          "metadata": {
            "tags": []
          }
        },
        {
          "output_type": "stream",
          "text": [
            "Traceback (most recent call last):\n",
            "  File \"/usr/local/lib/python3.6/dist-packages/tensorflow/python/eager/execute.py\", line 211, in make_shape\n",
            "    shape = tensor_shape.as_shape(v)\n",
            "  File \"/usr/local/lib/python3.6/dist-packages/tensorflow/python/framework/tensor_shape.py\", line 1218, in as_shape\n",
            "    return TensorShape(shape)\n",
            "  File \"/usr/local/lib/python3.6/dist-packages/tensorflow/python/framework/tensor_shape.py\", line 771, in __init__\n",
            "    self._dims = [as_dimension(d) for d in dims_iter]\n",
            "  File \"/usr/local/lib/python3.6/dist-packages/tensorflow/python/framework/tensor_shape.py\", line 771, in <listcomp>\n",
            "    self._dims = [as_dimension(d) for d in dims_iter]\n",
            "  File \"/usr/local/lib/python3.6/dist-packages/tensorflow/python/framework/tensor_shape.py\", line 716, in as_dimension\n",
            "    return Dimension(value)\n",
            "  File \"/usr/local/lib/python3.6/dist-packages/tensorflow/python/framework/tensor_shape.py\", line 200, in __init__\n",
            "    None)\n",
            "  File \"<string>\", line 3, in raise_from\n",
            "TypeError: Dimension value must be integer or None or have an __index__ method, got TensorShape([128, 128, 1])\n",
            "\n",
            "During handling of the above exception, another exception occurred:\n",
            "\n",
            "Traceback (most recent call last):\n",
            "  File \"/usr/local/lib/python3.6/dist-packages/kerastuner/engine/hypermodel.py\", line 105, in build\n",
            "    model = self.hypermodel.build(hp)\n",
            "  File \"/usr/local/lib/python3.6/dist-packages/kerastuner/engine/hypermodel.py\", line 65, in _build_wrapper\n",
            "    return self._build(hp, *args, **kwargs)\n",
            "  File \"/usr/local/lib/python3.6/dist-packages/autokeras/graph.py\", line 240, in build\n",
            "    real_nodes[node_id] = input_node.build()\n",
            "  File \"/usr/local/lib/python3.6/dist-packages/autokeras/nodes.py\", line 15, in build\n",
            "    return tf.keras.Input(shape=self.shape, dtype=tf.float32)\n",
            "  File \"/usr/local/lib/python3.6/dist-packages/tensorflow/python/keras/engine/input_layer.py\", line 295, in Input\n",
            "    input_layer = InputLayer(**input_layer_config)\n",
            "  File \"/usr/local/lib/python3.6/dist-packages/tensorflow/python/keras/engine/input_layer.py\", line 154, in __init__\n",
            "    ragged=ragged)\n",
            "  File \"/usr/local/lib/python3.6/dist-packages/tensorflow/python/keras/backend.py\", line 1087, in placeholder\n",
            "    x = array_ops.placeholder(dtype, shape=shape, name=name)\n",
            "  File \"/usr/local/lib/python3.6/dist-packages/tensorflow/python/ops/array_ops.py\", line 3026, in placeholder\n",
            "    return gen_array_ops.placeholder(dtype=dtype, shape=shape, name=name)\n",
            "  File \"/usr/local/lib/python3.6/dist-packages/tensorflow/python/ops/gen_array_ops.py\", line 6674, in placeholder\n",
            "    shape = _execute.make_shape(shape, \"shape\")\n",
            "  File \"/usr/local/lib/python3.6/dist-packages/tensorflow/python/eager/execute.py\", line 213, in make_shape\n",
            "    raise TypeError(\"Error converting %s to a TensorShape: %s.\" % (arg_name, e))\n",
            "TypeError: Error converting shape to a TensorShape: Dimension value must be integer or None or have an __index__ method, got TensorShape([128, 128, 1]).\n"
          ],
          "name": "stderr"
        },
        {
          "output_type": "display_data",
          "data": {
            "text/html": [
              "<span style=\"color:yellow\">[Warning] Invalid model 3/5</span>"
            ],
            "text/plain": [
              "<IPython.core.display.HTML object>"
            ]
          },
          "metadata": {
            "tags": []
          }
        },
        {
          "output_type": "stream",
          "text": [
            "Traceback (most recent call last):\n",
            "  File \"/usr/local/lib/python3.6/dist-packages/tensorflow/python/eager/execute.py\", line 211, in make_shape\n",
            "    shape = tensor_shape.as_shape(v)\n",
            "  File \"/usr/local/lib/python3.6/dist-packages/tensorflow/python/framework/tensor_shape.py\", line 1218, in as_shape\n",
            "    return TensorShape(shape)\n",
            "  File \"/usr/local/lib/python3.6/dist-packages/tensorflow/python/framework/tensor_shape.py\", line 771, in __init__\n",
            "    self._dims = [as_dimension(d) for d in dims_iter]\n",
            "  File \"/usr/local/lib/python3.6/dist-packages/tensorflow/python/framework/tensor_shape.py\", line 771, in <listcomp>\n",
            "    self._dims = [as_dimension(d) for d in dims_iter]\n",
            "  File \"/usr/local/lib/python3.6/dist-packages/tensorflow/python/framework/tensor_shape.py\", line 716, in as_dimension\n",
            "    return Dimension(value)\n",
            "  File \"/usr/local/lib/python3.6/dist-packages/tensorflow/python/framework/tensor_shape.py\", line 200, in __init__\n",
            "    None)\n",
            "  File \"<string>\", line 3, in raise_from\n",
            "TypeError: Dimension value must be integer or None or have an __index__ method, got TensorShape([128, 128, 1])\n",
            "\n",
            "During handling of the above exception, another exception occurred:\n",
            "\n",
            "Traceback (most recent call last):\n",
            "  File \"/usr/local/lib/python3.6/dist-packages/kerastuner/engine/hypermodel.py\", line 105, in build\n",
            "    model = self.hypermodel.build(hp)\n",
            "  File \"/usr/local/lib/python3.6/dist-packages/kerastuner/engine/hypermodel.py\", line 65, in _build_wrapper\n",
            "    return self._build(hp, *args, **kwargs)\n",
            "  File \"/usr/local/lib/python3.6/dist-packages/autokeras/graph.py\", line 240, in build\n",
            "    real_nodes[node_id] = input_node.build()\n",
            "  File \"/usr/local/lib/python3.6/dist-packages/autokeras/nodes.py\", line 15, in build\n",
            "    return tf.keras.Input(shape=self.shape, dtype=tf.float32)\n",
            "  File \"/usr/local/lib/python3.6/dist-packages/tensorflow/python/keras/engine/input_layer.py\", line 295, in Input\n",
            "    input_layer = InputLayer(**input_layer_config)\n",
            "  File \"/usr/local/lib/python3.6/dist-packages/tensorflow/python/keras/engine/input_layer.py\", line 154, in __init__\n",
            "    ragged=ragged)\n",
            "  File \"/usr/local/lib/python3.6/dist-packages/tensorflow/python/keras/backend.py\", line 1087, in placeholder\n",
            "    x = array_ops.placeholder(dtype, shape=shape, name=name)\n",
            "  File \"/usr/local/lib/python3.6/dist-packages/tensorflow/python/ops/array_ops.py\", line 3026, in placeholder\n",
            "    return gen_array_ops.placeholder(dtype=dtype, shape=shape, name=name)\n",
            "  File \"/usr/local/lib/python3.6/dist-packages/tensorflow/python/ops/gen_array_ops.py\", line 6674, in placeholder\n",
            "    shape = _execute.make_shape(shape, \"shape\")\n",
            "  File \"/usr/local/lib/python3.6/dist-packages/tensorflow/python/eager/execute.py\", line 213, in make_shape\n",
            "    raise TypeError(\"Error converting %s to a TensorShape: %s.\" % (arg_name, e))\n",
            "TypeError: Error converting shape to a TensorShape: Dimension value must be integer or None or have an __index__ method, got TensorShape([128, 128, 1]).\n"
          ],
          "name": "stderr"
        },
        {
          "output_type": "display_data",
          "data": {
            "text/html": [
              "<span style=\"color:yellow\">[Warning] Invalid model 4/5</span>"
            ],
            "text/plain": [
              "<IPython.core.display.HTML object>"
            ]
          },
          "metadata": {
            "tags": []
          }
        },
        {
          "output_type": "stream",
          "text": [
            "Traceback (most recent call last):\n",
            "  File \"/usr/local/lib/python3.6/dist-packages/tensorflow/python/eager/execute.py\", line 211, in make_shape\n",
            "    shape = tensor_shape.as_shape(v)\n",
            "  File \"/usr/local/lib/python3.6/dist-packages/tensorflow/python/framework/tensor_shape.py\", line 1218, in as_shape\n",
            "    return TensorShape(shape)\n",
            "  File \"/usr/local/lib/python3.6/dist-packages/tensorflow/python/framework/tensor_shape.py\", line 771, in __init__\n",
            "    self._dims = [as_dimension(d) for d in dims_iter]\n",
            "  File \"/usr/local/lib/python3.6/dist-packages/tensorflow/python/framework/tensor_shape.py\", line 771, in <listcomp>\n",
            "    self._dims = [as_dimension(d) for d in dims_iter]\n",
            "  File \"/usr/local/lib/python3.6/dist-packages/tensorflow/python/framework/tensor_shape.py\", line 716, in as_dimension\n",
            "    return Dimension(value)\n",
            "  File \"/usr/local/lib/python3.6/dist-packages/tensorflow/python/framework/tensor_shape.py\", line 200, in __init__\n",
            "    None)\n",
            "  File \"<string>\", line 3, in raise_from\n",
            "TypeError: Dimension value must be integer or None or have an __index__ method, got TensorShape([128, 128, 1])\n",
            "\n",
            "During handling of the above exception, another exception occurred:\n",
            "\n",
            "Traceback (most recent call last):\n",
            "  File \"/usr/local/lib/python3.6/dist-packages/kerastuner/engine/hypermodel.py\", line 105, in build\n",
            "    model = self.hypermodel.build(hp)\n",
            "  File \"/usr/local/lib/python3.6/dist-packages/kerastuner/engine/hypermodel.py\", line 65, in _build_wrapper\n",
            "    return self._build(hp, *args, **kwargs)\n",
            "  File \"/usr/local/lib/python3.6/dist-packages/autokeras/graph.py\", line 240, in build\n",
            "    real_nodes[node_id] = input_node.build()\n",
            "  File \"/usr/local/lib/python3.6/dist-packages/autokeras/nodes.py\", line 15, in build\n",
            "    return tf.keras.Input(shape=self.shape, dtype=tf.float32)\n",
            "  File \"/usr/local/lib/python3.6/dist-packages/tensorflow/python/keras/engine/input_layer.py\", line 295, in Input\n",
            "    input_layer = InputLayer(**input_layer_config)\n",
            "  File \"/usr/local/lib/python3.6/dist-packages/tensorflow/python/keras/engine/input_layer.py\", line 154, in __init__\n",
            "    ragged=ragged)\n",
            "  File \"/usr/local/lib/python3.6/dist-packages/tensorflow/python/keras/backend.py\", line 1087, in placeholder\n",
            "    x = array_ops.placeholder(dtype, shape=shape, name=name)\n",
            "  File \"/usr/local/lib/python3.6/dist-packages/tensorflow/python/ops/array_ops.py\", line 3026, in placeholder\n",
            "    return gen_array_ops.placeholder(dtype=dtype, shape=shape, name=name)\n",
            "  File \"/usr/local/lib/python3.6/dist-packages/tensorflow/python/ops/gen_array_ops.py\", line 6674, in placeholder\n",
            "    shape = _execute.make_shape(shape, \"shape\")\n",
            "  File \"/usr/local/lib/python3.6/dist-packages/tensorflow/python/eager/execute.py\", line 213, in make_shape\n",
            "    raise TypeError(\"Error converting %s to a TensorShape: %s.\" % (arg_name, e))\n",
            "TypeError: Error converting shape to a TensorShape: Dimension value must be integer or None or have an __index__ method, got TensorShape([128, 128, 1]).\n"
          ],
          "name": "stderr"
        },
        {
          "output_type": "display_data",
          "data": {
            "text/html": [
              "<span style=\"color:yellow\">[Warning] Invalid model 5/5</span>"
            ],
            "text/plain": [
              "<IPython.core.display.HTML object>"
            ]
          },
          "metadata": {
            "tags": []
          }
        },
        {
          "output_type": "error",
          "ename": "RuntimeError",
          "evalue": "ignored",
          "traceback": [
            "\u001b[0;31m---------------------------------------------------------------------------\u001b[0m",
            "\u001b[0;31mTypeError\u001b[0m                                 Traceback (most recent call last)",
            "\u001b[0;32m/usr/local/lib/python3.6/dist-packages/tensorflow/python/eager/execute.py\u001b[0m in \u001b[0;36mmake_shape\u001b[0;34m(v, arg_name)\u001b[0m\n\u001b[1;32m    210\u001b[0m   \u001b[0;32mtry\u001b[0m\u001b[0;34m:\u001b[0m\u001b[0;34m\u001b[0m\u001b[0;34m\u001b[0m\u001b[0m\n\u001b[0;32m--> 211\u001b[0;31m     \u001b[0mshape\u001b[0m \u001b[0;34m=\u001b[0m \u001b[0mtensor_shape\u001b[0m\u001b[0;34m.\u001b[0m\u001b[0mas_shape\u001b[0m\u001b[0;34m(\u001b[0m\u001b[0mv\u001b[0m\u001b[0;34m)\u001b[0m\u001b[0;34m\u001b[0m\u001b[0;34m\u001b[0m\u001b[0m\n\u001b[0m\u001b[1;32m    212\u001b[0m   \u001b[0;32mexcept\u001b[0m \u001b[0mTypeError\u001b[0m \u001b[0;32mas\u001b[0m \u001b[0me\u001b[0m\u001b[0;34m:\u001b[0m\u001b[0;34m\u001b[0m\u001b[0;34m\u001b[0m\u001b[0m\n",
            "\u001b[0;32m/usr/local/lib/python3.6/dist-packages/tensorflow/python/framework/tensor_shape.py\u001b[0m in \u001b[0;36mas_shape\u001b[0;34m(shape)\u001b[0m\n\u001b[1;32m   1217\u001b[0m   \u001b[0;32melse\u001b[0m\u001b[0;34m:\u001b[0m\u001b[0;34m\u001b[0m\u001b[0;34m\u001b[0m\u001b[0m\n\u001b[0;32m-> 1218\u001b[0;31m     \u001b[0;32mreturn\u001b[0m \u001b[0mTensorShape\u001b[0m\u001b[0;34m(\u001b[0m\u001b[0mshape\u001b[0m\u001b[0;34m)\u001b[0m\u001b[0;34m\u001b[0m\u001b[0;34m\u001b[0m\u001b[0m\n\u001b[0m\u001b[1;32m   1219\u001b[0m \u001b[0;34m\u001b[0m\u001b[0m\n",
            "\u001b[0;32m/usr/local/lib/python3.6/dist-packages/tensorflow/python/framework/tensor_shape.py\u001b[0m in \u001b[0;36m__init__\u001b[0;34m(self, dims)\u001b[0m\n\u001b[1;32m    770\u001b[0m       \u001b[0;32melse\u001b[0m\u001b[0;34m:\u001b[0m\u001b[0;34m\u001b[0m\u001b[0;34m\u001b[0m\u001b[0m\n\u001b[0;32m--> 771\u001b[0;31m         \u001b[0mself\u001b[0m\u001b[0;34m.\u001b[0m\u001b[0m_dims\u001b[0m \u001b[0;34m=\u001b[0m \u001b[0;34m[\u001b[0m\u001b[0mas_dimension\u001b[0m\u001b[0;34m(\u001b[0m\u001b[0md\u001b[0m\u001b[0;34m)\u001b[0m \u001b[0;32mfor\u001b[0m \u001b[0md\u001b[0m \u001b[0;32min\u001b[0m \u001b[0mdims_iter\u001b[0m\u001b[0;34m]\u001b[0m\u001b[0;34m\u001b[0m\u001b[0;34m\u001b[0m\u001b[0m\n\u001b[0m\u001b[1;32m    772\u001b[0m \u001b[0;34m\u001b[0m\u001b[0m\n",
            "\u001b[0;32m/usr/local/lib/python3.6/dist-packages/tensorflow/python/framework/tensor_shape.py\u001b[0m in \u001b[0;36m<listcomp>\u001b[0;34m(.0)\u001b[0m\n\u001b[1;32m    770\u001b[0m       \u001b[0;32melse\u001b[0m\u001b[0;34m:\u001b[0m\u001b[0;34m\u001b[0m\u001b[0;34m\u001b[0m\u001b[0m\n\u001b[0;32m--> 771\u001b[0;31m         \u001b[0mself\u001b[0m\u001b[0;34m.\u001b[0m\u001b[0m_dims\u001b[0m \u001b[0;34m=\u001b[0m \u001b[0;34m[\u001b[0m\u001b[0mas_dimension\u001b[0m\u001b[0;34m(\u001b[0m\u001b[0md\u001b[0m\u001b[0;34m)\u001b[0m \u001b[0;32mfor\u001b[0m \u001b[0md\u001b[0m \u001b[0;32min\u001b[0m \u001b[0mdims_iter\u001b[0m\u001b[0;34m]\u001b[0m\u001b[0;34m\u001b[0m\u001b[0;34m\u001b[0m\u001b[0m\n\u001b[0m\u001b[1;32m    772\u001b[0m \u001b[0;34m\u001b[0m\u001b[0m\n",
            "\u001b[0;32m/usr/local/lib/python3.6/dist-packages/tensorflow/python/framework/tensor_shape.py\u001b[0m in \u001b[0;36mas_dimension\u001b[0;34m(value)\u001b[0m\n\u001b[1;32m    715\u001b[0m   \u001b[0;32melse\u001b[0m\u001b[0;34m:\u001b[0m\u001b[0;34m\u001b[0m\u001b[0;34m\u001b[0m\u001b[0m\n\u001b[0;32m--> 716\u001b[0;31m     \u001b[0;32mreturn\u001b[0m \u001b[0mDimension\u001b[0m\u001b[0;34m(\u001b[0m\u001b[0mvalue\u001b[0m\u001b[0;34m)\u001b[0m\u001b[0;34m\u001b[0m\u001b[0;34m\u001b[0m\u001b[0m\n\u001b[0m\u001b[1;32m    717\u001b[0m \u001b[0;34m\u001b[0m\u001b[0m\n",
            "\u001b[0;32m/usr/local/lib/python3.6/dist-packages/tensorflow/python/framework/tensor_shape.py\u001b[0m in \u001b[0;36m__init__\u001b[0;34m(self, value)\u001b[0m\n\u001b[1;32m    199\u001b[0m                       \"an __index__ method, got {!r}\".format(value)),\n\u001b[0;32m--> 200\u001b[0;31m             None)\n\u001b[0m\u001b[1;32m    201\u001b[0m       \u001b[0;32mif\u001b[0m \u001b[0mself\u001b[0m\u001b[0;34m.\u001b[0m\u001b[0m_value\u001b[0m \u001b[0;34m<\u001b[0m \u001b[0;36m0\u001b[0m\u001b[0;34m:\u001b[0m\u001b[0;34m\u001b[0m\u001b[0;34m\u001b[0m\u001b[0m\n",
            "\u001b[0;32m/usr/local/lib/python3.6/dist-packages/six.py\u001b[0m in \u001b[0;36mraise_from\u001b[0;34m(value, from_value)\u001b[0m\n",
            "\u001b[0;31mTypeError\u001b[0m: Dimension value must be integer or None or have an __index__ method, got TensorShape([128, 128, 1])",
            "\nDuring handling of the above exception, another exception occurred:\n",
            "\u001b[0;31mTypeError\u001b[0m                                 Traceback (most recent call last)",
            "\u001b[0;32m/usr/local/lib/python3.6/dist-packages/kerastuner/engine/hypermodel.py\u001b[0m in \u001b[0;36mbuild\u001b[0;34m(self, hp)\u001b[0m\n\u001b[1;32m    104\u001b[0m                 \u001b[0;32mwith\u001b[0m \u001b[0mmaybe_distribute\u001b[0m\u001b[0;34m(\u001b[0m\u001b[0mself\u001b[0m\u001b[0;34m.\u001b[0m\u001b[0mdistribution_strategy\u001b[0m\u001b[0;34m)\u001b[0m\u001b[0;34m:\u001b[0m\u001b[0;34m\u001b[0m\u001b[0;34m\u001b[0m\u001b[0m\n\u001b[0;32m--> 105\u001b[0;31m                     \u001b[0mmodel\u001b[0m \u001b[0;34m=\u001b[0m \u001b[0mself\u001b[0m\u001b[0;34m.\u001b[0m\u001b[0mhypermodel\u001b[0m\u001b[0;34m.\u001b[0m\u001b[0mbuild\u001b[0m\u001b[0;34m(\u001b[0m\u001b[0mhp\u001b[0m\u001b[0;34m)\u001b[0m\u001b[0;34m\u001b[0m\u001b[0;34m\u001b[0m\u001b[0m\n\u001b[0m\u001b[1;32m    106\u001b[0m             \u001b[0;32mexcept\u001b[0m\u001b[0;34m:\u001b[0m\u001b[0;34m\u001b[0m\u001b[0;34m\u001b[0m\u001b[0m\n",
            "\u001b[0;32m/usr/local/lib/python3.6/dist-packages/kerastuner/engine/hypermodel.py\u001b[0m in \u001b[0;36m_build_wrapper\u001b[0;34m(self, hp, *args, **kwargs)\u001b[0m\n\u001b[1;32m     64\u001b[0m             \u001b[0mhp\u001b[0m \u001b[0;34m=\u001b[0m \u001b[0mhp\u001b[0m\u001b[0;34m.\u001b[0m\u001b[0mcopy\u001b[0m\u001b[0;34m(\u001b[0m\u001b[0;34m)\u001b[0m\u001b[0;34m\u001b[0m\u001b[0;34m\u001b[0m\u001b[0m\n\u001b[0;32m---> 65\u001b[0;31m         \u001b[0;32mreturn\u001b[0m \u001b[0mself\u001b[0m\u001b[0;34m.\u001b[0m\u001b[0m_build\u001b[0m\u001b[0;34m(\u001b[0m\u001b[0mhp\u001b[0m\u001b[0;34m,\u001b[0m \u001b[0;34m*\u001b[0m\u001b[0margs\u001b[0m\u001b[0;34m,\u001b[0m \u001b[0;34m**\u001b[0m\u001b[0mkwargs\u001b[0m\u001b[0;34m)\u001b[0m\u001b[0;34m\u001b[0m\u001b[0;34m\u001b[0m\u001b[0m\n\u001b[0m\u001b[1;32m     66\u001b[0m \u001b[0;34m\u001b[0m\u001b[0m\n",
            "\u001b[0;32m/usr/local/lib/python3.6/dist-packages/autokeras/graph.py\u001b[0m in \u001b[0;36mbuild\u001b[0;34m(self, hp)\u001b[0m\n\u001b[1;32m    239\u001b[0m             \u001b[0mnode_id\u001b[0m \u001b[0;34m=\u001b[0m \u001b[0mself\u001b[0m\u001b[0;34m.\u001b[0m\u001b[0m_node_to_id\u001b[0m\u001b[0;34m[\u001b[0m\u001b[0minput_node\u001b[0m\u001b[0;34m]\u001b[0m\u001b[0;34m\u001b[0m\u001b[0;34m\u001b[0m\u001b[0m\n\u001b[0;32m--> 240\u001b[0;31m             \u001b[0mreal_nodes\u001b[0m\u001b[0;34m[\u001b[0m\u001b[0mnode_id\u001b[0m\u001b[0;34m]\u001b[0m \u001b[0;34m=\u001b[0m \u001b[0minput_node\u001b[0m\u001b[0;34m.\u001b[0m\u001b[0mbuild\u001b[0m\u001b[0;34m(\u001b[0m\u001b[0;34m)\u001b[0m\u001b[0;34m\u001b[0m\u001b[0;34m\u001b[0m\u001b[0m\n\u001b[0m\u001b[1;32m    241\u001b[0m         \u001b[0;32mfor\u001b[0m \u001b[0mblock\u001b[0m \u001b[0;32min\u001b[0m \u001b[0mself\u001b[0m\u001b[0;34m.\u001b[0m\u001b[0mblocks\u001b[0m\u001b[0;34m:\u001b[0m\u001b[0;34m\u001b[0m\u001b[0;34m\u001b[0m\u001b[0m\n",
            "\u001b[0;32m/usr/local/lib/python3.6/dist-packages/autokeras/nodes.py\u001b[0m in \u001b[0;36mbuild\u001b[0;34m(self)\u001b[0m\n\u001b[1;32m     14\u001b[0m     \u001b[0;32mdef\u001b[0m \u001b[0mbuild\u001b[0m\u001b[0;34m(\u001b[0m\u001b[0mself\u001b[0m\u001b[0;34m)\u001b[0m\u001b[0;34m:\u001b[0m\u001b[0;34m\u001b[0m\u001b[0;34m\u001b[0m\u001b[0m\n\u001b[0;32m---> 15\u001b[0;31m         \u001b[0;32mreturn\u001b[0m \u001b[0mtf\u001b[0m\u001b[0;34m.\u001b[0m\u001b[0mkeras\u001b[0m\u001b[0;34m.\u001b[0m\u001b[0mInput\u001b[0m\u001b[0;34m(\u001b[0m\u001b[0mshape\u001b[0m\u001b[0;34m=\u001b[0m\u001b[0mself\u001b[0m\u001b[0;34m.\u001b[0m\u001b[0mshape\u001b[0m\u001b[0;34m,\u001b[0m \u001b[0mdtype\u001b[0m\u001b[0;34m=\u001b[0m\u001b[0mtf\u001b[0m\u001b[0;34m.\u001b[0m\u001b[0mfloat32\u001b[0m\u001b[0;34m)\u001b[0m\u001b[0;34m\u001b[0m\u001b[0;34m\u001b[0m\u001b[0m\n\u001b[0m\u001b[1;32m     16\u001b[0m \u001b[0;34m\u001b[0m\u001b[0m\n",
            "\u001b[0;32m/usr/local/lib/python3.6/dist-packages/tensorflow/python/keras/engine/input_layer.py\u001b[0m in \u001b[0;36mInput\u001b[0;34m(shape, batch_size, name, dtype, sparse, tensor, ragged, **kwargs)\u001b[0m\n\u001b[1;32m    294\u001b[0m \u001b[0;34m\u001b[0m\u001b[0m\n\u001b[0;32m--> 295\u001b[0;31m   \u001b[0minput_layer\u001b[0m \u001b[0;34m=\u001b[0m \u001b[0mInputLayer\u001b[0m\u001b[0;34m(\u001b[0m\u001b[0;34m**\u001b[0m\u001b[0minput_layer_config\u001b[0m\u001b[0;34m)\u001b[0m\u001b[0;34m\u001b[0m\u001b[0;34m\u001b[0m\u001b[0m\n\u001b[0m\u001b[1;32m    296\u001b[0m \u001b[0;34m\u001b[0m\u001b[0m\n",
            "\u001b[0;32m/usr/local/lib/python3.6/dist-packages/tensorflow/python/keras/engine/input_layer.py\u001b[0m in \u001b[0;36m__init__\u001b[0;34m(self, input_shape, batch_size, dtype, input_tensor, sparse, name, ragged, **kwargs)\u001b[0m\n\u001b[1;32m    153\u001b[0m             \u001b[0msparse\u001b[0m\u001b[0;34m=\u001b[0m\u001b[0msparse\u001b[0m\u001b[0;34m,\u001b[0m\u001b[0;34m\u001b[0m\u001b[0;34m\u001b[0m\u001b[0m\n\u001b[0;32m--> 154\u001b[0;31m             ragged=ragged)\n\u001b[0m\u001b[1;32m    155\u001b[0m \u001b[0;34m\u001b[0m\u001b[0m\n",
            "\u001b[0;32m/usr/local/lib/python3.6/dist-packages/tensorflow/python/keras/backend.py\u001b[0m in \u001b[0;36mplaceholder\u001b[0;34m(shape, ndim, dtype, sparse, name, ragged)\u001b[0m\n\u001b[1;32m   1086\u001b[0m     \u001b[0;32melse\u001b[0m\u001b[0;34m:\u001b[0m\u001b[0;34m\u001b[0m\u001b[0;34m\u001b[0m\u001b[0m\n\u001b[0;32m-> 1087\u001b[0;31m       \u001b[0mx\u001b[0m \u001b[0;34m=\u001b[0m \u001b[0marray_ops\u001b[0m\u001b[0;34m.\u001b[0m\u001b[0mplaceholder\u001b[0m\u001b[0;34m(\u001b[0m\u001b[0mdtype\u001b[0m\u001b[0;34m,\u001b[0m \u001b[0mshape\u001b[0m\u001b[0;34m=\u001b[0m\u001b[0mshape\u001b[0m\u001b[0;34m,\u001b[0m \u001b[0mname\u001b[0m\u001b[0;34m=\u001b[0m\u001b[0mname\u001b[0m\u001b[0;34m)\u001b[0m\u001b[0;34m\u001b[0m\u001b[0;34m\u001b[0m\u001b[0m\n\u001b[0m\u001b[1;32m   1088\u001b[0m   \u001b[0;32mreturn\u001b[0m \u001b[0mx\u001b[0m\u001b[0;34m\u001b[0m\u001b[0;34m\u001b[0m\u001b[0m\n",
            "\u001b[0;32m/usr/local/lib/python3.6/dist-packages/tensorflow/python/ops/array_ops.py\u001b[0m in \u001b[0;36mplaceholder\u001b[0;34m(dtype, shape, name)\u001b[0m\n\u001b[1;32m   3025\u001b[0m \u001b[0;34m\u001b[0m\u001b[0m\n\u001b[0;32m-> 3026\u001b[0;31m   \u001b[0;32mreturn\u001b[0m \u001b[0mgen_array_ops\u001b[0m\u001b[0;34m.\u001b[0m\u001b[0mplaceholder\u001b[0m\u001b[0;34m(\u001b[0m\u001b[0mdtype\u001b[0m\u001b[0;34m=\u001b[0m\u001b[0mdtype\u001b[0m\u001b[0;34m,\u001b[0m \u001b[0mshape\u001b[0m\u001b[0;34m=\u001b[0m\u001b[0mshape\u001b[0m\u001b[0;34m,\u001b[0m \u001b[0mname\u001b[0m\u001b[0;34m=\u001b[0m\u001b[0mname\u001b[0m\u001b[0;34m)\u001b[0m\u001b[0;34m\u001b[0m\u001b[0;34m\u001b[0m\u001b[0m\n\u001b[0m\u001b[1;32m   3027\u001b[0m \u001b[0;34m\u001b[0m\u001b[0m\n",
            "\u001b[0;32m/usr/local/lib/python3.6/dist-packages/tensorflow/python/ops/gen_array_ops.py\u001b[0m in \u001b[0;36mplaceholder\u001b[0;34m(dtype, shape, name)\u001b[0m\n\u001b[1;32m   6673\u001b[0m     \u001b[0mshape\u001b[0m \u001b[0;34m=\u001b[0m \u001b[0;32mNone\u001b[0m\u001b[0;34m\u001b[0m\u001b[0;34m\u001b[0m\u001b[0m\n\u001b[0;32m-> 6674\u001b[0;31m   \u001b[0mshape\u001b[0m \u001b[0;34m=\u001b[0m \u001b[0m_execute\u001b[0m\u001b[0;34m.\u001b[0m\u001b[0mmake_shape\u001b[0m\u001b[0;34m(\u001b[0m\u001b[0mshape\u001b[0m\u001b[0;34m,\u001b[0m \u001b[0;34m\"shape\"\u001b[0m\u001b[0;34m)\u001b[0m\u001b[0;34m\u001b[0m\u001b[0;34m\u001b[0m\u001b[0m\n\u001b[0m\u001b[1;32m   6675\u001b[0m   _, _, _op, _outputs = _op_def_library._apply_op_helper(\n",
            "\u001b[0;32m/usr/local/lib/python3.6/dist-packages/tensorflow/python/eager/execute.py\u001b[0m in \u001b[0;36mmake_shape\u001b[0;34m(v, arg_name)\u001b[0m\n\u001b[1;32m    212\u001b[0m   \u001b[0;32mexcept\u001b[0m \u001b[0mTypeError\u001b[0m \u001b[0;32mas\u001b[0m \u001b[0me\u001b[0m\u001b[0;34m:\u001b[0m\u001b[0;34m\u001b[0m\u001b[0;34m\u001b[0m\u001b[0m\n\u001b[0;32m--> 213\u001b[0;31m     \u001b[0;32mraise\u001b[0m \u001b[0mTypeError\u001b[0m\u001b[0;34m(\u001b[0m\u001b[0;34m\"Error converting %s to a TensorShape: %s.\"\u001b[0m \u001b[0;34m%\u001b[0m \u001b[0;34m(\u001b[0m\u001b[0marg_name\u001b[0m\u001b[0;34m,\u001b[0m \u001b[0me\u001b[0m\u001b[0;34m)\u001b[0m\u001b[0;34m)\u001b[0m\u001b[0;34m\u001b[0m\u001b[0;34m\u001b[0m\u001b[0m\n\u001b[0m\u001b[1;32m    214\u001b[0m   \u001b[0;32mexcept\u001b[0m \u001b[0mValueError\u001b[0m \u001b[0;32mas\u001b[0m \u001b[0me\u001b[0m\u001b[0;34m:\u001b[0m\u001b[0;34m\u001b[0m\u001b[0;34m\u001b[0m\u001b[0m\n",
            "\u001b[0;31mTypeError\u001b[0m: Error converting shape to a TensorShape: Dimension value must be integer or None or have an __index__ method, got TensorShape([128, 128, 1]).",
            "\nDuring handling of the above exception, another exception occurred:\n",
            "\u001b[0;31mRuntimeError\u001b[0m                              Traceback (most recent call last)",
            "\u001b[0;32m<ipython-input-32-4131a89ae5fc>\u001b[0m in \u001b[0;36m<module>\u001b[0;34m()\u001b[0m\n\u001b[1;32m      7\u001b[0m \u001b[0mreg\u001b[0m \u001b[0;34m=\u001b[0m \u001b[0mak\u001b[0m\u001b[0;34m.\u001b[0m\u001b[0mImageRegressor\u001b[0m\u001b[0;34m(\u001b[0m\u001b[0mmax_trials\u001b[0m\u001b[0;34m=\u001b[0m\u001b[0;36m15\u001b[0m\u001b[0;34m)\u001b[0m\u001b[0;34m\u001b[0m\u001b[0;34m\u001b[0m\u001b[0m\n\u001b[1;32m      8\u001b[0m \u001b[0;31m# Feed the tensorflow Dataset to the classifier.\u001b[0m\u001b[0;34m\u001b[0m\u001b[0;34m\u001b[0m\u001b[0;34m\u001b[0m\u001b[0m\n\u001b[0;32m----> 9\u001b[0;31m \u001b[0mreg\u001b[0m\u001b[0;34m.\u001b[0m\u001b[0mfit\u001b[0m\u001b[0;34m(\u001b[0m\u001b[0mtrain_set\u001b[0m\u001b[0;34m)\u001b[0m\u001b[0;34m\u001b[0m\u001b[0;34m\u001b[0m\u001b[0m\n\u001b[0m\u001b[1;32m     10\u001b[0m \u001b[0;31m# Predict with the best model.\u001b[0m\u001b[0;34m\u001b[0m\u001b[0;34m\u001b[0m\u001b[0;34m\u001b[0m\u001b[0m\n\u001b[1;32m     11\u001b[0m \u001b[0mpredicted_y\u001b[0m \u001b[0;34m=\u001b[0m \u001b[0mclf\u001b[0m\u001b[0;34m.\u001b[0m\u001b[0mpredict\u001b[0m\u001b[0;34m(\u001b[0m\u001b[0mtest_set\u001b[0m\u001b[0;34m)\u001b[0m\u001b[0;34m\u001b[0m\u001b[0;34m\u001b[0m\u001b[0m\n",
            "\u001b[0;32m/usr/local/lib/python3.6/dist-packages/autokeras/tasks/image.py\u001b[0m in \u001b[0;36mfit\u001b[0;34m(self, x, y, epochs, callbacks, validation_split, validation_data, **kwargs)\u001b[0m\n\u001b[1;32m    237\u001b[0m                     \u001b[0mvalidation_split\u001b[0m\u001b[0;34m=\u001b[0m\u001b[0mvalidation_split\u001b[0m\u001b[0;34m,\u001b[0m\u001b[0;34m\u001b[0m\u001b[0;34m\u001b[0m\u001b[0m\n\u001b[1;32m    238\u001b[0m                     \u001b[0mvalidation_data\u001b[0m\u001b[0;34m=\u001b[0m\u001b[0mvalidation_data\u001b[0m\u001b[0;34m,\u001b[0m\u001b[0;34m\u001b[0m\u001b[0;34m\u001b[0m\u001b[0m\n\u001b[0;32m--> 239\u001b[0;31m                     **kwargs)\n\u001b[0m\u001b[1;32m    240\u001b[0m \u001b[0;34m\u001b[0m\u001b[0m\n\u001b[1;32m    241\u001b[0m \u001b[0;34m\u001b[0m\u001b[0m\n",
            "\u001b[0;32m/usr/local/lib/python3.6/dist-packages/autokeras/auto_model.py\u001b[0m in \u001b[0;36mfit\u001b[0;34m(self, x, y, batch_size, epochs, callbacks, validation_split, validation_data, **kwargs)\u001b[0m\n\u001b[1;32m    261\u001b[0m                           \u001b[0mvalidation_data\u001b[0m\u001b[0;34m=\u001b[0m\u001b[0mvalidation_data\u001b[0m\u001b[0;34m,\u001b[0m\u001b[0;34m\u001b[0m\u001b[0;34m\u001b[0m\u001b[0m\n\u001b[1;32m    262\u001b[0m                           \u001b[0mfit_on_val_data\u001b[0m\u001b[0;34m=\u001b[0m\u001b[0mself\u001b[0m\u001b[0;34m.\u001b[0m\u001b[0m_split_dataset\u001b[0m\u001b[0;34m,\u001b[0m\u001b[0;34m\u001b[0m\u001b[0;34m\u001b[0m\u001b[0m\n\u001b[0;32m--> 263\u001b[0;31m                           **kwargs)\n\u001b[0m\u001b[1;32m    264\u001b[0m \u001b[0;34m\u001b[0m\u001b[0m\n\u001b[1;32m    265\u001b[0m     \u001b[0;34m@\u001b[0m\u001b[0mstaticmethod\u001b[0m\u001b[0;34m\u001b[0m\u001b[0;34m\u001b[0m\u001b[0m\n",
            "\u001b[0;32m/usr/local/lib/python3.6/dist-packages/autokeras/engine/tuner.py\u001b[0m in \u001b[0;36msearch\u001b[0;34m(self, epochs, callbacks, fit_on_val_data, **fit_kwargs)\u001b[0m\n\u001b[1;32m    124\u001b[0m             \u001b[0mnew_callbacks\u001b[0m\u001b[0;34m.\u001b[0m\u001b[0mappend\u001b[0m\u001b[0;34m(\u001b[0m\u001b[0mtf_callbacks\u001b[0m\u001b[0;34m.\u001b[0m\u001b[0mEarlyStopping\u001b[0m\u001b[0;34m(\u001b[0m\u001b[0mpatience\u001b[0m\u001b[0;34m=\u001b[0m\u001b[0;36m10\u001b[0m\u001b[0;34m)\u001b[0m\u001b[0;34m)\u001b[0m\u001b[0;34m\u001b[0m\u001b[0;34m\u001b[0m\u001b[0m\n\u001b[1;32m    125\u001b[0m \u001b[0;34m\u001b[0m\u001b[0m\n\u001b[0;32m--> 126\u001b[0;31m         \u001b[0msuper\u001b[0m\u001b[0;34m(\u001b[0m\u001b[0;34m)\u001b[0m\u001b[0;34m.\u001b[0m\u001b[0msearch\u001b[0m\u001b[0;34m(\u001b[0m\u001b[0mepochs\u001b[0m\u001b[0;34m=\u001b[0m\u001b[0mepochs\u001b[0m\u001b[0;34m,\u001b[0m \u001b[0mcallbacks\u001b[0m\u001b[0;34m=\u001b[0m\u001b[0mnew_callbacks\u001b[0m\u001b[0;34m,\u001b[0m \u001b[0;34m**\u001b[0m\u001b[0mfit_kwargs\u001b[0m\u001b[0;34m)\u001b[0m\u001b[0;34m\u001b[0m\u001b[0;34m\u001b[0m\u001b[0m\n\u001b[0m\u001b[1;32m    127\u001b[0m \u001b[0;34m\u001b[0m\u001b[0m\n\u001b[1;32m    128\u001b[0m         \u001b[0;31m# Fully train the best model with original callbacks.\u001b[0m\u001b[0;34m\u001b[0m\u001b[0;34m\u001b[0m\u001b[0;34m\u001b[0m\u001b[0m\n",
            "\u001b[0;32m/usr/local/lib/python3.6/dist-packages/kerastuner/engine/base_tuner.py\u001b[0m in \u001b[0;36msearch\u001b[0;34m(self, *fit_args, **fit_kwargs)\u001b[0m\n\u001b[1;32m    128\u001b[0m \u001b[0;34m\u001b[0m\u001b[0m\n\u001b[1;32m    129\u001b[0m             \u001b[0mself\u001b[0m\u001b[0;34m.\u001b[0m\u001b[0mon_trial_begin\u001b[0m\u001b[0;34m(\u001b[0m\u001b[0mtrial\u001b[0m\u001b[0;34m)\u001b[0m\u001b[0;34m\u001b[0m\u001b[0;34m\u001b[0m\u001b[0m\n\u001b[0;32m--> 130\u001b[0;31m             \u001b[0mself\u001b[0m\u001b[0;34m.\u001b[0m\u001b[0mrun_trial\u001b[0m\u001b[0;34m(\u001b[0m\u001b[0mtrial\u001b[0m\u001b[0;34m,\u001b[0m \u001b[0;34m*\u001b[0m\u001b[0mfit_args\u001b[0m\u001b[0;34m,\u001b[0m \u001b[0;34m**\u001b[0m\u001b[0mfit_kwargs\u001b[0m\u001b[0;34m)\u001b[0m\u001b[0;34m\u001b[0m\u001b[0;34m\u001b[0m\u001b[0m\n\u001b[0m\u001b[1;32m    131\u001b[0m             \u001b[0mself\u001b[0m\u001b[0;34m.\u001b[0m\u001b[0mon_trial_end\u001b[0m\u001b[0;34m(\u001b[0m\u001b[0mtrial\u001b[0m\u001b[0;34m)\u001b[0m\u001b[0;34m\u001b[0m\u001b[0;34m\u001b[0m\u001b[0m\n\u001b[1;32m    132\u001b[0m         \u001b[0mself\u001b[0m\u001b[0;34m.\u001b[0m\u001b[0mon_search_end\u001b[0m\u001b[0;34m(\u001b[0m\u001b[0;34m)\u001b[0m\u001b[0;34m\u001b[0m\u001b[0;34m\u001b[0m\u001b[0m\n",
            "\u001b[0;32m/usr/local/lib/python3.6/dist-packages/autokeras/engine/tuner.py\u001b[0m in \u001b[0;36mrun_trial\u001b[0;34m(self, trial, x, validation_data, *fit_args, **fit_kwargs)\u001b[0m\n\u001b[1;32m     83\u001b[0m             \u001b[0mvalidation_data\u001b[0m\u001b[0;34m=\u001b[0m\u001b[0mvalidation_data\u001b[0m\u001b[0;34m,\u001b[0m\u001b[0;34m\u001b[0m\u001b[0;34m\u001b[0m\u001b[0m\n\u001b[1;32m     84\u001b[0m             \u001b[0;34m*\u001b[0m\u001b[0mfit_args\u001b[0m\u001b[0;34m,\u001b[0m\u001b[0;34m\u001b[0m\u001b[0;34m\u001b[0m\u001b[0m\n\u001b[0;32m---> 85\u001b[0;31m             **fit_kwargs)\n\u001b[0m\u001b[1;32m     86\u001b[0m \u001b[0;34m\u001b[0m\u001b[0m\n\u001b[1;32m     87\u001b[0m     \u001b[0;32mdef\u001b[0m \u001b[0mbuild_preprocessors\u001b[0m\u001b[0;34m(\u001b[0m\u001b[0mself\u001b[0m\u001b[0;34m,\u001b[0m \u001b[0mhp\u001b[0m\u001b[0;34m,\u001b[0m \u001b[0mx\u001b[0m\u001b[0;34m=\u001b[0m\u001b[0;32mNone\u001b[0m\u001b[0;34m,\u001b[0m \u001b[0mvalidation_data\u001b[0m\u001b[0;34m=\u001b[0m\u001b[0;32mNone\u001b[0m\u001b[0;34m)\u001b[0m\u001b[0;34m:\u001b[0m\u001b[0;34m\u001b[0m\u001b[0;34m\u001b[0m\u001b[0m\n",
            "\u001b[0;32m/usr/local/lib/python3.6/dist-packages/autokeras/engine/tuner.py\u001b[0m in \u001b[0;36m_super_run_trial\u001b[0;34m(self, trial, x, *fit_args, **fit_kwargs)\u001b[0m\n\u001b[1;32m     66\u001b[0m         \u001b[0mcopied_fit_kwargs\u001b[0m\u001b[0;34m[\u001b[0m\u001b[0;34m'callbacks'\u001b[0m\u001b[0;34m]\u001b[0m \u001b[0;34m=\u001b[0m \u001b[0mcallbacks\u001b[0m\u001b[0;34m\u001b[0m\u001b[0;34m\u001b[0m\u001b[0m\n\u001b[1;32m     67\u001b[0m \u001b[0;34m\u001b[0m\u001b[0m\n\u001b[0;32m---> 68\u001b[0;31m         \u001b[0mmodel\u001b[0m \u001b[0;34m=\u001b[0m \u001b[0mself\u001b[0m\u001b[0;34m.\u001b[0m\u001b[0mhypermodel\u001b[0m\u001b[0;34m.\u001b[0m\u001b[0mbuild\u001b[0m\u001b[0;34m(\u001b[0m\u001b[0mtrial\u001b[0m\u001b[0;34m.\u001b[0m\u001b[0mhyperparameters\u001b[0m\u001b[0;34m)\u001b[0m\u001b[0;34m\u001b[0m\u001b[0;34m\u001b[0m\u001b[0m\n\u001b[0m\u001b[1;32m     69\u001b[0m         \u001b[0mutils\u001b[0m\u001b[0;34m.\u001b[0m\u001b[0madapt_model\u001b[0m\u001b[0;34m(\u001b[0m\u001b[0mmodel\u001b[0m\u001b[0;34m,\u001b[0m \u001b[0mx\u001b[0m\u001b[0;34m)\u001b[0m\u001b[0;34m\u001b[0m\u001b[0;34m\u001b[0m\u001b[0m\n\u001b[1;32m     70\u001b[0m         \u001b[0mmodel\u001b[0m\u001b[0;34m.\u001b[0m\u001b[0mfit\u001b[0m\u001b[0;34m(\u001b[0m\u001b[0mx\u001b[0m\u001b[0;34m,\u001b[0m \u001b[0;34m*\u001b[0m\u001b[0mfit_args\u001b[0m\u001b[0;34m,\u001b[0m \u001b[0;34m**\u001b[0m\u001b[0mcopied_fit_kwargs\u001b[0m\u001b[0;34m)\u001b[0m\u001b[0;34m\u001b[0m\u001b[0;34m\u001b[0m\u001b[0m\n",
            "\u001b[0;32m/usr/local/lib/python3.6/dist-packages/kerastuner/engine/hypermodel.py\u001b[0m in \u001b[0;36m_build_wrapper\u001b[0;34m(self, hp, *args, **kwargs)\u001b[0m\n\u001b[1;32m     63\u001b[0m             \u001b[0;31m# to the search space.\u001b[0m\u001b[0;34m\u001b[0m\u001b[0;34m\u001b[0m\u001b[0;34m\u001b[0m\u001b[0m\n\u001b[1;32m     64\u001b[0m             \u001b[0mhp\u001b[0m \u001b[0;34m=\u001b[0m \u001b[0mhp\u001b[0m\u001b[0;34m.\u001b[0m\u001b[0mcopy\u001b[0m\u001b[0;34m(\u001b[0m\u001b[0;34m)\u001b[0m\u001b[0;34m\u001b[0m\u001b[0;34m\u001b[0m\u001b[0m\n\u001b[0;32m---> 65\u001b[0;31m         \u001b[0;32mreturn\u001b[0m \u001b[0mself\u001b[0m\u001b[0;34m.\u001b[0m\u001b[0m_build\u001b[0m\u001b[0;34m(\u001b[0m\u001b[0mhp\u001b[0m\u001b[0;34m,\u001b[0m \u001b[0;34m*\u001b[0m\u001b[0margs\u001b[0m\u001b[0;34m,\u001b[0m \u001b[0;34m**\u001b[0m\u001b[0mkwargs\u001b[0m\u001b[0;34m)\u001b[0m\u001b[0;34m\u001b[0m\u001b[0;34m\u001b[0m\u001b[0m\n\u001b[0m\u001b[1;32m     66\u001b[0m \u001b[0;34m\u001b[0m\u001b[0m\n\u001b[1;32m     67\u001b[0m \u001b[0;34m\u001b[0m\u001b[0m\n",
            "\u001b[0;32m/usr/local/lib/python3.6/dist-packages/kerastuner/engine/hypermodel.py\u001b[0m in \u001b[0;36mbuild\u001b[0;34m(self, hp)\u001b[0m\n\u001b[1;32m    113\u001b[0m                 \u001b[0;32mif\u001b[0m \u001b[0mi\u001b[0m \u001b[0;34m==\u001b[0m \u001b[0mself\u001b[0m\u001b[0;34m.\u001b[0m\u001b[0m_max_fail_streak\u001b[0m\u001b[0;34m:\u001b[0m\u001b[0;34m\u001b[0m\u001b[0;34m\u001b[0m\u001b[0m\n\u001b[1;32m    114\u001b[0m                     raise RuntimeError(\n\u001b[0;32m--> 115\u001b[0;31m                         'Too many failed attempts to build model.')\n\u001b[0m\u001b[1;32m    116\u001b[0m                 \u001b[0;32mcontinue\u001b[0m\u001b[0;34m\u001b[0m\u001b[0;34m\u001b[0m\u001b[0m\n\u001b[1;32m    117\u001b[0m \u001b[0;34m\u001b[0m\u001b[0m\n",
            "\u001b[0;31mRuntimeError\u001b[0m: Too many failed attempts to build model."
          ]
        }
      ]
    },
    {
      "cell_type": "markdown",
      "metadata": {
        "id": "sMoaycA7zI28",
        "colab_type": "text"
      },
      "source": [
        "## References\n",
        "\n",
        "[Main Reference Notebook](https://gist.github.com/mapmeld/98d1e9839f2d1f9c4ee197953661ed07),\n",
        "[Dataset](https://data.vision.ee.ethz.ch/cvl/rrothe/imdb-wiki/),\n",
        "[ImageRegressor](/image_regressor),\n",
        "[ResNetBlock](/block/#resnetblock-class),\n",
        "[ImageInput](/node/#imageinput-class),\n",
        "[AutoModel](/auto_model/#automodel-class),\n",
        "[ImageBlock](/block/#imageblock-class),\n",
        "[Normalization](/preprocessor/#normalization-class),\n",
        "[ImageAugmentation](/preprocessor/#image-augmentation-class),\n",
        "[RegressionHead](/head/#regressionhead-class).\n"
      ]
    }
  ]
}