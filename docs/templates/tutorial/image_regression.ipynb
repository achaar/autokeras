{
  "nbformat": 4,
  "nbformat_minor": 0,
  "metadata": {
    "colab": {
      "name": "ImageRegression.ipynb",
      "provenance": [],
      "collapsed_sections": [
        "FavORUUdTq7t"
      ],
      "toc_visible": true
    },
    "kernelspec": {
      "name": "python3",
      "display_name": "Python 3"
    }
  },
  "cells": [
    {
      "cell_type": "markdown",
      "metadata": {
        "id": "Jq-X6opit9JD",
        "colab_type": "text"
      },
      "source": [
        "[![Open In Colab](https://colab.research.google.com/assets/colab-badge.svg)](https://colab.research.google.com/github/keras-team/autokeras/blob/master/docs/templates/tutorial/image_regression.ipynb)"
      ]
    },
    {
      "cell_type": "markdown",
      "metadata": {
        "id": "l2cqgOhsqGvb",
        "colab_type": "text"
      },
      "source": [
        "# Celebrity Ages Example\n",
        "\n",
        "Regression tasks estimate a numeric variable, such as the price of a house or voter turnout.\n",
        "\n",
        "This example is adapted from a [notebook](https://gist.github.com/mapmeld/98d1e9839f2d1f9c4ee197953661ed07) which estimates a person's age from their image, trained on the [IMDB-WIKI](https://data.vision.ee.ethz.ch/cvl/rrothe/imdb-wiki/) photographs of famous people.\n",
        "\n",
        "First, prepare your image data in a numpy.ndarray or tensorflow.Dataset format. Each image must have the same shape, meaning each has the same width, height, and color channels as other images in the set."
      ]
    },
    {
      "cell_type": "markdown",
      "metadata": {
        "id": "s44VJKpwxviZ",
        "colab_type": "text"
      },
      "source": [
        "### Connect your Google Drive for Data"
      ]
    },
    {
      "cell_type": "code",
      "metadata": {
        "id": "B8DpaCgwzzWl",
        "colab_type": "code",
        "colab": {}
      },
      "source": [
        "from google.colab import drive\n",
        "drive.mount('/content/drive')"
      ],
      "execution_count": 0,
      "outputs": []
    },
    {
      "cell_type": "markdown",
      "metadata": {
        "id": "I-1aopwGx7G2",
        "colab_type": "text"
      },
      "source": [
        "### Install AutoKeras and TensorFlow\n",
        "\n",
        "Download the master branch to your Google Drive for this tutorial. In general, you can use *pip install autokeras* ."
      ]
    },
    {
      "cell_type": "code",
      "metadata": {
        "id": "VL12dzujzmwj",
        "colab_type": "code",
        "colab": {}
      },
      "source": [
        "!pip install  -v \"/content/drive/My Drive/AutoKeras-dev/autokeras-master.zip\"\n",
        "!pip uninstall keras-tuner\n",
        "!pip install git+git://github.com/keras-team/keras-tuner.git@d2d69cba21a0b482a85ce2a38893e2322e139c01"
      ],
      "execution_count": 0,
      "outputs": []
    },
    {
      "cell_type": "code",
      "metadata": {
        "id": "ENwy2icNztRk",
        "colab_type": "code",
        "colab": {}
      },
      "source": [
        "pip install tensorflow==2.2"
      ],
      "execution_count": 0,
      "outputs": []
    },
    {
      "cell_type": "markdown",
      "metadata": {
        "id": "7rUDx2joAKCO",
        "colab_type": "text"
      },
      "source": [
        "###**Import IMDB Celeb images and metadata**"
      ]
    },
    {
      "cell_type": "code",
      "metadata": {
        "id": "z7AM1szTCpSU",
        "colab_type": "code",
        "colab": {}
      },
      "source": [
        "!mkdir ./drive/My\\ Drive/mlin/celebs"
      ],
      "execution_count": 0,
      "outputs": []
    },
    {
      "cell_type": "code",
      "metadata": {
        "id": "4u0cKhr70Y-T",
        "colab_type": "code",
        "colab": {}
      },
      "source": [
        "! wget -O ./drive/My\\ Drive/mlin/celebs/imdb_0.tar https://data.vision.ee.ethz.ch/cvl/rrothe/imdb-wiki/static/imdb_0.tar"
      ],
      "execution_count": 0,
      "outputs": []
    },
    {
      "cell_type": "code",
      "metadata": {
        "id": "PVXYMniZ_-Bq",
        "colab_type": "code",
        "colab": {}
      },
      "source": [
        "! cd ./drive/My\\ Drive/mlin/celebs && tar -xf imdb_0.tar\n",
        "! rm ./drive/My\\ Drive/mlin/celebs/imdb_0.tar"
      ],
      "execution_count": 0,
      "outputs": []
    },
    {
      "cell_type": "markdown",
      "metadata": {
        "id": "PyLxaGT2yMUR",
        "colab_type": "text"
      },
      "source": [
        "Uncomment and run the below cell if you need to re-run the cells again and above don't need to install everything from the beginning."
      ]
    },
    {
      "cell_type": "code",
      "metadata": {
        "id": "8ZqyQAVFAF-J",
        "colab_type": "code",
        "colab": {}
      },
      "source": [
        "# ! cd ./drive/My\\ Drive/mlin/celebs."
      ],
      "execution_count": 0,
      "outputs": []
    },
    {
      "cell_type": "code",
      "metadata": {
        "id": "wh0CLiAhABeq",
        "colab_type": "code",
        "colab": {}
      },
      "source": [
        "! ls ./drive/My\\ Drive/mlin/celebs/imdb/"
      ],
      "execution_count": 0,
      "outputs": []
    },
    {
      "cell_type": "code",
      "metadata": {
        "id": "am_dLtCiAEnT",
        "colab_type": "code",
        "colab": {}
      },
      "source": [
        "! wget https://data.vision.ee.ethz.ch/cvl/rrothe/imdb-wiki/static/imdb_meta.tar\n",
        "! tar -xf imdb_meta.tar\n",
        "! rm imdb_meta.tar"
      ],
      "execution_count": 0,
      "outputs": []
    },
    {
      "cell_type": "markdown",
      "metadata": {
        "id": "IkwLpWPjAfiM",
        "colab_type": "text"
      },
      "source": [
        "###**Converting from MATLAB date to actual Date-of-Birth**"
      ]
    },
    {
      "cell_type": "code",
      "metadata": {
        "id": "WXzGEAVFAavG",
        "colab_type": "code",
        "colab": {}
      },
      "source": [
        "from datetime import datetime, timedelta \n",
        "def datenum_to_datetime(datenum):\n",
        "    \"\"\"\n",
        "    Convert Matlab datenum into Python datetime.\n",
        "    \"\"\"\n",
        "    days = datenum % 1\n",
        "    hours = days % 1 * 24\n",
        "    minutes = hours % 1 * 60\n",
        "    seconds = minutes % 1 * 60\n",
        "    try:\n",
        "      return datetime.fromordinal(int(datenum)) \\\n",
        "           + timedelta(days=int(days)) \\\n",
        "           + timedelta(hours=int(hours)) \\\n",
        "           + timedelta(minutes=int(minutes)) \\\n",
        "           + timedelta(seconds=round(seconds)) \\\n",
        "           - timedelta(days=366)\n",
        "    except:\n",
        "      return datenum_to_datetime(700000)\n",
        "\n",
        "print(datenum_to_datetime(734963))"
      ],
      "execution_count": 0,
      "outputs": []
    },
    {
      "cell_type": "markdown",
      "metadata": {
        "id": "A_B7TsrBNP8e",
        "colab_type": "text"
      },
      "source": [
        "### **Opening MatLab file to Pandas DataFrame**"
      ]
    },
    {
      "cell_type": "code",
      "metadata": {
        "id": "gFPl8ox0NQY9",
        "colab_type": "code",
        "colab": {}
      },
      "source": [
        "from scipy.io import loadmat\n",
        "x = loadmat('imdb/imdb.mat')"
      ],
      "execution_count": 0,
      "outputs": []
    },
    {
      "cell_type": "code",
      "metadata": {
        "id": "vAj7oR57NYq6",
        "colab_type": "code",
        "colab": {}
      },
      "source": [
        "import pandas as pd\n",
        "import numpy as np \n",
        "\n",
        "mdata = x['imdb']  # variable in mat file\n",
        "mdtype = mdata.dtype  # dtypes of structures are \"unsized objects\"\n",
        "ndata = {n: mdata[n][0, 0] for n in mdtype.names}\n",
        "columns = [n for n, v in ndata.items()]\n",
        "\n",
        "rows = []\n",
        "for col in range(0, 10):\n",
        "  values = list(ndata.items())[col]\n",
        "  for num, val in enumerate(values[1][0], start=0):\n",
        "    if col == 0:\n",
        "      rows.append([])\n",
        "    if num > 0:\n",
        "      if columns[col] == \"dob\":\n",
        "        rows[num].append(datenum_to_datetime(int(val)))\n",
        "      elif columns[col] == \"photo_taken\":\n",
        "        rows[num].append(datetime(year=int(val), month=6, day=30))\n",
        "      else:\n",
        "        rows[num].append(val)\n",
        "\n",
        "dt = map(lambda row: np.array(row), np.array(rows[1:]))\n",
        "\n",
        "df = pd.DataFrame(data=dt, index=range(0, len(rows) - 1), columns=columns)\n",
        "print(df.head())"
      ],
      "execution_count": 0,
      "outputs": []
    },
    {
      "cell_type": "code",
      "metadata": {
        "id": "7asgbcPqNh-W",
        "colab_type": "code",
        "colab": {}
      },
      "source": [
        "print(columns)\n",
        "print(df[\"full_path\"])"
      ],
      "execution_count": 0,
      "outputs": []
    },
    {
      "cell_type": "markdown",
      "metadata": {
        "id": "rMeys5F_NlrO",
        "colab_type": "text"
      },
      "source": [
        "### **Calculating age at time photo was taken**"
      ]
    },
    {
      "cell_type": "code",
      "metadata": {
        "id": "QA4x-sPzNqIz",
        "colab_type": "code",
        "colab": {}
      },
      "source": [
        "df[\"age\"] = (df[\"photo_taken\"] - df[\"dob\"]).astype('int') / 31558102e9\n",
        "print(df[\"age\"])"
      ],
      "execution_count": 0,
      "outputs": []
    },
    {
      "cell_type": "markdown",
      "metadata": {
        "id": "FavORUUdTq7t",
        "colab_type": "text"
      },
      "source": [
        "### **Creating dataset**\n",
        "\n",
        "\n",
        "* We sample 200 of the images which were included in this first download.\n",
        "* Images are resized to 128x128 to standardize shape and conserve memory\n",
        "* RGB images are converted to grayscale to standardize shape\n",
        "* Ages are converted to ints\n",
        "\n"
      ]
    },
    {
      "cell_type": "code",
      "metadata": {
        "id": "pbrEpzSnmt6p",
        "colab_type": "code",
        "colab": {}
      },
      "source": [
        "import os\n",
        "from PIL import Image\n",
        "\n",
        "def df2numpy(train_set):\n",
        "  images = []\n",
        "  for img_path in train_set[\"full_path\"]:\n",
        "    img = Image.open(\"./drive/My Drive/mlin/celebs/imdb/\" + img_path[0]).resize((128, 128)).convert('L')\n",
        "    images.append(\n",
        "      np.asarray(img,  dtype=\"int32\")\n",
        "    )\n",
        "\n",
        "  image_inputs = np.array(images)\n",
        "\n",
        "  ages = train_set[\"age\"].astype('int').to_numpy()\n",
        "  return image_inputs, ages"
      ],
      "execution_count": 0,
      "outputs": []
    },
    {
      "cell_type": "code",
      "metadata": {
        "id": "77tntSl2T6vk",
        "colab_type": "code",
        "colab": {}
      },
      "source": [
        "\n",
        "train_set = df[df[\"full_path\"] < '02'].sample(200)\n",
        "train_imgs, train_ages = df2numpy(train_set)\n",
        "\n",
        "test_set = df[df[\"full_path\"] < '02'].sample(100)\n",
        "test_imgs, test_ages = df2numpy(test_set)"
      ],
      "execution_count": 0,
      "outputs": []
    },
    {
      "cell_type": "markdown",
      "metadata": {
        "id": "fiELbb5VkptP",
        "colab_type": "text"
      },
      "source": [
        "### **Training using AutoKeras**"
      ]
    },
    {
      "cell_type": "code",
      "metadata": {
        "id": "6PR2n-XlT-aj",
        "colab_type": "code",
        "colab": {}
      },
      "source": [
        "import autokeras as ak\n",
        "\n",
        "# Initialize the image regressor\n",
        "reg = ak.ImageRegressor(max_trials=15) # AutoKeras tries 15 different models.\n",
        "\n",
        "# Find the best model for the given training data\n",
        "reg.fit(train_imgs, train_ages)\n",
        "\n",
        "# Predict with the chosen model:\n",
        "# predict_y = reg.predict(test_images)  # Uncomment if required"
      ],
      "execution_count": 0,
      "outputs": []
    },
    {
      "cell_type": "code",
      "metadata": {
        "id": "edA37Skyo5yo",
        "colab_type": "code",
        "colab": {}
      },
      "source": [
        "# Evaluate the chosen model with testing data\n",
        "print(reg.evaluate(test_images, test_ages))"
      ],
      "execution_count": 0,
      "outputs": []
    },
    {
      "cell_type": "markdown",
      "metadata": {
        "id": "CiaqfDFKuV-9",
        "colab_type": "text"
      },
      "source": [
        "### **Validation Data**\n",
        "\n",
        "By default, AutoKeras use the last 20% of training data as validation data. As shown in the example below, you can use validation_split to specify the percentage."
      ]
    },
    {
      "cell_type": "code",
      "metadata": {
        "id": "A4hQcKpcufh3",
        "colab_type": "code",
        "colab": {}
      },
      "source": [
        "reg.fit(train_imgs,\n",
        "        train_ages,\n",
        "        # Split the training data and use the last 15% as validation data.\n",
        "        validation_split=0.15,epochs=3)"
      ],
      "execution_count": 0,
      "outputs": []
    },
    {
      "cell_type": "markdown",
      "metadata": {
        "id": "afv1fgM5usXw",
        "colab_type": "text"
      },
      "source": [
        "You can also use your own validation set instead of splitting it from the training data with validation_data."
      ]
    },
    {
      "cell_type": "code",
      "metadata": {
        "id": "qy6gPP89uye5",
        "colab_type": "code",
        "colab": {}
      },
      "source": [
        "split = 460000\n",
        "x_val = train_imgs[split:]\n",
        "y_val = train_ages[split:]\n",
        "x_train = train_imgs[:split]\n",
        "y_train = train_ages[:split]\n",
        "reg.fit(x_train,\n",
        "        y_train,\n",
        "        # Use your own validation set.\n",
        "        validation_data=(x_val, y_val),epochs=3)"
      ],
      "execution_count": 0,
      "outputs": []
    },
    {
      "cell_type": "markdown",
      "metadata": {
        "id": "OtavtzDf7BoX",
        "colab_type": "text"
      },
      "source": [
        "### **Customized Search Space**\n",
        "\n",
        "For advanced users, you may customize your search space by using AutoModel instead of ImageRegressor. You can configure the ImageBlock for some high-level configurations, e.g., block_type for the type of neural network to search, normalize for whether to do data normalization, augment for whether to do data augmentation. You can also choose not to specify these arguments, which would leave the different choices to be tuned automatically. See the following example for detail."
      ]
    },
    {
      "cell_type": "code",
      "metadata": {
        "id": "ARM5xEN8chE6",
        "colab_type": "code",
        "colab": {}
      },
      "source": [
        "import autokeras as ak\n",
        "\n",
        "input_node = ak.ImageInput()\n",
        "output_node = ak.ImageBlock(\n",
        "    # Only search ResNet architectures.\n",
        "    block_type='resnet',\n",
        "    # Normalize the dataset.\n",
        "    normalize=True,\n",
        "    # Do not do data augmentation.\n",
        "    augment=False)(input_node)\n",
        "output_node = ak.RegressionHead()(output_node)\n",
        "reg = ak.AutoModel(inputs=input_node, outputs=output_node, max_trials=10)\n",
        "reg.fit(x_train, y_train,epochs=3)"
      ],
      "execution_count": 0,
      "outputs": []
    },
    {
      "cell_type": "markdown",
      "metadata": {
        "id": "H9Iudfrmc3iG",
        "colab_type": "text"
      },
      "source": [
        "The usage of AutoModel is similar to the functional API of Keras. Basically, you are building a graph, whose edges are blocks and the nodes are intermediate outputs of blocks. To add an edge from input_node to output_node with output_node = ak.some_block(input_node).\n",
        "You can even also use more fine grained blocks to customize the search space even further. See the following example."
      ]
    },
    {
      "cell_type": "code",
      "metadata": {
        "id": "ikZ141m0dEay",
        "colab_type": "code",
        "colab": {}
      },
      "source": [
        "import autokeras as ak\n",
        "\n",
        "input_node = ak.ImageInput()\n",
        "output_node = ak.Normalization()(input_node)\n",
        "output_node = ak.ImageAugmentation(translation_factor=0.3)(output_node)\n",
        "output_node = ak.ResNetBlock(version='v2')(output_node)\n",
        "output_node = ak.RegressionHead()(output_node)\n",
        "clf = ak.AutoModel(inputs=input_node, outputs=output_node, max_trials=10)\n",
        "clf.fit(x_train, y_train,epochs=3)"
      ],
      "execution_count": 0,
      "outputs": []
    },
    {
      "cell_type": "markdown",
      "metadata": {
        "id": "Rva-JBkFeLPB",
        "colab_type": "text"
      },
      "source": [
        "### **Data Format**"
      ]
    },
    {
      "cell_type": "markdown",
      "metadata": {
        "id": "UvI05jdTeUhW",
        "colab_type": "text"
      },
      "source": [
        "The AutoKeras ImageClassifier is quite flexible for the data format.\n",
        "\n",
        "For the image, it accepts data formats both with and without the channel dimension. The images in the IMDB-Wiki dataset do not have a channel dimension. Each image is a matrix with shape (128, 128). AutoKeras also accepts images with a channel dimension at last, e.g., (32, 32, 3), (28, 28, 1).\n",
        "\n",
        "For the classification labels, AutoKeras accepts both plain labels, i.e. strings or integers, and one-hot encoded labels, i.e. vectors of 0s and 1s.\n",
        "\n",
        "So if you prepare your data in the following way, the ImageClassifier should still work."
      ]
    },
    {
      "cell_type": "code",
      "metadata": {
        "id": "pSfnTj0wDSfx",
        "colab_type": "code",
        "colab": {}
      },
      "source": [
        "# Reshape the images to have the channel dimension.\n",
        "train_imgs = train_imgs.reshape(train_imgs.shape + (1,))\n",
        "test_imgs = test_imgs.reshape(test_imgs.shape + (1,))\n",
        "\n",
        "print(train_imgs.shape) # (200, 128, 128, 1)\n",
        "print(test_imgs.shape) # (100, 128, 128, 1)\n",
        "print(train_ages[:3])"
      ],
      "execution_count": 0,
      "outputs": []
    },
    {
      "cell_type": "markdown",
      "metadata": {
        "id": "GO8ENOt7TLZv",
        "colab_type": "text"
      },
      "source": [
        "We also support using tf.data.Dataset format for the training data. In this case, the images would have to be 3-dimentional. The labels have to be one-hot encoded for multi-class classification to be wrapped into tensorflow Dataset."
      ]
    },
    {
      "cell_type": "code",
      "metadata": {
        "id": "AWFMRDfOGjd5",
        "colab_type": "code",
        "colab": {}
      },
      "source": [
        "import autokeras as ak\n",
        "import tensorflow as tf\n",
        "from tensorflow.python.keras.utils.data_utils import Sequence\n",
        "train_set = tf.data.Dataset.from_tensor_slices(((train_imgs, ), (train_ages, )))\n",
        "test_set = tf.data.Dataset.from_tensor_slices(((test_imgs, ), (test_ages, )))\n",
        "\n",
        "reg = ak.ImageRegressor(max_trials=15)\n",
        "# Feed the tensorflow Dataset to the classifier.\n",
        "reg.fit(train_set)\n",
        "# Predict with the best model.\n",
        "predicted_y = clf.predict(test_set)\n",
        "# Evaluate the best model with testing data.\n",
        "print(clf.evaluate(test_set))"
      ],
      "execution_count": 0,
      "outputs": []
    },
    {
      "cell_type": "markdown",
      "metadata": {
        "id": "sMoaycA7zI28",
        "colab_type": "text"
      },
      "source": [
        "## References\n",
        "\n",
        "[Main Reference Notebook](https://gist.github.com/mapmeld/98d1e9839f2d1f9c4ee197953661ed07),\n",
        "[Dataset](https://data.vision.ee.ethz.ch/cvl/rrothe/imdb-wiki/),\n",
        "[ImageRegressor](/image_regressor),\n",
        "[ResNetBlock](/block/#resnetblock-class),\n",
        "[ImageInput](/node/#imageinput-class),\n",
        "[AutoModel](/auto_model/#automodel-class),\n",
        "[ImageBlock](/block/#imageblock-class),\n",
        "[Normalization](/preprocessor/#normalization-class),\n",
        "[ImageAugmentation](/preprocessor/#image-augmentation-class),\n",
        "[RegressionHead](/head/#regressionhead-class).\n"
      ]
    }
  ]
}